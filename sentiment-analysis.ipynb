{
 "cells": [
  {
   "cell_type": "markdown",
   "metadata": {
    "id": "QbM7x-5UEzUR"
   },
   "source": [
    "# Sentiment Analysis using BERT\n",
    "\n",
    "BERT (Bidirectionnal Encoder Representations for Transformers) is a “new method of pre-training language representations” developed by Google and released in late 2018."
   ]
  },
  {
   "cell_type": "markdown",
   "metadata": {
    "id": "Q6hKNfAlEzUS"
   },
   "source": [
    "### Import Libraries and Set the intial variables"
   ]
  },
  {
   "cell_type": "code",
   "execution_count": null,
   "metadata": {
    "execution": {
     "iopub.execute_input": "2024-06-11T08:02:18.012687Z",
     "iopub.status.busy": "2024-06-11T08:02:18.012366Z",
     "iopub.status.idle": "2024-06-11T08:02:26.391860Z",
     "shell.execute_reply": "2024-06-11T08:02:26.390896Z",
     "shell.execute_reply.started": "2024-06-11T08:02:18.012653Z"
    },
    "id": "WtQykqrfEzUT",
    "trusted": true
   },
   "outputs": [
    {
     "name": "stderr",
     "output_type": "stream",
     "text": [
      "2024-11-24 10:38:21.715248: I tensorflow/core/platform/cpu_feature_guard.cc:193] This TensorFlow binary is optimized with oneAPI Deep Neural Network Library (oneDNN) to use the following CPU instructions in performance-critical operations:  AVX2 AVX_VNNI FMA\n",
      "To enable them in other operations, rebuild TensorFlow with the appropriate compiler flags.\n",
      "2024-11-24 10:38:21.804896: I tensorflow/core/util/port.cc:104] oneDNN custom operations are on. You may see slightly different numerical results due to floating-point round-off errors from different computation orders. To turn them off, set the environment variable `TF_ENABLE_ONEDNN_OPTS=0`.\n",
      "2024-11-24 10:38:22.440106: W tensorflow/compiler/xla/stream_executor/platform/default/dso_loader.cc:64] Could not load dynamic library 'libnvinfer.so.7'; dlerror: libnvinfer.so.7: cannot open shared object file: No such file or directory\n",
      "2024-11-24 10:38:22.440170: W tensorflow/compiler/xla/stream_executor/platform/default/dso_loader.cc:64] Could not load dynamic library 'libnvinfer_plugin.so.7'; dlerror: libnvinfer_plugin.so.7: cannot open shared object file: No such file or directory\n",
      "2024-11-24 10:38:22.440175: W tensorflow/compiler/tf2tensorrt/utils/py_utils.cc:38] TF-TRT Warning: Cannot dlopen some TensorRT libraries. If you would like to use Nvidia GPU with TensorRT, please make sure the missing libraries mentioned above are installed properly.\n"
     ]
    }
   ],
   "source": [
    "# Import necessary libraries\n",
    "import sys\n",
    "sys.path.append(\"\") \n",
    "\n",
    "import os\n",
    "\n",
    "import numpy as np\n",
    "import pandas as pd\n",
    "import seaborn as sns\n",
    "from pylab import rcParams\n",
    "import regex as re\n",
    "import string\n",
    "import json\n",
    "# import matplotlib.pyplot as plt\n",
    "from matplotlib import rc\n",
    "from sklearn.model_selection import train_test_split\n",
    "from sklearn.metrics import confusion_matrix, classification_report\n",
    "from collections import defaultdict\n",
    "# from textwrap import wrap\n",
    "\n",
    "# Torch ML libraries\n",
    "# import transformers\n",
    "from transformers import BertModel, BertTokenizer,BertConfig,  AdamW, get_linear_schedule_with_warmup\n",
    "import torch\n",
    "from torch import nn\n",
    "from torch.utils.data import Dataset, DataLoader\n",
    "\n",
    "#metrics\n",
    "# from sklearn.metrics import accuracy_score, f1_score\n",
    "from sklearn.metrics import classification_report, confusion_matrix\n",
    "\n",
    "import joblib\n",
    "import tensorflow as tf\n",
    "import keras\n",
    "from pyvi import ViTokenizer\n",
    "\n",
    "# Misc.\n",
    "import warnings\n",
    "warnings.filterwarnings('ignore')"
   ]
  },
  {
   "cell_type": "code",
   "execution_count": 2,
   "metadata": {},
   "outputs": [
    {
     "name": "stdout",
     "output_type": "stream",
     "text": [
      "CUDA is available.\n"
     ]
    }
   ],
   "source": [
    "if torch.cuda.is_available():\n",
    "    print(\"CUDA is available.\")\n",
    "else:\n",
    "    print(\"Using CPU\")"
   ]
  },
  {
   "cell_type": "code",
   "execution_count": 4,
   "metadata": {
    "execution": {
     "iopub.execute_input": "2024-06-11T08:02:26.393409Z",
     "iopub.status.busy": "2024-06-11T08:02:26.392970Z",
     "iopub.status.idle": "2024-06-11T08:02:26.398001Z",
     "shell.execute_reply": "2024-06-11T08:02:26.397141Z",
     "shell.execute_reply.started": "2024-06-11T08:02:26.393383Z"
    },
    "id": "gRINjFWWEzUb",
    "trusted": true
   },
   "outputs": [],
   "source": [
    "RAW_DATASET_PATH = \"data/vlsp_sentiment_train.csv\"\n",
    "TEST_DATASET_PATH = \"data/vlsp_sentiment_test.csv\"\n",
    "stop_words_path = \"vietnamese-stopwords.txt\"\n",
    "MAX_LEN = 90\n",
    "RANDOM_SEED =42\n",
    "class_names = ['NEU', 'POS', 'NEG']\n",
    "n_classes = len(class_names)\n",
    "BATCH_SIZE = 128\n",
    "EPOCHS = 15\n",
    "lr = 1e-5\n",
    "max_norm = 1.0\n",
    "best_accuracy = 0\n",
    "best_loss = 100\n",
    "patient = 2\n",
    "patient_count = 0\n",
    "# Set the model name\n",
    "BERT_MODEL_NAME = 'trituenhantaoio/bert-base-vietnamese-uncased'\n",
    "data_path = \"data/\"\n",
    "bert_model_path = \"model/bert/\"\n",
    "rcnn_model_path = \"model/rcnn/\"\n"
   ]
  },
  {
   "cell_type": "markdown",
   "metadata": {
    "id": "LQOFO5MSEzUf"
   },
   "source": [
    "### Load the data"
   ]
  },
  {
   "cell_type": "code",
   "execution_count": 5,
   "metadata": {
    "execution": {
     "iopub.execute_input": "2024-06-11T08:02:26.400368Z",
     "iopub.status.busy": "2024-06-11T08:02:26.400104Z",
     "iopub.status.idle": "2024-06-11T08:02:26.476172Z",
     "shell.execute_reply": "2024-06-11T08:02:26.475262Z",
     "shell.execute_reply.started": "2024-06-11T08:02:26.400345Z"
    },
    "id": "g6b5ajqzEzUg",
    "outputId": "a7888891-5d69-42b7-a1e0-ccdbe75f04e4",
    "trusted": true
   },
   "outputs": [],
   "source": [
    "dataset = pd.read_csv(RAW_DATASET_PATH,  on_bad_lines='skip', delimiter=\"\\t\")"
   ]
  },
  {
   "cell_type": "code",
   "execution_count": 6,
   "metadata": {
    "execution": {
     "iopub.execute_input": "2024-06-11T08:02:26.477829Z",
     "iopub.status.busy": "2024-06-11T08:02:26.477383Z",
     "iopub.status.idle": "2024-06-11T08:02:26.484775Z",
     "shell.execute_reply": "2024-06-11T08:02:26.483910Z",
     "shell.execute_reply.started": "2024-06-11T08:02:26.477797Z"
    },
    "id": "eQ5Uwg8xEzUk",
    "outputId": "2b23324b-d208-462f-d011-95c2f7847390",
    "trusted": true
   },
   "outputs": [
    {
     "data": {
      "text/plain": [
       "(5100, 2)"
      ]
     },
     "execution_count": 6,
     "metadata": {},
     "output_type": "execute_result"
    }
   ],
   "source": [
    "dataset.shape"
   ]
  },
  {
   "cell_type": "markdown",
   "metadata": {
    "id": "7zqGIlGIEzUo"
   },
   "source": [
    "We can see that the most relevant column for us is content and replyContent and the score as well."
   ]
  },
  {
   "cell_type": "code",
   "execution_count": 7,
   "metadata": {
    "execution": {
     "iopub.execute_input": "2024-06-11T08:02:26.486310Z",
     "iopub.status.busy": "2024-06-11T08:02:26.485996Z",
     "iopub.status.idle": "2024-06-11T08:02:26.498353Z",
     "shell.execute_reply": "2024-06-11T08:02:26.497586Z",
     "shell.execute_reply.started": "2024-06-11T08:02:26.486282Z"
    },
    "id": "24xNLIJlEzUo",
    "outputId": "eae6af5f-068a-480e-acdd-3c78b3e8a81b",
    "trusted": true
   },
   "outputs": [
    {
     "data": {
      "text/plain": [
       "Index(['Class', 'Data'], dtype='object')"
      ]
     },
     "execution_count": 7,
     "metadata": {},
     "output_type": "execute_result"
    }
   ],
   "source": [
    "dataset.columns"
   ]
  },
  {
   "cell_type": "markdown",
   "metadata": {
    "id": "trIBdPvXEzUy"
   },
   "source": [
    "We can see that we have more positive classes than negative and low number of neutral class. I have kept neutral less to focus more on positive and negative classes. Let's allot classes based on scores now. \n",
    "\n",
    "* -1 - negative\n",
    "* 0 - neutral \n",
    "* 1 - positive"
   ]
  },
  {
   "cell_type": "code",
   "execution_count": 8,
   "metadata": {},
   "outputs": [
    {
     "data": {
      "text/html": [
       "<div>\n",
       "<style scoped>\n",
       "    .dataframe tbody tr th:only-of-type {\n",
       "        vertical-align: middle;\n",
       "    }\n",
       "\n",
       "    .dataframe tbody tr th {\n",
       "        vertical-align: top;\n",
       "    }\n",
       "\n",
       "    .dataframe thead th {\n",
       "        text-align: right;\n",
       "    }\n",
       "</style>\n",
       "<table border=\"1\" class=\"dataframe\">\n",
       "  <thead>\n",
       "    <tr style=\"text-align: right;\">\n",
       "      <th></th>\n",
       "      <th>Class</th>\n",
       "    </tr>\n",
       "  </thead>\n",
       "  <tbody>\n",
       "    <tr>\n",
       "      <th>count</th>\n",
       "      <td>5100.000000</td>\n",
       "    </tr>\n",
       "    <tr>\n",
       "      <th>mean</th>\n",
       "      <td>0.000000</td>\n",
       "    </tr>\n",
       "    <tr>\n",
       "      <th>std</th>\n",
       "      <td>0.816577</td>\n",
       "    </tr>\n",
       "    <tr>\n",
       "      <th>min</th>\n",
       "      <td>-1.000000</td>\n",
       "    </tr>\n",
       "    <tr>\n",
       "      <th>25%</th>\n",
       "      <td>-1.000000</td>\n",
       "    </tr>\n",
       "    <tr>\n",
       "      <th>50%</th>\n",
       "      <td>0.000000</td>\n",
       "    </tr>\n",
       "    <tr>\n",
       "      <th>75%</th>\n",
       "      <td>1.000000</td>\n",
       "    </tr>\n",
       "    <tr>\n",
       "      <th>max</th>\n",
       "      <td>1.000000</td>\n",
       "    </tr>\n",
       "  </tbody>\n",
       "</table>\n",
       "</div>"
      ],
      "text/plain": [
       "             Class\n",
       "count  5100.000000\n",
       "mean      0.000000\n",
       "std       0.816577\n",
       "min      -1.000000\n",
       "25%      -1.000000\n",
       "50%       0.000000\n",
       "75%       1.000000\n",
       "max       1.000000"
      ]
     },
     "execution_count": 8,
     "metadata": {},
     "output_type": "execute_result"
    }
   ],
   "source": [
    "dataset.describe()"
   ]
  },
  {
   "cell_type": "code",
   "execution_count": 9,
   "metadata": {
    "execution": {
     "iopub.execute_input": "2024-06-11T08:02:26.499801Z",
     "iopub.status.busy": "2024-06-11T08:02:26.499481Z",
     "iopub.status.idle": "2024-06-11T08:02:26.524219Z",
     "shell.execute_reply": "2024-06-11T08:02:26.523220Z",
     "shell.execute_reply.started": "2024-06-11T08:02:26.499778Z"
    },
    "id": "VzaRGLGDEzU2",
    "outputId": "df731374-977a-4f04-ba82-ab60c0c5ffa8",
    "trusted": true
   },
   "outputs": [],
   "source": [
    "dataset=dataset.drop_duplicates(\"Data\")\n",
    "dataset = dataset.dropna()"
   ]
  },
  {
   "cell_type": "code",
   "execution_count": 10,
   "metadata": {
    "execution": {
     "iopub.execute_input": "2024-06-11T08:02:26.525680Z",
     "iopub.status.busy": "2024-06-11T08:02:26.525391Z",
     "iopub.status.idle": "2024-06-11T08:02:26.538701Z",
     "shell.execute_reply": "2024-06-11T08:02:26.537857Z",
     "shell.execute_reply.started": "2024-06-11T08:02:26.525657Z"
    },
    "trusted": true
   },
   "outputs": [
    {
     "data": {
      "text/plain": [
       "Class\n",
       " 0    1697\n",
       "-1    1693\n",
       " 1    1672\n",
       "Name: count, dtype: int64"
      ]
     },
     "execution_count": 10,
     "metadata": {},
     "output_type": "execute_result"
    }
   ],
   "source": [
    "dataset[\"Class\"].value_counts()"
   ]
  },
  {
   "cell_type": "code",
   "execution_count": 11,
   "metadata": {},
   "outputs": [
    {
     "data": {
      "text/plain": [
       "4152    Ôi đẹp quá đi, phải nói là ip 6S giống con này...\n",
       "3756    Đợi đánh giá thôi thím, giá này quá ổn rồi, có...\n",
       "3789    Like bác. bản 2 này thêm cái màn hình hiển thị...\n",
       "1863           Thật là tuyệt vời! Thật không thể tin nổi!\n",
       "4353    Vậy thì hay ho ở chỗ nào nhỉ? Nếu thế 2K-4K để...\n",
       "232     pin yếu thì em biết nhưng của em lại còn lỗi p...\n",
       "1902    Trước tôi đc cô cho 1 em samsung nắp gập rất b...\n",
       "4420    Ko việc gì phải thêm anh đẹp anh đẳng cấp a có...\n",
       "2868                                             Mê quá !\n",
       "1796                                          quá ngon <3\n",
       "4428     Không vội vàng mua giá cao, giảm giá nhanh thôi.\n",
       "1996    Chưa dùng note 3 nên không rõ lắm, nói chung c...\n",
       "4412    Sao nhanh bằng vân tay trên iPhone 6s được nhỉ...\n",
       "153     Bạn nói chuẩn. Không có gì đặc biệt mà giá ngấ...\n",
       "358      Nhìn còn xấu hơn cả tuyệt phẩm thiết kế G5. :)))\n",
       "290     Đẹp đấy nhưng giá khoảng 12tr thôi thì vừa,chứ...\n",
       "48      Chủ yếu các chức năng hoa lá cành, show hàng l...\n",
       "2282    Mình xin các bạn đấy. Tiền nào của nấy thôi, m...\n",
       "4294            mình dùng con 250k cũng thấy quá đẳng cấp\n",
       "1928    cứ cầm con eluga trên tay sẽ không muốn cầm co...\n",
       "205     thì ra là em cứ nghe nhạc là nó mất sóng.không...\n",
       "3155    chất lượng của bb phải nói là tuyệt, phong các...\n",
       "450     Đang dùng hết pin thì sao đây, iphone ngày càn...\n",
       "2010                 Pin con này trâu lắm bác, quất đi :d\n",
       "1672    Thất vọng toàn tập, không có gì thay đổi đột p...\n",
       "3928                 Dòng này ra phục vụ các quán Net này\n",
       "1771    Nên mua về đo nhip tim sau khi xem hình Đc em ...\n",
       "2785                         Ngon, bạn nào lấy mà dùng nè\n",
       "507     Không có sự đột phá, có lẽ \" Táo \" cũng đang d...\n",
       "1524    Quay xong chịu khó chép ra ngoài, để trong máy...\n",
       "4044    Anh sam của e sắp bị Xiaomi, Lenovo, Oppo thốn...\n",
       "498     toi nghiep.. di sai huong.. rui cung giong nhu...\n",
       "443     Đắt quá, cấu hình chẳng có gì đặc biệt, đột ph...\n",
       "2326                     9.3.2 rất muot.minh rất hài lòng\n",
       "891     nói ko với asus tôi gặp q500a từ đầu đến cuối ...\n",
       "4787    Cấu hình, giá bán, thương hiệu đúng chất với t...\n",
       "1388    Hàng TQ cái nào cũng na ná như nhau, cạn ý tưở...\n",
       "1250    Tránh xa con TCL ( Thịt chó luộc ra ) màn hình...\n",
       "4847    Thưa bạn iphone 6s chạy android chứ không p...\n",
       "283     Tôi có tiền không bao giờ mua điện thoại Xiaom...\n",
       "Name: Data, dtype: object"
      ]
     },
     "execution_count": 11,
     "metadata": {},
     "output_type": "execute_result"
    }
   ],
   "source": [
    "dataset[\"Data\"].sample(40)"
   ]
  },
  {
   "cell_type": "code",
   "execution_count": 12,
   "metadata": {
    "execution": {
     "iopub.execute_input": "2024-06-11T08:02:26.555671Z",
     "iopub.status.busy": "2024-06-11T08:02:26.555360Z",
     "iopub.status.idle": "2024-06-11T08:02:26.652437Z",
     "shell.execute_reply": "2024-06-11T08:02:26.651592Z",
     "shell.execute_reply.started": "2024-06-11T08:02:26.555642Z"
    },
    "trusted": true
   },
   "outputs": [],
   "source": [
    "import regex as re\n",
    "import string\n",
    "import json\n",
    "\n",
    "emoji_pattern = re.compile(\"[\"\n",
    "                u\"\\U0001F600-\\U0001F64F\"  # emoticons\n",
    "                u\"\\U0001F300-\\U0001F5FF\"  # symbols & pictographs\n",
    "                u\"\\U0001F680-\\U0001F6FF\"  # transport & map symbols\n",
    "                u\"\\U0001F1E0-\\U0001F1FF\"  # flags (iOS)\n",
    "                u\"\\U00002702-\\U000027B0\"\n",
    "                u\"\\U000024C2-\\U0001F251\"\n",
    "                u\"\\U0001f926-\\U0001f937\"\n",
    "                u'\\U00010000-\\U0010ffff'\n",
    "                u\"\\u200d\"\n",
    "                u\"\\u2640-\\u2642\"\n",
    "                u\"\\u2600-\\u2B55\"\n",
    "                u\"\\u23cf\"\n",
    "                u\"\\u23e9\"\n",
    "                u\"\\u231a\"\n",
    "                u\"\\u3030\"\n",
    "                u\"\\ufe0f\"\n",
    "    \"]+\", flags=re.UNICODE)\n",
    "\n",
    "def clean_text(text):\n",
    "    text = text.lower()\n",
    "    text = re.sub(emoji_pattern, \" \", text)\n",
    "    text = re.sub(r'([a-z]+?)\\1+',r'\\1', text)\n",
    "    text = re.sub(r\"(\\w)\\s*([\" + string.punctuation + \"])\\s*(\\w)\", r\"\\1 \\2 \\3\", text)\n",
    "    text = re.sub(r\"(\\w)\\s*([\" + string.punctuation + \"])\", r\"\\1 \\2\", text)\n",
    "    # text = re.sub(r\"(\\d)([^\\d.])\", r\"\\1 \\2\", text)\n",
    "    # text = re.sub(r\"([^\\d.])(\\d)\", r\"\\1 \\2\", text)\n",
    "    text = re.sub(f\"([{string.punctuation}])([{string.punctuation}])+\",r\"\\1\", text)\n",
    "    text = text.strip()\n",
    "    while text.endswith(tuple(string.punctuation+string.whitespace)):\n",
    "        text = text[:-1]\n",
    "    while text.startswith(tuple(string.punctuation+string.whitespace)):\n",
    "        text = text[1:]\n",
    "    text = re.sub(r\"\\s+\", \" \", text)\n",
    "    return text\n",
    "\n",
    "from pyvi import ViTokenizer\n",
    "\n",
    "def tokenizingText(text):\n",
    "    return ViTokenizer.tokenize(text)\n",
    "\n",
    "lookup_dict = { 'sf': 'sản phẩm','cx':'cũng','kg':'kilogam', 'k':'không', 'ko':'không', 'hong':'không', 'kh':'không', 'kt':'kiểm tra', 'ktra':'kiểm tra', 'bt':'biết', 'pít': 'biết', 'píc': 'biết','v': 'với', 'sl': 'số lượng' ,'dk' : 'được', 'dc' : 'được', 'đc' : 'được' ,'chat' : 'chất' ,'okela' : 'tốt' , 'mn' : 'mọi người', 'sp' : 'sản phẩm', 'ib' : 'inbox', 'nt': 'nhắn tin', 'qc': 'quảng cáo', 'sd': 'sử dụng', 'g': 'giờ', 'dv': 'dịch vụ', 'vs': 'với', 'wa': 'qua', 'tgian' :' thời gian', 'tg' :' thời gian', 'tl' : 'trả lời', 'dx' : 'được', 'ntn' : 'như thế này', 'trc' :'trước'}\n",
    "\n",
    "def text_std(input_text):\n",
    "    words = input_text.split()\n",
    "    new_words = []\n",
    "    for word in words:\n",
    "        word = re.sub(r'[^\\w\\s]','', word)\n",
    "        if word.lower() in lookup_dict:\n",
    "            word = lookup_dict[word.lower()]\n",
    "        new_words.append(word)\n",
    "    new_text = \" \".join(new_words)\n",
    "    return new_text\n",
    "\n",
    "normalized_string = lambda x: \" \".join(x.lower() for x in x.split())\n",
    "\n",
    "with open(stop_words_path, 'r', encoding='utf-8') as file:\n",
    "    stop_words = file.read().splitlines()\n",
    "\n",
    "def remove_stopwords(text):\n",
    "    words = text.split()\n",
    "    filtered_words = [word for word in words if word.lower() not in stop_words]\n",
    "    return ' '.join(filtered_words)\n",
    "\n",
    "def map_label(label):\n",
    "    if label == -1:\n",
    "        return 2  # NEG\n",
    "    return label  # Keep other values unchanged"
   ]
  },
  {
   "cell_type": "code",
   "execution_count": 13,
   "metadata": {
    "execution": {
     "iopub.execute_input": "2024-06-11T08:02:26.654278Z",
     "iopub.status.busy": "2024-06-11T08:02:26.653722Z",
     "iopub.status.idle": "2024-06-11T08:02:36.791132Z",
     "shell.execute_reply": "2024-06-11T08:02:36.790358Z",
     "shell.execute_reply.started": "2024-06-11T08:02:26.654248Z"
    },
    "trusted": true
   },
   "outputs": [],
   "source": [
    "dataset[\"Data\"] = dataset[\"Data\"].map(lambda text: clean_text(text))\n",
    "dataset[\"Data\"] = dataset[\"Data\"].apply(text_std)\n",
    "# dataset[\"content\"] = dataset[\"content\"].apply(remove_stopwords)\n",
    "dataset[\"Data\"] = dataset[\"Data\"].apply(normalized_string)\n",
    "dataset[\"Data\"] = dataset[\"Data\"].apply(tokenizingText)\n",
    "dataset[\"Class\"] = dataset[\"Class\"].map(map_label)"
   ]
  },
  {
   "cell_type": "code",
   "execution_count": 14,
   "metadata": {
    "execution": {
     "iopub.execute_input": "2024-06-11T08:02:36.792372Z",
     "iopub.status.busy": "2024-06-11T08:02:36.792099Z",
     "iopub.status.idle": "2024-06-11T08:02:36.804866Z",
     "shell.execute_reply": "2024-06-11T08:02:36.803957Z",
     "shell.execute_reply.started": "2024-06-11T08:02:36.792349Z"
    },
    "trusted": true
   },
   "outputs": [
    {
     "data": {
      "text/html": [
       "<div>\n",
       "<style scoped>\n",
       "    .dataframe tbody tr th:only-of-type {\n",
       "        vertical-align: middle;\n",
       "    }\n",
       "\n",
       "    .dataframe tbody tr th {\n",
       "        vertical-align: top;\n",
       "    }\n",
       "\n",
       "    .dataframe thead th {\n",
       "        text-align: right;\n",
       "    }\n",
       "</style>\n",
       "<table border=\"1\" class=\"dataframe\">\n",
       "  <thead>\n",
       "    <tr style=\"text-align: right;\">\n",
       "      <th></th>\n",
       "      <th>Class</th>\n",
       "      <th>Data</th>\n",
       "    </tr>\n",
       "  </thead>\n",
       "  <tbody>\n",
       "    <tr>\n",
       "      <th>0</th>\n",
       "      <td>2</td>\n",
       "      <td>mình đã dùng anywhere thế_hệ đầu quả là đầy th...</td>\n",
       "    </tr>\n",
       "    <tr>\n",
       "      <th>1</th>\n",
       "      <td>2</td>\n",
       "      <td>quan_tâm nhất là độ trễ có cao không dùng thi_...</td>\n",
       "    </tr>\n",
       "    <tr>\n",
       "      <th>2</th>\n",
       "      <td>2</td>\n",
       "      <td>dag xài con cùi bắp 98k pin trâu mỗi tội đánh ...</td>\n",
       "    </tr>\n",
       "    <tr>\n",
       "      <th>3</th>\n",
       "      <td>2</td>\n",
       "      <td>logitech chắc hàng phải tiền triệu trở lên dùn...</td>\n",
       "    </tr>\n",
       "    <tr>\n",
       "      <th>4</th>\n",
       "      <td>2</td>\n",
       "      <td>đang xài con m175 cùi mía nhà xài nhiều chuột ...</td>\n",
       "    </tr>\n",
       "    <tr>\n",
       "      <th>5</th>\n",
       "      <td>2</td>\n",
       "      <td>đang xài 2 con m185 nút chuột giữa hai con đều...</td>\n",
       "    </tr>\n",
       "    <tr>\n",
       "      <th>6</th>\n",
       "      <td>2</td>\n",
       "      <td>con anywhere 1 mình dùng bị double click cũng ...</td>\n",
       "    </tr>\n",
       "    <tr>\n",
       "      <th>7</th>\n",
       "      <td>2</td>\n",
       "      <td>hàng cty cấp cấp xong vứt ở nhà xài con xornet...</td>\n",
       "    </tr>\n",
       "    <tr>\n",
       "      <th>8</th>\n",
       "      <td>2</td>\n",
       "      <td>magic mouse mà ngon hơn mới_lạ magic mouse chỉ...</td>\n",
       "    </tr>\n",
       "    <tr>\n",
       "      <th>9</th>\n",
       "      <td>2</td>\n",
       "      <td>em giống y bác luôn chán bluetoth kinh_hồn 1tr...</td>\n",
       "    </tr>\n",
       "  </tbody>\n",
       "</table>\n",
       "</div>"
      ],
      "text/plain": [
       "   Class                                               Data\n",
       "0      2  mình đã dùng anywhere thế_hệ đầu quả là đầy th...\n",
       "1      2  quan_tâm nhất là độ trễ có cao không dùng thi_...\n",
       "2      2  dag xài con cùi bắp 98k pin trâu mỗi tội đánh ...\n",
       "3      2  logitech chắc hàng phải tiền triệu trở lên dùn...\n",
       "4      2  đang xài con m175 cùi mía nhà xài nhiều chuột ...\n",
       "5      2  đang xài 2 con m185 nút chuột giữa hai con đều...\n",
       "6      2  con anywhere 1 mình dùng bị double click cũng ...\n",
       "7      2  hàng cty cấp cấp xong vứt ở nhà xài con xornet...\n",
       "8      2  magic mouse mà ngon hơn mới_lạ magic mouse chỉ...\n",
       "9      2  em giống y bác luôn chán bluetoth kinh_hồn 1tr..."
      ]
     },
     "execution_count": 14,
     "metadata": {},
     "output_type": "execute_result"
    }
   ],
   "source": [
    "dataset.head(10)"
   ]
  },
  {
   "cell_type": "markdown",
   "metadata": {
    "id": "JeJSe1hIEzU5"
   },
   "source": [
    "## Data Preprocessing"
   ]
  },
  {
   "cell_type": "code",
   "execution_count": 15,
   "metadata": {
    "execution": {
     "iopub.execute_input": "2024-06-11T08:02:37.441283Z",
     "iopub.status.busy": "2024-06-11T08:02:37.441000Z",
     "iopub.status.idle": "2024-06-11T08:02:38.175503Z",
     "shell.execute_reply": "2024-06-11T08:02:38.174600Z",
     "shell.execute_reply.started": "2024-06-11T08:02:37.441258Z"
    },
    "id": "Uj5eXyqYEzU6",
    "outputId": "4a6b71ec-7503-4884-c669-08383d60225e",
    "trusted": true
   },
   "outputs": [],
   "source": [
    "\n",
    "\n",
    "# Build a BERT based tokenizer\n",
    "tokenizer = BertTokenizer.from_pretrained(BERT_MODEL_NAME)"
   ]
  },
  {
   "cell_type": "code",
   "execution_count": 16,
   "metadata": {
    "execution": {
     "iopub.execute_input": "2024-06-11T08:02:38.176941Z",
     "iopub.status.busy": "2024-06-11T08:02:38.176663Z",
     "iopub.status.idle": "2024-06-11T08:02:38.182584Z",
     "shell.execute_reply": "2024-06-11T08:02:38.181732Z",
     "shell.execute_reply.started": "2024-06-11T08:02:38.176918Z"
    },
    "id": "5XqmI4AZEzU9",
    "outputId": "773ac222-7aa8-48d6-eeab-2239646a805a",
    "trusted": true
   },
   "outputs": [
    {
     "name": "stdout",
     "output_type": "stream",
     "text": [
      "[SEP] 3\n",
      "[CLS] 2\n",
      "[PAD] 0\n",
      "[UNK] 1\n"
     ]
    }
   ],
   "source": [
    "# Some of the common BERT tokens\n",
    "print(tokenizer.sep_token, tokenizer.sep_token_id) # marker for ending of a sentence\n",
    "print(tokenizer.cls_token, tokenizer.cls_token_id) # start of each sentence, so BERT knows we’re doing classification\n",
    "print(tokenizer.pad_token, tokenizer.pad_token_id) # special token for padding\n",
    "print(tokenizer.unk_token, tokenizer.unk_token_id) # tokens not found in training set "
   ]
  },
  {
   "cell_type": "markdown",
   "metadata": {
    "id": "r-ridSzLEzVA"
   },
   "source": [
    "BERT works with fixed-length sequences. We’ll use a simple strategy to choose the max length. Let’s store the token length of each review."
   ]
  },
  {
   "cell_type": "code",
   "execution_count": 17,
   "metadata": {
    "execution": {
     "iopub.execute_input": "2024-06-11T08:02:38.184429Z",
     "iopub.status.busy": "2024-06-11T08:02:38.183802Z",
     "iopub.status.idle": "2024-06-11T08:02:47.204800Z",
     "shell.execute_reply": "2024-06-11T08:02:47.204036Z",
     "shell.execute_reply.started": "2024-06-11T08:02:38.184397Z"
    },
    "trusted": true
   },
   "outputs": [
    {
     "name": "stderr",
     "output_type": "stream",
     "text": [
      "Truncation was not explicitly activated but `max_length` is provided a specific value, please use `truncation=True` to explicitly truncate examples to max length. Defaulting to 'longest_first' truncation strategy. If you encode pairs of sequences (GLUE-style) with the tokenizer you can select this strategy more precisely by providing a specific strategy to `truncation`.\n"
     ]
    }
   ],
   "source": [
    "# Store length of each review \n",
    "token_lens = []\n",
    "\n",
    "# Iterate through the content slide\n",
    "for txt in dataset.Data:\n",
    "    tokens = tokenizer.encode(txt, max_length=512)\n",
    "    token_lens.append(len(tokens))"
   ]
  },
  {
   "cell_type": "code",
   "execution_count": 18,
   "metadata": {
    "execution": {
     "iopub.execute_input": "2024-06-11T08:02:47.206374Z",
     "iopub.status.busy": "2024-06-11T08:02:47.206022Z",
     "iopub.status.idle": "2024-06-11T08:02:47.735379Z",
     "shell.execute_reply": "2024-06-11T08:02:47.734539Z",
     "shell.execute_reply.started": "2024-06-11T08:02:47.206343Z"
    },
    "id": "bpVn-ndyEzVE",
    "outputId": "70db118d-4736-4b61-db2d-bc9de8e0d977",
    "trusted": true
   },
   "outputs": [
    {
     "data": {
      "image/png": "[encoded data removed]",
      "text/plain": [
       "<Figure size 640x480 with 1 Axes>"
      ]
     },
     "metadata": {},
     "output_type": "display_data"
    }
   ],
   "source": [
    "import seaborn as sns\n",
    "import matplotlib.pyplot as plt\n",
    "\n",
    "# Plot the distribution of review lengths using histplot\n",
    "sns.histplot(token_lens, kde=True, bins=30)  # `kde=True` adds the kernel density estimate\n",
    "plt.xlim([0, 256])\n",
    "plt.xlabel('Token count')\n",
    "plt.ylabel('Frequency')\n",
    "plt.title('Distribution of Review Lengths')\n",
    "plt.show()\n"
   ]
  },
  {
   "cell_type": "code",
   "execution_count": 19,
   "metadata": {
    "execution": {
     "iopub.execute_input": "2024-06-11T08:02:47.742398Z",
     "iopub.status.busy": "2024-06-11T08:02:47.742076Z",
     "iopub.status.idle": "2024-06-11T08:02:47.765178Z",
     "shell.execute_reply": "2024-06-11T08:02:47.764383Z",
     "shell.execute_reply.started": "2024-06-11T08:02:47.742368Z"
    },
    "trusted": true
   },
   "outputs": [
    {
     "name": "stdout",
     "output_type": "stream",
     "text": [
      "(4049, 2) (506, 2) (507, 2)\n"
     ]
    }
   ],
   "source": [
    "df_train, df_test = train_test_split(dataset, test_size=0.2, random_state=RANDOM_SEED,stratify=dataset['Class'])\n",
    "df_val, df_test = train_test_split(df_test, test_size=0.5, random_state=RANDOM_SEED, stratify=df_test['Class'])\n",
    "print(df_train.shape, df_val.shape, df_test.shape)"
   ]
  },
  {
   "cell_type": "code",
   "execution_count": 20,
   "metadata": {
    "execution": {
     "iopub.execute_input": "2024-06-11T08:02:47.766849Z",
     "iopub.status.busy": "2024-06-11T08:02:47.766243Z",
     "iopub.status.idle": "2024-06-11T08:02:47.778302Z",
     "shell.execute_reply": "2024-06-11T08:02:47.777519Z",
     "shell.execute_reply.started": "2024-06-11T08:02:47.766816Z"
    },
    "trusted": true
   },
   "outputs": [
    {
     "name": "stdout",
     "output_type": "stream",
     "text": [
      "(4617, 2) (506, 2) (507, 2)\n"
     ]
    }
   ],
   "source": [
    "from sklearn.utils import shuffle\n",
    "df_train = pd.concat([df_train, df_val.sample(frac=0.62, random_state=RANDOM_SEED)])\n",
    "df_train = pd.concat([df_train, df_test.sample(frac=0.5, random_state=RANDOM_SEED)])\n",
    "\n",
    "df_train = shuffle(df_train, random_state=RANDOM_SEED)\n",
    "\n",
    "print(df_train.shape, df_val.shape, df_test.shape)"
   ]
  },
  {
   "cell_type": "code",
   "execution_count": 21,
   "metadata": {
    "execution": {
     "iopub.execute_input": "2024-06-11T08:02:47.779517Z",
     "iopub.status.busy": "2024-06-11T08:02:47.779261Z",
     "iopub.status.idle": "2024-06-11T08:02:47.790407Z",
     "shell.execute_reply": "2024-06-11T08:02:47.789513Z",
     "shell.execute_reply.started": "2024-06-11T08:02:47.779494Z"
    },
    "trusted": true
   },
   "outputs": [
    {
     "name": "stdout",
     "output_type": "stream",
     "text": [
      "(4589, 2) (506, 2) (507, 2)\n"
     ]
    }
   ],
   "source": [
    "df_train=df_train.drop_duplicates(\"Data\")\n",
    "print(df_train.shape, df_val.shape, df_test.shape)"
   ]
  },
  {
   "cell_type": "code",
   "execution_count": 22,
   "metadata": {
    "execution": {
     "iopub.execute_input": "2024-06-11T08:02:47.799108Z",
     "iopub.status.busy": "2024-06-11T08:02:47.798588Z",
     "iopub.status.idle": "2024-06-11T08:02:47.878198Z",
     "shell.execute_reply": "2024-06-11T08:02:47.877535Z",
     "shell.execute_reply.started": "2024-06-11T08:02:47.799082Z"
    },
    "trusted": true
   },
   "outputs": [],
   "source": [
    "# df_train.to_csv(\"data/train.csv\", index=False)\n",
    "# df_val.to_csv(\"data/val.csv\", index=False)\n",
    "# df_test.to_csv(\"data/test.csv\", index=False)"
   ]
  },
  {
   "cell_type": "markdown",
   "metadata": {},
   "source": [
    "# Create Pytorch Dataset"
   ]
  },
  {
   "cell_type": "code",
   "execution_count": 23,
   "metadata": {
    "execution": {
     "iopub.execute_input": "2024-06-11T08:02:47.879318Z",
     "iopub.status.busy": "2024-06-11T08:02:47.879092Z",
     "iopub.status.idle": "2024-06-11T08:02:47.886756Z",
     "shell.execute_reply": "2024-06-11T08:02:47.885911Z",
     "shell.execute_reply.started": "2024-06-11T08:02:47.879299Z"
    },
    "id": "Sbakw3KIEzVM",
    "trusted": true
   },
   "outputs": [],
   "source": [
    "class GPReviewDataset(Dataset):\n",
    "    # Constructor Function \n",
    "    def __init__(self, reviews, targets, tokenizer, max_len):\n",
    "        self.reviews = reviews\n",
    "        self.targets = targets\n",
    "        self.tokenizer = tokenizer\n",
    "        self.max_len = max_len\n",
    "    \n",
    "    # Length magic method\n",
    "    def __len__(self):\n",
    "        return len(self.reviews)\n",
    "    \n",
    "    # get item magic method\n",
    "    def __getitem__(self, item):\n",
    "        review = str(self.reviews[item])\n",
    "        target = self.targets[item]\n",
    "        \n",
    "        # Encoded format to be returned \n",
    "        encoding = self.tokenizer.encode_plus(\n",
    "            review,\n",
    "            add_special_tokens=True,\n",
    "            max_length=self.max_len,\n",
    "            return_token_type_ids=False,\n",
    "            pad_to_max_length=True,\n",
    "            return_attention_mask=True,\n",
    "            return_tensors='pt',\n",
    "        )\n",
    "        \n",
    "        return {\n",
    "            'review_text': review,\n",
    "            'input_ids': encoding['input_ids'].flatten(),\n",
    "            'attention_mask': encoding['attention_mask'].flatten(),\n",
    "            'targets': torch.tensor(target, dtype=torch.long)\n",
    "        }"
   ]
  },
  {
   "cell_type": "code",
   "execution_count": 24,
   "metadata": {
    "execution": {
     "iopub.execute_input": "2024-06-11T08:02:47.888168Z",
     "iopub.status.busy": "2024-06-11T08:02:47.887860Z",
     "iopub.status.idle": "2024-06-11T08:02:47.901479Z",
     "shell.execute_reply": "2024-06-11T08:02:47.900658Z",
     "shell.execute_reply.started": "2024-06-11T08:02:47.888140Z"
    },
    "id": "c7SCbUlmEzVT",
    "trusted": true
   },
   "outputs": [],
   "source": [
    "def create_data_loader(df, tokenizer, max_len, batch_size):\n",
    "    ds = GPReviewDataset(\n",
    "        reviews=df.Data.to_numpy(),\n",
    "        targets=df.Class.to_numpy(),\n",
    "        tokenizer=tokenizer,\n",
    "        max_len=max_len\n",
    "    )\n",
    "    \n",
    "    return DataLoader(\n",
    "        ds,\n",
    "        batch_size=batch_size,\n",
    "        num_workers=0\n",
    "    )"
   ]
  },
  {
   "cell_type": "code",
   "execution_count": 25,
   "metadata": {
    "execution": {
     "iopub.execute_input": "2024-06-11T08:02:47.903006Z",
     "iopub.status.busy": "2024-06-11T08:02:47.902692Z",
     "iopub.status.idle": "2024-06-11T08:02:47.940812Z",
     "shell.execute_reply": "2024-06-11T08:02:47.939927Z",
     "shell.execute_reply.started": "2024-06-11T08:02:47.902977Z"
    },
    "id": "31-GApKIEzVW",
    "trusted": true
   },
   "outputs": [],
   "source": [
    "# Create train, test and val data loaders\n",
    "device = torch.device(\"cuda\" if torch.cuda.is_available() else \"cpu\")\n",
    "train_data_loader = create_data_loader(df_train, tokenizer, MAX_LEN, BATCH_SIZE)\n",
    "val_data_loader = create_data_loader(df_val, tokenizer, MAX_LEN, BATCH_SIZE)\n",
    "test_data_loader = create_data_loader(df_test, tokenizer, MAX_LEN, BATCH_SIZE)"
   ]
  },
  {
   "cell_type": "code",
   "execution_count": 26,
   "metadata": {
    "execution": {
     "iopub.execute_input": "2024-06-11T08:02:47.942203Z",
     "iopub.status.busy": "2024-06-11T08:02:47.941914Z",
     "iopub.status.idle": "2024-06-11T08:02:48.015545Z",
     "shell.execute_reply": "2024-06-11T08:02:48.014709Z",
     "shell.execute_reply.started": "2024-06-11T08:02:47.942180Z"
    },
    "id": "6ZPtu0jjEzVc",
    "outputId": "dd0bb267-6d3d-4ce1-8c81-76b8e4d1beca",
    "trusted": true
   },
   "outputs": [
    {
     "name": "stdout",
     "output_type": "stream",
     "text": [
      "dict_keys(['review_text', 'input_ids', 'attention_mask', 'targets'])\n",
      "torch.Size([128, 90])\n",
      "torch.Size([128, 90])\n",
      "torch.Size([128])\n"
     ]
    }
   ],
   "source": [
    "# Examples \n",
    "data = next(iter(train_data_loader))\n",
    "print(data.keys())\n",
    "\n",
    "print(data['input_ids'].shape)\n",
    "print(data['attention_mask'].shape)\n",
    "print(data['targets'].shape)"
   ]
  },
  {
   "cell_type": "markdown",
   "metadata": {
    "id": "bnRQaNQ0EzVf"
   },
   "source": [
    "## Sentiment Classification with BERT"
   ]
  },
  {
   "cell_type": "markdown",
   "metadata": {},
   "source": [
    "**Load the dataset**"
   ]
  },
  {
   "cell_type": "code",
   "execution_count": 27,
   "metadata": {
    "execution": {
     "iopub.execute_input": "2024-06-11T08:02:48.016814Z",
     "iopub.status.busy": "2024-06-11T08:02:48.016541Z",
     "iopub.status.idle": "2024-06-11T08:03:02.343964Z",
     "shell.execute_reply": "2024-06-11T08:03:02.343036Z",
     "shell.execute_reply.started": "2024-06-11T08:02:48.016792Z"
    },
    "trusted": true
   },
   "outputs": [],
   "source": [
    "# Load the basic BERT model \n",
    "bert_model = BertModel.from_pretrained(BERT_MODEL_NAME)"
   ]
  },
  {
   "cell_type": "code",
   "execution_count": 28,
   "metadata": {
    "execution": {
     "iopub.execute_input": "2024-06-11T08:03:02.345478Z",
     "iopub.status.busy": "2024-06-11T08:03:02.345176Z",
     "iopub.status.idle": "2024-06-11T08:03:02.352072Z",
     "shell.execute_reply": "2024-06-11T08:03:02.351184Z",
     "shell.execute_reply.started": "2024-06-11T08:03:02.345453Z"
    },
    "trusted": true
   },
   "outputs": [],
   "source": [
    "# Build the Sentiment Classifier class \n",
    "class SentimentClassifier(nn.Module):\n",
    "    \n",
    "    # Constructor class \n",
    "    def __init__(self, n_classes):\n",
    "        super(SentimentClassifier, self).__init__()\n",
    "        self.bert = BertModel.from_pretrained(BERT_MODEL_NAME)\n",
    "        self.drop = nn.Dropout(p=0.5)\n",
    "        self.out = nn.Linear(self.bert.config.hidden_size, n_classes)\n",
    "        \n",
    "    \n",
    "    def forward(self, input_ids, attention_mask):\n",
    "            bert_output = self.bert(\n",
    "              input_ids=input_ids,\n",
    "              attention_mask=attention_mask\n",
    "            )\n",
    "            pooled_output = bert_output.pooler_output # Accessing the pooled output\n",
    "            #  Add a dropout layer\n",
    "            output = self.drop(pooled_output)\n",
    "            return self.out(output)"
   ]
  },
  {
   "cell_type": "code",
   "execution_count": 29,
   "metadata": {
    "execution": {
     "iopub.execute_input": "2024-06-11T08:03:02.354141Z",
     "iopub.status.busy": "2024-06-11T08:03:02.353413Z",
     "iopub.status.idle": "2024-06-11T08:03:03.093895Z",
     "shell.execute_reply": "2024-06-11T08:03:03.093102Z",
     "shell.execute_reply.started": "2024-06-11T08:03:02.354110Z"
    },
    "trusted": true
   },
   "outputs": [],
   "source": [
    "# Instantiate the model and move to classifier\n",
    "model = SentimentClassifier(len(class_names))\n",
    "model = model.to(device)"
   ]
  },
  {
   "cell_type": "code",
   "execution_count": 30,
   "metadata": {
    "execution": {
     "iopub.execute_input": "2024-06-11T08:03:03.096027Z",
     "iopub.status.busy": "2024-06-11T08:03:03.095100Z",
     "iopub.status.idle": "2024-06-11T08:03:03.105446Z",
     "shell.execute_reply": "2024-06-11T08:03:03.104577Z",
     "shell.execute_reply.started": "2024-06-11T08:03:03.095992Z"
    },
    "trusted": true
   },
   "outputs": [],
   "source": [
    "# Optimizer Adam \n",
    "optimizer = AdamW(model.parameters(), lr=lr, correct_bias=False)\n",
    "\n",
    "total_steps = len(train_data_loader) * EPOCHS\n",
    "\n",
    "scheduler = get_linear_schedule_with_warmup(\n",
    "    optimizer,\n",
    "    num_warmup_steps=0,\n",
    "    num_training_steps=total_steps\n",
    ")\n",
    "\n",
    "# Set the loss function \n",
    "loss_fn = nn.CrossEntropyLoss().to(device)"
   ]
  },
  {
   "cell_type": "code",
   "execution_count": 31,
   "metadata": {
    "execution": {
     "iopub.execute_input": "2024-06-11T08:03:03.106843Z",
     "iopub.status.busy": "2024-06-11T08:03:03.106522Z",
     "iopub.status.idle": "2024-06-11T08:03:03.115493Z",
     "shell.execute_reply": "2024-06-11T08:03:03.114702Z",
     "shell.execute_reply.started": "2024-06-11T08:03:03.106818Z"
    },
    "trusted": true
   },
   "outputs": [],
   "source": [
    "# Function for a single training iteration\n",
    "def train_epoch(model, data_loader, loss_fn, optimizer, device, scheduler, n_examples):\n",
    "    model = model.train()\n",
    "    losses = []\n",
    "    correct_predictions = 0\n",
    "    \n",
    "    for i,d in enumerate(data_loader):\n",
    "        input_ids = d[\"input_ids\"].to(device)\n",
    "        attention_mask = d[\"attention_mask\"].to(device)\n",
    "        targets = d[\"targets\"].to(device)\n",
    "        \n",
    "        outputs = model(\n",
    "            input_ids=input_ids,\n",
    "            attention_mask=attention_mask\n",
    "        )\n",
    "        \n",
    "        _, preds = torch.max(outputs, dim=1)\n",
    "        loss = loss_fn(outputs, targets)\n",
    "        correct_predictions += torch.sum(preds == targets)\n",
    "        losses.append(loss.item())\n",
    "        \n",
    "        # Backward prop\n",
    "        loss.backward()\n",
    "        \n",
    "        # Gradient Descent\n",
    "        nn.utils.clip_grad_norm_(model.parameters(), max_norm=max_norm)\n",
    "        optimizer.step()\n",
    "        scheduler.step()\n",
    "        optimizer.zero_grad()\n",
    "    \n",
    "    return correct_predictions.double() / n_examples, np.mean(losses)"
   ]
  },
  {
   "cell_type": "code",
   "execution_count": 32,
   "metadata": {
    "execution": {
     "iopub.execute_input": "2024-06-11T08:03:03.116771Z",
     "iopub.status.busy": "2024-06-11T08:03:03.116486Z",
     "iopub.status.idle": "2024-06-11T08:03:03.131379Z",
     "shell.execute_reply": "2024-06-11T08:03:03.130485Z",
     "shell.execute_reply.started": "2024-06-11T08:03:03.116749Z"
    },
    "trusted": true
   },
   "outputs": [],
   "source": [
    "def eval_model(model, data_loader, loss_fn, device, n_examples):\n",
    "    model = model.eval()\n",
    "    \n",
    "    losses = []\n",
    "    correct_predictions = 0\n",
    "    \n",
    "    with torch.no_grad():\n",
    "        for d in data_loader:\n",
    "            input_ids = d[\"input_ids\"].to(device)\n",
    "            attention_mask = d[\"attention_mask\"].to(device)\n",
    "            targets = d[\"targets\"].to(device)\n",
    "            \n",
    "            # Get model ouptuts\n",
    "            outputs = model(\n",
    "                input_ids=input_ids,\n",
    "                attention_mask=attention_mask\n",
    "            )\n",
    "            \n",
    "            _, preds = torch.max(outputs, dim=1)\n",
    "            loss = loss_fn(outputs, targets)\n",
    "            \n",
    "            correct_predictions += torch.sum(preds == targets)\n",
    "            losses.append(loss.item())\n",
    "    \n",
    "    return correct_predictions.double() / n_examples, np.mean(losses)"
   ]
  },
  {
   "cell_type": "code",
   "execution_count": 33,
   "metadata": {
    "execution": {
     "iopub.execute_input": "2024-06-11T08:03:03.132653Z",
     "iopub.status.busy": "2024-06-11T08:03:03.132325Z",
     "iopub.status.idle": "2024-06-11T08:21:44.304130Z",
     "shell.execute_reply": "2024-06-11T08:21:44.303207Z",
     "shell.execute_reply.started": "2024-06-11T08:03:03.132628Z"
    },
    "trusted": true
   },
   "outputs": [
    {
     "name": "stdout",
     "output_type": "stream",
     "text": [
      "Epoch 1/15\n",
      "----------\n",
      "Train loss 1.006845290462176 accuracy 0.49880148180431466\n",
      "Val loss 0.767149493098259 accuracy 0.6857707509881422\n",
      "Epoch 2/15\n",
      "----------\n",
      "Train loss 0.7678620401355956 accuracy 0.6694268903900632\n",
      "Val loss 0.6255545765161514 accuracy 0.7450592885375493\n",
      "Epoch 3/15\n",
      "----------\n",
      "Train loss 0.5567699952258004 accuracy 0.7799084767923294\n",
      "Val loss 0.5584587082266808 accuracy 0.7865612648221343\n",
      "Epoch 4/15\n",
      "----------\n",
      "Train loss 0.3910120816694366 accuracy 0.8559599041185444\n",
      "Val loss 0.6207530796527863 accuracy 0.8023715415019762\n",
      "Epoch 5/15\n",
      "----------\n",
      "Train loss 0.2803938285344177 accuracy 0.9008498583569405\n",
      "Val loss 0.5183085203170776 accuracy 0.8517786561264822\n",
      "Epoch 6/15\n",
      "----------\n",
      "Train loss 0.1696488805529144 accuracy 0.9459577249945522\n",
      "Val loss 0.5666827708482742 accuracy 0.8478260869565217\n",
      "Early Stop trigger\n"
     ]
    }
   ],
   "source": [
    "history = defaultdict(list)\n",
    "\n",
    "for epoch in range(EPOCHS):\n",
    "    \n",
    "    # Show details \n",
    "    print(f\"Epoch {epoch + 1}/{EPOCHS}\")\n",
    "    print(\"-\" * 10)\n",
    "    \n",
    "    train_acc, train_loss = train_epoch(\n",
    "        model,\n",
    "        train_data_loader,\n",
    "        loss_fn,\n",
    "        optimizer,\n",
    "        device,\n",
    "        scheduler,\n",
    "        len(df_train)\n",
    "    )\n",
    "    print(f\"Train loss {train_loss} accuracy {train_acc}\")\n",
    "    \n",
    "    \n",
    "    # Get model performance (accuracy and loss)\n",
    "    val_acc, val_loss = eval_model(\n",
    "        model,\n",
    "        val_data_loader,\n",
    "        loss_fn,\n",
    "        device,\n",
    "        len(df_val)\n",
    "    )\n",
    "    \n",
    "    print(f\"Val loss {val_loss} accuracy {val_acc}\")\n",
    "    \n",
    "    history['train_acc'].append(train_acc.item())\n",
    "    history['train_loss'].append(train_loss)\n",
    "    history['val_acc'].append(val_acc.item())\n",
    "    history['val_loss'].append(val_loss)\n",
    "    \n",
    "    # If we beat prev performance\n",
    "    if val_acc > best_accuracy and best_loss > val_loss:\n",
    "        model_name = f\"{bert_model_path}/model_state_{epoch}.bin\"\n",
    "        torch.save(model.state_dict(), model_name)\n",
    "        best_accuracy = val_acc\n",
    "        best_loss = val_loss\n",
    "    elif(best_loss < val_loss):\n",
    "        patient_count = patient_count +1\n",
    "        if (patient_count >= patient):\n",
    "            print(\"Early Stop trigger\")\n",
    "            break;"
   ]
  },
  {
   "cell_type": "code",
   "execution_count": 34,
   "metadata": {
    "execution": {
     "iopub.execute_input": "2024-06-11T09:22:51.631421Z",
     "iopub.status.busy": "2024-06-11T09:22:51.630463Z",
     "iopub.status.idle": "2024-06-11T09:22:52.103679Z",
     "shell.execute_reply": "2024-06-11T09:22:52.102766Z",
     "shell.execute_reply.started": "2024-06-11T09:22:51.631372Z"
    },
    "trusted": true
   },
   "outputs": [
    {
     "data": {
      "image/png": "[encoded data removed]",
      "text/plain": [
       "<Figure size 1400x500 with 2 Axes>"
      ]
     },
     "metadata": {},
     "output_type": "display_data"
    }
   ],
   "source": [
    "import matplotlib.pyplot as plt\n",
    "\n",
    "# Create a figure with two subplots\n",
    "fig, (ax1, ax2) = plt.subplots(1, 2, figsize=(14, 5))\n",
    "\n",
    "# Plot training and validation loss on the first subplot (left)\n",
    "ax2.plot(history['train_loss'], label='train loss')\n",
    "ax2.plot(history['val_loss'], label='validation loss')\n",
    "ax2.set_title('Train and Valid Loss')\n",
    "ax2.set_ylabel('Loss')\n",
    "ax2.set_xlabel('Epoch')\n",
    "ax2.legend()\n",
    "ax2.set_ylim([0, 1])\n",
    "\n",
    "# Plot training and validation accuracy on the second subplot (right)\n",
    "ax1.plot(history['train_acc'], label='train accuracy')\n",
    "ax1.plot(history['val_acc'], label='validation accuracy')\n",
    "ax1.set_title('Train and Valid Accuracy')\n",
    "ax1.set_ylabel('Accuracy')\n",
    "ax1.set_xlabel('Epoch')\n",
    "ax1.legend()\n",
    "ax1.set_ylim([0, 1])\n",
    "\n",
    "# Display the plots\n",
    "plt.tight_layout()\n",
    "plt.show()\n"
   ]
  },
  {
   "cell_type": "markdown",
   "metadata": {},
   "source": [
    "# Test model"
   ]
  },
  {
   "cell_type": "code",
   "execution_count": 35,
   "metadata": {
    "execution": {
     "iopub.execute_input": "2024-06-11T08:21:44.866814Z",
     "iopub.status.busy": "2024-06-11T08:21:44.866501Z",
     "iopub.status.idle": "2024-06-11T08:21:50.968593Z",
     "shell.execute_reply": "2024-06-11T08:21:50.967616Z",
     "shell.execute_reply.started": "2024-06-11T08:21:44.866789Z"
    },
    "trusted": true
   },
   "outputs": [
    {
     "data": {
      "text/plain": [
       "0.834319526627219"
      ]
     },
     "execution_count": 35,
     "metadata": {},
     "output_type": "execute_result"
    }
   ],
   "source": [
    "test_acc, _ = eval_model(\n",
    "  model,\n",
    "  test_data_loader,\n",
    "  loss_fn,\n",
    "  device,\n",
    "  len(df_test)\n",
    ")\n",
    "\n",
    "test_acc.item()"
   ]
  },
  {
   "cell_type": "code",
   "execution_count": 36,
   "metadata": {
    "execution": {
     "iopub.execute_input": "2024-06-11T08:21:50.970024Z",
     "iopub.status.busy": "2024-06-11T08:21:50.969747Z",
     "iopub.status.idle": "2024-06-11T08:21:51.000861Z",
     "shell.execute_reply": "2024-06-11T08:21:51.000023Z",
     "shell.execute_reply.started": "2024-06-11T08:21:50.970001Z"
    },
    "trusted": true
   },
   "outputs": [
    {
     "data": {
      "text/plain": [
       "('model/bert/tokenizer_config.json',\n",
       " 'model/bert/special_tokens_map.json',\n",
       " 'model/bert/vocab.txt',\n",
       " 'model/bert/added_tokens.json')"
      ]
     },
     "execution_count": 36,
     "metadata": {},
     "output_type": "execute_result"
    }
   ],
   "source": [
    "# Lưu tokenizer\n",
    "tokenizer.save_pretrained(bert_model_path)"
   ]
  },
  {
   "cell_type": "code",
   "execution_count": 37,
   "metadata": {
    "execution": {
     "iopub.execute_input": "2024-06-11T08:37:39.662535Z",
     "iopub.status.busy": "2024-06-11T08:37:39.661828Z",
     "iopub.status.idle": "2024-06-11T08:37:43.854988Z",
     "shell.execute_reply": "2024-06-11T08:37:43.854041Z",
     "shell.execute_reply.started": "2024-06-11T08:37:39.662496Z"
    },
    "trusted": true
   },
   "outputs": [
    {
     "data": {
      "text/plain": [
       "SentimentClassifier(\n",
       "  (bert): BertModel(\n",
       "    (embeddings): BertEmbeddings(\n",
       "      (word_embeddings): Embedding(32000, 768, padding_idx=0)\n",
       "      (position_embeddings): Embedding(512, 768)\n",
       "      (token_type_embeddings): Embedding(2, 768)\n",
       "      (LayerNorm): LayerNorm((768,), eps=1e-12, elementwise_affine=True)\n",
       "      (dropout): Dropout(p=0.1, inplace=False)\n",
       "    )\n",
       "    (encoder): BertEncoder(\n",
       "      (layer): ModuleList(\n",
       "        (0-11): 12 x BertLayer(\n",
       "          (attention): BertAttention(\n",
       "            (self): BertSdpaSelfAttention(\n",
       "              (query): Linear(in_features=768, out_features=768, bias=True)\n",
       "              (key): Linear(in_features=768, out_features=768, bias=True)\n",
       "              (value): Linear(in_features=768, out_features=768, bias=True)\n",
       "              (dropout): Dropout(p=0.1, inplace=False)\n",
       "            )\n",
       "            (output): BertSelfOutput(\n",
       "              (dense): Linear(in_features=768, out_features=768, bias=True)\n",
       "              (LayerNorm): LayerNorm((768,), eps=1e-12, elementwise_affine=True)\n",
       "              (dropout): Dropout(p=0.1, inplace=False)\n",
       "            )\n",
       "          )\n",
       "          (intermediate): BertIntermediate(\n",
       "            (dense): Linear(in_features=768, out_features=3072, bias=True)\n",
       "            (intermediate_act_fn): GELUActivation()\n",
       "          )\n",
       "          (output): BertOutput(\n",
       "            (dense): Linear(in_features=3072, out_features=768, bias=True)\n",
       "            (LayerNorm): LayerNorm((768,), eps=1e-12, elementwise_affine=True)\n",
       "            (dropout): Dropout(p=0.1, inplace=False)\n",
       "          )\n",
       "        )\n",
       "      )\n",
       "    )\n",
       "    (pooler): BertPooler(\n",
       "      (dense): Linear(in_features=768, out_features=768, bias=True)\n",
       "      (activation): Tanh()\n",
       "    )\n",
       "  )\n",
       "  (drop): Dropout(p=0.5, inplace=False)\n",
       "  (out): Linear(in_features=768, out_features=3, bias=True)\n",
       ")"
      ]
     },
     "execution_count": 37,
     "metadata": {},
     "output_type": "execute_result"
    }
   ],
   "source": [
    "\n",
    "# Tải cấu hình của mô hình từ tệp config.json\n",
    "config = BertConfig.from_pretrained(BERT_MODEL_NAME)\n",
    "\n",
    "# Tải tokenizer từ thư mục chứa các tệp nhị phân đã lưu trữ\n",
    "tokenizer = BertTokenizer.from_pretrained(BERT_MODEL_NAME)\n",
    "\n",
    "# Tải mô hình từ thư mục chứa các tệp nhị phân đã lưu trữ\n",
    "model_bert_sentiment = SentimentClassifier(n_classes = n_classes)\n",
    "model_bert_sentiment.load_state_dict(torch.load('model/bert/model_state_3.bin'))\n",
    "\n",
    "# Đảm bảo mô hình ở chế độ evaluation\n",
    "model_bert_sentiment.eval()\n",
    "if torch.cuda.is_available():\n",
    "    device = torch.device(\"cuda\")\n",
    "else:\n",
    "    device = torch.device(\"cpu\")\n",
    "\n",
    "model_bert_sentiment.to(device)"
   ]
  },
  {
   "cell_type": "code",
   "execution_count": 38,
   "metadata": {
    "execution": {
     "iopub.execute_input": "2024-06-11T08:37:48.961598Z",
     "iopub.status.busy": "2024-06-11T08:37:48.960974Z",
     "iopub.status.idle": "2024-06-11T08:37:55.084003Z",
     "shell.execute_reply": "2024-06-11T08:37:55.083202Z",
     "shell.execute_reply.started": "2024-06-11T08:37:48.961565Z"
    },
    "trusted": true
   },
   "outputs": [
    {
     "data": {
      "text/plain": [
       "0.7751479289940829"
      ]
     },
     "execution_count": 38,
     "metadata": {},
     "output_type": "execute_result"
    }
   ],
   "source": [
    "test_acc, _ = eval_model(\n",
    "  model_bert_sentiment,\n",
    "  test_data_loader,\n",
    "  loss_fn,\n",
    "  device,\n",
    "  len(df_test)\n",
    ")\n",
    "\n",
    "test_acc.item()"
   ]
  },
  {
   "cell_type": "code",
   "execution_count": 39,
   "metadata": {
    "execution": {
     "iopub.execute_input": "2024-06-11T08:37:57.720941Z",
     "iopub.status.busy": "2024-06-11T08:37:57.720065Z",
     "iopub.status.idle": "2024-06-11T08:37:57.729025Z",
     "shell.execute_reply": "2024-06-11T08:37:57.727986Z",
     "shell.execute_reply.started": "2024-06-11T08:37:57.720895Z"
    },
    "trusted": true
   },
   "outputs": [],
   "source": [
    "def get_predictions(model, data_loader):\n",
    "    model = model.eval()\n",
    "\n",
    "    review_texts = []\n",
    "    predictions = []\n",
    "    prediction_probs = []\n",
    "    real_values = []\n",
    "\n",
    "    with torch.no_grad():\n",
    "        for d in data_loader:\n",
    "            texts = d[\"review_text\"]\n",
    "            input_ids = d[\"input_ids\"].to(device)\n",
    "            attention_mask = d[\"attention_mask\"].to(device)\n",
    "            targets = d[\"targets\"].to(device)\n",
    "\n",
    "            # Get outouts\n",
    "            outputs = model(\n",
    "                input_ids=input_ids,\n",
    "                attention_mask=attention_mask\n",
    "            )\n",
    "            _, preds = torch.max(outputs, dim=1)\n",
    "\n",
    "            review_texts.extend(texts)\n",
    "            predictions.extend(preds)\n",
    "            prediction_probs.extend(outputs)\n",
    "            real_values.extend(targets)\n",
    "\n",
    "    predictions = torch.stack(predictions).cpu()\n",
    "    prediction_probs = torch.stack(prediction_probs).cpu()\n",
    "    real_values = torch.stack(real_values).cpu()\n",
    "\n",
    "    return review_texts, predictions, prediction_probs, real_values"
   ]
  },
  {
   "cell_type": "code",
   "execution_count": 40,
   "metadata": {
    "execution": {
     "iopub.execute_input": "2024-06-11T08:38:01.883157Z",
     "iopub.status.busy": "2024-06-11T08:38:01.882489Z",
     "iopub.status.idle": "2024-06-11T08:38:06.833999Z",
     "shell.execute_reply": "2024-06-11T08:38:06.833123Z",
     "shell.execute_reply.started": "2024-06-11T08:38:01.883128Z"
    },
    "trusted": true
   },
   "outputs": [],
   "source": [
    "y_review_texts, y_pred, y_pred_probs, y_test = get_predictions(\n",
    "    model_bert_sentiment,\n",
    "    test_data_loader\n",
    ")"
   ]
  },
  {
   "cell_type": "code",
   "execution_count": 41,
   "metadata": {
    "execution": {
     "iopub.execute_input": "2024-06-11T08:38:06.836309Z",
     "iopub.status.busy": "2024-06-11T08:38:06.835699Z",
     "iopub.status.idle": "2024-06-11T08:38:06.851654Z",
     "shell.execute_reply": "2024-06-11T08:38:06.850661Z",
     "shell.execute_reply.started": "2024-06-11T08:38:06.836273Z"
    },
    "trusted": true
   },
   "outputs": [
    {
     "name": "stdout",
     "output_type": "stream",
     "text": [
      "              precision    recall  f1-score   support\n",
      "\n",
      "         NEU       0.74      0.74      0.74       170\n",
      "         POS       0.74      0.87      0.80       167\n",
      "         NEG       0.87      0.72      0.79       170\n",
      "\n",
      "    accuracy                           0.78       507\n",
      "   macro avg       0.78      0.78      0.77       507\n",
      "weighted avg       0.78      0.78      0.77       507\n",
      "\n"
     ]
    }
   ],
   "source": [
    "print(classification_report(y_test, y_pred, target_names=class_names))"
   ]
  },
  {
   "cell_type": "code",
   "execution_count": 42,
   "metadata": {
    "execution": {
     "iopub.execute_input": "2024-06-11T08:38:10.448906Z",
     "iopub.status.busy": "2024-06-11T08:38:10.448511Z",
     "iopub.status.idle": "2024-06-11T08:38:10.795070Z",
     "shell.execute_reply": "2024-06-11T08:38:10.793591Z",
     "shell.execute_reply.started": "2024-06-11T08:38:10.448877Z"
    },
    "trusted": true
   },
   "outputs": [
    {
     "data": {
      "image/png": "[encoded data removed]",
      "text/plain": [
       "<Figure size 640x480 with 2 Axes>"
      ]
     },
     "metadata": {},
     "output_type": "display_data"
    }
   ],
   "source": [
    "def show_confusion_matrix(confusion_matrix):\n",
    "    hmap = sns.heatmap(confusion_matrix, annot=True, fmt=\"d\", cmap=\"Blues\")\n",
    "    hmap.yaxis.set_ticklabels(hmap.yaxis.get_ticklabels(), rotation=0, ha='right')\n",
    "    hmap.xaxis.set_ticklabels(hmap.xaxis.get_ticklabels(), rotation=30, ha='right')\n",
    "    plt.ylabel('True sentiment')\n",
    "    plt.xlabel('Predicted sentiment');\n",
    "\n",
    "cm = confusion_matrix(y_test, y_pred)\n",
    "df_cm = pd.DataFrame(cm, index=class_names, columns=class_names)\n",
    "show_confusion_matrix(df_cm)"
   ]
  },
  {
   "cell_type": "code",
   "execution_count": 43,
   "metadata": {
    "execution": {
     "iopub.execute_input": "2024-06-11T08:22:03.450301Z",
     "iopub.status.busy": "2024-06-11T08:22:03.450058Z",
     "iopub.status.idle": "2024-06-11T08:22:03.454447Z",
     "shell.execute_reply": "2024-06-11T08:22:03.453601Z",
     "shell.execute_reply.started": "2024-06-11T08:22:03.450280Z"
    },
    "id": "S4CWFF0MEzV9",
    "trusted": true
   },
   "outputs": [],
   "source": [
    "review_text = \"Sản phẩm này cũng bình thường, xài cũng được, không tốt không xấu\""
   ]
  },
  {
   "cell_type": "code",
   "execution_count": 44,
   "metadata": {
    "execution": {
     "iopub.execute_input": "2024-06-11T08:22:03.455787Z",
     "iopub.status.busy": "2024-06-11T08:22:03.455517Z",
     "iopub.status.idle": "2024-06-11T08:22:03.468939Z",
     "shell.execute_reply": "2024-06-11T08:22:03.468127Z",
     "shell.execute_reply.started": "2024-06-11T08:22:03.455765Z"
    },
    "id": "TOelFhlsSiK2",
    "trusted": true
   },
   "outputs": [],
   "source": [
    "encoded_review = tokenizer.encode_plus(\n",
    "    review_text,\n",
    "    max_length=MAX_LEN,\n",
    "    add_special_tokens=True,\n",
    "    return_token_type_ids=False,\n",
    "    pad_to_max_length=True,\n",
    "    return_attention_mask=True,\n",
    "    return_tensors='pt',\n",
    "    truncation=True\n",
    ")"
   ]
  },
  {
   "cell_type": "code",
   "execution_count": 45,
   "metadata": {
    "execution": {
     "iopub.execute_input": "2024-06-11T08:22:03.470133Z",
     "iopub.status.busy": "2024-06-11T08:22:03.469882Z",
     "iopub.status.idle": "2024-06-11T08:22:03.513203Z",
     "shell.execute_reply": "2024-06-11T08:22:03.512424Z",
     "shell.execute_reply.started": "2024-06-11T08:22:03.470112Z"
    },
    "id": "3LZm3Ag0WGpi",
    "outputId": "adc38462-7a4a-4554-c856-f8af32c3c8c2",
    "trusted": true
   },
   "outputs": [
    {
     "name": "stdout",
     "output_type": "stream",
     "text": [
      "NEU probability: 0.0065\n",
      "POS probability: 0.0116\n",
      "NEG probability: 0.9818\n",
      "Review text: Sản phẩm này cũng bình thường, xài cũng được, không tốt không xấu\n",
      "Sentiment  : NEG\n"
     ]
    }
   ],
   "source": [
    "import torch.nn.functional as F\n",
    "\n",
    "input_ids = encoded_review['input_ids'].to('cuda')\n",
    "attention_mask = encoded_review['attention_mask'].to('cuda')\n",
    "\n",
    "output = model_bert_sentiment(input_ids, attention_mask)\n",
    "_, prediction = torch.max(output, dim=1)\n",
    "\n",
    "\n",
    "probs = F.softmax(output, dim=1)\n",
    "\n",
    "for i, class_name in enumerate(class_names):\n",
    "    print(f'{class_name} probability: {probs[0][i].item():.4f}')\n",
    "\n",
    "# In ra review text và nhãn dự đoán\n",
    "print(f'Review text: {review_text}')\n",
    "print(f'Sentiment  : {class_names[prediction]}')\n"
   ]
  },
  {
   "cell_type": "markdown",
   "metadata": {},
   "source": [
    "# Real test"
   ]
  },
  {
   "cell_type": "code",
   "execution_count": 46,
   "metadata": {},
   "outputs": [],
   "source": [
    "test_dataset = pd.read_csv(TEST_DATASET_PATH,  on_bad_lines='skip', delimiter=\"\\t\")"
   ]
  },
  {
   "cell_type": "code",
   "execution_count": 47,
   "metadata": {},
   "outputs": [],
   "source": [
    "test_dataset[\"Class\"] = test_dataset[\"Class\"].map(map_label)"
   ]
  },
  {
   "cell_type": "code",
   "execution_count": 48,
   "metadata": {},
   "outputs": [],
   "source": [
    "real_test_data_loader = create_data_loader(test_dataset, tokenizer, MAX_LEN, BATCH_SIZE)"
   ]
  },
  {
   "cell_type": "code",
   "execution_count": 49,
   "metadata": {},
   "outputs": [
    {
     "name": "stderr",
     "output_type": "stream",
     "text": [
      "Truncation was not explicitly activated but `max_length` is provided a specific value, please use `truncation=True` to explicitly truncate examples to max length. Defaulting to 'longest_first' truncation strategy. If you encode pairs of sequences (GLUE-style) with the tokenizer you can select this strategy more precisely by providing a specific strategy to `truncation`.\n"
     ]
    }
   ],
   "source": [
    "y_review_texts, y_pred, y_pred_probs, y_test = get_predictions(\n",
    "    model_bert_sentiment,\n",
    "    real_test_data_loader\n",
    ")"
   ]
  },
  {
   "cell_type": "code",
   "execution_count": 50,
   "metadata": {},
   "outputs": [
    {
     "name": "stdout",
     "output_type": "stream",
     "text": [
      "              precision    recall  f1-score   support\n",
      "\n",
      "         NEU       0.66      0.58      0.62       350\n",
      "         POS       0.64      0.79      0.71       350\n",
      "         NEG       0.66      0.59      0.62       350\n",
      "\n",
      "    accuracy                           0.65      1050\n",
      "   macro avg       0.65      0.65      0.65      1050\n",
      "weighted avg       0.65      0.65      0.65      1050\n",
      "\n"
     ]
    }
   ],
   "source": [
    "print(classification_report(y_test, y_pred, target_names=class_names))"
   ]
  },
  {
   "cell_type": "code",
   "execution_count": 51,
   "metadata": {},
   "outputs": [
    {
     "data": {
      "image/png": "[encoded data removed]",
      "text/plain": [
       "<Figure size 640x480 with 2 Axes>"
      ]
     },
     "metadata": {},
     "output_type": "display_data"
    }
   ],
   "source": [
    "def show_confusion_matrix(confusion_matrix):\n",
    "    hmap = sns.heatmap(confusion_matrix, annot=True, fmt=\"d\", cmap=\"Blues\")\n",
    "    hmap.yaxis.set_ticklabels(hmap.yaxis.get_ticklabels(), rotation=0, ha='right')\n",
    "    hmap.xaxis.set_ticklabels(hmap.xaxis.get_ticklabels(), rotation=30, ha='right')\n",
    "    plt.ylabel('True sentiment')\n",
    "    plt.xlabel('Predicted sentiment')\n",
    "\n",
    "cm = confusion_matrix(y_test, y_pred)\n",
    "df_cm = pd.DataFrame(cm, index=class_names, columns=class_names)\n",
    "show_confusion_matrix(df_cm)"
   ]
  },
  {
   "cell_type": "code",
   "execution_count": 52,
   "metadata": {},
   "outputs": [],
   "source": [
    "def calculate_accuracy(y_test, y_pred):\n",
    "    \"\"\"\n",
    "    Calculate the accuracy given ground truth labels and predictions.\n",
    "\n",
    "    Args:\n",
    "        y_test (torch.Tensor): Ground truth labels.\n",
    "        y_pred (torch.Tensor): Predicted labels.\n",
    "\n",
    "    Returns:\n",
    "        float: Accuracy as a percentage.\n",
    "    \"\"\"\n",
    "    # Ensure both tensors are on the same device\n",
    "    y_test = y_test.to(y_pred.device)\n",
    "    \n",
    "    # Compare predictions with ground truth and calculate accuracy\n",
    "    correct = (y_test == y_pred).sum().item()\n",
    "    total = y_test.size(0)\n",
    "    accuracy = correct / total * 100  # Convert to percentage\n",
    "    return accuracy\n"
   ]
  },
  {
   "cell_type": "code",
   "execution_count": 53,
   "metadata": {},
   "outputs": [
    {
     "name": "stdout",
     "output_type": "stream",
     "text": [
      "Accuracy: 65.24%\n"
     ]
    }
   ],
   "source": [
    "accuracy = calculate_accuracy(y_test, y_pred)\n",
    "print(f\"Accuracy: {accuracy:.2f}%\")"
   ]
  },
  {
   "cell_type": "markdown",
   "metadata": {},
   "source": [
    "# **RCNN**"
   ]
  },
  {
   "cell_type": "code",
   "execution_count": 54,
   "metadata": {
    "execution": {
     "iopub.execute_input": "2024-06-11T08:22:03.514451Z",
     "iopub.status.busy": "2024-06-11T08:22:03.514158Z",
     "iopub.status.idle": "2024-06-11T08:22:14.318370Z",
     "shell.execute_reply": "2024-06-11T08:22:14.317410Z",
     "shell.execute_reply.started": "2024-06-11T08:22:03.514396Z"
    },
    "trusted": true
   },
   "outputs": [
    {
     "name": "stdout",
     "output_type": "stream",
     "text": [
      "2.11.0\n",
      "2.11.0\n"
     ]
    }
   ],
   "source": [
    "import tensorflow as tf\n",
    "print(tf.keras.__version__)\n",
    "print(tf.__version__)"
   ]
  },
  {
   "cell_type": "code",
   "execution_count": 55,
   "metadata": {
    "execution": {
     "iopub.execute_input": "2024-06-11T08:22:14.320292Z",
     "iopub.status.busy": "2024-06-11T08:22:14.319645Z",
     "iopub.status.idle": "2024-06-11T08:22:34.644031Z",
     "shell.execute_reply": "2024-06-11T08:22:34.643185Z",
     "shell.execute_reply.started": "2024-06-11T08:22:14.320264Z"
    },
    "trusted": true
   },
   "outputs": [],
   "source": [
    "from tensorflow.keras.preprocessing.text import Tokenizer\n",
    "from tensorflow.keras.preprocessing.sequence import pad_sequences\n",
    "import pandas as pd\n",
    "import re\n",
    "import string\n",
    "from tqdm import tqdm\n",
    "import numpy as np\n",
    "import os \n",
    "import gensim\n",
    "from gensim.models import KeyedVectors\n",
    "import sklearn\n",
    "from sklearn.model_selection import train_test_split\n",
    "from sklearn.feature_extraction.text import TfidfVectorizer, CountVectorizer\n",
    "import sklearn.metrics as metrics\n",
    "from sklearn.decomposition import TruncatedSVD\n",
    "from sklearn.svm import SVC \n",
    "from sklearn.ensemble import RandomForestClassifier\n",
    "from sklearn.preprocessing import LabelEncoder\n",
    "from keras.models import Sequential\n",
    "from keras.layers import Embedding, Conv1D, GlobalMaxPooling1D, Dense, Dropout, Flatten, LSTM, Conv1D, MaxPooling1D, Input, Reshape, GRU, Bidirectional, Convolution1D\n",
    "from keras import Model, models, optimizers"
   ]
  },
  {
   "cell_type": "code",
   "execution_count": 56,
   "metadata": {
    "execution": {
     "iopub.execute_input": "2024-06-11T08:22:34.645425Z",
     "iopub.status.busy": "2024-06-11T08:22:34.645145Z",
     "iopub.status.idle": "2024-06-11T08:22:34.695011Z",
     "shell.execute_reply": "2024-06-11T08:22:34.694271Z",
     "shell.execute_reply.started": "2024-06-11T08:22:34.645400Z"
    },
    "trusted": true
   },
   "outputs": [],
   "source": [
    "df_train = pd.read_csv('data/train.csv')\n",
    "df_val = pd.read_csv(\"data/val.csv\")\n",
    "df_test = pd.read_csv(\"data/test.csv\")"
   ]
  },
  {
   "cell_type": "code",
   "execution_count": 57,
   "metadata": {
    "execution": {
     "iopub.execute_input": "2024-06-11T08:22:46.909498Z",
     "iopub.status.busy": "2024-06-11T08:22:46.909172Z",
     "iopub.status.idle": "2024-06-11T08:22:46.915420Z",
     "shell.execute_reply": "2024-06-11T08:22:46.914623Z",
     "shell.execute_reply.started": "2024-06-11T08:22:46.909470Z"
    },
    "trusted": true
   },
   "outputs": [],
   "source": [
    "def TokenizingText(text):\n",
    "    return ViTokenizer.tokenize(text)"
   ]
  },
  {
   "cell_type": "code",
   "execution_count": 58,
   "metadata": {
    "execution": {
     "iopub.execute_input": "2024-06-11T08:22:46.916861Z",
     "iopub.status.busy": "2024-06-11T08:22:46.916578Z",
     "iopub.status.idle": "2024-06-11T08:22:51.318372Z",
     "shell.execute_reply": "2024-06-11T08:22:51.317603Z",
     "shell.execute_reply.started": "2024-06-11T08:22:46.916838Z"
    },
    "trusted": true
   },
   "outputs": [],
   "source": [
    "df_train['Data']= df_train['Data'].apply(TokenizingText)\n",
    "df_val['Data']= df_val['Data'].apply(TokenizingText)\n",
    "df_test['Data']= df_test['Data'].apply(TokenizingText)"
   ]
  },
  {
   "cell_type": "code",
   "execution_count": 59,
   "metadata": {
    "execution": {
     "iopub.execute_input": "2024-06-11T08:22:51.319822Z",
     "iopub.status.busy": "2024-06-11T08:22:51.319517Z",
     "iopub.status.idle": "2024-06-11T08:22:51.325343Z",
     "shell.execute_reply": "2024-06-11T08:22:51.324452Z",
     "shell.execute_reply.started": "2024-06-11T08:22:51.319796Z"
    },
    "trusted": true
   },
   "outputs": [],
   "source": [
    "X_train = df_train['Data']\n",
    "X_val = df_val['Data']\n",
    "X_test = df_test['Data']\n",
    "\n",
    "Y_train = df_train['Class']\n",
    "Y_val = df_val['Class']\n",
    "Y_test = df_test['Class']"
   ]
  },
  {
   "cell_type": "markdown",
   "metadata": {},
   "source": [
    "## Create tfidf and svd"
   ]
  },
  {
   "cell_type": "code",
   "execution_count": 60,
   "metadata": {
    "execution": {
     "iopub.execute_input": "2024-06-11T08:22:51.326767Z",
     "iopub.status.busy": "2024-06-11T08:22:51.326416Z",
     "iopub.status.idle": "2024-06-11T08:22:52.001189Z",
     "shell.execute_reply": "2024-06-11T08:22:52.000389Z",
     "shell.execute_reply.started": "2024-06-11T08:22:51.326745Z"
    },
    "trusted": true
   },
   "outputs": [],
   "source": [
    "tfidf_vect = TfidfVectorizer(analyzer='word', max_features=30000)\n",
    "tfidf_vect.fit(X_train) \n",
    "X_train_tfidf =  tfidf_vect.transform(X_train)\n",
    "X_val_tfidf =  tfidf_vect.transform(X_val)\n",
    "X_test_tfidf =  tfidf_vect.transform(X_test)"
   ]
  },
  {
   "cell_type": "code",
   "execution_count": 61,
   "metadata": {
    "execution": {
     "iopub.execute_input": "2024-06-11T08:22:52.002458Z",
     "iopub.status.busy": "2024-06-11T08:22:52.002186Z",
     "iopub.status.idle": "2024-06-11T08:22:55.650772Z",
     "shell.execute_reply": "2024-06-11T08:22:55.649976Z",
     "shell.execute_reply.started": "2024-06-11T08:22:52.002435Z"
    },
    "trusted": true
   },
   "outputs": [],
   "source": [
    "svd = TruncatedSVD(n_components=300, random_state=42)\n",
    "svd.fit(X_train_tfidf)\n",
    "X_train_tfidf_svd = svd.transform(X_train_tfidf)\n",
    "X_val_tfidf_svd = svd.transform(X_val_tfidf)\n",
    "X_test_tfidf_svd = svd.transform(X_test_tfidf)"
   ]
  },
  {
   "cell_type": "code",
   "execution_count": 62,
   "metadata": {
    "execution": {
     "iopub.execute_input": "2024-06-11T08:22:55.652706Z",
     "iopub.status.busy": "2024-06-11T08:22:55.652068Z",
     "iopub.status.idle": "2024-06-11T08:22:56.020625Z",
     "shell.execute_reply": "2024-06-11T08:22:56.019543Z",
     "shell.execute_reply.started": "2024-06-11T08:22:55.652669Z"
    },
    "trusted": true
   },
   "outputs": [],
   "source": [
    "tf.keras.backend.clear_session()"
   ]
  },
  {
   "cell_type": "code",
   "execution_count": 63,
   "metadata": {
    "execution": {
     "iopub.execute_input": "2024-06-11T08:22:56.022163Z",
     "iopub.status.busy": "2024-06-11T08:22:56.021864Z"
    },
    "trusted": true
   },
   "outputs": [
    {
     "name": "stdout",
     "output_type": "stream",
     "text": [
      "WARNING:tensorflow:Layer gru will not use cuDNN kernels since it doesn't meet the criteria. It will use a generic GPU kernel as fallback when running on GPU.\n",
      "WARNING:tensorflow:Layer gru will not use cuDNN kernels since it doesn't meet the criteria. It will use a generic GPU kernel as fallback when running on GPU.\n",
      "WARNING:tensorflow:Layer gru will not use cuDNN kernels since it doesn't meet the criteria. It will use a generic GPU kernel as fallback when running on GPU.\n",
      "Model: \"sequential\"\n",
      "_________________________________________________________________\n",
      " Layer (type)                Output Shape              Param #   \n",
      "=================================================================\n",
      " reshape (Reshape)           (None, 10, 30)            0         \n",
      "                                                                 \n",
      " bidirectional (Bidirectiona  (None, 10, 256)          122880    \n",
      " l)                                                              \n",
      "                                                                 \n",
      " conv1d (Conv1D)             (None, 8, 100)            76900     \n",
      "                                                                 \n",
      " flatten (Flatten)           (None, 800)               0         \n",
      "                                                                 \n",
      " dense (Dense)               (None, 512)               410112    \n",
      "                                                                 \n",
      " dense_1 (Dense)             (None, 512)               262656    \n",
      "                                                                 \n",
      " dense_2 (Dense)             (None, 128)               65664     \n",
      "                                                                 \n",
      " dense_3 (Dense)             (None, 3)                 387       \n",
      "                                                                 \n",
      "=================================================================\n",
      "Total params: 938,599\n",
      "Trainable params: 938,599\n",
      "Non-trainable params: 0\n",
      "_________________________________________________________________\n"
     ]
    },
    {
     "name": "stderr",
     "output_type": "stream",
     "text": [
      "2024-11-24 10:44:17.197257: I tensorflow/compiler/xla/stream_executor/cuda/cuda_gpu_executor.cc:967] could not open file to read NUMA node: /sys/bus/pci/devices/0000:01:00.0/numa_node\n",
      "Your kernel may have been built without NUMA support.\n",
      "2024-11-24 10:44:17.243867: I tensorflow/compiler/xla/stream_executor/cuda/cuda_gpu_executor.cc:967] could not open file to read NUMA node: /sys/bus/pci/devices/0000:01:00.0/numa_node\n",
      "Your kernel may have been built without NUMA support.\n",
      "2024-11-24 10:44:17.243904: I tensorflow/compiler/xla/stream_executor/cuda/cuda_gpu_executor.cc:967] could not open file to read NUMA node: /sys/bus/pci/devices/0000:01:00.0/numa_node\n",
      "Your kernel may have been built without NUMA support.\n",
      "2024-11-24 10:44:17.244348: I tensorflow/core/platform/cpu_feature_guard.cc:193] This TensorFlow binary is optimized with oneAPI Deep Neural Network Library (oneDNN) to use the following CPU instructions in performance-critical operations:  AVX2 AVX_VNNI FMA\n",
      "To enable them in other operations, rebuild TensorFlow with the appropriate compiler flags.\n",
      "2024-11-24 10:44:17.246499: I tensorflow/compiler/xla/stream_executor/cuda/cuda_gpu_executor.cc:967] could not open file to read NUMA node: /sys/bus/pci/devices/0000:01:00.0/numa_node\n",
      "Your kernel may have been built without NUMA support.\n",
      "2024-11-24 10:44:17.246541: I tensorflow/compiler/xla/stream_executor/cuda/cuda_gpu_executor.cc:967] could not open file to read NUMA node: /sys/bus/pci/devices/0000:01:00.0/numa_node\n",
      "Your kernel may have been built without NUMA support.\n",
      "2024-11-24 10:44:17.246555: I tensorflow/compiler/xla/stream_executor/cuda/cuda_gpu_executor.cc:967] could not open file to read NUMA node: /sys/bus/pci/devices/0000:01:00.0/numa_node\n",
      "Your kernel may have been built without NUMA support.\n",
      "2024-11-24 10:44:17.246789: I tensorflow/compiler/xla/stream_executor/cuda/cuda_gpu_executor.cc:967] could not open file to read NUMA node: /sys/bus/pci/devices/0000:01:00.0/numa_node\n",
      "Your kernel may have been built without NUMA support.\n",
      "2024-11-24 10:44:17.246820: I tensorflow/compiler/xla/stream_executor/cuda/cuda_gpu_executor.cc:967] could not open file to read NUMA node: /sys/bus/pci/devices/0000:01:00.0/numa_node\n",
      "Your kernel may have been built without NUMA support.\n",
      "2024-11-24 10:44:17.246824: I tensorflow/core/common_runtime/gpu/gpu_device.cc:1700] Could not identify NUMA node of platform GPU id 0, defaulting to 0.  Your kernel may not have been built with NUMA support.\n",
      "2024-11-24 10:44:17.246840: I tensorflow/compiler/xla/stream_executor/cuda/cuda_gpu_executor.cc:967] could not open file to read NUMA node: /sys/bus/pci/devices/0000:01:00.0/numa_node\n",
      "Your kernel may have been built without NUMA support.\n",
      "2024-11-24 10:44:17.246859: I tensorflow/core/common_runtime/gpu/gpu_device.cc:1613] Created device /job:localhost/replica:0/task:0/device:GPU:0 with 1140 MB memory:  -> device: 0, name: NVIDIA GeForce RTX 3060, pci bus id: 0000:01:00.0, compute capability: 8.6\n"
     ]
    },
    {
     "name": "stdout",
     "output_type": "stream",
     "text": [
      "Epoch 1/5\n"
     ]
    },
    {
     "name": "stderr",
     "output_type": "stream",
     "text": [
      "2024-11-24 10:44:19.164213: I tensorflow/compiler/xla/stream_executor/cuda/cuda_blas.cc:630] TensorFloat-32 will be used for the matrix multiplication. This will only be logged once.\n",
      "2024-11-24 10:44:20.953290: I tensorflow/compiler/xla/stream_executor/cuda/cuda_dnn.cc:428] Loaded cuDNN version 8204\n",
      "2024-11-24 10:44:22.385620: I tensorflow/compiler/xla/service/service.cc:173] XLA service 0x7f0c8c01e190 initialized for platform CUDA (this does not guarantee that XLA will be used). Devices:\n",
      "2024-11-24 10:44:22.385648: I tensorflow/compiler/xla/service/service.cc:181]   StreamExecutor device (0): NVIDIA GeForce RTX 3060, Compute Capability 8.6\n",
      "2024-11-24 10:44:22.390277: I tensorflow/compiler/mlir/tensorflow/utils/dump_mlir_util.cc:268] disabling MLIR crash reproducer, set env var `MLIR_CRASH_REPRODUCER_DIRECTORY` to enable.\n",
      "2024-11-24 10:44:22.471040: I tensorflow/compiler/jit/xla_compilation_cache.cc:477] Compiled cluster using XLA!  This line is logged at most once for the lifetime of the process.\n"
     ]
    },
    {
     "name": "stdout",
     "output_type": "stream",
     "text": [
      "\n",
      "Epoch 1: saving model to model_weights-01.weights.h5\n",
      " 1/72 [..............................] - ETA: 7:18 - loss: 1.0984 - accuracy: 0.3125\n",
      "Epoch 1: saving model to model_weights-01.weights.h5\n",
      " 2/72 [..............................] - ETA: 5s - loss: 1.1000 - accuracy: 0.3203  \n",
      "Epoch 1: saving model to model_weights-01.weights.h5\n",
      " 3/72 [>.............................] - ETA: 4s - loss: 1.0988 - accuracy: 0.3385\n",
      "Epoch 1: saving model to model_weights-01.weights.h5\n",
      " 4/72 [>.............................] - ETA: 4s - loss: 1.0997 - accuracy: 0.3242\n",
      "Epoch 1: saving model to model_weights-01.weights.h5\n",
      " 5/72 [=>............................] - ETA: 4s - loss: 1.0993 - accuracy: 0.3281\n",
      "Epoch 1: saving model to model_weights-01.weights.h5\n",
      " 6/72 [=>............................] - ETA: 4s - loss: 1.0989 - accuracy: 0.3333\n",
      "Epoch 1: saving model to model_weights-01.weights.h5\n",
      " 7/72 [=>............................] - ETA: 4s - loss: 1.0987 - accuracy: 0.3326\n",
      "Epoch 1: saving model to model_weights-01.weights.h5\n",
      " 8/72 [==>...........................] - ETA: 4s - loss: 1.0988 - accuracy: 0.3359\n",
      "Epoch 1: saving model to model_weights-01.weights.h5\n",
      " 9/72 [==>...........................] - ETA: 4s - loss: 1.0983 - accuracy: 0.3368\n",
      "Epoch 1: saving model to model_weights-01.weights.h5\n",
      "10/72 [===>..........................] - ETA: 4s - loss: 1.0981 - accuracy: 0.3375\n",
      "Epoch 1: saving model to model_weights-01.weights.h5\n",
      "11/72 [===>..........................] - ETA: 4s - loss: 1.0980 - accuracy: 0.3381\n",
      "Epoch 1: saving model to model_weights-01.weights.h5\n",
      "12/72 [====>.........................] - ETA: 4s - loss: 1.0973 - accuracy: 0.3424\n",
      "Epoch 1: saving model to model_weights-01.weights.h5\n",
      "13/72 [====>.........................] - ETA: 4s - loss: 1.0971 - accuracy: 0.3450\n",
      "Epoch 1: saving model to model_weights-01.weights.h5\n",
      "14/72 [====>.........................] - ETA: 4s - loss: 1.0984 - accuracy: 0.3371\n",
      "Epoch 1: saving model to model_weights-01.weights.h5\n",
      "15/72 [=====>........................] - ETA: 4s - loss: 1.0986 - accuracy: 0.3333\n",
      "Epoch 1: saving model to model_weights-01.weights.h5\n",
      "16/72 [=====>........................] - ETA: 3s - loss: 1.0983 - accuracy: 0.3379\n",
      "Epoch 1: saving model to model_weights-01.weights.h5\n",
      "17/72 [======>.......................] - ETA: 3s - loss: 1.0977 - accuracy: 0.3493\n",
      "Epoch 1: saving model to model_weights-01.weights.h5\n",
      "18/72 [======>.......................] - ETA: 3s - loss: 1.0976 - accuracy: 0.3464\n",
      "Epoch 1: saving model to model_weights-01.weights.h5\n",
      "19/72 [======>.......................] - ETA: 3s - loss: 1.0974 - accuracy: 0.3454\n",
      "Epoch 1: saving model to model_weights-01.weights.h5\n",
      "20/72 [=======>......................] - ETA: 3s - loss: 1.0974 - accuracy: 0.3484\n",
      "Epoch 1: saving model to model_weights-01.weights.h5\n",
      "21/72 [=======>......................] - ETA: 3s - loss: 1.0973 - accuracy: 0.3512\n",
      "Epoch 1: saving model to model_weights-01.weights.h5\n",
      "22/72 [========>.....................] - ETA: 3s - loss: 1.0968 - accuracy: 0.3565\n",
      "Epoch 1: saving model to model_weights-01.weights.h5\n",
      "23/72 [========>.....................] - ETA: 3s - loss: 1.0966 - accuracy: 0.3567\n",
      "Epoch 1: saving model to model_weights-01.weights.h5\n",
      "24/72 [=========>....................] - ETA: 3s - loss: 1.0961 - accuracy: 0.3600\n",
      "Epoch 1: saving model to model_weights-01.weights.h5\n",
      "25/72 [=========>....................] - ETA: 3s - loss: 1.0959 - accuracy: 0.3581\n",
      "Epoch 1: saving model to model_weights-01.weights.h5\n",
      "26/72 [=========>....................] - ETA: 3s - loss: 1.0952 - accuracy: 0.3648\n",
      "Epoch 1: saving model to model_weights-01.weights.h5\n",
      "27/72 [==========>...................] - ETA: 3s - loss: 1.0946 - accuracy: 0.3686\n",
      "Epoch 1: saving model to model_weights-01.weights.h5\n",
      "28/72 [==========>...................] - ETA: 3s - loss: 1.0944 - accuracy: 0.3655\n",
      "Epoch 1: saving model to model_weights-01.weights.h5\n",
      "29/72 [===========>..................] - ETA: 3s - loss: 1.0935 - accuracy: 0.3675\n",
      "Epoch 1: saving model to model_weights-01.weights.h5\n",
      "30/72 [===========>..................] - ETA: 3s - loss: 1.0923 - accuracy: 0.3708\n",
      "Epoch 1: saving model to model_weights-01.weights.h5\n",
      "31/72 [===========>..................] - ETA: 3s - loss: 1.0912 - accuracy: 0.3720\n",
      "Epoch 1: saving model to model_weights-01.weights.h5\n",
      "32/72 [============>.................] - ETA: 2s - loss: 1.0896 - accuracy: 0.3779\n",
      "Epoch 1: saving model to model_weights-01.weights.h5\n",
      "33/72 [============>.................] - ETA: 2s - loss: 1.0885 - accuracy: 0.3778\n",
      "Epoch 1: saving model to model_weights-01.weights.h5\n",
      "34/72 [=============>................] - ETA: 2s - loss: 1.0859 - accuracy: 0.3810\n",
      "Epoch 1: saving model to model_weights-01.weights.h5\n",
      "35/72 [=============>................] - ETA: 2s - loss: 1.0837 - accuracy: 0.3866\n",
      "Epoch 1: saving model to model_weights-01.weights.h5\n",
      "36/72 [==============>...............] - ETA: 2s - loss: 1.0827 - accuracy: 0.3885\n",
      "Epoch 1: saving model to model_weights-01.weights.h5\n",
      "37/72 [==============>...............] - ETA: 2s - loss: 1.0802 - accuracy: 0.3889\n",
      "Epoch 1: saving model to model_weights-01.weights.h5\n",
      "38/72 [==============>...............] - ETA: 2s - loss: 1.0758 - accuracy: 0.3927\n",
      "Epoch 1: saving model to model_weights-01.weights.h5\n",
      "39/72 [===============>..............] - ETA: 2s - loss: 1.0746 - accuracy: 0.3942\n",
      "Epoch 1: saving model to model_weights-01.weights.h5\n",
      "40/72 [===============>..............] - ETA: 2s - loss: 1.0732 - accuracy: 0.3973\n",
      "Epoch 1: saving model to model_weights-01.weights.h5\n",
      "41/72 [================>.............] - ETA: 2s - loss: 1.0713 - accuracy: 0.3979\n",
      "Epoch 1: saving model to model_weights-01.weights.h5\n",
      "42/72 [================>.............] - ETA: 2s - loss: 1.0693 - accuracy: 0.4003\n",
      "Epoch 1: saving model to model_weights-01.weights.h5\n",
      "43/72 [================>.............] - ETA: 2s - loss: 1.0643 - accuracy: 0.4055\n",
      "Epoch 1: saving model to model_weights-01.weights.h5\n",
      "44/72 [=================>............] - ETA: 2s - loss: 1.0589 - accuracy: 0.4102\n",
      "Epoch 1: saving model to model_weights-01.weights.h5\n",
      "45/72 [=================>............] - ETA: 2s - loss: 1.0568 - accuracy: 0.4125\n",
      "Epoch 1: saving model to model_weights-01.weights.h5\n",
      "46/72 [==================>...........] - ETA: 1s - loss: 1.0550 - accuracy: 0.4147\n",
      "Epoch 1: saving model to model_weights-01.weights.h5\n",
      "47/72 [==================>...........] - ETA: 1s - loss: 1.0553 - accuracy: 0.4152\n",
      "Epoch 1: saving model to model_weights-01.weights.h5\n",
      "48/72 [===================>..........] - ETA: 1s - loss: 1.0536 - accuracy: 0.4173\n",
      "Epoch 1: saving model to model_weights-01.weights.h5\n",
      "49/72 [===================>..........] - ETA: 1s - loss: 1.0504 - accuracy: 0.4206\n",
      "Epoch 1: saving model to model_weights-01.weights.h5\n",
      "50/72 [===================>..........] - ETA: 1s - loss: 1.0472 - accuracy: 0.4222\n",
      "Epoch 1: saving model to model_weights-01.weights.h5\n",
      "51/72 [====================>.........] - ETA: 1s - loss: 1.0463 - accuracy: 0.4231\n",
      "Epoch 1: saving model to model_weights-01.weights.h5\n",
      "52/72 [====================>.........] - ETA: 1s - loss: 1.0462 - accuracy: 0.4240\n",
      "Epoch 1: saving model to model_weights-01.weights.h5\n",
      "53/72 [=====================>........] - ETA: 1s - loss: 1.0430 - accuracy: 0.4263\n",
      "Epoch 1: saving model to model_weights-01.weights.h5\n",
      "54/72 [=====================>........] - ETA: 1s - loss: 1.0417 - accuracy: 0.4271\n",
      "Epoch 1: saving model to model_weights-01.weights.h5\n",
      "55/72 [=====================>........] - ETA: 1s - loss: 1.0392 - accuracy: 0.4293\n",
      "Epoch 1: saving model to model_weights-01.weights.h5\n",
      "56/72 [======================>.......] - ETA: 1s - loss: 1.0371 - accuracy: 0.4314\n",
      "Epoch 1: saving model to model_weights-01.weights.h5\n",
      "57/72 [======================>.......] - ETA: 1s - loss: 1.0365 - accuracy: 0.4323\n",
      "Epoch 1: saving model to model_weights-01.weights.h5\n",
      "58/72 [=======================>......] - ETA: 1s - loss: 1.0376 - accuracy: 0.4321\n",
      "Epoch 1: saving model to model_weights-01.weights.h5\n",
      "59/72 [=======================>......] - ETA: 0s - loss: 1.0368 - accuracy: 0.4325\n",
      "Epoch 1: saving model to model_weights-01.weights.h5\n",
      "60/72 [========================>.....] - ETA: 0s - loss: 1.0346 - accuracy: 0.4344\n",
      "Epoch 1: saving model to model_weights-01.weights.h5\n",
      "61/72 [========================>.....] - ETA: 0s - loss: 1.0342 - accuracy: 0.4349\n",
      "Epoch 1: saving model to model_weights-01.weights.h5\n",
      "62/72 [========================>.....] - ETA: 0s - loss: 1.0332 - accuracy: 0.4352\n",
      "Epoch 1: saving model to model_weights-01.weights.h5\n",
      "63/72 [=========================>....] - ETA: 0s - loss: 1.0314 - accuracy: 0.4370\n",
      "Epoch 1: saving model to model_weights-01.weights.h5\n",
      "64/72 [=========================>....] - ETA: 0s - loss: 1.0311 - accuracy: 0.4370\n",
      "Epoch 1: saving model to model_weights-01.weights.h5\n",
      "65/72 [==========================>...] - ETA: 0s - loss: 1.0283 - accuracy: 0.4389\n",
      "Epoch 1: saving model to model_weights-01.weights.h5\n",
      "66/72 [==========================>...] - ETA: 0s - loss: 1.0276 - accuracy: 0.4392\n",
      "Epoch 1: saving model to model_weights-01.weights.h5\n",
      "67/72 [==========================>...] - ETA: 0s - loss: 1.0268 - accuracy: 0.4398\n",
      "Epoch 1: saving model to model_weights-01.weights.h5\n",
      "68/72 [===========================>..] - ETA: 0s - loss: 1.0252 - accuracy: 0.4403\n",
      "Epoch 1: saving model to model_weights-01.weights.h5\n",
      "69/72 [===========================>..] - ETA: 0s - loss: 1.0232 - accuracy: 0.4416\n",
      "Epoch 1: saving model to model_weights-01.weights.h5\n",
      "70/72 [============================>.] - ETA: 0s - loss: 1.0233 - accuracy: 0.4417\n",
      "Epoch 1: saving model to model_weights-01.weights.h5\n",
      "71/72 [============================>.] - ETA: 0s - loss: 1.0221 - accuracy: 0.4426\n",
      "Epoch 1: saving model to model_weights-01.weights.h5\n",
      "72/72 [==============================] - 12s 81ms/step - loss: 1.0215 - accuracy: 0.4428 - val_loss: 0.9218 - val_accuracy: 0.5494\n",
      "Epoch 2/5\n",
      "\n",
      "Epoch 2: saving model to model_weights-02.weights.h5\n",
      " 1/72 [..............................] - ETA: 5s - loss: 0.9047 - accuracy: 0.5625\n",
      "Epoch 2: saving model to model_weights-02.weights.h5\n",
      " 2/72 [..............................] - ETA: 4s - loss: 0.9226 - accuracy: 0.5625\n",
      "Epoch 2: saving model to model_weights-02.weights.h5\n",
      " 3/72 [>.............................] - ETA: 4s - loss: 0.9248 - accuracy: 0.5312\n",
      "Epoch 2: saving model to model_weights-02.weights.h5\n",
      " 4/72 [>.............................] - ETA: 5s - loss: 0.9353 - accuracy: 0.5078\n",
      "Epoch 2: saving model to model_weights-02.weights.h5\n",
      " 5/72 [=>............................] - ETA: 5s - loss: 0.9307 - accuracy: 0.5094\n",
      "Epoch 2: saving model to model_weights-02.weights.h5\n",
      " 6/72 [=>............................] - ETA: 4s - loss: 0.9386 - accuracy: 0.5026\n",
      "Epoch 2: saving model to model_weights-02.weights.h5\n",
      " 7/72 [=>............................] - ETA: 4s - loss: 0.9313 - accuracy: 0.5134\n",
      "Epoch 2: saving model to model_weights-02.weights.h5\n",
      " 8/72 [==>...........................] - ETA: 4s - loss: 0.9260 - accuracy: 0.5254\n",
      "Epoch 2: saving model to model_weights-02.weights.h5\n",
      " 9/72 [==>...........................] - ETA: 4s - loss: 0.9157 - accuracy: 0.5278\n",
      "Epoch 2: saving model to model_weights-02.weights.h5\n",
      "10/72 [===>..........................] - ETA: 4s - loss: 0.9144 - accuracy: 0.5328\n",
      "Epoch 2: saving model to model_weights-02.weights.h5\n",
      "11/72 [===>..........................] - ETA: 4s - loss: 0.9075 - accuracy: 0.5284\n",
      "Epoch 2: saving model to model_weights-02.weights.h5\n",
      "12/72 [====>.........................] - ETA: 4s - loss: 0.9076 - accuracy: 0.5286\n",
      "Epoch 2: saving model to model_weights-02.weights.h5\n",
      "13/72 [====>.........................] - ETA: 4s - loss: 0.9037 - accuracy: 0.5349\n",
      "Epoch 2: saving model to model_weights-02.weights.h5\n",
      "14/72 [====>.........................] - ETA: 4s - loss: 0.9022 - accuracy: 0.5402\n",
      "Epoch 2: saving model to model_weights-02.weights.h5\n",
      "15/72 [=====>........................] - ETA: 4s - loss: 0.8974 - accuracy: 0.5490\n",
      "Epoch 2: saving model to model_weights-02.weights.h5\n",
      "16/72 [=====>........................] - ETA: 4s - loss: 0.9015 - accuracy: 0.5498\n",
      "Epoch 2: saving model to model_weights-02.weights.h5\n",
      "17/72 [======>.......................] - ETA: 3s - loss: 0.9021 - accuracy: 0.5478\n",
      "Epoch 2: saving model to model_weights-02.weights.h5\n",
      "18/72 [======>.......................] - ETA: 3s - loss: 0.8973 - accuracy: 0.5469\n",
      "Epoch 2: saving model to model_weights-02.weights.h5\n",
      "19/72 [======>.......................] - ETA: 3s - loss: 0.9004 - accuracy: 0.5461\n",
      "Epoch 2: saving model to model_weights-02.weights.h5\n",
      "20/72 [=======>......................] - ETA: 3s - loss: 0.9062 - accuracy: 0.5414\n",
      "Epoch 2: saving model to model_weights-02.weights.h5\n",
      "21/72 [=======>......................] - ETA: 3s - loss: 0.9013 - accuracy: 0.5484\n",
      "Epoch 2: saving model to model_weights-02.weights.h5\n",
      "22/72 [========>.....................] - ETA: 3s - loss: 0.9013 - accuracy: 0.5504\n",
      "Epoch 2: saving model to model_weights-02.weights.h5\n",
      "23/72 [========>.....................] - ETA: 3s - loss: 0.9050 - accuracy: 0.5489\n",
      "Epoch 2: saving model to model_weights-02.weights.h5\n",
      "24/72 [=========>....................] - ETA: 3s - loss: 0.9079 - accuracy: 0.5436\n",
      "Epoch 2: saving model to model_weights-02.weights.h5\n",
      "25/72 [=========>....................] - ETA: 3s - loss: 0.9072 - accuracy: 0.5437\n",
      "Epoch 2: saving model to model_weights-02.weights.h5\n",
      "26/72 [=========>....................] - ETA: 3s - loss: 0.9010 - accuracy: 0.5493\n",
      "Epoch 2: saving model to model_weights-02.weights.h5\n",
      "27/72 [==========>...................] - ETA: 3s - loss: 0.9011 - accuracy: 0.5492\n",
      "Epoch 2: saving model to model_weights-02.weights.h5\n",
      "28/72 [==========>...................] - ETA: 3s - loss: 0.9051 - accuracy: 0.5446\n",
      "Epoch 2: saving model to model_weights-02.weights.h5\n",
      "29/72 [===========>..................] - ETA: 3s - loss: 0.9018 - accuracy: 0.5447\n",
      "Epoch 2: saving model to model_weights-02.weights.h5\n",
      "30/72 [===========>..................] - ETA: 3s - loss: 0.8988 - accuracy: 0.5469\n",
      "Epoch 2: saving model to model_weights-02.weights.h5\n",
      "31/72 [===========>..................] - ETA: 3s - loss: 0.8966 - accuracy: 0.5479\n",
      "Epoch 2: saving model to model_weights-02.weights.h5\n",
      "32/72 [============>.................] - ETA: 2s - loss: 0.8991 - accuracy: 0.5454\n",
      "Epoch 2: saving model to model_weights-02.weights.h5\n",
      "33/72 [============>.................] - ETA: 2s - loss: 0.8982 - accuracy: 0.5469\n",
      "Epoch 2: saving model to model_weights-02.weights.h5\n",
      "34/72 [=============>................] - ETA: 2s - loss: 0.9015 - accuracy: 0.5455\n",
      "Epoch 2: saving model to model_weights-02.weights.h5\n",
      "35/72 [=============>................] - ETA: 2s - loss: 0.8974 - accuracy: 0.5487\n",
      "Epoch 2: saving model to model_weights-02.weights.h5\n",
      "36/72 [==============>...............] - ETA: 2s - loss: 0.8999 - accuracy: 0.5456\n",
      "Epoch 2: saving model to model_weights-02.weights.h5\n",
      "37/72 [==============>...............] - ETA: 2s - loss: 0.9048 - accuracy: 0.5422\n",
      "Epoch 2: saving model to model_weights-02.weights.h5\n",
      "38/72 [==============>...............] - ETA: 2s - loss: 0.9034 - accuracy: 0.5424\n",
      "Epoch 2: saving model to model_weights-02.weights.h5\n",
      "39/72 [===============>..............] - ETA: 2s - loss: 0.9030 - accuracy: 0.5425\n",
      "Epoch 2: saving model to model_weights-02.weights.h5\n",
      "40/72 [===============>..............] - ETA: 2s - loss: 0.9020 - accuracy: 0.5449\n",
      "Epoch 2: saving model to model_weights-02.weights.h5\n",
      "41/72 [================>.............] - ETA: 2s - loss: 0.9039 - accuracy: 0.5427\n",
      "Epoch 2: saving model to model_weights-02.weights.h5\n",
      "42/72 [================>.............] - ETA: 2s - loss: 0.9020 - accuracy: 0.5454\n",
      "Epoch 2: saving model to model_weights-02.weights.h5\n",
      "43/72 [================>.............] - ETA: 2s - loss: 0.9034 - accuracy: 0.5461\n",
      "Epoch 2: saving model to model_weights-02.weights.h5\n",
      "44/72 [=================>............] - ETA: 2s - loss: 0.9033 - accuracy: 0.5469\n",
      "Epoch 2: saving model to model_weights-02.weights.h5\n",
      "45/72 [=================>............] - ETA: 2s - loss: 0.9013 - accuracy: 0.5486\n",
      "Epoch 2: saving model to model_weights-02.weights.h5\n",
      "46/72 [==================>...........] - ETA: 1s - loss: 0.9013 - accuracy: 0.5479\n",
      "Epoch 2: saving model to model_weights-02.weights.h5\n",
      "47/72 [==================>...........] - ETA: 1s - loss: 0.9009 - accuracy: 0.5489\n",
      "Epoch 2: saving model to model_weights-02.weights.h5\n",
      "48/72 [===================>..........] - ETA: 1s - loss: 0.9003 - accuracy: 0.5492\n",
      "Epoch 2: saving model to model_weights-02.weights.h5\n",
      "49/72 [===================>..........] - ETA: 1s - loss: 0.8986 - accuracy: 0.5510\n",
      "Epoch 2: saving model to model_weights-02.weights.h5\n",
      "50/72 [===================>..........] - ETA: 1s - loss: 0.8961 - accuracy: 0.5528\n",
      "Epoch 2: saving model to model_weights-02.weights.h5\n",
      "51/72 [====================>.........] - ETA: 1s - loss: 0.8969 - accuracy: 0.5539\n",
      "Epoch 2: saving model to model_weights-02.weights.h5\n",
      "52/72 [====================>.........] - ETA: 1s - loss: 0.8952 - accuracy: 0.5544\n",
      "Epoch 2: saving model to model_weights-02.weights.h5\n",
      "53/72 [=====================>........] - ETA: 1s - loss: 0.8944 - accuracy: 0.5554\n",
      "Epoch 2: saving model to model_weights-02.weights.h5\n",
      "54/72 [=====================>........] - ETA: 1s - loss: 0.8946 - accuracy: 0.5558\n",
      "Epoch 2: saving model to model_weights-02.weights.h5\n",
      "55/72 [=====================>........] - ETA: 1s - loss: 0.8930 - accuracy: 0.5585\n",
      "Epoch 2: saving model to model_weights-02.weights.h5\n",
      "56/72 [======================>.......] - ETA: 1s - loss: 0.8957 - accuracy: 0.5578\n",
      "Epoch 2: saving model to model_weights-02.weights.h5\n",
      "57/72 [======================>.......] - ETA: 1s - loss: 0.8942 - accuracy: 0.5595\n",
      "Epoch 2: saving model to model_weights-02.weights.h5\n",
      "58/72 [=======================>......] - ETA: 1s - loss: 0.8947 - accuracy: 0.5603\n",
      "Epoch 2: saving model to model_weights-02.weights.h5\n",
      "59/72 [=======================>......] - ETA: 0s - loss: 0.8934 - accuracy: 0.5622\n",
      "Epoch 2: saving model to model_weights-02.weights.h5\n",
      "60/72 [========================>.....] - ETA: 0s - loss: 0.8927 - accuracy: 0.5633\n",
      "Epoch 2: saving model to model_weights-02.weights.h5\n",
      "61/72 [========================>.....] - ETA: 0s - loss: 0.8899 - accuracy: 0.5661\n",
      "Epoch 2: saving model to model_weights-02.weights.h5\n",
      "62/72 [========================>.....] - ETA: 0s - loss: 0.8894 - accuracy: 0.5665\n",
      "Epoch 2: saving model to model_weights-02.weights.h5\n",
      "63/72 [=========================>....] - ETA: 0s - loss: 0.8906 - accuracy: 0.5665\n",
      "Epoch 2: saving model to model_weights-02.weights.h5\n",
      "64/72 [=========================>....] - ETA: 0s - loss: 0.8918 - accuracy: 0.5657\n",
      "Epoch 2: saving model to model_weights-02.weights.h5\n",
      "65/72 [==========================>...] - ETA: 0s - loss: 0.8919 - accuracy: 0.5656\n",
      "Epoch 2: saving model to model_weights-02.weights.h5\n",
      "66/72 [==========================>...] - ETA: 0s - loss: 0.8906 - accuracy: 0.5668\n",
      "Epoch 2: saving model to model_weights-02.weights.h5\n",
      "67/72 [==========================>...] - ETA: 0s - loss: 0.8912 - accuracy: 0.5667\n",
      "Epoch 2: saving model to model_weights-02.weights.h5\n",
      "68/72 [===========================>..] - ETA: 0s - loss: 0.8927 - accuracy: 0.5669\n",
      "Epoch 2: saving model to model_weights-02.weights.h5\n",
      "69/72 [===========================>..] - ETA: 0s - loss: 0.8927 - accuracy: 0.5666\n",
      "Epoch 2: saving model to model_weights-02.weights.h5\n",
      "70/72 [============================>.] - ETA: 0s - loss: 0.8922 - accuracy: 0.5670\n",
      "Epoch 2: saving model to model_weights-02.weights.h5\n",
      "71/72 [============================>.] - ETA: 0s - loss: 0.8936 - accuracy: 0.5662\n",
      "Epoch 2: saving model to model_weights-02.weights.h5\n",
      "72/72 [==============================] - 5s 76ms/step - loss: 0.8929 - accuracy: 0.5666 - val_loss: 0.8305 - val_accuracy: 0.6166\n",
      "Epoch 3/5\n",
      "\n",
      "Epoch 3: saving model to model_weights-03.weights.h5\n",
      " 1/72 [..............................] - ETA: 5s - loss: 0.9627 - accuracy: 0.5156\n",
      "Epoch 3: saving model to model_weights-03.weights.h5\n",
      " 2/72 [..............................] - ETA: 5s - loss: 0.8371 - accuracy: 0.6016\n",
      "Epoch 3: saving model to model_weights-03.weights.h5\n",
      " 3/72 [>.............................] - ETA: 4s - loss: 0.8267 - accuracy: 0.6250\n",
      "Epoch 3: saving model to model_weights-03.weights.h5\n",
      " 4/72 [>.............................] - ETA: 4s - loss: 0.8202 - accuracy: 0.6406\n",
      "Epoch 3: saving model to model_weights-03.weights.h5\n",
      " 5/72 [=>............................] - ETA: 4s - loss: 0.8139 - accuracy: 0.6531\n",
      "Epoch 3: saving model to model_weights-03.weights.h5\n",
      " 6/72 [=>............................] - ETA: 4s - loss: 0.8069 - accuracy: 0.6562\n",
      "Epoch 3: saving model to model_weights-03.weights.h5\n",
      " 7/72 [=>............................] - ETA: 4s - loss: 0.8165 - accuracy: 0.6518\n",
      "Epoch 3: saving model to model_weights-03.weights.h5\n",
      " 8/72 [==>...........................] - ETA: 4s - loss: 0.8206 - accuracy: 0.6465\n",
      "Epoch 3: saving model to model_weights-03.weights.h5\n",
      " 9/72 [==>...........................] - ETA: 4s - loss: 0.8131 - accuracy: 0.6476\n",
      "Epoch 3: saving model to model_weights-03.weights.h5\n",
      "10/72 [===>..........................] - ETA: 4s - loss: 0.8262 - accuracy: 0.6422\n",
      "Epoch 3: saving model to model_weights-03.weights.h5\n",
      "11/72 [===>..........................] - ETA: 4s - loss: 0.8208 - accuracy: 0.6463\n",
      "Epoch 3: saving model to model_weights-03.weights.h5\n",
      "12/72 [====>.........................] - ETA: 4s - loss: 0.8101 - accuracy: 0.6484\n",
      "Epoch 3: saving model to model_weights-03.weights.h5\n",
      "13/72 [====>.........................] - ETA: 4s - loss: 0.8072 - accuracy: 0.6502\n",
      "Epoch 3: saving model to model_weights-03.weights.h5\n",
      "14/72 [====>.........................] - ETA: 4s - loss: 0.8218 - accuracy: 0.6373\n",
      "Epoch 3: saving model to model_weights-03.weights.h5\n",
      "15/72 [=====>........................] - ETA: 4s - loss: 0.8215 - accuracy: 0.6375\n",
      "Epoch 3: saving model to model_weights-03.weights.h5\n",
      "16/72 [=====>........................] - ETA: 4s - loss: 0.8241 - accuracy: 0.6338\n",
      "Epoch 3: saving model to model_weights-03.weights.h5\n",
      "17/72 [======>.......................] - ETA: 4s - loss: 0.8270 - accuracy: 0.6342\n",
      "Epoch 3: saving model to model_weights-03.weights.h5\n",
      "18/72 [======>.......................] - ETA: 3s - loss: 0.8267 - accuracy: 0.6337\n",
      "Epoch 3: saving model to model_weights-03.weights.h5\n",
      "19/72 [======>.......................] - ETA: 3s - loss: 0.8262 - accuracy: 0.6324\n",
      "Epoch 3: saving model to model_weights-03.weights.h5\n",
      "20/72 [=======>......................] - ETA: 3s - loss: 0.8283 - accuracy: 0.6297\n",
      "Epoch 3: saving model to model_weights-03.weights.h5\n",
      "21/72 [=======>......................] - ETA: 3s - loss: 0.8374 - accuracy: 0.6228\n",
      "Epoch 3: saving model to model_weights-03.weights.h5\n",
      "22/72 [========>.....................] - ETA: 3s - loss: 0.8373 - accuracy: 0.6243\n",
      "Epoch 3: saving model to model_weights-03.weights.h5\n",
      "23/72 [========>.....................] - ETA: 3s - loss: 0.8368 - accuracy: 0.6243\n",
      "Epoch 3: saving model to model_weights-03.weights.h5\n",
      "24/72 [=========>....................] - ETA: 3s - loss: 0.8297 - accuracy: 0.6289\n",
      "Epoch 3: saving model to model_weights-03.weights.h5\n",
      "25/72 [=========>....................] - ETA: 3s - loss: 0.8294 - accuracy: 0.6275\n",
      "Epoch 3: saving model to model_weights-03.weights.h5\n",
      "26/72 [=========>....................] - ETA: 3s - loss: 0.8290 - accuracy: 0.6286\n",
      "Epoch 3: saving model to model_weights-03.weights.h5\n",
      "27/72 [==========>...................] - ETA: 3s - loss: 0.8286 - accuracy: 0.6273\n",
      "Epoch 3: saving model to model_weights-03.weights.h5\n",
      "28/72 [==========>...................] - ETA: 3s - loss: 0.8264 - accuracy: 0.6289\n",
      "Epoch 3: saving model to model_weights-03.weights.h5\n",
      "29/72 [===========>..................] - ETA: 3s - loss: 0.8240 - accuracy: 0.6315\n",
      "Epoch 3: saving model to model_weights-03.weights.h5\n",
      "30/72 [===========>..................] - ETA: 3s - loss: 0.8235 - accuracy: 0.6328\n",
      "Epoch 3: saving model to model_weights-03.weights.h5\n",
      "31/72 [===========>..................] - ETA: 3s - loss: 0.8216 - accuracy: 0.6321\n",
      "Epoch 3: saving model to model_weights-03.weights.h5\n",
      "32/72 [============>.................] - ETA: 3s - loss: 0.8240 - accuracy: 0.6299\n",
      "Epoch 3: saving model to model_weights-03.weights.h5\n",
      "33/72 [============>.................] - ETA: 2s - loss: 0.8209 - accuracy: 0.6330\n",
      "Epoch 3: saving model to model_weights-03.weights.h5\n",
      "34/72 [=============>................] - ETA: 2s - loss: 0.8174 - accuracy: 0.6342\n",
      "Epoch 3: saving model to model_weights-03.weights.h5\n",
      "35/72 [=============>................] - ETA: 2s - loss: 0.8179 - accuracy: 0.6335\n",
      "Epoch 3: saving model to model_weights-03.weights.h5\n",
      "36/72 [==============>...............] - ETA: 2s - loss: 0.8156 - accuracy: 0.6350\n",
      "Epoch 3: saving model to model_weights-03.weights.h5\n",
      "37/72 [==============>...............] - ETA: 2s - loss: 0.8138 - accuracy: 0.6368\n",
      "Epoch 3: saving model to model_weights-03.weights.h5\n",
      "38/72 [==============>...............] - ETA: 2s - loss: 0.8109 - accuracy: 0.6386\n",
      "Epoch 3: saving model to model_weights-03.weights.h5\n",
      "39/72 [===============>..............] - ETA: 2s - loss: 0.8078 - accuracy: 0.6394\n",
      "Epoch 3: saving model to model_weights-03.weights.h5\n",
      "40/72 [===============>..............] - ETA: 2s - loss: 0.8087 - accuracy: 0.6387\n",
      "Epoch 3: saving model to model_weights-03.weights.h5\n",
      "41/72 [================>.............] - ETA: 2s - loss: 0.8043 - accuracy: 0.6418\n",
      "Epoch 3: saving model to model_weights-03.weights.h5\n",
      "42/72 [================>.............] - ETA: 2s - loss: 0.8027 - accuracy: 0.6414\n",
      "Epoch 3: saving model to model_weights-03.weights.h5\n",
      "43/72 [================>.............] - ETA: 2s - loss: 0.8026 - accuracy: 0.6424\n",
      "Epoch 3: saving model to model_weights-03.weights.h5\n",
      "44/72 [=================>............] - ETA: 2s - loss: 0.8016 - accuracy: 0.6435\n",
      "Epoch 3: saving model to model_weights-03.weights.h5\n",
      "45/72 [=================>............] - ETA: 2s - loss: 0.8019 - accuracy: 0.6441\n",
      "Epoch 3: saving model to model_weights-03.weights.h5\n",
      "46/72 [==================>...........] - ETA: 1s - loss: 0.7995 - accuracy: 0.6450\n",
      "Epoch 3: saving model to model_weights-03.weights.h5\n",
      "47/72 [==================>...........] - ETA: 1s - loss: 0.7961 - accuracy: 0.6469\n",
      "Epoch 3: saving model to model_weights-03.weights.h5\n",
      "48/72 [===================>..........] - ETA: 1s - loss: 0.7990 - accuracy: 0.6452\n",
      "Epoch 3: saving model to model_weights-03.weights.h5\n",
      "49/72 [===================>..........] - ETA: 1s - loss: 0.7999 - accuracy: 0.6457\n",
      "Epoch 3: saving model to model_weights-03.weights.h5\n",
      "50/72 [===================>..........] - ETA: 1s - loss: 0.8020 - accuracy: 0.6453\n",
      "Epoch 3: saving model to model_weights-03.weights.h5\n",
      "51/72 [====================>.........] - ETA: 1s - loss: 0.8015 - accuracy: 0.6455\n",
      "Epoch 3: saving model to model_weights-03.weights.h5\n",
      "52/72 [====================>.........] - ETA: 1s - loss: 0.7999 - accuracy: 0.6472\n",
      "Epoch 3: saving model to model_weights-03.weights.h5\n",
      "53/72 [=====================>........] - ETA: 1s - loss: 0.7974 - accuracy: 0.6495\n",
      "Epoch 3: saving model to model_weights-03.weights.h5\n",
      "54/72 [=====================>........] - ETA: 1s - loss: 0.7954 - accuracy: 0.6502\n",
      "Epoch 3: saving model to model_weights-03.weights.h5\n",
      "55/72 [=====================>........] - ETA: 1s - loss: 0.7966 - accuracy: 0.6503\n",
      "Epoch 3: saving model to model_weights-03.weights.h5\n",
      "56/72 [======================>.......] - ETA: 1s - loss: 0.7952 - accuracy: 0.6515\n",
      "Epoch 3: saving model to model_weights-03.weights.h5\n",
      "57/72 [======================>.......] - ETA: 1s - loss: 0.7962 - accuracy: 0.6494\n",
      "Epoch 3: saving model to model_weights-03.weights.h5\n",
      "58/72 [=======================>......] - ETA: 1s - loss: 0.7955 - accuracy: 0.6487\n",
      "Epoch 3: saving model to model_weights-03.weights.h5\n",
      "59/72 [=======================>......] - ETA: 0s - loss: 0.7948 - accuracy: 0.6494\n",
      "Epoch 3: saving model to model_weights-03.weights.h5\n",
      "60/72 [========================>.....] - ETA: 0s - loss: 0.7964 - accuracy: 0.6484\n",
      "Epoch 3: saving model to model_weights-03.weights.h5\n",
      "61/72 [========================>.....] - ETA: 0s - loss: 0.7942 - accuracy: 0.6506\n",
      "Epoch 3: saving model to model_weights-03.weights.h5\n",
      "62/72 [========================>.....] - ETA: 0s - loss: 0.7934 - accuracy: 0.6520\n",
      "Epoch 3: saving model to model_weights-03.weights.h5\n",
      "63/72 [=========================>....] - ETA: 0s - loss: 0.7942 - accuracy: 0.6510\n",
      "Epoch 3: saving model to model_weights-03.weights.h5\n",
      "64/72 [=========================>....] - ETA: 0s - loss: 0.7936 - accuracy: 0.6509\n",
      "Epoch 3: saving model to model_weights-03.weights.h5\n",
      "65/72 [==========================>...] - ETA: 0s - loss: 0.7947 - accuracy: 0.6490\n",
      "Epoch 3: saving model to model_weights-03.weights.h5\n",
      "66/72 [==========================>...] - ETA: 0s - loss: 0.7936 - accuracy: 0.6494\n",
      "Epoch 3: saving model to model_weights-03.weights.h5\n",
      "67/72 [==========================>...] - ETA: 0s - loss: 0.7955 - accuracy: 0.6479\n",
      "Epoch 3: saving model to model_weights-03.weights.h5\n",
      "68/72 [===========================>..] - ETA: 0s - loss: 0.7937 - accuracy: 0.6489\n",
      "Epoch 3: saving model to model_weights-03.weights.h5\n",
      "69/72 [===========================>..] - ETA: 0s - loss: 0.7962 - accuracy: 0.6483\n",
      "Epoch 3: saving model to model_weights-03.weights.h5\n",
      "70/72 [============================>.] - ETA: 0s - loss: 0.7958 - accuracy: 0.6482\n",
      "Epoch 3: saving model to model_weights-03.weights.h5\n",
      "71/72 [============================>.] - ETA: 0s - loss: 0.7968 - accuracy: 0.6474\n",
      "Epoch 3: saving model to model_weights-03.weights.h5\n",
      "72/72 [==============================] - 6s 79ms/step - loss: 0.7966 - accuracy: 0.6474 - val_loss: 0.7819 - val_accuracy: 0.6502\n",
      "Epoch 4/5\n",
      "\n",
      "Epoch 4: saving model to model_weights-04.weights.h5\n",
      " 1/72 [..............................] - ETA: 6s - loss: 0.7063 - accuracy: 0.6719\n",
      "Epoch 4: saving model to model_weights-04.weights.h5\n",
      " 2/72 [..............................] - ETA: 4s - loss: 0.7452 - accuracy: 0.6641\n",
      "Epoch 4: saving model to model_weights-04.weights.h5\n",
      " 3/72 [>.............................] - ETA: 5s - loss: 0.7877 - accuracy: 0.6198\n",
      "Epoch 4: saving model to model_weights-04.weights.h5\n",
      " 4/72 [>.............................] - ETA: 5s - loss: 0.7594 - accuracy: 0.6328\n",
      "Epoch 4: saving model to model_weights-04.weights.h5\n",
      " 5/72 [=>............................] - ETA: 5s - loss: 0.7439 - accuracy: 0.6594\n",
      "Epoch 4: saving model to model_weights-04.weights.h5\n",
      " 6/72 [=>............................] - ETA: 5s - loss: 0.7369 - accuracy: 0.6797\n",
      "Epoch 4: saving model to model_weights-04.weights.h5\n",
      " 7/72 [=>............................] - ETA: 5s - loss: 0.7129 - accuracy: 0.6897\n",
      "Epoch 4: saving model to model_weights-04.weights.h5\n",
      " 8/72 [==>...........................] - ETA: 5s - loss: 0.7155 - accuracy: 0.6953\n",
      "Epoch 4: saving model to model_weights-04.weights.h5\n",
      " 9/72 [==>...........................] - ETA: 4s - loss: 0.6987 - accuracy: 0.7083\n",
      "Epoch 4: saving model to model_weights-04.weights.h5\n",
      "10/72 [===>..........................] - ETA: 4s - loss: 0.7020 - accuracy: 0.7047\n",
      "Epoch 4: saving model to model_weights-04.weights.h5\n",
      "11/72 [===>..........................] - ETA: 4s - loss: 0.7070 - accuracy: 0.7031\n",
      "Epoch 4: saving model to model_weights-04.weights.h5\n",
      "12/72 [====>.........................] - ETA: 4s - loss: 0.7156 - accuracy: 0.6940\n",
      "Epoch 4: saving model to model_weights-04.weights.h5\n",
      "13/72 [====>.........................] - ETA: 4s - loss: 0.7130 - accuracy: 0.6935\n",
      "Epoch 4: saving model to model_weights-04.weights.h5\n",
      "14/72 [====>.........................] - ETA: 4s - loss: 0.7151 - accuracy: 0.6897\n",
      "Epoch 4: saving model to model_weights-04.weights.h5\n",
      "15/72 [=====>........................] - ETA: 4s - loss: 0.7217 - accuracy: 0.6896\n",
      "Epoch 4: saving model to model_weights-04.weights.h5\n",
      "16/72 [=====>........................] - ETA: 4s - loss: 0.7127 - accuracy: 0.6943\n",
      "Epoch 4: saving model to model_weights-04.weights.h5\n",
      "17/72 [======>.......................] - ETA: 4s - loss: 0.7174 - accuracy: 0.6921\n",
      "Epoch 4: saving model to model_weights-04.weights.h5\n",
      "18/72 [======>.......................] - ETA: 4s - loss: 0.7164 - accuracy: 0.6936\n",
      "Epoch 4: saving model to model_weights-04.weights.h5\n",
      "19/72 [======>.......................] - ETA: 4s - loss: 0.7217 - accuracy: 0.6908\n",
      "Epoch 4: saving model to model_weights-04.weights.h5\n",
      "20/72 [=======>......................] - ETA: 4s - loss: 0.7289 - accuracy: 0.6859\n",
      "Epoch 4: saving model to model_weights-04.weights.h5\n",
      "21/72 [=======>......................] - ETA: 3s - loss: 0.7282 - accuracy: 0.6875\n",
      "Epoch 4: saving model to model_weights-04.weights.h5\n",
      "22/72 [========>.....................] - ETA: 3s - loss: 0.7328 - accuracy: 0.6868\n",
      "Epoch 4: saving model to model_weights-04.weights.h5\n",
      "23/72 [========>.....................] - ETA: 3s - loss: 0.7308 - accuracy: 0.6868\n",
      "Epoch 4: saving model to model_weights-04.weights.h5\n",
      "24/72 [=========>....................] - ETA: 3s - loss: 0.7303 - accuracy: 0.6868\n",
      "Epoch 4: saving model to model_weights-04.weights.h5\n",
      "25/72 [=========>....................] - ETA: 3s - loss: 0.7324 - accuracy: 0.6862\n",
      "Epoch 4: saving model to model_weights-04.weights.h5\n",
      "26/72 [=========>....................] - ETA: 3s - loss: 0.7321 - accuracy: 0.6857\n",
      "Epoch 4: saving model to model_weights-04.weights.h5\n",
      "27/72 [==========>...................] - ETA: 3s - loss: 0.7350 - accuracy: 0.6846\n",
      "Epoch 4: saving model to model_weights-04.weights.h5\n",
      "28/72 [==========>...................] - ETA: 3s - loss: 0.7398 - accuracy: 0.6814\n",
      "Epoch 4: saving model to model_weights-04.weights.h5\n",
      "29/72 [===========>..................] - ETA: 3s - loss: 0.7364 - accuracy: 0.6837\n",
      "Epoch 4: saving model to model_weights-04.weights.h5\n",
      "30/72 [===========>..................] - ETA: 3s - loss: 0.7314 - accuracy: 0.6849\n",
      "Epoch 4: saving model to model_weights-04.weights.h5\n",
      "31/72 [===========>..................] - ETA: 3s - loss: 0.7305 - accuracy: 0.6855\n",
      "Epoch 4: saving model to model_weights-04.weights.h5\n",
      "32/72 [============>.................] - ETA: 3s - loss: 0.7304 - accuracy: 0.6860\n",
      "Epoch 4: saving model to model_weights-04.weights.h5\n",
      "33/72 [============>.................] - ETA: 3s - loss: 0.7305 - accuracy: 0.6866\n",
      "Epoch 4: saving model to model_weights-04.weights.h5\n",
      "34/72 [=============>................] - ETA: 2s - loss: 0.7290 - accuracy: 0.6870\n",
      "Epoch 4: saving model to model_weights-04.weights.h5\n",
      "35/72 [=============>................] - ETA: 2s - loss: 0.7292 - accuracy: 0.6857\n",
      "Epoch 4: saving model to model_weights-04.weights.h5\n",
      "36/72 [==============>...............] - ETA: 2s - loss: 0.7305 - accuracy: 0.6832\n",
      "Epoch 4: saving model to model_weights-04.weights.h5\n",
      "37/72 [==============>...............] - ETA: 2s - loss: 0.7338 - accuracy: 0.6807\n",
      "Epoch 4: saving model to model_weights-04.weights.h5\n",
      "38/72 [==============>...............] - ETA: 2s - loss: 0.7339 - accuracy: 0.6809\n",
      "Epoch 4: saving model to model_weights-04.weights.h5\n",
      "39/72 [===============>..............] - ETA: 2s - loss: 0.7361 - accuracy: 0.6795\n",
      "Epoch 4: saving model to model_weights-04.weights.h5\n",
      "40/72 [===============>..............] - ETA: 2s - loss: 0.7360 - accuracy: 0.6781\n",
      "Epoch 4: saving model to model_weights-04.weights.h5\n",
      "41/72 [================>.............] - ETA: 2s - loss: 0.7362 - accuracy: 0.6784\n",
      "Epoch 4: saving model to model_weights-04.weights.h5\n",
      "42/72 [================>.............] - ETA: 2s - loss: 0.7368 - accuracy: 0.6786\n",
      "Epoch 4: saving model to model_weights-04.weights.h5\n",
      "43/72 [================>.............] - ETA: 2s - loss: 0.7361 - accuracy: 0.6791\n",
      "Epoch 4: saving model to model_weights-04.weights.h5\n",
      "44/72 [=================>............] - ETA: 2s - loss: 0.7365 - accuracy: 0.6786\n",
      "Epoch 4: saving model to model_weights-04.weights.h5\n",
      "45/72 [=================>............] - ETA: 2s - loss: 0.7371 - accuracy: 0.6781\n",
      "Epoch 4: saving model to model_weights-04.weights.h5\n",
      "46/72 [==================>...........] - ETA: 2s - loss: 0.7368 - accuracy: 0.6773\n",
      "Epoch 4: saving model to model_weights-04.weights.h5\n",
      "47/72 [==================>...........] - ETA: 1s - loss: 0.7369 - accuracy: 0.6769\n",
      "Epoch 4: saving model to model_weights-04.weights.h5\n",
      "48/72 [===================>..........] - ETA: 1s - loss: 0.7386 - accuracy: 0.6748\n",
      "Epoch 4: saving model to model_weights-04.weights.h5\n",
      "49/72 [===================>..........] - ETA: 1s - loss: 0.7394 - accuracy: 0.6751\n",
      "Epoch 4: saving model to model_weights-04.weights.h5\n",
      "50/72 [===================>..........] - ETA: 1s - loss: 0.7393 - accuracy: 0.6747\n",
      "Epoch 4: saving model to model_weights-04.weights.h5\n",
      "51/72 [====================>.........] - ETA: 1s - loss: 0.7365 - accuracy: 0.6765\n",
      "Epoch 4: saving model to model_weights-04.weights.h5\n",
      "52/72 [====================>.........] - ETA: 1s - loss: 0.7357 - accuracy: 0.6767\n",
      "Epoch 4: saving model to model_weights-04.weights.h5\n",
      "53/72 [=====================>........] - ETA: 1s - loss: 0.7367 - accuracy: 0.6766\n",
      "Epoch 4: saving model to model_weights-04.weights.h5\n",
      "54/72 [=====================>........] - ETA: 1s - loss: 0.7341 - accuracy: 0.6777\n",
      "Epoch 4: saving model to model_weights-04.weights.h5\n",
      "55/72 [=====================>........] - ETA: 1s - loss: 0.7322 - accuracy: 0.6778\n",
      "Epoch 4: saving model to model_weights-04.weights.h5\n",
      "56/72 [======================>.......] - ETA: 1s - loss: 0.7327 - accuracy: 0.6769\n",
      "Epoch 4: saving model to model_weights-04.weights.h5\n",
      "57/72 [======================>.......] - ETA: 1s - loss: 0.7343 - accuracy: 0.6757\n",
      "Epoch 4: saving model to model_weights-04.weights.h5\n",
      "58/72 [=======================>......] - ETA: 1s - loss: 0.7337 - accuracy: 0.6773\n",
      "Epoch 4: saving model to model_weights-04.weights.h5\n",
      "59/72 [=======================>......] - ETA: 1s - loss: 0.7369 - accuracy: 0.6756\n",
      "Epoch 4: saving model to model_weights-04.weights.h5\n",
      "60/72 [========================>.....] - ETA: 0s - loss: 0.7395 - accuracy: 0.6750\n",
      "Epoch 4: saving model to model_weights-04.weights.h5\n",
      "61/72 [========================>.....] - ETA: 0s - loss: 0.7385 - accuracy: 0.6757\n",
      "Epoch 4: saving model to model_weights-04.weights.h5\n",
      "62/72 [========================>.....] - ETA: 0s - loss: 0.7366 - accuracy: 0.6769\n",
      "Epoch 4: saving model to model_weights-04.weights.h5\n",
      "63/72 [=========================>....] - ETA: 0s - loss: 0.7372 - accuracy: 0.6768\n",
      "Epoch 4: saving model to model_weights-04.weights.h5\n",
      "64/72 [=========================>....] - ETA: 0s - loss: 0.7354 - accuracy: 0.6772\n",
      "Epoch 4: saving model to model_weights-04.weights.h5\n",
      "65/72 [==========================>...] - ETA: 0s - loss: 0.7359 - accuracy: 0.6769\n",
      "Epoch 4: saving model to model_weights-04.weights.h5\n",
      "66/72 [==========================>...] - ETA: 0s - loss: 0.7369 - accuracy: 0.6764\n",
      "Epoch 4: saving model to model_weights-04.weights.h5\n",
      "67/72 [==========================>...] - ETA: 0s - loss: 0.7361 - accuracy: 0.6768\n",
      "Epoch 4: saving model to model_weights-04.weights.h5\n",
      "68/72 [===========================>..] - ETA: 0s - loss: 0.7381 - accuracy: 0.6753\n",
      "Epoch 4: saving model to model_weights-04.weights.h5\n",
      "69/72 [===========================>..] - ETA: 0s - loss: 0.7370 - accuracy: 0.6762\n",
      "Epoch 4: saving model to model_weights-04.weights.h5\n",
      "70/72 [============================>.] - ETA: 0s - loss: 0.7364 - accuracy: 0.6766\n",
      "Epoch 4: saving model to model_weights-04.weights.h5\n",
      "71/72 [============================>.] - ETA: 0s - loss: 0.7375 - accuracy: 0.6745\n",
      "Epoch 4: saving model to model_weights-04.weights.h5\n",
      "72/72 [==============================] - 6s 79ms/step - loss: 0.7372 - accuracy: 0.6742 - val_loss: 0.7456 - val_accuracy: 0.6838\n",
      "Epoch 5/5\n",
      "\n",
      "Epoch 5: saving model to model_weights-05.weights.h5\n",
      " 1/72 [..............................] - ETA: 5s - loss: 0.5560 - accuracy: 0.7812\n",
      "Epoch 5: saving model to model_weights-05.weights.h5\n",
      " 2/72 [..............................] - ETA: 5s - loss: 0.5844 - accuracy: 0.7578\n",
      "Epoch 5: saving model to model_weights-05.weights.h5\n",
      " 3/72 [>.............................] - ETA: 5s - loss: 0.5861 - accuracy: 0.7708\n",
      "Epoch 5: saving model to model_weights-05.weights.h5\n",
      " 4/72 [>.............................] - ETA: 5s - loss: 0.6305 - accuracy: 0.7422\n",
      "Epoch 5: saving model to model_weights-05.weights.h5\n",
      " 5/72 [=>............................] - ETA: 5s - loss: 0.6418 - accuracy: 0.7344\n",
      "Epoch 5: saving model to model_weights-05.weights.h5\n",
      " 6/72 [=>............................] - ETA: 5s - loss: 0.6205 - accuracy: 0.7474\n",
      "Epoch 5: saving model to model_weights-05.weights.h5\n",
      " 7/72 [=>............................] - ETA: 5s - loss: 0.6372 - accuracy: 0.7344\n",
      "Epoch 5: saving model to model_weights-05.weights.h5\n",
      " 8/72 [==>...........................] - ETA: 5s - loss: 0.6240 - accuracy: 0.7402\n",
      "Epoch 5: saving model to model_weights-05.weights.h5\n",
      " 9/72 [==>...........................] - ETA: 4s - loss: 0.6134 - accuracy: 0.7465\n",
      "Epoch 5: saving model to model_weights-05.weights.h5\n",
      "10/72 [===>..........................] - ETA: 4s - loss: 0.6062 - accuracy: 0.7563\n",
      "Epoch 5: saving model to model_weights-05.weights.h5\n",
      "11/72 [===>..........................] - ETA: 4s - loss: 0.6157 - accuracy: 0.7514\n",
      "Epoch 5: saving model to model_weights-05.weights.h5\n",
      "12/72 [====>.........................] - ETA: 4s - loss: 0.6101 - accuracy: 0.7539\n",
      "Epoch 5: saving model to model_weights-05.weights.h5\n",
      "13/72 [====>.........................] - ETA: 4s - loss: 0.6020 - accuracy: 0.7584\n",
      "Epoch 5: saving model to model_weights-05.weights.h5\n",
      "14/72 [====>.........................] - ETA: 4s - loss: 0.6060 - accuracy: 0.7533\n",
      "Epoch 5: saving model to model_weights-05.weights.h5\n",
      "15/72 [=====>........................] - ETA: 4s - loss: 0.6020 - accuracy: 0.7583\n",
      "Epoch 5: saving model to model_weights-05.weights.h5\n",
      "16/72 [=====>........................] - ETA: 4s - loss: 0.6080 - accuracy: 0.7588\n",
      "Epoch 5: saving model to model_weights-05.weights.h5\n",
      "17/72 [======>.......................] - ETA: 4s - loss: 0.6126 - accuracy: 0.7564\n",
      "Epoch 5: saving model to model_weights-05.weights.h5\n",
      "18/72 [======>.......................] - ETA: 4s - loss: 0.6144 - accuracy: 0.7569\n",
      "Epoch 5: saving model to model_weights-05.weights.h5\n",
      "19/72 [======>.......................] - ETA: 4s - loss: 0.6150 - accuracy: 0.7590\n",
      "Epoch 5: saving model to model_weights-05.weights.h5\n",
      "20/72 [=======>......................] - ETA: 4s - loss: 0.6202 - accuracy: 0.7539\n",
      "Epoch 5: saving model to model_weights-05.weights.h5\n",
      "21/72 [=======>......................] - ETA: 3s - loss: 0.6230 - accuracy: 0.7522\n",
      "Epoch 5: saving model to model_weights-05.weights.h5\n",
      "22/72 [========>.....................] - ETA: 3s - loss: 0.6207 - accuracy: 0.7507\n",
      "Epoch 5: saving model to model_weights-05.weights.h5\n",
      "23/72 [========>.....................] - ETA: 3s - loss: 0.6161 - accuracy: 0.7534\n",
      "Epoch 5: saving model to model_weights-05.weights.h5\n",
      "24/72 [=========>....................] - ETA: 3s - loss: 0.6268 - accuracy: 0.7493\n",
      "Epoch 5: saving model to model_weights-05.weights.h5\n",
      "25/72 [=========>....................] - ETA: 3s - loss: 0.6210 - accuracy: 0.7531\n",
      "Epoch 5: saving model to model_weights-05.weights.h5\n",
      "26/72 [=========>....................] - ETA: 3s - loss: 0.6239 - accuracy: 0.7494\n",
      "Epoch 5: saving model to model_weights-05.weights.h5\n",
      "27/72 [==========>...................] - ETA: 3s - loss: 0.6278 - accuracy: 0.7477\n",
      "Epoch 5: saving model to model_weights-05.weights.h5\n",
      "28/72 [==========>...................] - ETA: 3s - loss: 0.6381 - accuracy: 0.7416\n",
      "Epoch 5: saving model to model_weights-05.weights.h5\n",
      "29/72 [===========>..................] - ETA: 3s - loss: 0.6354 - accuracy: 0.7430\n",
      "Epoch 5: saving model to model_weights-05.weights.h5\n",
      "30/72 [===========>..................] - ETA: 3s - loss: 0.6405 - accuracy: 0.7401\n",
      "Epoch 5: saving model to model_weights-05.weights.h5\n",
      "31/72 [===========>..................] - ETA: 3s - loss: 0.6415 - accuracy: 0.7394\n",
      "Epoch 5: saving model to model_weights-05.weights.h5\n",
      "32/72 [============>.................] - ETA: 3s - loss: 0.6411 - accuracy: 0.7388\n",
      "Epoch 5: saving model to model_weights-05.weights.h5\n",
      "33/72 [============>.................] - ETA: 3s - loss: 0.6437 - accuracy: 0.7363\n",
      "Epoch 5: saving model to model_weights-05.weights.h5\n",
      "34/72 [=============>................] - ETA: 2s - loss: 0.6556 - accuracy: 0.7293\n",
      "Epoch 5: saving model to model_weights-05.weights.h5\n",
      "35/72 [=============>................] - ETA: 2s - loss: 0.6524 - accuracy: 0.7317\n",
      "Epoch 5: saving model to model_weights-05.weights.h5\n",
      "36/72 [==============>...............] - ETA: 2s - loss: 0.6571 - accuracy: 0.7300\n",
      "Epoch 5: saving model to model_weights-05.weights.h5\n",
      "37/72 [==============>...............] - ETA: 2s - loss: 0.6577 - accuracy: 0.7297\n",
      "Epoch 5: saving model to model_weights-05.weights.h5\n",
      "38/72 [==============>...............] - ETA: 2s - loss: 0.6598 - accuracy: 0.7274\n",
      "Epoch 5: saving model to model_weights-05.weights.h5\n",
      "39/72 [===============>..............] - ETA: 2s - loss: 0.6583 - accuracy: 0.7288\n",
      "Epoch 5: saving model to model_weights-05.weights.h5\n",
      "40/72 [===============>..............] - ETA: 2s - loss: 0.6560 - accuracy: 0.7301\n",
      "Epoch 5: saving model to model_weights-05.weights.h5\n",
      "41/72 [================>.............] - ETA: 2s - loss: 0.6601 - accuracy: 0.7279\n",
      "Epoch 5: saving model to model_weights-05.weights.h5\n",
      "42/72 [================>.............] - ETA: 2s - loss: 0.6589 - accuracy: 0.7281\n",
      "Epoch 5: saving model to model_weights-05.weights.h5\n",
      "43/72 [================>.............] - ETA: 2s - loss: 0.6579 - accuracy: 0.7286\n",
      "Epoch 5: saving model to model_weights-05.weights.h5\n",
      "44/72 [=================>............] - ETA: 2s - loss: 0.6588 - accuracy: 0.7273\n",
      "Epoch 5: saving model to model_weights-05.weights.h5\n",
      "45/72 [=================>............] - ETA: 2s - loss: 0.6575 - accuracy: 0.7274\n",
      "Epoch 5: saving model to model_weights-05.weights.h5\n",
      "46/72 [==================>...........] - ETA: 2s - loss: 0.6620 - accuracy: 0.7242\n",
      "Epoch 5: saving model to model_weights-05.weights.h5\n",
      "47/72 [==================>...........] - ETA: 1s - loss: 0.6643 - accuracy: 0.7231\n",
      "Epoch 5: saving model to model_weights-05.weights.h5\n",
      "48/72 [===================>..........] - ETA: 1s - loss: 0.6659 - accuracy: 0.7223\n",
      "Epoch 5: saving model to model_weights-05.weights.h5\n",
      "49/72 [===================>..........] - ETA: 1s - loss: 0.6682 - accuracy: 0.7207\n",
      "Epoch 5: saving model to model_weights-05.weights.h5\n",
      "50/72 [===================>..........] - ETA: 1s - loss: 0.6683 - accuracy: 0.7212\n",
      "Epoch 5: saving model to model_weights-05.weights.h5\n",
      "51/72 [====================>.........] - ETA: 1s - loss: 0.6649 - accuracy: 0.7233\n",
      "Epoch 5: saving model to model_weights-05.weights.h5\n",
      "52/72 [====================>.........] - ETA: 1s - loss: 0.6675 - accuracy: 0.7212\n",
      "Epoch 5: saving model to model_weights-05.weights.h5\n",
      "53/72 [=====================>........] - ETA: 1s - loss: 0.6671 - accuracy: 0.7229\n",
      "Epoch 5: saving model to model_weights-05.weights.h5\n",
      "54/72 [=====================>........] - ETA: 1s - loss: 0.6666 - accuracy: 0.7219\n",
      "Epoch 5: saving model to model_weights-05.weights.h5\n",
      "55/72 [=====================>........] - ETA: 1s - loss: 0.6648 - accuracy: 0.7230\n",
      "Epoch 5: saving model to model_weights-05.weights.h5\n",
      "56/72 [======================>.......] - ETA: 1s - loss: 0.6657 - accuracy: 0.7227\n",
      "Epoch 5: saving model to model_weights-05.weights.h5\n",
      "57/72 [======================>.......] - ETA: 1s - loss: 0.6672 - accuracy: 0.7218\n",
      "Epoch 5: saving model to model_weights-05.weights.h5\n",
      "58/72 [=======================>......] - ETA: 1s - loss: 0.6649 - accuracy: 0.7231\n",
      "Epoch 5: saving model to model_weights-05.weights.h5\n",
      "59/72 [=======================>......] - ETA: 0s - loss: 0.6676 - accuracy: 0.7217\n",
      "Epoch 5: saving model to model_weights-05.weights.h5\n",
      "60/72 [========================>.....] - ETA: 0s - loss: 0.6644 - accuracy: 0.7242\n",
      "Epoch 5: saving model to model_weights-05.weights.h5\n",
      "61/72 [========================>.....] - ETA: 0s - loss: 0.6658 - accuracy: 0.7236\n",
      "Epoch 5: saving model to model_weights-05.weights.h5\n",
      "62/72 [========================>.....] - ETA: 0s - loss: 0.6695 - accuracy: 0.7205\n",
      "Epoch 5: saving model to model_weights-05.weights.h5\n",
      "63/72 [=========================>....] - ETA: 0s - loss: 0.6690 - accuracy: 0.7205\n",
      "Epoch 5: saving model to model_weights-05.weights.h5\n",
      "64/72 [=========================>....] - ETA: 0s - loss: 0.6679 - accuracy: 0.7214\n",
      "Epoch 5: saving model to model_weights-05.weights.h5\n",
      "65/72 [==========================>...] - ETA: 0s - loss: 0.6696 - accuracy: 0.7209\n",
      "Epoch 5: saving model to model_weights-05.weights.h5\n",
      "66/72 [==========================>...] - ETA: 0s - loss: 0.6703 - accuracy: 0.7206\n",
      "Epoch 5: saving model to model_weights-05.weights.h5\n",
      "67/72 [==========================>...] - ETA: 0s - loss: 0.6702 - accuracy: 0.7211\n",
      "Epoch 5: saving model to model_weights-05.weights.h5\n",
      "68/72 [===========================>..] - ETA: 0s - loss: 0.6695 - accuracy: 0.7217\n",
      "Epoch 5: saving model to model_weights-05.weights.h5\n",
      "69/72 [===========================>..] - ETA: 0s - loss: 0.6703 - accuracy: 0.7206\n",
      "Epoch 5: saving model to model_weights-05.weights.h5\n",
      "70/72 [============================>.] - ETA: 0s - loss: 0.6699 - accuracy: 0.7212\n",
      "Epoch 5: saving model to model_weights-05.weights.h5\n",
      "71/72 [============================>.] - ETA: 0s - loss: 0.6716 - accuracy: 0.7212\n",
      "Epoch 5: saving model to model_weights-05.weights.h5\n",
      "72/72 [==============================] - 6s 79ms/step - loss: 0.6722 - accuracy: 0.7206 - val_loss: 0.7221 - val_accuracy: 0.7134\n",
      "16/16 [==============================] - 0s 12ms/step\n",
      "16/16 [==============================] - 0s 8ms/step\n",
      "Validation accuracy:  0.7114624505928854\n",
      "Test accuracy:  0.6923076923076923\n"
     ]
    }
   ],
   "source": [
    "from keras.callbacks import EarlyStopping\n",
    "\n",
    "RCNN_model = Sequential()\n",
    "\n",
    "RCNN_model.add(Input(shape=(300,)))\n",
    "RCNN_model.add(Reshape((10, 30)))\n",
    "RCNN_model.add(Bidirectional(GRU(128, activation='relu', return_sequences=True)))\n",
    "RCNN_model.add(Convolution1D(100, 3, activation=\"relu\"))\n",
    "RCNN_model.add(Flatten())\n",
    "RCNN_model.add(Dense(512, activation='relu'))\n",
    "RCNN_model.add(Dense(512, activation='relu'))\n",
    "RCNN_model.add(Dense(128, activation='relu'))\n",
    "RCNN_model.add(Dense(3, activation='softmax'))\n",
    "RCNN_model.summary()\n",
    "\n",
    "RCNN_model.compile(optimizer='adam', loss='sparse_categorical_crossentropy', metrics=['accuracy'])\n",
    "\n",
    "early_stop = EarlyStopping(monitor='val_loss', patience=3)  \n",
    "\n",
    "from tensorflow.keras.callbacks import ModelCheckpoint\n",
    "\n",
    "checkpoint_filepath = 'model_weights-{epoch:02d}.weights.h5'\n",
    "\n",
    "# Define the checkpoint callback to save weights after every 5 epochs\n",
    "checkpoint_callback = ModelCheckpoint(\n",
    "    filepath=checkpoint_filepath,\n",
    "    save_weights_only=True,  # Save only the weights, not the entire model\n",
    "    save_freq=1,  # Save after every 5 epochs (since data_generator yields 1 batch per step)\n",
    "    verbose=1\n",
    ")\n",
    "\n",
    "history = RCNN_model.fit(X_train_tfidf_svd, Y_train, validation_data=(X_val_tfidf_svd, Y_val), epochs=5, batch_size=64, callbacks=[early_stop,checkpoint_callback]) \n",
    "    \n",
    "val_predictions = RCNN_model.predict(X_val_tfidf_svd)\n",
    "test_predictions = RCNN_model.predict(X_test_tfidf_svd)\n",
    "val_predictions = val_predictions.argmax(axis=-1)\n",
    "test_predictions = test_predictions.argmax(axis=-1)\n",
    "    \n",
    "print(\"Validation accuracy: \", metrics.accuracy_score(val_predictions, Y_val))\n",
    "print(\"Test accuracy: \", metrics.accuracy_score(test_predictions, Y_test))\n"
   ]
  },
  {
   "cell_type": "code",
   "execution_count": 64,
   "metadata": {
    "trusted": true
   },
   "outputs": [
    {
     "data": {
      "image/png": "[encoded data removed]",
      "text/plain": [
       "<Figure size 1000x500 with 1 Axes>"
      ]
     },
     "metadata": {},
     "output_type": "display_data"
    },
    {
     "data": {
      "image/png": "[encoded data removed]",
      "text/plain": [
       "<Figure size 1000x500 with 1 Axes>"
      ]
     },
     "metadata": {},
     "output_type": "display_data"
    }
   ],
   "source": [
    "import matplotlib.pyplot as plt\n",
    "\n",
    "# Lấy các giá trị từ lịch sử huấn luyện\n",
    "train_accuracy = history.history['accuracy']\n",
    "val_accuracy = history.history['val_accuracy']\n",
    "train_loss = history.history['loss']\n",
    "val_loss = history.history['val_loss']\n",
    "epochs = range(1, len(train_accuracy) + 1)\n",
    "\n",
    "# Vẽ đồ thị độ chính xác\n",
    "plt.figure(figsize=(10, 5))\n",
    "plt.plot(epochs, train_accuracy, 'b', label='Training accuracy')\n",
    "plt.plot(epochs, val_accuracy, 'r', label='Validation accuracy')\n",
    "plt.title('Training and validation accuracy')\n",
    "plt.xlabel('Epochs')\n",
    "plt.ylabel('Accuracy')\n",
    "plt.legend()\n",
    "plt.show()\n",
    "\n",
    "# Vẽ đồ thị mất mát\n",
    "plt.figure(figsize=(10, 5))\n",
    "plt.plot(epochs, train_loss, 'b', label='Training loss')\n",
    "plt.plot(epochs, val_loss, 'r', label='Validation loss')\n",
    "plt.title('Training and validation loss')\n",
    "plt.xlabel('Epochs')\n",
    "plt.ylabel('Loss')\n",
    "plt.legend()\n",
    "plt.show()\n"
   ]
  },
  {
   "cell_type": "code",
   "execution_count": 65,
   "metadata": {
    "trusted": true
   },
   "outputs": [
    {
     "name": "stdout",
     "output_type": "stream",
     "text": [
      "Classification Report:\n",
      "               precision    recall  f1-score   support\n",
      "\n",
      "         NEU       0.68      0.55      0.61       170\n",
      "         POS       0.74      0.75      0.75       167\n",
      "         NEG       0.66      0.77      0.71       170\n",
      "\n",
      "    accuracy                           0.69       507\n",
      "   macro avg       0.69      0.69      0.69       507\n",
      "weighted avg       0.69      0.69      0.69       507\n",
      "\n"
     ]
    }
   ],
   "source": [
    "from sklearn.metrics import classification_report\n",
    "\n",
    "# Tính toán classification report trên tập dữ liệu kiểm tra\n",
    "class_report = classification_report(Y_test, test_predictions, target_names=class_names)\n",
    "\n",
    "# Hiển thị classification report\n",
    "print(\"Classification Report:\\n\", class_report)\n"
   ]
  },
  {
   "cell_type": "code",
   "execution_count": 66,
   "metadata": {
    "trusted": true
   },
   "outputs": [
    {
     "data": {
      "image/png": "[encoded data removed]",
      "text/plain": [
       "<Figure size 800x600 with 2 Axes>"
      ]
     },
     "metadata": {},
     "output_type": "display_data"
    }
   ],
   "source": [
    "from sklearn.metrics import confusion_matrix\n",
    "import seaborn as sns\n",
    "import matplotlib.pyplot as plt\n",
    "\n",
    "# Tính toán confusion matrix trên tập dữ liệu kiểm tra\n",
    "conf_matrix = confusion_matrix(Y_test, test_predictions)\n",
    "\n",
    "# Hiển thị confusion matrix bằng seaborn heatmap\n",
    "plt.figure(figsize=(8, 6))\n",
    "sns.heatmap(conf_matrix, annot=True, fmt='d', cmap='Blues', xticklabels=class_names, yticklabels=class_names)\n",
    "plt.xlabel('Predicted labels')\n",
    "plt.ylabel('True labels')\n",
    "plt.title('Confusion Matrix')\n",
    "plt.show()\n"
   ]
  },
  {
   "cell_type": "code",
   "execution_count": 73,
   "metadata": {
    "trusted": true
   },
   "outputs": [
    {
     "name": "stdout",
     "output_type": "stream",
     "text": [
      "16/16 [==============================] - 0s 16ms/step - loss: 0.7103 - accuracy: 0.6963\n",
      "Test Accuracy: 0.6962524652481079\n",
      "Test Loss: 0.7102755904197693\n"
     ]
    }
   ],
   "source": [
    "# Đánh giá mô hình trên tập test\n",
    "test_loss, test_accuracy = RCNN_model.evaluate(X_test_tfidf_svd, Y_test)\n",
    "\n",
    "print(\"Test Accuracy:\", test_accuracy)\n",
    "print(\"Test Loss:\", test_loss)\n"
   ]
  },
  {
   "cell_type": "code",
   "execution_count": 74,
   "metadata": {
    "trusted": true
   },
   "outputs": [],
   "source": [
    "for i in range(len(RCNN_model.weights)):\n",
    "    RCNN_model.weights[i]._handle_name = RCNN_model.weights[i].name + \"_\" + str(i)"
   ]
  },
  {
   "cell_type": "code",
   "execution_count": 75,
   "metadata": {
    "trusted": true
   },
   "outputs": [
    {
     "data": {
      "text/plain": [
       "['model/rcnn//svd_model.joblib']"
      ]
     },
     "execution_count": 75,
     "metadata": {},
     "output_type": "execute_result"
    }
   ],
   "source": [
    "from joblib import dump\n",
    "RCNN_model.save(f\"{rcnn_model_path}/RCNN_model.h5\")\n",
    "dump(tfidf_vect, f\"{rcnn_model_path}/tfidf_model.joblib\")\n",
    "dump(svd, f\"{rcnn_model_path}/svd_model.joblib\")\n"
   ]
  },
  {
   "cell_type": "code",
   "execution_count": 76,
   "metadata": {
    "trusted": true
   },
   "outputs": [],
   "source": [
    "svd = joblib.load(f\"{rcnn_model_path}/svd_model.joblib\")\n",
    "tfidf = joblib.load(f\"{rcnn_model_path}/tfidf_model.joblib\")\n",
    "RCNN_model.load_weights(f\"{rcnn_model_path}model_weights-05.weights.h5\")\n"
   ]
  },
  {
   "cell_type": "code",
   "execution_count": 77,
   "metadata": {
    "trusted": true
   },
   "outputs": [],
   "source": [
    "def sentiment_predict(model, text, class_names:list):\n",
    "    \"\"\"\n",
    "    Predict sentiment for a given text using the RCNN model.\n",
    "\n",
    "    Args:\n",
    "        text (str): Input text for sentiment analysis.\n",
    "    \n",
    "    Returns:\n",
    "        None\n",
    "    \"\"\"\n",
    "    # Ensure the input is wrapped in a list\n",
    "    text_tfidf = tfidf.transform([text])  # Wrap the string in a list\n",
    "    text_svd = svd.transform(text_tfidf)\n",
    "    predictions = RCNN_model.predict(text_svd)\n",
    "    predicted_class_index = np.argmax(predictions)\n",
    "    predicted_class = class_names[predicted_class_index]\n",
    "    probabilities = prediction[0]\n",
    "\n",
    "    return predicted_class, probabilities"
   ]
  },
  {
   "cell_type": "code",
   "execution_count": 78,
   "metadata": {
    "trusted": true
   },
   "outputs": [
    {
     "name": "stdout",
     "output_type": "stream",
     "text": [
      "1/1 [==============================] - 0s 19ms/step\n"
     ]
    },
    {
     "data": {
      "text/plain": [
       "('POS', tensor(2, device='cuda:0'))"
      ]
     },
     "execution_count": 78,
     "metadata": {},
     "output_type": "execute_result"
    }
   ],
   "source": [
    "sentiment_predict(model=RCNN_model, text = \"Sản phẩm này rất tốt, tôi rất thích nó\", class_names=class_names)"
   ]
  }
 ],
 "metadata": {
  "kaggle": {
   "accelerator": "gpu",
   "dataSources": [
    {
     "datasetId": 4954350,
     "sourceId": 8362380,
     "sourceType": "datasetVersion"
    }
   ],
   "isGpuEnabled": true,
   "isInternetEnabled": true,
   "language": "python",
   "sourceType": "notebook"
  },
  "kernelspec": {
   "display_name": "venv",
   "language": "python",
   "name": "python3"
  },
  "language_info": {
   "codemirror_mode": {
    "name": "ipython",
    "version": 3
   },
   "file_extension": ".py",
   "mimetype": "text/x-python",
   "name": "python",
   "nbconvert_exporter": "python",
   "pygments_lexer": "ipython3",
   "version": "3.10.12"
  }
 },
 "nbformat": 4,
 "nbformat_minor": 4
}
