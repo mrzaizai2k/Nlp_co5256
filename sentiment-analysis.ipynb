{
 "cells": [
  {
   "cell_type": "markdown",
   "metadata": {
    "id": "QbM7x-5UEzUR"
   },
   "source": [
    "# Sentiment Analysis using BERT\n",
    "\n",
    "BERT (Bidirectionnal Encoder Representations for Transformers) is a “new method of pre-training language representations” developed by Google and released in late 2018."
   ]
  },
  {
   "cell_type": "markdown",
   "metadata": {
    "id": "Q6hKNfAlEzUS"
   },
   "source": [
    "### Import Libraries and Set the intial variables"
   ]
  },
  {
   "cell_type": "code",
   "execution_count": 1,
   "metadata": {
    "execution": {
     "iopub.execute_input": "2024-06-11T08:02:18.012687Z",
     "iopub.status.busy": "2024-06-11T08:02:18.012366Z",
     "iopub.status.idle": "2024-06-11T08:02:26.391860Z",
     "shell.execute_reply": "2024-06-11T08:02:26.390896Z",
     "shell.execute_reply.started": "2024-06-11T08:02:18.012653Z"
    },
    "id": "WtQykqrfEzUT",
    "trusted": true
   },
   "outputs": [
    {
     "name": "stderr",
     "output_type": "stream",
     "text": [
      "2024-11-23 16:05:31.492168: I tensorflow/core/platform/cpu_feature_guard.cc:193] This TensorFlow binary is optimized with oneAPI Deep Neural Network Library (oneDNN) to use the following CPU instructions in performance-critical operations:  AVX2 AVX_VNNI FMA\n",
      "To enable them in other operations, rebuild TensorFlow with the appropriate compiler flags.\n",
      "2024-11-23 16:05:31.575280: I tensorflow/core/util/port.cc:104] oneDNN custom operations are on. You may see slightly different numerical results due to floating-point round-off errors from different computation orders. To turn them off, set the environment variable `TF_ENABLE_ONEDNN_OPTS=0`.\n",
      "2024-11-23 16:05:31.994054: W tensorflow/compiler/xla/stream_executor/platform/default/dso_loader.cc:64] Could not load dynamic library 'libnvinfer.so.7'; dlerror: libnvinfer.so.7: cannot open shared object file: No such file or directory\n",
      "2024-11-23 16:05:31.994132: W tensorflow/compiler/xla/stream_executor/platform/default/dso_loader.cc:64] Could not load dynamic library 'libnvinfer_plugin.so.7'; dlerror: libnvinfer_plugin.so.7: cannot open shared object file: No such file or directory\n",
      "2024-11-23 16:05:31.994138: W tensorflow/compiler/tf2tensorrt/utils/py_utils.cc:38] TF-TRT Warning: Cannot dlopen some TensorRT libraries. If you would like to use Nvidia GPU with TensorRT, please make sure the missing libraries mentioned above are installed properly.\n"
     ]
    }
   ],
   "source": [
    "# Import necessary libraries\n",
    "import sys\n",
    "sys.path.append(\"\") \n",
    "\n",
    "import os\n",
    "\n",
    "import numpy as np\n",
    "import pandas as pd\n",
    "import seaborn as sns\n",
    "from pylab import rcParams\n",
    "import regex as re\n",
    "import string\n",
    "import json\n",
    "# import matplotlib.pyplot as plt\n",
    "from matplotlib import rc\n",
    "from sklearn.model_selection import train_test_split\n",
    "from sklearn.metrics import confusion_matrix, classification_report\n",
    "from collections import defaultdict\n",
    "# from textwrap import wrap\n",
    "\n",
    "# Torch ML libraries\n",
    "# import transformers\n",
    "from transformers import BertModel, BertTokenizer, AdamW, get_linear_schedule_with_warmup\n",
    "import torch\n",
    "from torch import nn\n",
    "from torch.utils.data import Dataset, DataLoader\n",
    "\n",
    "#metrics\n",
    "# from sklearn.metrics import accuracy_score, f1_score\n",
    "from sklearn.metrics import classification_report, confusion_matrix\n",
    "\n",
    "# Misc.\n",
    "import warnings\n",
    "warnings.filterwarnings('ignore')"
   ]
  },
  {
   "cell_type": "code",
   "execution_count": 2,
   "metadata": {},
   "outputs": [
    {
     "name": "stdout",
     "output_type": "stream",
     "text": [
      "CUDA is available.\n"
     ]
    }
   ],
   "source": [
    "if torch.cuda.is_available():\n",
    "    print(\"CUDA is available.\")\n",
    "else:\n",
    "    print(\"Using CPU\")"
   ]
  },
  {
   "cell_type": "code",
   "execution_count": null,
   "metadata": {
    "execution": {
     "iopub.execute_input": "2024-06-11T08:02:26.393409Z",
     "iopub.status.busy": "2024-06-11T08:02:26.392970Z",
     "iopub.status.idle": "2024-06-11T08:02:26.398001Z",
     "shell.execute_reply": "2024-06-11T08:02:26.397141Z",
     "shell.execute_reply.started": "2024-06-11T08:02:26.393383Z"
    },
    "id": "gRINjFWWEzUb",
    "trusted": true
   },
   "outputs": [],
   "source": [
    "RAW_DATASET_PATH = \"vlsp_sentiment_train.csv\"\n",
    "TEST_DATASET_PATH = \"vlsp_sentiment_test.csv\"\n",
    "stop_words_path = \"vietnamese-stopwords.txt\"\n",
    "MAX_LEN = 90\n",
    "RANDOM_SEED =42\n",
    "class_names = ['NEU', 'POS', 'NEG']\n",
    "n_classes = len(class_name)\n",
    "BATCH_SIZE = 128\n",
    "EPOCHS = 15\n",
    "lr = 1e-5\n",
    "max_norm = 1.0\n",
    "best_accuracy = 0\n",
    "best_loss = 100\n",
    "patient = 2\n",
    "patient_count = 0\n",
    "# Set the model name\n",
    "MODEL_NAME = 'trituenhantaoio/bert-base-vietnamese-uncased'\n"
   ]
  },
  {
   "cell_type": "markdown",
   "metadata": {
    "id": "LQOFO5MSEzUf"
   },
   "source": [
    "### Load the data"
   ]
  },
  {
   "cell_type": "code",
   "execution_count": 4,
   "metadata": {
    "execution": {
     "iopub.execute_input": "2024-06-11T08:02:26.400368Z",
     "iopub.status.busy": "2024-06-11T08:02:26.400104Z",
     "iopub.status.idle": "2024-06-11T08:02:26.476172Z",
     "shell.execute_reply": "2024-06-11T08:02:26.475262Z",
     "shell.execute_reply.started": "2024-06-11T08:02:26.400345Z"
    },
    "id": "g6b5ajqzEzUg",
    "outputId": "a7888891-5d69-42b7-a1e0-ccdbe75f04e4",
    "trusted": true
   },
   "outputs": [],
   "source": [
    "dataset = pd.read_csv(RAW_DATASET_PATH,  on_bad_lines='skip', delimiter=\"\\t\")"
   ]
  },
  {
   "cell_type": "code",
   "execution_count": 5,
   "metadata": {
    "execution": {
     "iopub.execute_input": "2024-06-11T08:02:26.477829Z",
     "iopub.status.busy": "2024-06-11T08:02:26.477383Z",
     "iopub.status.idle": "2024-06-11T08:02:26.484775Z",
     "shell.execute_reply": "2024-06-11T08:02:26.483910Z",
     "shell.execute_reply.started": "2024-06-11T08:02:26.477797Z"
    },
    "id": "eQ5Uwg8xEzUk",
    "outputId": "2b23324b-d208-462f-d011-95c2f7847390",
    "trusted": true
   },
   "outputs": [
    {
     "data": {
      "text/plain": [
       "(5100, 2)"
      ]
     },
     "execution_count": 5,
     "metadata": {},
     "output_type": "execute_result"
    }
   ],
   "source": [
    "dataset.shape"
   ]
  },
  {
   "cell_type": "markdown",
   "metadata": {
    "id": "7zqGIlGIEzUo"
   },
   "source": [
    "We can see that the most relevant column for us is content and replyContent and the score as well."
   ]
  },
  {
   "cell_type": "code",
   "execution_count": 6,
   "metadata": {
    "execution": {
     "iopub.execute_input": "2024-06-11T08:02:26.486310Z",
     "iopub.status.busy": "2024-06-11T08:02:26.485996Z",
     "iopub.status.idle": "2024-06-11T08:02:26.498353Z",
     "shell.execute_reply": "2024-06-11T08:02:26.497586Z",
     "shell.execute_reply.started": "2024-06-11T08:02:26.486282Z"
    },
    "id": "24xNLIJlEzUo",
    "outputId": "eae6af5f-068a-480e-acdd-3c78b3e8a81b",
    "trusted": true
   },
   "outputs": [
    {
     "data": {
      "text/plain": [
       "Index(['Class', 'Data'], dtype='object')"
      ]
     },
     "execution_count": 6,
     "metadata": {},
     "output_type": "execute_result"
    }
   ],
   "source": [
    "dataset.columns"
   ]
  },
  {
   "cell_type": "markdown",
   "metadata": {
    "id": "trIBdPvXEzUy"
   },
   "source": [
    "We can see that we have more positive classes than negative and low number of neutral class. I have kept neutral less to focus more on positive and negative classes. Let's allot classes based on scores now. \n",
    "\n",
    "* -1 - negative\n",
    "* 0 - neutral \n",
    "* 1 - positive"
   ]
  },
  {
   "cell_type": "code",
   "execution_count": 7,
   "metadata": {},
   "outputs": [
    {
     "data": {
      "text/html": [
       "<div>\n",
       "<style scoped>\n",
       "    .dataframe tbody tr th:only-of-type {\n",
       "        vertical-align: middle;\n",
       "    }\n",
       "\n",
       "    .dataframe tbody tr th {\n",
       "        vertical-align: top;\n",
       "    }\n",
       "\n",
       "    .dataframe thead th {\n",
       "        text-align: right;\n",
       "    }\n",
       "</style>\n",
       "<table border=\"1\" class=\"dataframe\">\n",
       "  <thead>\n",
       "    <tr style=\"text-align: right;\">\n",
       "      <th></th>\n",
       "      <th>Class</th>\n",
       "    </tr>\n",
       "  </thead>\n",
       "  <tbody>\n",
       "    <tr>\n",
       "      <th>count</th>\n",
       "      <td>5100.000000</td>\n",
       "    </tr>\n",
       "    <tr>\n",
       "      <th>mean</th>\n",
       "      <td>0.000000</td>\n",
       "    </tr>\n",
       "    <tr>\n",
       "      <th>std</th>\n",
       "      <td>0.816577</td>\n",
       "    </tr>\n",
       "    <tr>\n",
       "      <th>min</th>\n",
       "      <td>-1.000000</td>\n",
       "    </tr>\n",
       "    <tr>\n",
       "      <th>25%</th>\n",
       "      <td>-1.000000</td>\n",
       "    </tr>\n",
       "    <tr>\n",
       "      <th>50%</th>\n",
       "      <td>0.000000</td>\n",
       "    </tr>\n",
       "    <tr>\n",
       "      <th>75%</th>\n",
       "      <td>1.000000</td>\n",
       "    </tr>\n",
       "    <tr>\n",
       "      <th>max</th>\n",
       "      <td>1.000000</td>\n",
       "    </tr>\n",
       "  </tbody>\n",
       "</table>\n",
       "</div>"
      ],
      "text/plain": [
       "             Class\n",
       "count  5100.000000\n",
       "mean      0.000000\n",
       "std       0.816577\n",
       "min      -1.000000\n",
       "25%      -1.000000\n",
       "50%       0.000000\n",
       "75%       1.000000\n",
       "max       1.000000"
      ]
     },
     "execution_count": 7,
     "metadata": {},
     "output_type": "execute_result"
    }
   ],
   "source": [
    "dataset.describe()"
   ]
  },
  {
   "cell_type": "code",
   "execution_count": 8,
   "metadata": {
    "execution": {
     "iopub.execute_input": "2024-06-11T08:02:26.499801Z",
     "iopub.status.busy": "2024-06-11T08:02:26.499481Z",
     "iopub.status.idle": "2024-06-11T08:02:26.524219Z",
     "shell.execute_reply": "2024-06-11T08:02:26.523220Z",
     "shell.execute_reply.started": "2024-06-11T08:02:26.499778Z"
    },
    "id": "VzaRGLGDEzU2",
    "outputId": "df731374-977a-4f04-ba82-ab60c0c5ffa8",
    "trusted": true
   },
   "outputs": [],
   "source": [
    "dataset=dataset.drop_duplicates(\"Data\")\n",
    "dataset = dataset.dropna()"
   ]
  },
  {
   "cell_type": "code",
   "execution_count": 9,
   "metadata": {
    "execution": {
     "iopub.execute_input": "2024-06-11T08:02:26.525680Z",
     "iopub.status.busy": "2024-06-11T08:02:26.525391Z",
     "iopub.status.idle": "2024-06-11T08:02:26.538701Z",
     "shell.execute_reply": "2024-06-11T08:02:26.537857Z",
     "shell.execute_reply.started": "2024-06-11T08:02:26.525657Z"
    },
    "trusted": true
   },
   "outputs": [
    {
     "data": {
      "text/plain": [
       "Class\n",
       " 0    1697\n",
       "-1    1693\n",
       " 1    1672\n",
       "Name: count, dtype: int64"
      ]
     },
     "execution_count": 9,
     "metadata": {},
     "output_type": "execute_result"
    }
   ],
   "source": [
    "dataset[\"Class\"].value_counts()"
   ]
  },
  {
   "cell_type": "code",
   "execution_count": 10,
   "metadata": {},
   "outputs": [
    {
     "data": {
      "text/plain": [
       "158                               Giá này mua s7 ngon hơn\n",
       "4004    Chơi pikachu bao lag luôn nhé bạn. Thấy mấy to...\n",
       "554     Yêu BlackBerry củng chỉ ở hệ điều hành, bàn ph...\n",
       "4522    Nhiều dàn âm thanh trên 7 triệu, kiểu dáng cồn...\n",
       "2823    Thiết kế quá đẹp. Khớp nối, lỗ thoát nhiệt.......\n",
       "4656    sonnm: nói đúng á, tuỳ vào mỗi người chứ, coi ...\n",
       "3531    chẹp, dùng điện thoại để alo+nhắn tin+duyệt we...\n",
       "5093    ➤Thông tin và thời gian đặt hàng của F1s để có...\n",
       "1074    Tôi đang dùng con Dell XPS 14Z core i7 ram 8GB...\n",
       "3898    Dưới 5 triệu mà vậy là quá ngon rùi !! nhưng v...\n",
       "1930    Đang chạy rom của p04d đây, thấy khá mượt + hỗ...\n",
       "1262    Thông tin mật của tôi chưa tới 1000usd, mua ch...\n",
       "314     Bạn ra chợ nhìn thấy hàng bán táo rất ngon. Bạ...\n",
       "3087    cảm ơn iphone đã có những siêu đột phá mới . g...\n",
       "862         Nokia 515 mình mua 06 tháng bảo hành 4 lần...\n",
       "1013    i5 plus thì nghe bảo chống nước chán bạn ah, m...\n",
       "2186    Công nhận VN chuộng iPhone không thua bất cứ n...\n",
       "2404                   1 tỷ tôi cũng mua Mua bằng mọi giá\n",
       "1066                                         quá trời đắt\n",
       "4097                Cũng chỉ vì cái hệ điều hành Android.\n",
       "3013    Bỏ qua những thứ bên lề thì em nó rất đẹp! Rất...\n",
       "4695                                     Ipad 1 là đủ xài\n",
       "614     từ 6 lên 6s có khác gì đâu, bây giờ k lẽ giống...\n",
       "2754    Bạn có thể mua Romoss polimos 10 dung lượng 10...\n",
       "4343                                   Dag hóng bphone ne\n",
       "3016    Tui bị mê thiết kế của dòng SUHD quá chài, mỏn...\n",
       "3188    Thật sự thì mình rất rất thích S7 và S7 edge n...\n",
       "813     Chưa trải nghiệm nhưng nhìn qua về cấu hình đã...\n",
       "4581    Mấy bạn mua máy này rẻ thật nhưng sd rất tốn t...\n",
       "4136    2 người điều kiện bằng nhau có cùng 1 số tiền,...\n",
       "2267                               Thik kiểu dáng như 5s.\n",
       "3099    Mình thích iphone với tai nghe không dây đỡ vư...\n",
       "3358    sony xperia z1 bạn nhé, cấu hình mạnh cam...\n",
       "3130                                  Con này ổn đấy chứ.\n",
       "325     Không thể nào, IP SE thần thánh của Ifan đây s...\n",
       "1119    Thiết kế xấu quá , tôi chê cái cách bạn làm cá...\n",
       "949     Tôi thấy ám vàng là 1, xử lý màu da người quá ...\n",
       "4561    có xài bao giờ chưa bạn? phân tích cho bạn biế...\n",
       "2202              Đăng ký rồi nhe, chờ em về là cưới thôi\n",
       "2611    Mobile star phơi khủng dữ, so phơi với Lumina ...\n",
       "Name: Data, dtype: object"
      ]
     },
     "execution_count": 10,
     "metadata": {},
     "output_type": "execute_result"
    }
   ],
   "source": [
    "dataset[\"Data\"].sample(40)"
   ]
  },
  {
   "cell_type": "code",
   "execution_count": 15,
   "metadata": {
    "execution": {
     "iopub.execute_input": "2024-06-11T08:02:26.555671Z",
     "iopub.status.busy": "2024-06-11T08:02:26.555360Z",
     "iopub.status.idle": "2024-06-11T08:02:26.652437Z",
     "shell.execute_reply": "2024-06-11T08:02:26.651592Z",
     "shell.execute_reply.started": "2024-06-11T08:02:26.555642Z"
    },
    "trusted": true
   },
   "outputs": [],
   "source": [
    "import regex as re\n",
    "import string\n",
    "import json\n",
    "\n",
    "emoji_pattern = re.compile(\"[\"\n",
    "                u\"\\U0001F600-\\U0001F64F\"  # emoticons\n",
    "                u\"\\U0001F300-\\U0001F5FF\"  # symbols & pictographs\n",
    "                u\"\\U0001F680-\\U0001F6FF\"  # transport & map symbols\n",
    "                u\"\\U0001F1E0-\\U0001F1FF\"  # flags (iOS)\n",
    "                u\"\\U00002702-\\U000027B0\"\n",
    "                u\"\\U000024C2-\\U0001F251\"\n",
    "                u\"\\U0001f926-\\U0001f937\"\n",
    "                u'\\U00010000-\\U0010ffff'\n",
    "                u\"\\u200d\"\n",
    "                u\"\\u2640-\\u2642\"\n",
    "                u\"\\u2600-\\u2B55\"\n",
    "                u\"\\u23cf\"\n",
    "                u\"\\u23e9\"\n",
    "                u\"\\u231a\"\n",
    "                u\"\\u3030\"\n",
    "                u\"\\ufe0f\"\n",
    "    \"]+\", flags=re.UNICODE)\n",
    "\n",
    "def clean_text(text):\n",
    "    text = text.lower()\n",
    "    text = re.sub(emoji_pattern, \" \", text)\n",
    "    text = re.sub(r'([a-z]+?)\\1+',r'\\1', text)\n",
    "    text = re.sub(r\"(\\w)\\s*([\" + string.punctuation + \"])\\s*(\\w)\", r\"\\1 \\2 \\3\", text)\n",
    "    text = re.sub(r\"(\\w)\\s*([\" + string.punctuation + \"])\", r\"\\1 \\2\", text)\n",
    "    # text = re.sub(r\"(\\d)([^\\d.])\", r\"\\1 \\2\", text)\n",
    "    # text = re.sub(r\"([^\\d.])(\\d)\", r\"\\1 \\2\", text)\n",
    "    text = re.sub(f\"([{string.punctuation}])([{string.punctuation}])+\",r\"\\1\", text)\n",
    "    text = text.strip()\n",
    "    while text.endswith(tuple(string.punctuation+string.whitespace)):\n",
    "        text = text[:-1]\n",
    "    while text.startswith(tuple(string.punctuation+string.whitespace)):\n",
    "        text = text[1:]\n",
    "    text = re.sub(r\"\\s+\", \" \", text)\n",
    "    return text\n",
    "\n",
    "from pyvi import ViTokenizer\n",
    "\n",
    "def tokenizingText(text):\n",
    "    return ViTokenizer.tokenize(text)\n",
    "\n",
    "lookup_dict = { 'sf': 'sản phẩm','cx':'cũng','kg':'kilogam', 'k':'không', 'ko':'không', 'hong':'không', 'kh':'không', 'kt':'kiểm tra', 'ktra':'kiểm tra', 'bt':'biết', 'pít': 'biết', 'píc': 'biết','v': 'với', 'sl': 'số lượng' ,'dk' : 'được', 'dc' : 'được', 'đc' : 'được' ,'chat' : 'chất' ,'okela' : 'tốt' , 'mn' : 'mọi người', 'sp' : 'sản phẩm', 'ib' : 'inbox', 'nt': 'nhắn tin', 'qc': 'quảng cáo', 'sd': 'sử dụng', 'g': 'giờ', 'dv': 'dịch vụ', 'vs': 'với', 'wa': 'qua', 'tgian' :' thời gian', 'tg' :' thời gian', 'tl' : 'trả lời', 'dx' : 'được', 'ntn' : 'như thế này', 'trc' :'trước'}\n",
    "\n",
    "def text_std(input_text):\n",
    "    words = input_text.split()\n",
    "    new_words = []\n",
    "    for word in words:\n",
    "        word = re.sub(r'[^\\w\\s]','', word)\n",
    "        if word.lower() in lookup_dict:\n",
    "            word = lookup_dict[word.lower()]\n",
    "        new_words.append(word)\n",
    "    new_text = \" \".join(new_words)\n",
    "    return new_text\n",
    "\n",
    "normalized_string = lambda x: \" \".join(x.lower() for x in x.split())\n",
    "\n",
    "with open(stop_words_path, 'r', encoding='utf-8') as file:\n",
    "    stop_words = file.read().splitlines()\n",
    "\n",
    "def remove_stopwords(text):\n",
    "    words = text.split()\n",
    "    filtered_words = [word for word in words if word.lower() not in stop_words]\n",
    "    return ' '.join(filtered_words)\n",
    "\n",
    "def map_label(label):\n",
    "    if label == -1:\n",
    "        return 2  # NEG\n",
    "    return label  # Keep other values unchanged"
   ]
  },
  {
   "cell_type": "code",
   "execution_count": null,
   "metadata": {
    "execution": {
     "iopub.execute_input": "2024-06-11T08:02:26.654278Z",
     "iopub.status.busy": "2024-06-11T08:02:26.653722Z",
     "iopub.status.idle": "2024-06-11T08:02:36.791132Z",
     "shell.execute_reply": "2024-06-11T08:02:36.790358Z",
     "shell.execute_reply.started": "2024-06-11T08:02:26.654248Z"
    },
    "trusted": true
   },
   "outputs": [],
   "source": [
    "dataset[\"Data\"] = dataset[\"Data\"].map(lambda text: clean_text(text))\n",
    "dataset[\"Data\"] = dataset[\"Data\"].apply(text_std)\n",
    "# dataset[\"content\"] = dataset[\"content\"].apply(remove_stopwords)\n",
    "dataset[\"Data\"] = dataset[\"Data\"].apply(normalized_string)\n",
    "dataset[\"Data\"] = dataset[\"Data\"].apply(tokenizingText)\n",
    "dataset[\"Class\"] = dataset[\"Class\"].map(map_label)"
   ]
  },
  {
   "cell_type": "code",
   "execution_count": 17,
   "metadata": {
    "execution": {
     "iopub.execute_input": "2024-06-11T08:02:36.792372Z",
     "iopub.status.busy": "2024-06-11T08:02:36.792099Z",
     "iopub.status.idle": "2024-06-11T08:02:36.804866Z",
     "shell.execute_reply": "2024-06-11T08:02:36.803957Z",
     "shell.execute_reply.started": "2024-06-11T08:02:36.792349Z"
    },
    "trusted": true
   },
   "outputs": [
    {
     "data": {
      "text/html": [
       "<div>\n",
       "<style scoped>\n",
       "    .dataframe tbody tr th:only-of-type {\n",
       "        vertical-align: middle;\n",
       "    }\n",
       "\n",
       "    .dataframe tbody tr th {\n",
       "        vertical-align: top;\n",
       "    }\n",
       "\n",
       "    .dataframe thead th {\n",
       "        text-align: right;\n",
       "    }\n",
       "</style>\n",
       "<table border=\"1\" class=\"dataframe\">\n",
       "  <thead>\n",
       "    <tr style=\"text-align: right;\">\n",
       "      <th></th>\n",
       "      <th>Class</th>\n",
       "      <th>Data</th>\n",
       "    </tr>\n",
       "  </thead>\n",
       "  <tbody>\n",
       "    <tr>\n",
       "      <th>0</th>\n",
       "      <td>2</td>\n",
       "      <td>mình đã dùng anywhere thế _ hệ đầu quả là đầy ...</td>\n",
       "    </tr>\n",
       "    <tr>\n",
       "      <th>1</th>\n",
       "      <td>2</td>\n",
       "      <td>quan _ tâm nhất là độ trễ có cao không dùng th...</td>\n",
       "    </tr>\n",
       "    <tr>\n",
       "      <th>2</th>\n",
       "      <td>2</td>\n",
       "      <td>dag xài con cùi bắp 98k pin trâu mỗi tội đánh ...</td>\n",
       "    </tr>\n",
       "    <tr>\n",
       "      <th>3</th>\n",
       "      <td>2</td>\n",
       "      <td>logitech chắc hàng phải tiền triệu trở lên dùn...</td>\n",
       "    </tr>\n",
       "    <tr>\n",
       "      <th>4</th>\n",
       "      <td>2</td>\n",
       "      <td>đang xài con m175 cùi mía nhà xài nhiều chuột ...</td>\n",
       "    </tr>\n",
       "    <tr>\n",
       "      <th>5</th>\n",
       "      <td>2</td>\n",
       "      <td>đang xài 2 con m185 nút chuột giữa hai con đều...</td>\n",
       "    </tr>\n",
       "    <tr>\n",
       "      <th>6</th>\n",
       "      <td>2</td>\n",
       "      <td>con anywhere 1 mình dùng bị double click cũng ...</td>\n",
       "    </tr>\n",
       "    <tr>\n",
       "      <th>7</th>\n",
       "      <td>2</td>\n",
       "      <td>hàng cty cấp cấp xong vứt ở nhà xài con xornet...</td>\n",
       "    </tr>\n",
       "    <tr>\n",
       "      <th>8</th>\n",
       "      <td>2</td>\n",
       "      <td>magic mouse mà ngon hơn mới _ lạ magic mouse c...</td>\n",
       "    </tr>\n",
       "    <tr>\n",
       "      <th>9</th>\n",
       "      <td>2</td>\n",
       "      <td>em giống y bác luôn chán bluetoth kinh _ hồn 1...</td>\n",
       "    </tr>\n",
       "  </tbody>\n",
       "</table>\n",
       "</div>"
      ],
      "text/plain": [
       "   Class                                               Data\n",
       "0      2  mình đã dùng anywhere thế _ hệ đầu quả là đầy ...\n",
       "1      2  quan _ tâm nhất là độ trễ có cao không dùng th...\n",
       "2      2  dag xài con cùi bắp 98k pin trâu mỗi tội đánh ...\n",
       "3      2  logitech chắc hàng phải tiền triệu trở lên dùn...\n",
       "4      2  đang xài con m175 cùi mía nhà xài nhiều chuột ...\n",
       "5      2  đang xài 2 con m185 nút chuột giữa hai con đều...\n",
       "6      2  con anywhere 1 mình dùng bị double click cũng ...\n",
       "7      2  hàng cty cấp cấp xong vứt ở nhà xài con xornet...\n",
       "8      2  magic mouse mà ngon hơn mới _ lạ magic mouse c...\n",
       "9      2  em giống y bác luôn chán bluetoth kinh _ hồn 1..."
      ]
     },
     "execution_count": 17,
     "metadata": {},
     "output_type": "execute_result"
    }
   ],
   "source": [
    "dataset.head(10)"
   ]
  },
  {
   "cell_type": "markdown",
   "metadata": {
    "id": "JeJSe1hIEzU5"
   },
   "source": [
    "## Data Preprocessing"
   ]
  },
  {
   "cell_type": "code",
   "execution_count": 18,
   "metadata": {
    "execution": {
     "iopub.execute_input": "2024-06-11T08:02:37.441283Z",
     "iopub.status.busy": "2024-06-11T08:02:37.441000Z",
     "iopub.status.idle": "2024-06-11T08:02:38.175503Z",
     "shell.execute_reply": "2024-06-11T08:02:38.174600Z",
     "shell.execute_reply.started": "2024-06-11T08:02:37.441258Z"
    },
    "id": "Uj5eXyqYEzU6",
    "outputId": "4a6b71ec-7503-4884-c669-08383d60225e",
    "trusted": true
   },
   "outputs": [],
   "source": [
    "\n",
    "\n",
    "# Build a BERT based tokenizer\n",
    "tokenizer = BertTokenizer.from_pretrained(MODEL_NAME)"
   ]
  },
  {
   "cell_type": "code",
   "execution_count": 19,
   "metadata": {
    "execution": {
     "iopub.execute_input": "2024-06-11T08:02:38.176941Z",
     "iopub.status.busy": "2024-06-11T08:02:38.176663Z",
     "iopub.status.idle": "2024-06-11T08:02:38.182584Z",
     "shell.execute_reply": "2024-06-11T08:02:38.181732Z",
     "shell.execute_reply.started": "2024-06-11T08:02:38.176918Z"
    },
    "id": "5XqmI4AZEzU9",
    "outputId": "773ac222-7aa8-48d6-eeab-2239646a805a",
    "trusted": true
   },
   "outputs": [
    {
     "name": "stdout",
     "output_type": "stream",
     "text": [
      "[SEP] 3\n",
      "[CLS] 2\n",
      "[PAD] 0\n",
      "[UNK] 1\n"
     ]
    }
   ],
   "source": [
    "# Some of the common BERT tokens\n",
    "print(tokenizer.sep_token, tokenizer.sep_token_id) # marker for ending of a sentence\n",
    "print(tokenizer.cls_token, tokenizer.cls_token_id) # start of each sentence, so BERT knows we’re doing classification\n",
    "print(tokenizer.pad_token, tokenizer.pad_token_id) # special token for padding\n",
    "print(tokenizer.unk_token, tokenizer.unk_token_id) # tokens not found in training set "
   ]
  },
  {
   "cell_type": "markdown",
   "metadata": {
    "id": "r-ridSzLEzVA"
   },
   "source": [
    "BERT works with fixed-length sequences. We’ll use a simple strategy to choose the max length. Let’s store the token length of each review."
   ]
  },
  {
   "cell_type": "code",
   "execution_count": 20,
   "metadata": {
    "execution": {
     "iopub.execute_input": "2024-06-11T08:02:38.184429Z",
     "iopub.status.busy": "2024-06-11T08:02:38.183802Z",
     "iopub.status.idle": "2024-06-11T08:02:47.204800Z",
     "shell.execute_reply": "2024-06-11T08:02:47.204036Z",
     "shell.execute_reply.started": "2024-06-11T08:02:38.184397Z"
    },
    "trusted": true
   },
   "outputs": [
    {
     "name": "stderr",
     "output_type": "stream",
     "text": [
      "Truncation was not explicitly activated but `max_length` is provided a specific value, please use `truncation=True` to explicitly truncate examples to max length. Defaulting to 'longest_first' truncation strategy. If you encode pairs of sequences (GLUE-style) with the tokenizer you can select this strategy more precisely by providing a specific strategy to `truncation`.\n"
     ]
    }
   ],
   "source": [
    "# Store length of each review \n",
    "token_lens = []\n",
    "\n",
    "# Iterate through the content slide\n",
    "for txt in dataset.Data:\n",
    "    tokens = tokenizer.encode(txt, max_length=512)\n",
    "    token_lens.append(len(tokens))"
   ]
  },
  {
   "cell_type": "code",
   "execution_count": 21,
   "metadata": {
    "execution": {
     "iopub.execute_input": "2024-06-11T08:02:47.206374Z",
     "iopub.status.busy": "2024-06-11T08:02:47.206022Z",
     "iopub.status.idle": "2024-06-11T08:02:47.735379Z",
     "shell.execute_reply": "2024-06-11T08:02:47.734539Z",
     "shell.execute_reply.started": "2024-06-11T08:02:47.206343Z"
    },
    "id": "bpVn-ndyEzVE",
    "outputId": "70db118d-4736-4b61-db2d-bc9de8e0d977",
    "trusted": true
   },
   "outputs": [
    {
     "data": {
      "image/png": "[encoded data removed]",
      "text/plain": [
       "<Figure size 640x480 with 1 Axes>"
      ]
     },
     "metadata": {},
     "output_type": "display_data"
    }
   ],
   "source": [
    "import seaborn as sns\n",
    "import matplotlib.pyplot as plt\n",
    "\n",
    "# Plot the distribution of review lengths using histplot\n",
    "sns.histplot(token_lens, kde=True, bins=30)  # `kde=True` adds the kernel density estimate\n",
    "plt.xlim([0, 256])\n",
    "plt.xlabel('Token count')\n",
    "plt.ylabel('Frequency')\n",
    "plt.title('Distribution of Review Lengths')\n",
    "plt.show()\n"
   ]
  },
  {
   "cell_type": "code",
   "execution_count": 22,
   "metadata": {
    "execution": {
     "iopub.execute_input": "2024-06-11T08:02:47.742398Z",
     "iopub.status.busy": "2024-06-11T08:02:47.742076Z",
     "iopub.status.idle": "2024-06-11T08:02:47.765178Z",
     "shell.execute_reply": "2024-06-11T08:02:47.764383Z",
     "shell.execute_reply.started": "2024-06-11T08:02:47.742368Z"
    },
    "trusted": true
   },
   "outputs": [
    {
     "name": "stdout",
     "output_type": "stream",
     "text": [
      "(4049, 2) (506, 2) (507, 2)\n"
     ]
    }
   ],
   "source": [
    "df_train, df_test = train_test_split(dataset, test_size=0.2, random_state=RANDOM_SEED,stratify=dataset['Class'])\n",
    "df_val, df_test = train_test_split(df_test, test_size=0.5, random_state=RANDOM_SEED, stratify=df_test['Class'])\n",
    "print(df_train.shape, df_val.shape, df_test.shape)"
   ]
  },
  {
   "cell_type": "code",
   "execution_count": 23,
   "metadata": {
    "execution": {
     "iopub.execute_input": "2024-06-11T08:02:47.766849Z",
     "iopub.status.busy": "2024-06-11T08:02:47.766243Z",
     "iopub.status.idle": "2024-06-11T08:02:47.778302Z",
     "shell.execute_reply": "2024-06-11T08:02:47.777519Z",
     "shell.execute_reply.started": "2024-06-11T08:02:47.766816Z"
    },
    "trusted": true
   },
   "outputs": [
    {
     "name": "stdout",
     "output_type": "stream",
     "text": [
      "(4617, 2) (506, 2) (507, 2)\n"
     ]
    }
   ],
   "source": [
    "from sklearn.utils import shuffle\n",
    "df_train = pd.concat([df_train, df_val.sample(frac=0.62, random_state=RANDOM_SEED)])\n",
    "df_train = pd.concat([df_train, df_test.sample(frac=0.5, random_state=RANDOM_SEED)])\n",
    "\n",
    "df_train = shuffle(df_train, random_state=RANDOM_SEED)\n",
    "\n",
    "print(df_train.shape, df_val.shape, df_test.shape)"
   ]
  },
  {
   "cell_type": "code",
   "execution_count": 24,
   "metadata": {
    "execution": {
     "iopub.execute_input": "2024-06-11T08:02:47.779517Z",
     "iopub.status.busy": "2024-06-11T08:02:47.779261Z",
     "iopub.status.idle": "2024-06-11T08:02:47.790407Z",
     "shell.execute_reply": "2024-06-11T08:02:47.789513Z",
     "shell.execute_reply.started": "2024-06-11T08:02:47.779494Z"
    },
    "trusted": true
   },
   "outputs": [
    {
     "name": "stdout",
     "output_type": "stream",
     "text": [
      "(4589, 2) (506, 2) (507, 2)\n"
     ]
    }
   ],
   "source": [
    "df_train=df_train.drop_duplicates(\"Data\")\n",
    "print(df_train.shape, df_val.shape, df_test.shape)"
   ]
  },
  {
   "cell_type": "code",
   "execution_count": null,
   "metadata": {
    "execution": {
     "iopub.execute_input": "2024-06-11T08:02:47.799108Z",
     "iopub.status.busy": "2024-06-11T08:02:47.798588Z",
     "iopub.status.idle": "2024-06-11T08:02:47.878198Z",
     "shell.execute_reply": "2024-06-11T08:02:47.877535Z",
     "shell.execute_reply.started": "2024-06-11T08:02:47.799082Z"
    },
    "trusted": true
   },
   "outputs": [],
   "source": [
    "# df_train.to_csv(\"./train.csv\", index=False)\n",
    "# df_val.to_csv(\"./val.csv\", index=False)\n",
    "# df_test.to_csv(\"./test.csv\", index=False)"
   ]
  },
  {
   "cell_type": "markdown",
   "metadata": {},
   "source": [
    "# Create Pytorch Dataset"
   ]
  },
  {
   "cell_type": "code",
   "execution_count": 26,
   "metadata": {
    "execution": {
     "iopub.execute_input": "2024-06-11T08:02:47.879318Z",
     "iopub.status.busy": "2024-06-11T08:02:47.879092Z",
     "iopub.status.idle": "2024-06-11T08:02:47.886756Z",
     "shell.execute_reply": "2024-06-11T08:02:47.885911Z",
     "shell.execute_reply.started": "2024-06-11T08:02:47.879299Z"
    },
    "id": "Sbakw3KIEzVM",
    "trusted": true
   },
   "outputs": [],
   "source": [
    "class GPReviewDataset(Dataset):\n",
    "    # Constructor Function \n",
    "    def __init__(self, reviews, targets, tokenizer, max_len):\n",
    "        self.reviews = reviews\n",
    "        self.targets = targets\n",
    "        self.tokenizer = tokenizer\n",
    "        self.max_len = max_len\n",
    "    \n",
    "    # Length magic method\n",
    "    def __len__(self):\n",
    "        return len(self.reviews)\n",
    "    \n",
    "    # get item magic method\n",
    "    def __getitem__(self, item):\n",
    "        review = str(self.reviews[item])\n",
    "        target = self.targets[item]\n",
    "        \n",
    "        # Encoded format to be returned \n",
    "        encoding = self.tokenizer.encode_plus(\n",
    "            review,\n",
    "            add_special_tokens=True,\n",
    "            max_length=self.max_len,\n",
    "            return_token_type_ids=False,\n",
    "            pad_to_max_length=True,\n",
    "            return_attention_mask=True,\n",
    "            return_tensors='pt',\n",
    "        )\n",
    "        \n",
    "        return {\n",
    "            'review_text': review,\n",
    "            'input_ids': encoding['input_ids'].flatten(),\n",
    "            'attention_mask': encoding['attention_mask'].flatten(),\n",
    "            'targets': torch.tensor(target, dtype=torch.long)\n",
    "        }"
   ]
  },
  {
   "cell_type": "code",
   "execution_count": null,
   "metadata": {
    "execution": {
     "iopub.execute_input": "2024-06-11T08:02:47.888168Z",
     "iopub.status.busy": "2024-06-11T08:02:47.887860Z",
     "iopub.status.idle": "2024-06-11T08:02:47.901479Z",
     "shell.execute_reply": "2024-06-11T08:02:47.900658Z",
     "shell.execute_reply.started": "2024-06-11T08:02:47.888140Z"
    },
    "id": "c7SCbUlmEzVT",
    "trusted": true
   },
   "outputs": [],
   "source": [
    "def create_data_loader(df, tokenizer, max_len, batch_size):\n",
    "    ds = GPReviewDataset(\n",
    "        reviews=df.Data.to_numpy(),\n",
    "        targets=df.Class.to_numpy(),\n",
    "        tokenizer=tokenizer,\n",
    "        max_len=max_len\n",
    "    )\n",
    "    \n",
    "    return DataLoader(\n",
    "        ds,\n",
    "        batch_size=batch_size,\n",
    "        num_workers=0\n",
    "    )"
   ]
  },
  {
   "cell_type": "code",
   "execution_count": 28,
   "metadata": {
    "execution": {
     "iopub.execute_input": "2024-06-11T08:02:47.903006Z",
     "iopub.status.busy": "2024-06-11T08:02:47.902692Z",
     "iopub.status.idle": "2024-06-11T08:02:47.940812Z",
     "shell.execute_reply": "2024-06-11T08:02:47.939927Z",
     "shell.execute_reply.started": "2024-06-11T08:02:47.902977Z"
    },
    "id": "31-GApKIEzVW",
    "trusted": true
   },
   "outputs": [],
   "source": [
    "# Create train, test and val data loaders\n",
    "device = torch.device(\"cuda\" if torch.cuda.is_available() else \"cpu\")\n",
    "train_data_loader = create_data_loader(df_train, tokenizer, MAX_LEN, BATCH_SIZE)\n",
    "val_data_loader = create_data_loader(df_val, tokenizer, MAX_LEN, BATCH_SIZE)\n",
    "test_data_loader = create_data_loader(df_test, tokenizer, MAX_LEN, BATCH_SIZE)"
   ]
  },
  {
   "cell_type": "code",
   "execution_count": 29,
   "metadata": {
    "execution": {
     "iopub.execute_input": "2024-06-11T08:02:47.942203Z",
     "iopub.status.busy": "2024-06-11T08:02:47.941914Z",
     "iopub.status.idle": "2024-06-11T08:02:48.015545Z",
     "shell.execute_reply": "2024-06-11T08:02:48.014709Z",
     "shell.execute_reply.started": "2024-06-11T08:02:47.942180Z"
    },
    "id": "6ZPtu0jjEzVc",
    "outputId": "dd0bb267-6d3d-4ce1-8c81-76b8e4d1beca",
    "trusted": true
   },
   "outputs": [
    {
     "name": "stdout",
     "output_type": "stream",
     "text": [
      "dict_keys(['review_text', 'input_ids', 'attention_mask', 'targets'])\n",
      "torch.Size([32, 90])\n",
      "torch.Size([32, 90])\n",
      "torch.Size([32])\n"
     ]
    }
   ],
   "source": [
    "# Examples \n",
    "data = next(iter(train_data_loader))\n",
    "print(data.keys())\n",
    "\n",
    "print(data['input_ids'].shape)\n",
    "print(data['attention_mask'].shape)\n",
    "print(data['targets'].shape)"
   ]
  },
  {
   "cell_type": "markdown",
   "metadata": {
    "id": "bnRQaNQ0EzVf"
   },
   "source": [
    "## Sentiment Classification with BERT"
   ]
  },
  {
   "cell_type": "markdown",
   "metadata": {},
   "source": [
    "**Load the dataset**"
   ]
  },
  {
   "cell_type": "code",
   "execution_count": 30,
   "metadata": {
    "execution": {
     "iopub.execute_input": "2024-06-11T08:02:48.016814Z",
     "iopub.status.busy": "2024-06-11T08:02:48.016541Z",
     "iopub.status.idle": "2024-06-11T08:03:02.343964Z",
     "shell.execute_reply": "2024-06-11T08:03:02.343036Z",
     "shell.execute_reply.started": "2024-06-11T08:02:48.016792Z"
    },
    "trusted": true
   },
   "outputs": [],
   "source": [
    "# Load the basic BERT model \n",
    "bert_model = BertModel.from_pretrained(MODEL_NAME)"
   ]
  },
  {
   "cell_type": "code",
   "execution_count": 31,
   "metadata": {
    "execution": {
     "iopub.execute_input": "2024-06-11T08:03:02.345478Z",
     "iopub.status.busy": "2024-06-11T08:03:02.345176Z",
     "iopub.status.idle": "2024-06-11T08:03:02.352072Z",
     "shell.execute_reply": "2024-06-11T08:03:02.351184Z",
     "shell.execute_reply.started": "2024-06-11T08:03:02.345453Z"
    },
    "trusted": true
   },
   "outputs": [],
   "source": [
    "# Build the Sentiment Classifier class \n",
    "class SentimentClassifier(nn.Module):\n",
    "    \n",
    "    # Constructor class \n",
    "    def __init__(self, n_classes):\n",
    "        super(SentimentClassifier, self).__init__()\n",
    "        self.bert = BertModel.from_pretrained(MODEL_NAME)\n",
    "        self.drop = nn.Dropout(p=0.5)\n",
    "        self.out = nn.Linear(self.bert.config.hidden_size, n_classes)\n",
    "        \n",
    "    \n",
    "    def forward(self, input_ids, attention_mask):\n",
    "            bert_output = self.bert(\n",
    "              input_ids=input_ids,\n",
    "              attention_mask=attention_mask\n",
    "            )\n",
    "            pooled_output = bert_output.pooler_output # Accessing the pooled output\n",
    "            #  Add a dropout layer\n",
    "            output = self.drop(pooled_output)\n",
    "            return self.out(output)"
   ]
  },
  {
   "cell_type": "code",
   "execution_count": 32,
   "metadata": {
    "execution": {
     "iopub.execute_input": "2024-06-11T08:03:02.354141Z",
     "iopub.status.busy": "2024-06-11T08:03:02.353413Z",
     "iopub.status.idle": "2024-06-11T08:03:03.093895Z",
     "shell.execute_reply": "2024-06-11T08:03:03.093102Z",
     "shell.execute_reply.started": "2024-06-11T08:03:02.354110Z"
    },
    "trusted": true
   },
   "outputs": [],
   "source": [
    "# Instantiate the model and move to classifier\n",
    "model = SentimentClassifier(len(class_names))\n",
    "model = model.to(device)"
   ]
  },
  {
   "cell_type": "code",
   "execution_count": null,
   "metadata": {
    "execution": {
     "iopub.execute_input": "2024-06-11T08:03:03.096027Z",
     "iopub.status.busy": "2024-06-11T08:03:03.095100Z",
     "iopub.status.idle": "2024-06-11T08:03:03.105446Z",
     "shell.execute_reply": "2024-06-11T08:03:03.104577Z",
     "shell.execute_reply.started": "2024-06-11T08:03:03.095992Z"
    },
    "trusted": true
   },
   "outputs": [],
   "source": [
    "# Number of iterations \n",
    "\n",
    "# Optimizer Adam \n",
    "optimizer = AdamW(model.parameters(), lr=lr, correct_bias=False)\n",
    "\n",
    "total_steps = len(train_data_loader) * EPOCHS\n",
    "\n",
    "scheduler = get_linear_schedule_with_warmup(\n",
    "    optimizer,\n",
    "    num_warmup_steps=0,\n",
    "    num_training_steps=total_steps\n",
    ")\n",
    "\n",
    "# Set the loss function \n",
    "loss_fn = nn.CrossEntropyLoss().to(device)"
   ]
  },
  {
   "cell_type": "code",
   "execution_count": null,
   "metadata": {
    "execution": {
     "iopub.execute_input": "2024-06-11T08:03:03.106843Z",
     "iopub.status.busy": "2024-06-11T08:03:03.106522Z",
     "iopub.status.idle": "2024-06-11T08:03:03.115493Z",
     "shell.execute_reply": "2024-06-11T08:03:03.114702Z",
     "shell.execute_reply.started": "2024-06-11T08:03:03.106818Z"
    },
    "trusted": true
   },
   "outputs": [],
   "source": [
    "# Function for a single training iteration\n",
    "def train_epoch(model, data_loader, loss_fn, optimizer, device, scheduler, n_examples):\n",
    "    model = model.train()\n",
    "    losses = []\n",
    "    correct_predictions = 0\n",
    "    \n",
    "    for i,d in enumerate(data_loader):\n",
    "        input_ids = d[\"input_ids\"].to(device)\n",
    "        attention_mask = d[\"attention_mask\"].to(device)\n",
    "        targets = d[\"targets\"].to(device)\n",
    "        \n",
    "        outputs = model(\n",
    "            input_ids=input_ids,\n",
    "            attention_mask=attention_mask\n",
    "        )\n",
    "        \n",
    "        _, preds = torch.max(outputs, dim=1)\n",
    "        loss = loss_fn(outputs, targets)\n",
    "        correct_predictions += torch.sum(preds == targets)\n",
    "        losses.append(loss.item())\n",
    "        \n",
    "        # Backward prop\n",
    "        loss.backward()\n",
    "        \n",
    "        # Gradient Descent\n",
    "        nn.utils.clip_grad_norm_(model.parameters(), max_norm=max_norm)\n",
    "        optimizer.step()\n",
    "        scheduler.step()\n",
    "        optimizer.zero_grad()\n",
    "    \n",
    "    return correct_predictions.double() / n_examples, np.mean(losses)"
   ]
  },
  {
   "cell_type": "code",
   "execution_count": 35,
   "metadata": {
    "execution": {
     "iopub.execute_input": "2024-06-11T08:03:03.116771Z",
     "iopub.status.busy": "2024-06-11T08:03:03.116486Z",
     "iopub.status.idle": "2024-06-11T08:03:03.131379Z",
     "shell.execute_reply": "2024-06-11T08:03:03.130485Z",
     "shell.execute_reply.started": "2024-06-11T08:03:03.116749Z"
    },
    "trusted": true
   },
   "outputs": [],
   "source": [
    "def eval_model(model, data_loader, loss_fn, device, n_examples):\n",
    "    model = model.eval()\n",
    "    \n",
    "    losses = []\n",
    "    correct_predictions = 0\n",
    "    \n",
    "    with torch.no_grad():\n",
    "        for d in data_loader:\n",
    "            input_ids = d[\"input_ids\"].to(device)\n",
    "            attention_mask = d[\"attention_mask\"].to(device)\n",
    "            targets = d[\"targets\"].to(device)\n",
    "            \n",
    "            # Get model ouptuts\n",
    "            outputs = model(\n",
    "                input_ids=input_ids,\n",
    "                attention_mask=attention_mask\n",
    "            )\n",
    "            \n",
    "            _, preds = torch.max(outputs, dim=1)\n",
    "            loss = loss_fn(outputs, targets)\n",
    "            \n",
    "            correct_predictions += torch.sum(preds == targets)\n",
    "            losses.append(loss.item())\n",
    "    \n",
    "    return correct_predictions.double() / n_examples, np.mean(losses)"
   ]
  },
  {
   "cell_type": "code",
   "execution_count": 36,
   "metadata": {
    "execution": {
     "iopub.execute_input": "2024-06-11T08:03:03.132653Z",
     "iopub.status.busy": "2024-06-11T08:03:03.132325Z",
     "iopub.status.idle": "2024-06-11T08:21:44.304130Z",
     "shell.execute_reply": "2024-06-11T08:21:44.303207Z",
     "shell.execute_reply.started": "2024-06-11T08:03:03.132628Z"
    },
    "trusted": true
   },
   "outputs": [
    {
     "name": "stdout",
     "output_type": "stream",
     "text": [
      "Epoch 1/15\n",
      "----------\n",
      "Train loss 0.9740136654840575 accuracy 0.523861407714099\n",
      "Val loss 0.7140474766492844 accuracy 0.6956521739130435\n",
      "Epoch 2/15\n",
      "----------\n",
      "Train loss 0.7244054770304097 accuracy 0.6905643931139682\n",
      "Val loss 0.6085750535130501 accuracy 0.7430830039525691\n",
      "Epoch 3/15\n",
      "----------\n",
      "Train loss 0.5169387597383724 accuracy 0.800392242318588\n",
      "Val loss 0.5048132948577404 accuracy 0.8142292490118577\n",
      "Epoch 4/15\n",
      "----------\n",
      "Train loss 0.3590649093190829 accuracy 0.8701242100675528\n",
      "Val loss 0.4905143594369292 accuracy 0.8379446640316205\n",
      "Epoch 5/15\n",
      "----------\n",
      "Train loss 0.22585381143209007 accuracy 0.9230769230769231\n",
      "Val loss 0.5519003663212061 accuracy 0.8577075098814229\n",
      "Epoch 6/15\n",
      "----------\n",
      "Train loss 0.14693002369151348 accuracy 0.950098060579647\n",
      "Val loss 0.6082328101620078 accuracy 0.8577075098814229\n",
      "Early Stop trigger\n"
     ]
    }
   ],
   "source": [
    "history = defaultdict(list)\n",
    "\n",
    "for epoch in range(EPOCHS):\n",
    "    \n",
    "    # Show details \n",
    "    print(f\"Epoch {epoch + 1}/{EPOCHS}\")\n",
    "    print(\"-\" * 10)\n",
    "    \n",
    "    train_acc, train_loss = train_epoch(\n",
    "        model,\n",
    "        train_data_loader,\n",
    "        loss_fn,\n",
    "        optimizer,\n",
    "        device,\n",
    "        scheduler,\n",
    "        len(df_train)\n",
    "    )\n",
    "    print(f\"Train loss {train_loss} accuracy {train_acc}\")\n",
    "    \n",
    "    \n",
    "    # Get model performance (accuracy and loss)\n",
    "    val_acc, val_loss = eval_model(\n",
    "        model,\n",
    "        val_data_loader,\n",
    "        loss_fn,\n",
    "        device,\n",
    "        len(df_val)\n",
    "    )\n",
    "    \n",
    "    print(f\"Val loss {val_loss} accuracy {val_acc}\")\n",
    "    \n",
    "    history['train_acc'].append(train_acc.item())\n",
    "    history['train_loss'].append(train_loss)\n",
    "    history['val_acc'].append(val_acc.item())\n",
    "    history['val_loss'].append(val_loss)\n",
    "    \n",
    "    # If we beat prev performance\n",
    "    if val_acc > best_accuracy and best_loss > val_loss:\n",
    "        model_name = f\"model_state_{epoch}.bin\"\n",
    "        torch.save(model.state_dict(), model_name)\n",
    "        best_accuracy = val_acc\n",
    "        best_loss = val_loss\n",
    "    elif(best_loss < val_loss):\n",
    "        patient_count = patient_count +1\n",
    "        if (patient_count >= patient):\n",
    "            print(\"Early Stop trigger\")\n",
    "            break;"
   ]
  },
  {
   "cell_type": "code",
   "execution_count": 38,
   "metadata": {
    "execution": {
     "iopub.execute_input": "2024-06-11T09:22:51.631421Z",
     "iopub.status.busy": "2024-06-11T09:22:51.630463Z",
     "iopub.status.idle": "2024-06-11T09:22:52.103679Z",
     "shell.execute_reply": "2024-06-11T09:22:52.102766Z",
     "shell.execute_reply.started": "2024-06-11T09:22:51.631372Z"
    },
    "trusted": true
   },
   "outputs": [
    {
     "data": {
      "image/png": "[encoded data removed]",
      "text/plain": [
       "<Figure size 1400x500 with 2 Axes>"
      ]
     },
     "metadata": {},
     "output_type": "display_data"
    }
   ],
   "source": [
    "import matplotlib.pyplot as plt\n",
    "\n",
    "# Create a figure with two subplots\n",
    "fig, (ax1, ax2) = plt.subplots(1, 2, figsize=(14, 5))\n",
    "\n",
    "# Plot training and validation loss on the first subplot (left)\n",
    "ax2.plot(history['train_loss'], label='train loss')\n",
    "ax2.plot(history['val_loss'], label='validation loss')\n",
    "ax2.set_title('Train and Valid Loss')\n",
    "ax2.set_ylabel('Loss')\n",
    "ax2.set_xlabel('Epoch')\n",
    "ax2.legend()\n",
    "ax2.set_ylim([0, 1])\n",
    "\n",
    "# Plot training and validation accuracy on the second subplot (right)\n",
    "ax1.plot(history['train_acc'], label='train accuracy')\n",
    "ax1.plot(history['val_acc'], label='validation accuracy')\n",
    "ax1.set_title('Train and Valid Accuracy')\n",
    "ax1.set_ylabel('Accuracy')\n",
    "ax1.set_xlabel('Epoch')\n",
    "ax1.legend()\n",
    "ax1.set_ylim([0, 1])\n",
    "\n",
    "# Display the plots\n",
    "plt.tight_layout()\n",
    "plt.show()\n"
   ]
  },
  {
   "cell_type": "markdown",
   "metadata": {},
   "source": [
    "# Test model"
   ]
  },
  {
   "cell_type": "code",
   "execution_count": 39,
   "metadata": {
    "execution": {
     "iopub.execute_input": "2024-06-11T08:21:44.866814Z",
     "iopub.status.busy": "2024-06-11T08:21:44.866501Z",
     "iopub.status.idle": "2024-06-11T08:21:50.968593Z",
     "shell.execute_reply": "2024-06-11T08:21:50.967616Z",
     "shell.execute_reply.started": "2024-06-11T08:21:44.866789Z"
    },
    "trusted": true
   },
   "outputs": [
    {
     "data": {
      "text/plain": [
       "0.8086785009861933"
      ]
     },
     "execution_count": 39,
     "metadata": {},
     "output_type": "execute_result"
    }
   ],
   "source": [
    "test_acc, _ = eval_model(\n",
    "  model,\n",
    "  test_data_loader,\n",
    "  loss_fn,\n",
    "  device,\n",
    "  len(df_test)\n",
    ")\n",
    "\n",
    "test_acc.item()"
   ]
  },
  {
   "cell_type": "code",
   "execution_count": null,
   "metadata": {
    "execution": {
     "iopub.execute_input": "2024-06-11T08:21:50.970024Z",
     "iopub.status.busy": "2024-06-11T08:21:50.969747Z",
     "iopub.status.idle": "2024-06-11T08:21:51.000861Z",
     "shell.execute_reply": "2024-06-11T08:21:51.000023Z",
     "shell.execute_reply.started": "2024-06-11T08:21:50.970001Z"
    },
    "trusted": true
   },
   "outputs": [
    {
     "data": {
      "text/plain": [
       "('./tokenizer_config.json',\n",
       " './special_tokens_map.json',\n",
       " './vocab.txt',\n",
       " './added_tokens.json')"
      ]
     },
     "execution_count": 41,
     "metadata": {},
     "output_type": "execute_result"
    }
   ],
   "source": [
    "# Đường dẫn để lưu tokenizer\n",
    "output_dir = \"./\"\n",
    "\n",
    "# Lưu tokenizer\n",
    "tokenizer.save_pretrained(output_dir)"
   ]
  },
  {
   "cell_type": "code",
   "execution_count": 107,
   "metadata": {
    "execution": {
     "iopub.execute_input": "2024-06-11T08:37:39.662535Z",
     "iopub.status.busy": "2024-06-11T08:37:39.661828Z",
     "iopub.status.idle": "2024-06-11T08:37:43.854988Z",
     "shell.execute_reply": "2024-06-11T08:37:43.854041Z",
     "shell.execute_reply.started": "2024-06-11T08:37:39.662496Z"
    },
    "trusted": true
   },
   "outputs": [
    {
     "data": {
      "text/plain": [
       "SentimentClassifier(\n",
       "  (bert): BertModel(\n",
       "    (embeddings): BertEmbeddings(\n",
       "      (word_embeddings): Embedding(32000, 768, padding_idx=0)\n",
       "      (position_embeddings): Embedding(512, 768)\n",
       "      (token_type_embeddings): Embedding(2, 768)\n",
       "      (LayerNorm): LayerNorm((768,), eps=1e-12, elementwise_affine=True)\n",
       "      (dropout): Dropout(p=0.1, inplace=False)\n",
       "    )\n",
       "    (encoder): BertEncoder(\n",
       "      (layer): ModuleList(\n",
       "        (0-11): 12 x BertLayer(\n",
       "          (attention): BertAttention(\n",
       "            (self): BertSdpaSelfAttention(\n",
       "              (query): Linear(in_features=768, out_features=768, bias=True)\n",
       "              (key): Linear(in_features=768, out_features=768, bias=True)\n",
       "              (value): Linear(in_features=768, out_features=768, bias=True)\n",
       "              (dropout): Dropout(p=0.1, inplace=False)\n",
       "            )\n",
       "            (output): BertSelfOutput(\n",
       "              (dense): Linear(in_features=768, out_features=768, bias=True)\n",
       "              (LayerNorm): LayerNorm((768,), eps=1e-12, elementwise_affine=True)\n",
       "              (dropout): Dropout(p=0.1, inplace=False)\n",
       "            )\n",
       "          )\n",
       "          (intermediate): BertIntermediate(\n",
       "            (dense): Linear(in_features=768, out_features=3072, bias=True)\n",
       "            (intermediate_act_fn): GELUActivation()\n",
       "          )\n",
       "          (output): BertOutput(\n",
       "            (dense): Linear(in_features=3072, out_features=768, bias=True)\n",
       "            (LayerNorm): LayerNorm((768,), eps=1e-12, elementwise_affine=True)\n",
       "            (dropout): Dropout(p=0.1, inplace=False)\n",
       "          )\n",
       "        )\n",
       "      )\n",
       "    )\n",
       "    (pooler): BertPooler(\n",
       "      (dense): Linear(in_features=768, out_features=768, bias=True)\n",
       "      (activation): Tanh()\n",
       "    )\n",
       "  )\n",
       "  (drop): Dropout(p=0.5, inplace=False)\n",
       "  (out): Linear(in_features=768, out_features=3, bias=True)\n",
       ")"
      ]
     },
     "execution_count": 107,
     "metadata": {},
     "output_type": "execute_result"
    }
   ],
   "source": [
    "import os\n",
    "from transformers import BertTokenizer, BertConfig, BertModel\n",
    "MODEL_NAME = \"trituenhantaoio/bert-base-vietnamese-uncased\"\n",
    "# Tải cấu hình của mô hình từ tệp config.json\n",
    "config = BertConfig.from_pretrained(MODEL_NAME)\n",
    "\n",
    "# Tải tokenizer từ thư mục chứa các tệp nhị phân đã lưu trữ\n",
    "tokenizer = BertTokenizer.from_pretrained(MODEL_NAME)\n",
    "\n",
    "# Tải mô hình từ thư mục chứa các tệp nhị phân đã lưu trữ\n",
    "model_bert_sentiment = SentimentClassifier(n_classes = n_classes)\n",
    "model_bert_sentiment.load_state_dict(torch.load('model_state_3.bin'))\n",
    "\n",
    "# Đảm bảo mô hình ở chế độ evaluation\n",
    "model_bert_sentiment.eval()\n",
    "if torch.cuda.is_available():\n",
    "    device = torch.device(\"cuda\")\n",
    "else:\n",
    "    device = torch.device(\"cpu\")\n",
    "\n",
    "model_bert_sentiment.to(device)"
   ]
  },
  {
   "cell_type": "code",
   "execution_count": 108,
   "metadata": {
    "execution": {
     "iopub.execute_input": "2024-06-11T08:37:48.961598Z",
     "iopub.status.busy": "2024-06-11T08:37:48.960974Z",
     "iopub.status.idle": "2024-06-11T08:37:55.084003Z",
     "shell.execute_reply": "2024-06-11T08:37:55.083202Z",
     "shell.execute_reply.started": "2024-06-11T08:37:48.961565Z"
    },
    "trusted": true
   },
   "outputs": [
    {
     "data": {
      "text/plain": [
       "0.7731755424063117"
      ]
     },
     "execution_count": 108,
     "metadata": {},
     "output_type": "execute_result"
    }
   ],
   "source": [
    "test_acc, _ = eval_model(\n",
    "  model_bert_sentiment,\n",
    "  test_data_loader,\n",
    "  loss_fn,\n",
    "  device,\n",
    "  len(df_test)\n",
    ")\n",
    "\n",
    "test_acc.item()"
   ]
  },
  {
   "cell_type": "code",
   "execution_count": 109,
   "metadata": {
    "execution": {
     "iopub.execute_input": "2024-06-11T08:37:57.720941Z",
     "iopub.status.busy": "2024-06-11T08:37:57.720065Z",
     "iopub.status.idle": "2024-06-11T08:37:57.729025Z",
     "shell.execute_reply": "2024-06-11T08:37:57.727986Z",
     "shell.execute_reply.started": "2024-06-11T08:37:57.720895Z"
    },
    "trusted": true
   },
   "outputs": [],
   "source": [
    "def get_predictions(model, data_loader):\n",
    "    model = model.eval()\n",
    "\n",
    "    review_texts = []\n",
    "    predictions = []\n",
    "    prediction_probs = []\n",
    "    real_values = []\n",
    "\n",
    "    with torch.no_grad():\n",
    "        for d in data_loader:\n",
    "            texts = d[\"review_text\"]\n",
    "            input_ids = d[\"input_ids\"].to(device)\n",
    "            attention_mask = d[\"attention_mask\"].to(device)\n",
    "            targets = d[\"targets\"].to(device)\n",
    "\n",
    "            # Get outouts\n",
    "            outputs = model(\n",
    "                input_ids=input_ids,\n",
    "                attention_mask=attention_mask\n",
    "            )\n",
    "            _, preds = torch.max(outputs, dim=1)\n",
    "\n",
    "            review_texts.extend(texts)\n",
    "            predictions.extend(preds)\n",
    "            prediction_probs.extend(outputs)\n",
    "            real_values.extend(targets)\n",
    "\n",
    "    predictions = torch.stack(predictions).cpu()\n",
    "    prediction_probs = torch.stack(prediction_probs).cpu()\n",
    "    real_values = torch.stack(real_values).cpu()\n",
    "\n",
    "    return review_texts, predictions, prediction_probs, real_values"
   ]
  },
  {
   "cell_type": "code",
   "execution_count": 110,
   "metadata": {
    "execution": {
     "iopub.execute_input": "2024-06-11T08:38:01.883157Z",
     "iopub.status.busy": "2024-06-11T08:38:01.882489Z",
     "iopub.status.idle": "2024-06-11T08:38:06.833999Z",
     "shell.execute_reply": "2024-06-11T08:38:06.833123Z",
     "shell.execute_reply.started": "2024-06-11T08:38:01.883128Z"
    },
    "trusted": true
   },
   "outputs": [],
   "source": [
    "y_review_texts, y_pred, y_pred_probs, y_test = get_predictions(\n",
    "    model_bert_sentiment,\n",
    "    test_data_loader\n",
    ")"
   ]
  },
  {
   "cell_type": "code",
   "execution_count": 111,
   "metadata": {
    "execution": {
     "iopub.execute_input": "2024-06-11T08:38:06.836309Z",
     "iopub.status.busy": "2024-06-11T08:38:06.835699Z",
     "iopub.status.idle": "2024-06-11T08:38:06.851654Z",
     "shell.execute_reply": "2024-06-11T08:38:06.850661Z",
     "shell.execute_reply.started": "2024-06-11T08:38:06.836273Z"
    },
    "trusted": true
   },
   "outputs": [
    {
     "name": "stdout",
     "output_type": "stream",
     "text": [
      "              precision    recall  f1-score   support\n",
      "\n",
      "         NEU       0.74      0.74      0.74       170\n",
      "         POS       0.74      0.86      0.80       167\n",
      "         NEG       0.86      0.72      0.79       170\n",
      "\n",
      "    accuracy                           0.77       507\n",
      "   macro avg       0.78      0.77      0.77       507\n",
      "weighted avg       0.78      0.77      0.77       507\n",
      "\n"
     ]
    }
   ],
   "source": [
    "print(classification_report(y_test, y_pred, target_names=class_names))"
   ]
  },
  {
   "cell_type": "code",
   "execution_count": 114,
   "metadata": {
    "execution": {
     "iopub.execute_input": "2024-06-11T08:38:10.448906Z",
     "iopub.status.busy": "2024-06-11T08:38:10.448511Z",
     "iopub.status.idle": "2024-06-11T08:38:10.795070Z",
     "shell.execute_reply": "2024-06-11T08:38:10.793591Z",
     "shell.execute_reply.started": "2024-06-11T08:38:10.448877Z"
    },
    "trusted": true
   },
   "outputs": [
    {
     "data": {
      "image/png": "[encoded data removed]",
      "text/plain": [
       "<Figure size 640x480 with 2 Axes>"
      ]
     },
     "metadata": {},
     "output_type": "display_data"
    }
   ],
   "source": [
    "def show_confusion_matrix(confusion_matrix):\n",
    "    hmap = sns.heatmap(confusion_matrix, annot=True, fmt=\"d\", cmap=\"Blues\")\n",
    "    hmap.yaxis.set_ticklabels(hmap.yaxis.get_ticklabels(), rotation=0, ha='right')\n",
    "    hmap.xaxis.set_ticklabels(hmap.xaxis.get_ticklabels(), rotation=30, ha='right')\n",
    "    plt.ylabel('True sentiment')\n",
    "    plt.xlabel('Predicted sentiment');\n",
    "\n",
    "cm = confusion_matrix(y_test, y_pred)\n",
    "df_cm = pd.DataFrame(cm, index=class_names, columns=class_names)\n",
    "show_confusion_matrix(df_cm)"
   ]
  },
  {
   "cell_type": "code",
   "execution_count": 115,
   "metadata": {
    "execution": {
     "iopub.execute_input": "2024-06-11T08:22:03.450301Z",
     "iopub.status.busy": "2024-06-11T08:22:03.450058Z",
     "iopub.status.idle": "2024-06-11T08:22:03.454447Z",
     "shell.execute_reply": "2024-06-11T08:22:03.453601Z",
     "shell.execute_reply.started": "2024-06-11T08:22:03.450280Z"
    },
    "id": "S4CWFF0MEzV9",
    "trusted": true
   },
   "outputs": [],
   "source": [
    "review_text = \"Sản phẩm này cũng bình thường, xài cũng được, không tốt không xấu\""
   ]
  },
  {
   "cell_type": "code",
   "execution_count": 116,
   "metadata": {
    "execution": {
     "iopub.execute_input": "2024-06-11T08:22:03.455787Z",
     "iopub.status.busy": "2024-06-11T08:22:03.455517Z",
     "iopub.status.idle": "2024-06-11T08:22:03.468939Z",
     "shell.execute_reply": "2024-06-11T08:22:03.468127Z",
     "shell.execute_reply.started": "2024-06-11T08:22:03.455765Z"
    },
    "id": "TOelFhlsSiK2",
    "trusted": true
   },
   "outputs": [],
   "source": [
    "encoded_review = tokenizer.encode_plus(\n",
    "    review_text,\n",
    "    max_length=MAX_LEN,\n",
    "    add_special_tokens=True,\n",
    "    return_token_type_ids=False,\n",
    "    pad_to_max_length=True,\n",
    "    return_attention_mask=True,\n",
    "    return_tensors='pt',\n",
    "    truncation=True\n",
    ")"
   ]
  },
  {
   "cell_type": "code",
   "execution_count": 117,
   "metadata": {
    "execution": {
     "iopub.execute_input": "2024-06-11T08:22:03.470133Z",
     "iopub.status.busy": "2024-06-11T08:22:03.469882Z",
     "iopub.status.idle": "2024-06-11T08:22:03.513203Z",
     "shell.execute_reply": "2024-06-11T08:22:03.512424Z",
     "shell.execute_reply.started": "2024-06-11T08:22:03.470112Z"
    },
    "id": "3LZm3Ag0WGpi",
    "outputId": "adc38462-7a4a-4554-c856-f8af32c3c8c2",
    "trusted": true
   },
   "outputs": [
    {
     "name": "stdout",
     "output_type": "stream",
     "text": [
      "NEU probability: 0.0065\n",
      "POS probability: 0.0116\n",
      "NEG probability: 0.9818\n",
      "Review text: Sản phẩm này cũng bình thường, xài cũng được, không tốt không xấu\n",
      "Sentiment  : NEG\n"
     ]
    }
   ],
   "source": [
    "import torch.nn.functional as F\n",
    "\n",
    "input_ids = encoded_review['input_ids'].to('cuda')\n",
    "attention_mask = encoded_review['attention_mask'].to('cuda')\n",
    "\n",
    "output = model_bert_sentiment(input_ids, attention_mask)\n",
    "_, prediction = torch.max(output, dim=1)\n",
    "\n",
    "\n",
    "probs = F.softmax(output, dim=1)\n",
    "\n",
    "for i, class_name in enumerate(class_names):\n",
    "    print(f'{class_name} probability: {probs[0][i].item():.4f}')\n",
    "\n",
    "# In ra review text và nhãn dự đoán\n",
    "print(f'Review text: {review_text}')\n",
    "print(f'Sentiment  : {class_names[prediction]}')\n"
   ]
  },
  {
   "cell_type": "markdown",
   "metadata": {},
   "source": [
    "# Real test"
   ]
  },
  {
   "cell_type": "code",
   "execution_count": 118,
   "metadata": {},
   "outputs": [],
   "source": [
    "test_dataset = pd.read_csv(TEST_DATASET_PATH,  on_bad_lines='skip', delimiter=\"\\t\")"
   ]
  },
  {
   "cell_type": "code",
   "execution_count": 119,
   "metadata": {},
   "outputs": [],
   "source": [
    "test_dataset[\"Class\"] = test_dataset[\"Class\"].map(map_label)"
   ]
  },
  {
   "cell_type": "code",
   "execution_count": 120,
   "metadata": {},
   "outputs": [],
   "source": [
    "real_test_data_loader = create_data_loader(test_dataset, tokenizer, MAX_LEN, BATCH_SIZE)"
   ]
  },
  {
   "cell_type": "code",
   "execution_count": 121,
   "metadata": {},
   "outputs": [
    {
     "name": "stderr",
     "output_type": "stream",
     "text": [
      "Truncation was not explicitly activated but `max_length` is provided a specific value, please use `truncation=True` to explicitly truncate examples to max length. Defaulting to 'longest_first' truncation strategy. If you encode pairs of sequences (GLUE-style) with the tokenizer you can select this strategy more precisely by providing a specific strategy to `truncation`.\n"
     ]
    }
   ],
   "source": [
    "y_review_texts, y_pred, y_pred_probs, y_test = get_predictions(\n",
    "    model_bert_sentiment,\n",
    "    real_test_data_loader\n",
    ")"
   ]
  },
  {
   "cell_type": "code",
   "execution_count": 122,
   "metadata": {},
   "outputs": [
    {
     "name": "stdout",
     "output_type": "stream",
     "text": [
      "              precision    recall  f1-score   support\n",
      "\n",
      "         NEU       0.66      0.58      0.62       350\n",
      "         POS       0.64      0.79      0.71       350\n",
      "         NEG       0.66      0.59      0.62       350\n",
      "\n",
      "    accuracy                           0.65      1050\n",
      "   macro avg       0.65      0.65      0.65      1050\n",
      "weighted avg       0.65      0.65      0.65      1050\n",
      "\n"
     ]
    }
   ],
   "source": [
    "print(classification_report(y_test, y_pred, target_names=class_names))"
   ]
  },
  {
   "cell_type": "code",
   "execution_count": 129,
   "metadata": {},
   "outputs": [
    {
     "data": {
      "image/png": "[encoded data removed]",
      "text/plain": [
       "<Figure size 640x480 with 2 Axes>"
      ]
     },
     "metadata": {},
     "output_type": "display_data"
    }
   ],
   "source": [
    "def show_confusion_matrix(confusion_matrix):\n",
    "    hmap = sns.heatmap(confusion_matrix, annot=True, fmt=\"d\", cmap=\"Blues\")\n",
    "    hmap.yaxis.set_ticklabels(hmap.yaxis.get_ticklabels(), rotation=0, ha='right')\n",
    "    hmap.xaxis.set_ticklabels(hmap.xaxis.get_ticklabels(), rotation=30, ha='right')\n",
    "    plt.ylabel('True sentiment')\n",
    "    plt.xlabel('Predicted sentiment')\n",
    "\n",
    "cm = confusion_matrix(y_test, y_pred)\n",
    "df_cm = pd.DataFrame(cm, index=class_names, columns=class_names)\n",
    "show_confusion_matrix(df_cm)"
   ]
  },
  {
   "cell_type": "code",
   "execution_count": 124,
   "metadata": {},
   "outputs": [],
   "source": [
    "def calculate_accuracy(y_test, y_pred):\n",
    "    \"\"\"\n",
    "    Calculate the accuracy given ground truth labels and predictions.\n",
    "\n",
    "    Args:\n",
    "        y_test (torch.Tensor): Ground truth labels.\n",
    "        y_pred (torch.Tensor): Predicted labels.\n",
    "\n",
    "    Returns:\n",
    "        float: Accuracy as a percentage.\n",
    "    \"\"\"\n",
    "    # Ensure both tensors are on the same device\n",
    "    y_test = y_test.to(y_pred.device)\n",
    "    \n",
    "    # Compare predictions with ground truth and calculate accuracy\n",
    "    correct = (y_test == y_pred).sum().item()\n",
    "    total = y_test.size(0)\n",
    "    accuracy = correct / total * 100  # Convert to percentage\n",
    "    return accuracy\n"
   ]
  },
  {
   "cell_type": "code",
   "execution_count": 125,
   "metadata": {},
   "outputs": [
    {
     "name": "stdout",
     "output_type": "stream",
     "text": [
      "Accuracy: 65.24%\n"
     ]
    }
   ],
   "source": [
    "accuracy = calculate_accuracy(y_test, y_pred)\n",
    "print(f\"Accuracy: {accuracy:.2f}%\")"
   ]
  },
  {
   "cell_type": "markdown",
   "metadata": {},
   "source": [
    "# **RCNN**"
   ]
  },
  {
   "cell_type": "code",
   "execution_count": 126,
   "metadata": {
    "execution": {
     "iopub.execute_input": "2024-06-11T08:22:03.514451Z",
     "iopub.status.busy": "2024-06-11T08:22:03.514158Z",
     "iopub.status.idle": "2024-06-11T08:22:14.318370Z",
     "shell.execute_reply": "2024-06-11T08:22:14.317410Z",
     "shell.execute_reply.started": "2024-06-11T08:22:03.514396Z"
    },
    "trusted": true
   },
   "outputs": [
    {
     "name": "stdout",
     "output_type": "stream",
     "text": [
      "2.11.0\n",
      "2.11.0\n"
     ]
    }
   ],
   "source": [
    "import tensorflow as tf\n",
    "print(tf.keras.__version__)\n",
    "print(tf.__version__)"
   ]
  },
  {
   "cell_type": "code",
   "execution_count": 127,
   "metadata": {
    "execution": {
     "iopub.execute_input": "2024-06-11T08:22:14.320292Z",
     "iopub.status.busy": "2024-06-11T08:22:14.319645Z",
     "iopub.status.idle": "2024-06-11T08:22:34.644031Z",
     "shell.execute_reply": "2024-06-11T08:22:34.643185Z",
     "shell.execute_reply.started": "2024-06-11T08:22:14.320264Z"
    },
    "trusted": true
   },
   "outputs": [],
   "source": [
    "from tensorflow.keras.preprocessing.text import Tokenizer\n",
    "from tensorflow.keras.preprocessing.sequence import pad_sequences\n",
    "import pandas as pd\n",
    "import re\n",
    "import string\n",
    "from tqdm import tqdm\n",
    "import numpy as np\n",
    "import os \n",
    "import gensim\n",
    "from gensim.models import KeyedVectors\n",
    "import sklearn\n",
    "from sklearn.model_selection import train_test_split\n",
    "from sklearn.feature_extraction.text import TfidfVectorizer, CountVectorizer\n",
    "import sklearn.metrics as metrics\n",
    "from sklearn.decomposition import TruncatedSVD\n",
    "from sklearn.svm import SVC \n",
    "from sklearn.ensemble import RandomForestClassifier\n",
    "from sklearn.preprocessing import LabelEncoder\n",
    "from keras.models import Sequential\n",
    "from keras.layers import Embedding, Conv1D, GlobalMaxPooling1D, Dense, Dropout, Flatten, LSTM, Conv1D, MaxPooling1D, Input, Reshape, GRU, Bidirectional, Convolution1D\n",
    "from keras import Model, models, optimizers"
   ]
  },
  {
   "cell_type": "code",
   "execution_count": 131,
   "metadata": {
    "execution": {
     "iopub.execute_input": "2024-06-11T08:22:34.645425Z",
     "iopub.status.busy": "2024-06-11T08:22:34.645145Z",
     "iopub.status.idle": "2024-06-11T08:22:34.695011Z",
     "shell.execute_reply": "2024-06-11T08:22:34.694271Z",
     "shell.execute_reply.started": "2024-06-11T08:22:34.645400Z"
    },
    "trusted": true
   },
   "outputs": [],
   "source": [
    "df_train = pd.read_csv('./train.csv')\n",
    "df_val = pd.read_csv(\"./val.csv\")\n",
    "df_test = pd.read_csv(\"./test.csv\")"
   ]
  },
  {
   "cell_type": "code",
   "execution_count": 133,
   "metadata": {
    "execution": {
     "iopub.execute_input": "2024-06-11T08:22:46.909498Z",
     "iopub.status.busy": "2024-06-11T08:22:46.909172Z",
     "iopub.status.idle": "2024-06-11T08:22:46.915420Z",
     "shell.execute_reply": "2024-06-11T08:22:46.914623Z",
     "shell.execute_reply.started": "2024-06-11T08:22:46.909470Z"
    },
    "trusted": true
   },
   "outputs": [],
   "source": [
    "from pyvi import ViTokenizer\n",
    "def TokenizingText(text):\n",
    "    return ViTokenizer.tokenize(text)"
   ]
  },
  {
   "cell_type": "code",
   "execution_count": 135,
   "metadata": {
    "execution": {
     "iopub.execute_input": "2024-06-11T08:22:46.916861Z",
     "iopub.status.busy": "2024-06-11T08:22:46.916578Z",
     "iopub.status.idle": "2024-06-11T08:22:51.318372Z",
     "shell.execute_reply": "2024-06-11T08:22:51.317603Z",
     "shell.execute_reply.started": "2024-06-11T08:22:46.916838Z"
    },
    "trusted": true
   },
   "outputs": [],
   "source": [
    "df_train['Data']= df_train['Data'].apply(TokenizingText)\n",
    "df_val['Data']= df_val['Data'].apply(TokenizingText)\n",
    "df_test['Data']= df_test['Data'].apply(TokenizingText)"
   ]
  },
  {
   "cell_type": "code",
   "execution_count": 136,
   "metadata": {
    "execution": {
     "iopub.execute_input": "2024-06-11T08:22:51.319822Z",
     "iopub.status.busy": "2024-06-11T08:22:51.319517Z",
     "iopub.status.idle": "2024-06-11T08:22:51.325343Z",
     "shell.execute_reply": "2024-06-11T08:22:51.324452Z",
     "shell.execute_reply.started": "2024-06-11T08:22:51.319796Z"
    },
    "trusted": true
   },
   "outputs": [],
   "source": [
    "X_train = df_train['Data']\n",
    "X_val = df_val['Data']\n",
    "X_test = df_test['Data']\n",
    "\n",
    "Y_train = df_train['Class']\n",
    "Y_val = df_val['Class']\n",
    "Y_test = df_test['Class']"
   ]
  },
  {
   "cell_type": "code",
   "execution_count": 137,
   "metadata": {
    "execution": {
     "iopub.execute_input": "2024-06-11T08:22:51.326767Z",
     "iopub.status.busy": "2024-06-11T08:22:51.326416Z",
     "iopub.status.idle": "2024-06-11T08:22:52.001189Z",
     "shell.execute_reply": "2024-06-11T08:22:52.000389Z",
     "shell.execute_reply.started": "2024-06-11T08:22:51.326745Z"
    },
    "trusted": true
   },
   "outputs": [],
   "source": [
    "tfidf_vect = TfidfVectorizer(analyzer='word', max_features=30000)\n",
    "tfidf_vect.fit(X_train) \n",
    "X_train_tfidf =  tfidf_vect.transform(X_train)\n",
    "X_val_tfidf =  tfidf_vect.transform(X_val)\n",
    "X_test_tfidf =  tfidf_vect.transform(X_test)"
   ]
  },
  {
   "cell_type": "code",
   "execution_count": 138,
   "metadata": {
    "execution": {
     "iopub.execute_input": "2024-06-11T08:22:52.002458Z",
     "iopub.status.busy": "2024-06-11T08:22:52.002186Z",
     "iopub.status.idle": "2024-06-11T08:22:55.650772Z",
     "shell.execute_reply": "2024-06-11T08:22:55.649976Z",
     "shell.execute_reply.started": "2024-06-11T08:22:52.002435Z"
    },
    "trusted": true
   },
   "outputs": [],
   "source": [
    "svd = TruncatedSVD(n_components=300, random_state=42)\n",
    "svd.fit(X_train_tfidf)\n",
    "X_train_tfidf_svd = svd.transform(X_train_tfidf)\n",
    "X_val_tfidf_svd = svd.transform(X_val_tfidf)\n",
    "X_test_tfidf_svd = svd.transform(X_test_tfidf)"
   ]
  },
  {
   "cell_type": "code",
   "execution_count": 139,
   "metadata": {
    "execution": {
     "iopub.execute_input": "2024-06-11T08:22:55.652706Z",
     "iopub.status.busy": "2024-06-11T08:22:55.652068Z",
     "iopub.status.idle": "2024-06-11T08:22:56.020625Z",
     "shell.execute_reply": "2024-06-11T08:22:56.019543Z",
     "shell.execute_reply.started": "2024-06-11T08:22:55.652669Z"
    },
    "trusted": true
   },
   "outputs": [],
   "source": [
    "tf.keras.backend.clear_session()"
   ]
  },
  {
   "cell_type": "code",
   "execution_count": 156,
   "metadata": {
    "execution": {
     "iopub.execute_input": "2024-06-11T08:22:56.022163Z",
     "iopub.status.busy": "2024-06-11T08:22:56.021864Z"
    },
    "trusted": true
   },
   "outputs": [
    {
     "name": "stdout",
     "output_type": "stream",
     "text": [
      "WARNING:tensorflow:Layer gru_1 will not use cuDNN kernels since it doesn't meet the criteria. It will use a generic GPU kernel as fallback when running on GPU.\n",
      "WARNING:tensorflow:Layer gru_1 will not use cuDNN kernels since it doesn't meet the criteria. It will use a generic GPU kernel as fallback when running on GPU.\n",
      "WARNING:tensorflow:Layer gru_1 will not use cuDNN kernels since it doesn't meet the criteria. It will use a generic GPU kernel as fallback when running on GPU.\n",
      "Model: \"sequential_1\"\n",
      "_________________________________________________________________\n",
      " Layer (type)                Output Shape              Param #   \n",
      "=================================================================\n",
      " reshape_1 (Reshape)         (None, 10, 30)            0         \n",
      "                                                                 \n",
      " bidirectional_1 (Bidirectio  (None, 10, 256)          122880    \n",
      " nal)                                                            \n",
      "                                                                 \n",
      " conv1d_1 (Conv1D)           (None, 8, 100)            76900     \n",
      "                                                                 \n",
      " flatten_1 (Flatten)         (None, 800)               0         \n",
      "                                                                 \n",
      " dense_4 (Dense)             (None, 512)               410112    \n",
      "                                                                 \n",
      " dense_5 (Dense)             (None, 512)               262656    \n",
      "                                                                 \n",
      " dense_6 (Dense)             (None, 128)               65664     \n",
      "                                                                 \n",
      " dense_7 (Dense)             (None, 3)                 387       \n",
      "                                                                 \n",
      "=================================================================\n",
      "Total params: 938,599\n",
      "Trainable params: 938,599\n",
      "Non-trainable params: 0\n",
      "_________________________________________________________________\n",
      "Epoch 1/5\n",
      "\n",
      "Epoch 1: saving model to model_weights-01.weights.h5\n",
      " 1/72 [..............................] - ETA: 2:32 - loss: 1.0982 - accuracy: 0.3750\n",
      "Epoch 1: saving model to model_weights-01.weights.h5\n",
      " 2/72 [..............................] - ETA: 5s - loss: 1.0991 - accuracy: 0.3281  \n",
      "Epoch 1: saving model to model_weights-01.weights.h5\n",
      " 3/72 [>.............................] - ETA: 5s - loss: 1.0986 - accuracy: 0.3542\n",
      "Epoch 1: saving model to model_weights-01.weights.h5\n",
      " 4/72 [>.............................] - ETA: 6s - loss: 1.0973 - accuracy: 0.3789\n",
      "Epoch 1: saving model to model_weights-01.weights.h5\n",
      " 5/72 [=>............................] - ETA: 6s - loss: 1.0986 - accuracy: 0.3688\n",
      "Epoch 1: saving model to model_weights-01.weights.h5\n",
      " 6/72 [=>............................] - ETA: 5s - loss: 1.1001 - accuracy: 0.3490\n",
      "Epoch 1: saving model to model_weights-01.weights.h5\n",
      " 7/72 [=>............................] - ETA: 5s - loss: 1.0998 - accuracy: 0.3482\n",
      "Epoch 1: saving model to model_weights-01.weights.h5\n",
      " 8/72 [==>...........................] - ETA: 5s - loss: 1.0998 - accuracy: 0.3438\n",
      "Epoch 1: saving model to model_weights-01.weights.h5\n",
      " 9/72 [==>...........................] - ETA: 5s - loss: 1.0992 - accuracy: 0.3524\n",
      "Epoch 1: saving model to model_weights-01.weights.h5\n",
      "10/72 [===>..........................] - ETA: 4s - loss: 1.0993 - accuracy: 0.3453\n",
      "Epoch 1: saving model to model_weights-01.weights.h5\n",
      "11/72 [===>..........................] - ETA: 4s - loss: 1.0992 - accuracy: 0.3381\n",
      "Epoch 1: saving model to model_weights-01.weights.h5\n",
      "12/72 [====>.........................] - ETA: 4s - loss: 1.0993 - accuracy: 0.3372\n",
      "Epoch 1: saving model to model_weights-01.weights.h5\n",
      "13/72 [====>.........................] - ETA: 4s - loss: 1.0993 - accuracy: 0.3341\n",
      "Epoch 1: saving model to model_weights-01.weights.h5\n",
      "14/72 [====>.........................] - ETA: 4s - loss: 1.0991 - accuracy: 0.3359\n",
      "Epoch 1: saving model to model_weights-01.weights.h5\n",
      "15/72 [=====>........................] - ETA: 4s - loss: 1.0991 - accuracy: 0.3333\n",
      "Epoch 1: saving model to model_weights-01.weights.h5\n",
      "16/72 [=====>........................] - ETA: 4s - loss: 1.0993 - accuracy: 0.3262\n",
      "Epoch 1: saving model to model_weights-01.weights.h5\n",
      "17/72 [======>.......................] - ETA: 4s - loss: 1.0991 - accuracy: 0.3309\n",
      "Epoch 1: saving model to model_weights-01.weights.h5\n",
      "18/72 [======>.......................] - ETA: 4s - loss: 1.0992 - accuracy: 0.3307\n",
      "Epoch 1: saving model to model_weights-01.weights.h5\n",
      "19/72 [======>.......................] - ETA: 4s - loss: 1.0988 - accuracy: 0.3347\n",
      "Epoch 1: saving model to model_weights-01.weights.h5\n",
      "20/72 [=======>......................] - ETA: 3s - loss: 1.0988 - accuracy: 0.3359\n",
      "Epoch 1: saving model to model_weights-01.weights.h5\n",
      "21/72 [=======>......................] - ETA: 3s - loss: 1.0988 - accuracy: 0.3378\n",
      "Epoch 1: saving model to model_weights-01.weights.h5\n",
      "22/72 [========>.....................] - ETA: 3s - loss: 1.0988 - accuracy: 0.3374\n",
      "Epoch 1: saving model to model_weights-01.weights.h5\n",
      "23/72 [========>.....................] - ETA: 3s - loss: 1.0986 - accuracy: 0.3404\n",
      "Epoch 1: saving model to model_weights-01.weights.h5\n",
      "24/72 [=========>....................] - ETA: 3s - loss: 1.0984 - accuracy: 0.3392\n",
      "Epoch 1: saving model to model_weights-01.weights.h5\n",
      "25/72 [=========>....................] - ETA: 3s - loss: 1.0981 - accuracy: 0.3425\n",
      "Epoch 1: saving model to model_weights-01.weights.h5\n",
      "26/72 [=========>....................] - ETA: 3s - loss: 1.0979 - accuracy: 0.3438\n",
      "Epoch 1: saving model to model_weights-01.weights.h5\n",
      "27/72 [==========>...................] - ETA: 3s - loss: 1.0979 - accuracy: 0.3449\n",
      "Epoch 1: saving model to model_weights-01.weights.h5\n",
      "28/72 [==========>...................] - ETA: 3s - loss: 1.0973 - accuracy: 0.3493\n",
      "Epoch 1: saving model to model_weights-01.weights.h5\n",
      "29/72 [===========>..................] - ETA: 3s - loss: 1.0970 - accuracy: 0.3491\n",
      "Epoch 1: saving model to model_weights-01.weights.h5\n",
      "30/72 [===========>..................] - ETA: 3s - loss: 1.0967 - accuracy: 0.3484\n",
      "Epoch 1: saving model to model_weights-01.weights.h5\n",
      "31/72 [===========>..................] - ETA: 3s - loss: 1.0964 - accuracy: 0.3503\n",
      "Epoch 1: saving model to model_weights-01.weights.h5\n",
      "32/72 [============>.................] - ETA: 3s - loss: 1.0958 - accuracy: 0.3525\n",
      "Epoch 1: saving model to model_weights-01.weights.h5\n",
      "33/72 [============>.................] - ETA: 2s - loss: 1.0951 - accuracy: 0.3527\n",
      "Epoch 1: saving model to model_weights-01.weights.h5\n",
      "34/72 [=============>................] - ETA: 2s - loss: 1.0939 - accuracy: 0.3543\n",
      "Epoch 1: saving model to model_weights-01.weights.h5\n",
      "35/72 [=============>................] - ETA: 2s - loss: 1.0928 - accuracy: 0.3545\n",
      "Epoch 1: saving model to model_weights-01.weights.h5\n",
      "36/72 [==============>...............] - ETA: 2s - loss: 1.0921 - accuracy: 0.3546\n",
      "Epoch 1: saving model to model_weights-01.weights.h5\n",
      "37/72 [==============>...............] - ETA: 2s - loss: 1.0898 - accuracy: 0.3564\n",
      "Epoch 1: saving model to model_weights-01.weights.h5\n",
      "38/72 [==============>...............] - ETA: 2s - loss: 1.0889 - accuracy: 0.3577\n",
      "Epoch 1: saving model to model_weights-01.weights.h5\n",
      "39/72 [===============>..............] - ETA: 2s - loss: 1.0867 - accuracy: 0.3638\n",
      "Epoch 1: saving model to model_weights-01.weights.h5\n",
      "40/72 [===============>..............] - ETA: 2s - loss: 1.0836 - accuracy: 0.3676\n",
      "Epoch 1: saving model to model_weights-01.weights.h5\n",
      "41/72 [================>.............] - ETA: 2s - loss: 1.0819 - accuracy: 0.3678\n",
      "Epoch 1: saving model to model_weights-01.weights.h5\n",
      "42/72 [================>.............] - ETA: 2s - loss: 1.0782 - accuracy: 0.3728\n",
      "Epoch 1: saving model to model_weights-01.weights.h5\n",
      "43/72 [================>.............] - ETA: 2s - loss: 1.0805 - accuracy: 0.3739\n",
      "Epoch 1: saving model to model_weights-01.weights.h5\n",
      "44/72 [=================>............] - ETA: 2s - loss: 1.0776 - accuracy: 0.3739\n",
      "Epoch 1: saving model to model_weights-01.weights.h5\n",
      "45/72 [=================>............] - ETA: 2s - loss: 1.0760 - accuracy: 0.3753\n",
      "Epoch 1: saving model to model_weights-01.weights.h5\n",
      "46/72 [==================>...........] - ETA: 1s - loss: 1.0741 - accuracy: 0.3801\n",
      "Epoch 1: saving model to model_weights-01.weights.h5\n",
      "47/72 [==================>...........] - ETA: 1s - loss: 1.0713 - accuracy: 0.3836\n",
      "Epoch 1: saving model to model_weights-01.weights.h5\n",
      "48/72 [===================>..........] - ETA: 1s - loss: 1.0700 - accuracy: 0.3851\n",
      "Epoch 1: saving model to model_weights-01.weights.h5\n",
      "49/72 [===================>..........] - ETA: 1s - loss: 1.0684 - accuracy: 0.3871\n",
      "Epoch 1: saving model to model_weights-01.weights.h5\n",
      "50/72 [===================>..........] - ETA: 1s - loss: 1.0660 - accuracy: 0.3884\n",
      "Epoch 1: saving model to model_weights-01.weights.h5\n",
      "51/72 [====================>.........] - ETA: 1s - loss: 1.0660 - accuracy: 0.3897\n",
      "Epoch 1: saving model to model_weights-01.weights.h5\n",
      "52/72 [====================>.........] - ETA: 1s - loss: 1.0651 - accuracy: 0.3909\n",
      "Epoch 1: saving model to model_weights-01.weights.h5\n",
      "53/72 [=====================>........] - ETA: 1s - loss: 1.0629 - accuracy: 0.3936\n",
      "Epoch 1: saving model to model_weights-01.weights.h5\n",
      "54/72 [=====================>........] - ETA: 1s - loss: 1.0608 - accuracy: 0.3970\n",
      "Epoch 1: saving model to model_weights-01.weights.h5\n",
      "55/72 [=====================>........] - ETA: 1s - loss: 1.0602 - accuracy: 0.3994\n",
      "Epoch 1: saving model to model_weights-01.weights.h5\n",
      "56/72 [======================>.......] - ETA: 1s - loss: 1.0591 - accuracy: 0.4009\n",
      "Epoch 1: saving model to model_weights-01.weights.h5\n",
      "57/72 [======================>.......] - ETA: 1s - loss: 1.0564 - accuracy: 0.4030\n",
      "Epoch 1: saving model to model_weights-01.weights.h5\n",
      "58/72 [=======================>......] - ETA: 1s - loss: 1.0534 - accuracy: 0.4052\n",
      "Epoch 1: saving model to model_weights-01.weights.h5\n",
      "59/72 [=======================>......] - ETA: 0s - loss: 1.0507 - accuracy: 0.4073\n",
      "Epoch 1: saving model to model_weights-01.weights.h5\n",
      "60/72 [========================>.....] - ETA: 0s - loss: 1.0483 - accuracy: 0.4109\n",
      "Epoch 1: saving model to model_weights-01.weights.h5\n",
      "61/72 [========================>.....] - ETA: 0s - loss: 1.0480 - accuracy: 0.4121\n",
      "Epoch 1: saving model to model_weights-01.weights.h5\n",
      "62/72 [========================>.....] - ETA: 0s - loss: 1.0465 - accuracy: 0.4143\n",
      "Epoch 1: saving model to model_weights-01.weights.h5\n",
      "63/72 [=========================>....] - ETA: 0s - loss: 1.0448 - accuracy: 0.4152\n",
      "Epoch 1: saving model to model_weights-01.weights.h5\n",
      "64/72 [=========================>....] - ETA: 0s - loss: 1.0439 - accuracy: 0.4146\n",
      "Epoch 1: saving model to model_weights-01.weights.h5\n",
      "65/72 [==========================>...] - ETA: 0s - loss: 1.0423 - accuracy: 0.4151\n",
      "Epoch 1: saving model to model_weights-01.weights.h5\n",
      "66/72 [==========================>...] - ETA: 0s - loss: 1.0396 - accuracy: 0.4164\n",
      "Epoch 1: saving model to model_weights-01.weights.h5\n",
      "67/72 [==========================>...] - ETA: 0s - loss: 1.0372 - accuracy: 0.4174\n",
      "Epoch 1: saving model to model_weights-01.weights.h5\n",
      "68/72 [===========================>..] - ETA: 0s - loss: 1.0357 - accuracy: 0.4191\n",
      "Epoch 1: saving model to model_weights-01.weights.h5\n",
      "69/72 [===========================>..] - ETA: 0s - loss: 1.0350 - accuracy: 0.4210\n",
      "Epoch 1: saving model to model_weights-01.weights.h5\n",
      "70/72 [============================>.] - ETA: 0s - loss: 1.0341 - accuracy: 0.4219\n",
      "Epoch 1: saving model to model_weights-01.weights.h5\n",
      "71/72 [============================>.] - ETA: 0s - loss: 1.0350 - accuracy: 0.4223\n",
      "Epoch 1: saving model to model_weights-01.weights.h5\n",
      "72/72 [==============================] - 8s 79ms/step - loss: 1.0341 - accuracy: 0.4230 - val_loss: 0.9130 - val_accuracy: 0.5119\n",
      "Epoch 2/5\n",
      "\n",
      "Epoch 2: saving model to model_weights-02.weights.h5\n",
      " 1/72 [..............................] - ETA: 5s - loss: 0.9404 - accuracy: 0.5312\n",
      "Epoch 2: saving model to model_weights-02.weights.h5\n",
      " 2/72 [..............................] - ETA: 4s - loss: 0.9354 - accuracy: 0.5234\n",
      "Epoch 2: saving model to model_weights-02.weights.h5\n",
      " 3/72 [>.............................] - ETA: 4s - loss: 0.9366 - accuracy: 0.5052\n",
      "Epoch 2: saving model to model_weights-02.weights.h5\n",
      " 4/72 [>.............................] - ETA: 4s - loss: 0.9371 - accuracy: 0.5117\n",
      "Epoch 2: saving model to model_weights-02.weights.h5\n",
      " 5/72 [=>............................] - ETA: 4s - loss: 0.9393 - accuracy: 0.5188\n",
      "Epoch 2: saving model to model_weights-02.weights.h5\n",
      " 6/72 [=>............................] - ETA: 4s - loss: 0.9453 - accuracy: 0.5078\n",
      "Epoch 2: saving model to model_weights-02.weights.h5\n",
      " 7/72 [=>............................] - ETA: 4s - loss: 0.9391 - accuracy: 0.5112\n",
      "Epoch 2: saving model to model_weights-02.weights.h5\n",
      " 8/72 [==>...........................] - ETA: 4s - loss: 0.9354 - accuracy: 0.5117\n",
      "Epoch 2: saving model to model_weights-02.weights.h5\n",
      " 9/72 [==>...........................] - ETA: 4s - loss: 0.9314 - accuracy: 0.5156\n",
      "Epoch 2: saving model to model_weights-02.weights.h5\n",
      "10/72 [===>..........................] - ETA: 4s - loss: 0.9286 - accuracy: 0.5125\n",
      "Epoch 2: saving model to model_weights-02.weights.h5\n",
      "11/72 [===>..........................] - ETA: 4s - loss: 0.9283 - accuracy: 0.5156\n",
      "Epoch 2: saving model to model_weights-02.weights.h5\n",
      "12/72 [====>.........................] - ETA: 4s - loss: 0.9374 - accuracy: 0.5247\n",
      "Epoch 2: saving model to model_weights-02.weights.h5\n",
      "13/72 [====>.........................] - ETA: 4s - loss: 0.9317 - accuracy: 0.5312\n",
      "Epoch 2: saving model to model_weights-02.weights.h5\n",
      "14/72 [====>.........................] - ETA: 4s - loss: 0.9242 - accuracy: 0.5324\n",
      "Epoch 2: saving model to model_weights-02.weights.h5\n",
      "15/72 [=====>........................] - ETA: 4s - loss: 0.9197 - accuracy: 0.5354\n",
      "Epoch 2: saving model to model_weights-02.weights.h5\n",
      "16/72 [=====>........................] - ETA: 3s - loss: 0.9180 - accuracy: 0.5400\n",
      "Epoch 2: saving model to model_weights-02.weights.h5\n",
      "17/72 [======>.......................] - ETA: 3s - loss: 0.9205 - accuracy: 0.5368\n",
      "Epoch 2: saving model to model_weights-02.weights.h5\n",
      "18/72 [======>.......................] - ETA: 3s - loss: 0.9246 - accuracy: 0.5339\n",
      "Epoch 2: saving model to model_weights-02.weights.h5\n",
      "19/72 [======>.......................] - ETA: 3s - loss: 0.9247 - accuracy: 0.5337\n",
      "Epoch 2: saving model to model_weights-02.weights.h5\n",
      "20/72 [=======>......................] - ETA: 3s - loss: 0.9206 - accuracy: 0.5328\n",
      "Epoch 2: saving model to model_weights-02.weights.h5\n",
      "21/72 [=======>......................] - ETA: 3s - loss: 0.9179 - accuracy: 0.5372\n",
      "Epoch 2: saving model to model_weights-02.weights.h5\n",
      "22/72 [========>.....................] - ETA: 3s - loss: 0.9175 - accuracy: 0.5369\n",
      "Epoch 2: saving model to model_weights-02.weights.h5\n",
      "23/72 [========>.....................] - ETA: 3s - loss: 0.9147 - accuracy: 0.5367\n",
      "Epoch 2: saving model to model_weights-02.weights.h5\n",
      "24/72 [=========>....................] - ETA: 3s - loss: 0.9159 - accuracy: 0.5345\n",
      "Epoch 2: saving model to model_weights-02.weights.h5\n",
      "25/72 [=========>....................] - ETA: 3s - loss: 0.9146 - accuracy: 0.5331\n",
      "Epoch 2: saving model to model_weights-02.weights.h5\n",
      "26/72 [=========>....................] - ETA: 3s - loss: 0.9152 - accuracy: 0.5343\n",
      "Epoch 2: saving model to model_weights-02.weights.h5\n",
      "27/72 [==========>...................] - ETA: 3s - loss: 0.9145 - accuracy: 0.5376\n",
      "Epoch 2: saving model to model_weights-02.weights.h5\n",
      "28/72 [==========>...................] - ETA: 3s - loss: 0.9124 - accuracy: 0.5385\n",
      "Epoch 2: saving model to model_weights-02.weights.h5\n",
      "29/72 [===========>..................] - ETA: 3s - loss: 0.9064 - accuracy: 0.5447\n",
      "Epoch 2: saving model to model_weights-02.weights.h5\n",
      "30/72 [===========>..................] - ETA: 3s - loss: 0.9073 - accuracy: 0.5443\n",
      "Epoch 2: saving model to model_weights-02.weights.h5\n",
      "31/72 [===========>..................] - ETA: 2s - loss: 0.9079 - accuracy: 0.5444\n",
      "Epoch 2: saving model to model_weights-02.weights.h5\n",
      "32/72 [============>.................] - ETA: 2s - loss: 0.9086 - accuracy: 0.5439\n",
      "Epoch 2: saving model to model_weights-02.weights.h5\n",
      "33/72 [============>.................] - ETA: 2s - loss: 0.9073 - accuracy: 0.5464\n",
      "Epoch 2: saving model to model_weights-02.weights.h5\n",
      "34/72 [=============>................] - ETA: 2s - loss: 0.9057 - accuracy: 0.5478\n",
      "Epoch 2: saving model to model_weights-02.weights.h5\n",
      "35/72 [=============>................] - ETA: 2s - loss: 0.9032 - accuracy: 0.5509\n",
      "Epoch 2: saving model to model_weights-02.weights.h5\n",
      "36/72 [==============>...............] - ETA: 2s - loss: 0.9028 - accuracy: 0.5516\n",
      "Epoch 2: saving model to model_weights-02.weights.h5\n",
      "37/72 [==============>...............] - ETA: 2s - loss: 0.9076 - accuracy: 0.5490\n",
      "Epoch 2: saving model to model_weights-02.weights.h5\n",
      "38/72 [==============>...............] - ETA: 2s - loss: 0.9053 - accuracy: 0.5481\n",
      "Epoch 2: saving model to model_weights-02.weights.h5\n",
      "39/72 [===============>..............] - ETA: 2s - loss: 0.9058 - accuracy: 0.5493\n",
      "Epoch 2: saving model to model_weights-02.weights.h5\n",
      "40/72 [===============>..............] - ETA: 2s - loss: 0.9063 - accuracy: 0.5473\n",
      "Epoch 2: saving model to model_weights-02.weights.h5\n",
      "41/72 [================>.............] - ETA: 2s - loss: 0.9027 - accuracy: 0.5499\n",
      "Epoch 2: saving model to model_weights-02.weights.h5\n",
      "42/72 [================>.............] - ETA: 2s - loss: 0.9013 - accuracy: 0.5513\n",
      "Epoch 2: saving model to model_weights-02.weights.h5\n",
      "43/72 [================>.............] - ETA: 2s - loss: 0.8983 - accuracy: 0.5538\n",
      "Epoch 2: saving model to model_weights-02.weights.h5\n",
      "44/72 [=================>............] - ETA: 2s - loss: 0.8993 - accuracy: 0.5543\n",
      "Epoch 2: saving model to model_weights-02.weights.h5\n",
      "45/72 [=================>............] - ETA: 1s - loss: 0.8993 - accuracy: 0.5535\n",
      "Epoch 2: saving model to model_weights-02.weights.h5\n",
      "46/72 [==================>...........] - ETA: 1s - loss: 0.8988 - accuracy: 0.5520\n",
      "Epoch 2: saving model to model_weights-02.weights.h5\n",
      "47/72 [==================>...........] - ETA: 1s - loss: 0.8966 - accuracy: 0.5525\n",
      "Epoch 2: saving model to model_weights-02.weights.h5\n",
      "48/72 [===================>..........] - ETA: 1s - loss: 0.8951 - accuracy: 0.5537\n",
      "Epoch 2: saving model to model_weights-02.weights.h5\n",
      "49/72 [===================>..........] - ETA: 1s - loss: 0.8934 - accuracy: 0.5564\n",
      "Epoch 2: saving model to model_weights-02.weights.h5\n",
      "50/72 [===================>..........] - ETA: 1s - loss: 0.8941 - accuracy: 0.5553\n",
      "Epoch 2: saving model to model_weights-02.weights.h5\n",
      "51/72 [====================>.........] - ETA: 1s - loss: 0.8904 - accuracy: 0.5561\n",
      "Epoch 2: saving model to model_weights-02.weights.h5\n",
      "52/72 [====================>.........] - ETA: 1s - loss: 0.8931 - accuracy: 0.5556\n",
      "Epoch 2: saving model to model_weights-02.weights.h5\n",
      "53/72 [=====================>........] - ETA: 1s - loss: 0.8947 - accuracy: 0.5551\n",
      "Epoch 2: saving model to model_weights-02.weights.h5\n",
      "54/72 [=====================>........] - ETA: 1s - loss: 0.8922 - accuracy: 0.5582\n",
      "Epoch 2: saving model to model_weights-02.weights.h5\n",
      "55/72 [=====================>........] - ETA: 1s - loss: 0.8925 - accuracy: 0.5585\n",
      "Epoch 2: saving model to model_weights-02.weights.h5\n",
      "56/72 [======================>.......] - ETA: 1s - loss: 0.8934 - accuracy: 0.5594\n",
      "Epoch 2: saving model to model_weights-02.weights.h5\n",
      "57/72 [======================>.......] - ETA: 1s - loss: 0.8907 - accuracy: 0.5609\n",
      "Epoch 2: saving model to model_weights-02.weights.h5\n",
      "58/72 [=======================>......] - ETA: 1s - loss: 0.8916 - accuracy: 0.5606\n",
      "Epoch 2: saving model to model_weights-02.weights.h5\n",
      "59/72 [=======================>......] - ETA: 0s - loss: 0.8919 - accuracy: 0.5601\n",
      "Epoch 2: saving model to model_weights-02.weights.h5\n",
      "60/72 [========================>.....] - ETA: 0s - loss: 0.8921 - accuracy: 0.5602\n",
      "Epoch 2: saving model to model_weights-02.weights.h5\n",
      "61/72 [========================>.....] - ETA: 0s - loss: 0.8925 - accuracy: 0.5592\n",
      "Epoch 2: saving model to model_weights-02.weights.h5\n",
      "62/72 [========================>.....] - ETA: 0s - loss: 0.8938 - accuracy: 0.5582\n",
      "Epoch 2: saving model to model_weights-02.weights.h5\n",
      "63/72 [=========================>....] - ETA: 0s - loss: 0.8952 - accuracy: 0.5570\n",
      "Epoch 2: saving model to model_weights-02.weights.h5\n",
      "64/72 [=========================>....] - ETA: 0s - loss: 0.8929 - accuracy: 0.5603\n",
      "Epoch 2: saving model to model_weights-02.weights.h5\n",
      "65/72 [==========================>...] - ETA: 0s - loss: 0.8943 - accuracy: 0.5599\n",
      "Epoch 2: saving model to model_weights-02.weights.h5\n",
      "66/72 [==========================>...] - ETA: 0s - loss: 0.8931 - accuracy: 0.5608\n",
      "Epoch 2: saving model to model_weights-02.weights.h5\n",
      "67/72 [==========================>...] - ETA: 0s - loss: 0.8936 - accuracy: 0.5609\n",
      "Epoch 2: saving model to model_weights-02.weights.h5\n",
      "68/72 [===========================>..] - ETA: 0s - loss: 0.8918 - accuracy: 0.5627\n",
      "Epoch 2: saving model to model_weights-02.weights.h5\n",
      "69/72 [===========================>..] - ETA: 0s - loss: 0.8908 - accuracy: 0.5639\n",
      "Epoch 2: saving model to model_weights-02.weights.h5\n",
      "70/72 [============================>.] - ETA: 0s - loss: 0.8883 - accuracy: 0.5661\n",
      "Epoch 2: saving model to model_weights-02.weights.h5\n",
      "71/72 [============================>.] - ETA: 0s - loss: 0.8876 - accuracy: 0.5676\n",
      "Epoch 2: saving model to model_weights-02.weights.h5\n",
      "72/72 [==============================] - 5s 74ms/step - loss: 0.8866 - accuracy: 0.5685 - val_loss: 0.8305 - val_accuracy: 0.6087\n",
      "Epoch 3/5\n",
      "\n",
      "Epoch 3: saving model to model_weights-03.weights.h5\n",
      " 1/72 [..............................] - ETA: 4s - loss: 0.8917 - accuracy: 0.6094\n",
      "Epoch 3: saving model to model_weights-03.weights.h5\n",
      " 2/72 [..............................] - ETA: 4s - loss: 0.8433 - accuracy: 0.6250\n",
      "Epoch 3: saving model to model_weights-03.weights.h5\n",
      " 3/72 [>.............................] - ETA: 5s - loss: 0.7889 - accuracy: 0.6510\n",
      "Epoch 3: saving model to model_weights-03.weights.h5\n",
      " 4/72 [>.............................] - ETA: 4s - loss: 0.7810 - accuracy: 0.6641\n",
      "Epoch 3: saving model to model_weights-03.weights.h5\n",
      " 5/72 [=>............................] - ETA: 4s - loss: 0.7974 - accuracy: 0.6469\n",
      "Epoch 3: saving model to model_weights-03.weights.h5\n",
      " 6/72 [=>............................] - ETA: 4s - loss: 0.7975 - accuracy: 0.6536\n",
      "Epoch 3: saving model to model_weights-03.weights.h5\n",
      " 7/72 [=>............................] - ETA: 4s - loss: 0.7969 - accuracy: 0.6496\n",
      "Epoch 3: saving model to model_weights-03.weights.h5\n",
      " 8/72 [==>...........................] - ETA: 4s - loss: 0.8170 - accuracy: 0.6348\n",
      "Epoch 3: saving model to model_weights-03.weights.h5\n",
      " 9/72 [==>...........................] - ETA: 4s - loss: 0.8357 - accuracy: 0.6181\n",
      "Epoch 3: saving model to model_weights-03.weights.h5\n",
      "10/72 [===>..........................] - ETA: 4s - loss: 0.8350 - accuracy: 0.6109\n",
      "Epoch 3: saving model to model_weights-03.weights.h5\n",
      "11/72 [===>..........................] - ETA: 4s - loss: 0.8276 - accuracy: 0.6165\n",
      "Epoch 3: saving model to model_weights-03.weights.h5\n",
      "12/72 [====>.........................] - ETA: 4s - loss: 0.8189 - accuracy: 0.6250\n",
      "Epoch 3: saving model to model_weights-03.weights.h5\n",
      "13/72 [====>.........................] - ETA: 4s - loss: 0.8194 - accuracy: 0.6262\n",
      "Epoch 3: saving model to model_weights-03.weights.h5\n",
      "14/72 [====>.........................] - ETA: 4s - loss: 0.8207 - accuracy: 0.6250\n",
      "Epoch 3: saving model to model_weights-03.weights.h5\n",
      "15/72 [=====>........................] - ETA: 3s - loss: 0.8205 - accuracy: 0.6229\n",
      "Epoch 3: saving model to model_weights-03.weights.h5\n",
      "16/72 [=====>........................] - ETA: 3s - loss: 0.8175 - accuracy: 0.6230\n",
      "Epoch 3: saving model to model_weights-03.weights.h5\n",
      "17/72 [======>.......................] - ETA: 3s - loss: 0.8037 - accuracy: 0.6351\n",
      "Epoch 3: saving model to model_weights-03.weights.h5\n",
      "18/72 [======>.......................] - ETA: 3s - loss: 0.8097 - accuracy: 0.6311\n",
      "Epoch 3: saving model to model_weights-03.weights.h5\n",
      "19/72 [======>.......................] - ETA: 3s - loss: 0.8077 - accuracy: 0.6308\n",
      "Epoch 3: saving model to model_weights-03.weights.h5\n",
      "20/72 [=======>......................] - ETA: 3s - loss: 0.8076 - accuracy: 0.6320\n",
      "Epoch 3: saving model to model_weights-03.weights.h5\n",
      "21/72 [=======>......................] - ETA: 3s - loss: 0.8095 - accuracy: 0.6339\n",
      "Epoch 3: saving model to model_weights-03.weights.h5\n",
      "22/72 [========>.....................] - ETA: 3s - loss: 0.8056 - accuracy: 0.6371\n",
      "Epoch 3: saving model to model_weights-03.weights.h5\n",
      "23/72 [========>.....................] - ETA: 3s - loss: 0.8056 - accuracy: 0.6379\n",
      "Epoch 3: saving model to model_weights-03.weights.h5\n",
      "24/72 [=========>....................] - ETA: 3s - loss: 0.8063 - accuracy: 0.6354\n",
      "Epoch 3: saving model to model_weights-03.weights.h5\n",
      "25/72 [=========>....................] - ETA: 3s - loss: 0.8024 - accuracy: 0.6406\n",
      "Epoch 3: saving model to model_weights-03.weights.h5\n",
      "26/72 [=========>....................] - ETA: 3s - loss: 0.7999 - accuracy: 0.6412\n",
      "Epoch 3: saving model to model_weights-03.weights.h5\n",
      "27/72 [==========>...................] - ETA: 3s - loss: 0.7950 - accuracy: 0.6458\n",
      "Epoch 3: saving model to model_weights-03.weights.h5\n",
      "28/72 [==========>...................] - ETA: 3s - loss: 0.7963 - accuracy: 0.6451\n",
      "Epoch 3: saving model to model_weights-03.weights.h5\n",
      "29/72 [===========>..................] - ETA: 3s - loss: 0.7929 - accuracy: 0.6466\n",
      "Epoch 3: saving model to model_weights-03.weights.h5\n",
      "30/72 [===========>..................] - ETA: 3s - loss: 0.7985 - accuracy: 0.6458\n",
      "Epoch 3: saving model to model_weights-03.weights.h5\n",
      "31/72 [===========>..................] - ETA: 2s - loss: 0.7977 - accuracy: 0.6457\n",
      "Epoch 3: saving model to model_weights-03.weights.h5\n",
      "32/72 [============>.................] - ETA: 2s - loss: 0.7948 - accuracy: 0.6470\n",
      "Epoch 3: saving model to model_weights-03.weights.h5\n",
      "33/72 [============>.................] - ETA: 2s - loss: 0.7924 - accuracy: 0.6468\n",
      "Epoch 3: saving model to model_weights-03.weights.h5\n",
      "34/72 [=============>................] - ETA: 2s - loss: 0.7924 - accuracy: 0.6475\n",
      "Epoch 3: saving model to model_weights-03.weights.h5\n",
      "35/72 [=============>................] - ETA: 2s - loss: 0.7915 - accuracy: 0.6482\n",
      "Epoch 3: saving model to model_weights-03.weights.h5\n",
      "36/72 [==============>...............] - ETA: 2s - loss: 0.7915 - accuracy: 0.6489\n",
      "Epoch 3: saving model to model_weights-03.weights.h5\n",
      "37/72 [==============>...............] - ETA: 2s - loss: 0.7882 - accuracy: 0.6499\n",
      "Epoch 3: saving model to model_weights-03.weights.h5\n",
      "38/72 [==============>...............] - ETA: 2s - loss: 0.7884 - accuracy: 0.6501\n",
      "Epoch 3: saving model to model_weights-03.weights.h5\n",
      "39/72 [===============>..............] - ETA: 2s - loss: 0.7910 - accuracy: 0.6498\n",
      "Epoch 3: saving model to model_weights-03.weights.h5\n",
      "40/72 [===============>..............] - ETA: 2s - loss: 0.7881 - accuracy: 0.6516\n",
      "Epoch 3: saving model to model_weights-03.weights.h5\n",
      "41/72 [================>.............] - ETA: 2s - loss: 0.7888 - accuracy: 0.6502\n",
      "Epoch 3: saving model to model_weights-03.weights.h5\n",
      "42/72 [================>.............] - ETA: 2s - loss: 0.7877 - accuracy: 0.6510\n",
      "Epoch 3: saving model to model_weights-03.weights.h5\n",
      "43/72 [================>.............] - ETA: 2s - loss: 0.7866 - accuracy: 0.6508\n",
      "Epoch 3: saving model to model_weights-03.weights.h5\n",
      "44/72 [=================>............] - ETA: 2s - loss: 0.7869 - accuracy: 0.6499\n",
      "Epoch 3: saving model to model_weights-03.weights.h5\n",
      "45/72 [=================>............] - ETA: 1s - loss: 0.7889 - accuracy: 0.6469\n",
      "Epoch 3: saving model to model_weights-03.weights.h5\n",
      "46/72 [==================>...........] - ETA: 1s - loss: 0.7938 - accuracy: 0.6440\n",
      "Epoch 3: saving model to model_weights-03.weights.h5\n",
      "47/72 [==================>...........] - ETA: 1s - loss: 0.7925 - accuracy: 0.6449\n",
      "Epoch 3: saving model to model_weights-03.weights.h5\n",
      "48/72 [===================>..........] - ETA: 1s - loss: 0.7909 - accuracy: 0.6468\n",
      "Epoch 3: saving model to model_weights-03.weights.h5\n",
      "49/72 [===================>..........] - ETA: 1s - loss: 0.7913 - accuracy: 0.6460\n",
      "Epoch 3: saving model to model_weights-03.weights.h5\n",
      "50/72 [===================>..........] - ETA: 1s - loss: 0.7918 - accuracy: 0.6463\n",
      "Epoch 3: saving model to model_weights-03.weights.h5\n",
      "51/72 [====================>.........] - ETA: 1s - loss: 0.7915 - accuracy: 0.6468\n",
      "Epoch 3: saving model to model_weights-03.weights.h5\n",
      "52/72 [====================>.........] - ETA: 1s - loss: 0.7907 - accuracy: 0.6475\n",
      "Epoch 3: saving model to model_weights-03.weights.h5\n",
      "53/72 [=====================>........] - ETA: 1s - loss: 0.7897 - accuracy: 0.6477\n",
      "Epoch 3: saving model to model_weights-03.weights.h5\n",
      "54/72 [=====================>........] - ETA: 1s - loss: 0.7884 - accuracy: 0.6490\n",
      "Epoch 3: saving model to model_weights-03.weights.h5\n",
      "55/72 [=====================>........] - ETA: 1s - loss: 0.7889 - accuracy: 0.6494\n",
      "Epoch 3: saving model to model_weights-03.weights.h5\n",
      "56/72 [======================>.......] - ETA: 1s - loss: 0.7906 - accuracy: 0.6482\n",
      "Epoch 3: saving model to model_weights-03.weights.h5\n",
      "57/72 [======================>.......] - ETA: 1s - loss: 0.7932 - accuracy: 0.6469\n",
      "Epoch 3: saving model to model_weights-03.weights.h5\n",
      "58/72 [=======================>......] - ETA: 1s - loss: 0.7932 - accuracy: 0.6457\n",
      "Epoch 3: saving model to model_weights-03.weights.h5\n",
      "59/72 [=======================>......] - ETA: 0s - loss: 0.7925 - accuracy: 0.6462\n",
      "Epoch 3: saving model to model_weights-03.weights.h5\n",
      "60/72 [========================>.....] - ETA: 0s - loss: 0.7930 - accuracy: 0.6461\n",
      "Epoch 3: saving model to model_weights-03.weights.h5\n",
      "61/72 [========================>.....] - ETA: 0s - loss: 0.7924 - accuracy: 0.6465\n",
      "Epoch 3: saving model to model_weights-03.weights.h5\n",
      "62/72 [========================>.....] - ETA: 0s - loss: 0.7934 - accuracy: 0.6459\n",
      "Epoch 3: saving model to model_weights-03.weights.h5\n",
      "63/72 [=========================>....] - ETA: 0s - loss: 0.7923 - accuracy: 0.6461\n",
      "Epoch 3: saving model to model_weights-03.weights.h5\n",
      "64/72 [=========================>....] - ETA: 0s - loss: 0.7903 - accuracy: 0.6477\n",
      "Epoch 3: saving model to model_weights-03.weights.h5\n",
      "65/72 [==========================>...] - ETA: 0s - loss: 0.7896 - accuracy: 0.6478\n",
      "Epoch 3: saving model to model_weights-03.weights.h5\n",
      "66/72 [==========================>...] - ETA: 0s - loss: 0.7906 - accuracy: 0.6480\n",
      "Epoch 3: saving model to model_weights-03.weights.h5\n",
      "67/72 [==========================>...] - ETA: 0s - loss: 0.7897 - accuracy: 0.6488\n",
      "Epoch 3: saving model to model_weights-03.weights.h5\n",
      "68/72 [===========================>..] - ETA: 0s - loss: 0.7897 - accuracy: 0.6487\n",
      "Epoch 3: saving model to model_weights-03.weights.h5\n",
      "69/72 [===========================>..] - ETA: 0s - loss: 0.7927 - accuracy: 0.6470\n",
      "Epoch 3: saving model to model_weights-03.weights.h5\n",
      "70/72 [============================>.] - ETA: 0s - loss: 0.7936 - accuracy: 0.6471\n",
      "Epoch 3: saving model to model_weights-03.weights.h5\n",
      "71/72 [============================>.] - ETA: 0s - loss: 0.7938 - accuracy: 0.6477\n",
      "Epoch 3: saving model to model_weights-03.weights.h5\n",
      "72/72 [==============================] - 5s 74ms/step - loss: 0.7954 - accuracy: 0.6463 - val_loss: 0.7699 - val_accuracy: 0.6798\n",
      "Epoch 4/5\n",
      "\n",
      "Epoch 4: saving model to model_weights-04.weights.h5\n",
      " 1/72 [..............................] - ETA: 5s - loss: 0.6624 - accuracy: 0.7344\n",
      "Epoch 4: saving model to model_weights-04.weights.h5\n",
      " 2/72 [..............................] - ETA: 5s - loss: 0.6624 - accuracy: 0.7266\n",
      "Epoch 4: saving model to model_weights-04.weights.h5\n",
      " 3/72 [>.............................] - ETA: 5s - loss: 0.7118 - accuracy: 0.7031\n",
      "Epoch 4: saving model to model_weights-04.weights.h5\n",
      " 4/72 [>.............................] - ETA: 5s - loss: 0.7588 - accuracy: 0.6680\n",
      "Epoch 4: saving model to model_weights-04.weights.h5\n",
      " 5/72 [=>............................] - ETA: 5s - loss: 0.7274 - accuracy: 0.6844\n",
      "Epoch 4: saving model to model_weights-04.weights.h5\n",
      " 6/72 [=>............................] - ETA: 5s - loss: 0.7516 - accuracy: 0.6745\n",
      "Epoch 4: saving model to model_weights-04.weights.h5\n",
      " 7/72 [=>............................] - ETA: 5s - loss: 0.7351 - accuracy: 0.6853\n",
      "Epoch 4: saving model to model_weights-04.weights.h5\n",
      " 8/72 [==>...........................] - ETA: 5s - loss: 0.7233 - accuracy: 0.6953\n",
      "Epoch 4: saving model to model_weights-04.weights.h5\n",
      " 9/72 [==>...........................] - ETA: 4s - loss: 0.7196 - accuracy: 0.7031\n",
      "Epoch 4: saving model to model_weights-04.weights.h5\n",
      "10/72 [===>..........................] - ETA: 4s - loss: 0.7189 - accuracy: 0.7047\n",
      "Epoch 4: saving model to model_weights-04.weights.h5\n",
      "11/72 [===>..........................] - ETA: 4s - loss: 0.7192 - accuracy: 0.7074\n",
      "Epoch 4: saving model to model_weights-04.weights.h5\n",
      "12/72 [====>.........................] - ETA: 4s - loss: 0.7227 - accuracy: 0.7031\n",
      "Epoch 4: saving model to model_weights-04.weights.h5\n",
      "13/72 [====>.........................] - ETA: 4s - loss: 0.7270 - accuracy: 0.6983\n",
      "Epoch 4: saving model to model_weights-04.weights.h5\n",
      "14/72 [====>.........................] - ETA: 4s - loss: 0.7207 - accuracy: 0.7009\n",
      "Epoch 4: saving model to model_weights-04.weights.h5\n",
      "15/72 [=====>........................] - ETA: 4s - loss: 0.7240 - accuracy: 0.7010\n",
      "Epoch 4: saving model to model_weights-04.weights.h5\n",
      "16/72 [=====>........................] - ETA: 4s - loss: 0.7365 - accuracy: 0.6924\n",
      "Epoch 4: saving model to model_weights-04.weights.h5\n",
      "17/72 [======>.......................] - ETA: 4s - loss: 0.7322 - accuracy: 0.6967\n",
      "Epoch 4: saving model to model_weights-04.weights.h5\n",
      "18/72 [======>.......................] - ETA: 3s - loss: 0.7336 - accuracy: 0.6918\n",
      "Epoch 4: saving model to model_weights-04.weights.h5\n",
      "19/72 [======>.......................] - ETA: 3s - loss: 0.7308 - accuracy: 0.6900\n",
      "Epoch 4: saving model to model_weights-04.weights.h5\n",
      "20/72 [=======>......................] - ETA: 3s - loss: 0.7286 - accuracy: 0.6906\n",
      "Epoch 4: saving model to model_weights-04.weights.h5\n",
      "21/72 [=======>......................] - ETA: 3s - loss: 0.7343 - accuracy: 0.6897\n",
      "Epoch 4: saving model to model_weights-04.weights.h5\n",
      "22/72 [========>.....................] - ETA: 3s - loss: 0.7285 - accuracy: 0.6932\n",
      "Epoch 4: saving model to model_weights-04.weights.h5\n",
      "23/72 [========>.....................] - ETA: 3s - loss: 0.7275 - accuracy: 0.6929\n",
      "Epoch 4: saving model to model_weights-04.weights.h5\n",
      "24/72 [=========>....................] - ETA: 3s - loss: 0.7292 - accuracy: 0.6888\n",
      "Epoch 4: saving model to model_weights-04.weights.h5\n",
      "25/72 [=========>....................] - ETA: 3s - loss: 0.7352 - accuracy: 0.6844\n",
      "Epoch 4: saving model to model_weights-04.weights.h5\n",
      "26/72 [=========>....................] - ETA: 3s - loss: 0.7403 - accuracy: 0.6839\n",
      "Epoch 4: saving model to model_weights-04.weights.h5\n",
      "27/72 [==========>...................] - ETA: 3s - loss: 0.7379 - accuracy: 0.6858\n",
      "Epoch 4: saving model to model_weights-04.weights.h5\n",
      "28/72 [==========>...................] - ETA: 3s - loss: 0.7431 - accuracy: 0.6814\n",
      "Epoch 4: saving model to model_weights-04.weights.h5\n",
      "29/72 [===========>..................] - ETA: 3s - loss: 0.7459 - accuracy: 0.6789\n",
      "Epoch 4: saving model to model_weights-04.weights.h5\n",
      "30/72 [===========>..................] - ETA: 3s - loss: 0.7438 - accuracy: 0.6807\n",
      "Epoch 4: saving model to model_weights-04.weights.h5\n",
      "31/72 [===========>..................] - ETA: 2s - loss: 0.7476 - accuracy: 0.6794\n",
      "Epoch 4: saving model to model_weights-04.weights.h5\n",
      "32/72 [============>.................] - ETA: 2s - loss: 0.7460 - accuracy: 0.6797\n",
      "Epoch 4: saving model to model_weights-04.weights.h5\n",
      "33/72 [============>.................] - ETA: 2s - loss: 0.7454 - accuracy: 0.6795\n",
      "Epoch 4: saving model to model_weights-04.weights.h5\n",
      "34/72 [=============>................] - ETA: 2s - loss: 0.7488 - accuracy: 0.6756\n",
      "Epoch 4: saving model to model_weights-04.weights.h5\n",
      "35/72 [=============>................] - ETA: 2s - loss: 0.7548 - accuracy: 0.6692\n",
      "Epoch 4: saving model to model_weights-04.weights.h5\n",
      "36/72 [==============>...............] - ETA: 2s - loss: 0.7559 - accuracy: 0.6693\n",
      "Epoch 4: saving model to model_weights-04.weights.h5\n",
      "37/72 [==============>...............] - ETA: 2s - loss: 0.7554 - accuracy: 0.6689\n",
      "Epoch 4: saving model to model_weights-04.weights.h5\n",
      "38/72 [==============>...............] - ETA: 2s - loss: 0.7525 - accuracy: 0.6698\n",
      "Epoch 4: saving model to model_weights-04.weights.h5\n",
      "39/72 [===============>..............] - ETA: 2s - loss: 0.7494 - accuracy: 0.6727\n",
      "Epoch 4: saving model to model_weights-04.weights.h5\n",
      "40/72 [===============>..............] - ETA: 2s - loss: 0.7494 - accuracy: 0.6723\n",
      "Epoch 4: saving model to model_weights-04.weights.h5\n",
      "41/72 [================>.............] - ETA: 2s - loss: 0.7495 - accuracy: 0.6723\n",
      "Epoch 4: saving model to model_weights-04.weights.h5\n",
      "42/72 [================>.............] - ETA: 2s - loss: 0.7501 - accuracy: 0.6711\n",
      "Epoch 4: saving model to model_weights-04.weights.h5\n",
      "43/72 [================>.............] - ETA: 2s - loss: 0.7488 - accuracy: 0.6708\n",
      "Epoch 4: saving model to model_weights-04.weights.h5\n",
      "44/72 [=================>............] - ETA: 2s - loss: 0.7449 - accuracy: 0.6722\n",
      "Epoch 4: saving model to model_weights-04.weights.h5\n",
      "45/72 [=================>............] - ETA: 1s - loss: 0.7429 - accuracy: 0.6729\n",
      "Epoch 4: saving model to model_weights-04.weights.h5\n",
      "46/72 [==================>...........] - ETA: 1s - loss: 0.7400 - accuracy: 0.6753\n",
      "Epoch 4: saving model to model_weights-04.weights.h5\n",
      "47/72 [==================>...........] - ETA: 1s - loss: 0.7413 - accuracy: 0.6745\n",
      "Epoch 4: saving model to model_weights-04.weights.h5\n",
      "48/72 [===================>..........] - ETA: 1s - loss: 0.7435 - accuracy: 0.6722\n",
      "Epoch 4: saving model to model_weights-04.weights.h5\n",
      "49/72 [===================>..........] - ETA: 1s - loss: 0.7439 - accuracy: 0.6719\n",
      "Epoch 4: saving model to model_weights-04.weights.h5\n",
      "50/72 [===================>..........] - ETA: 1s - loss: 0.7424 - accuracy: 0.6719\n",
      "Epoch 4: saving model to model_weights-04.weights.h5\n",
      "51/72 [====================>.........] - ETA: 1s - loss: 0.7441 - accuracy: 0.6716\n",
      "Epoch 4: saving model to model_weights-04.weights.h5\n",
      "52/72 [====================>.........] - ETA: 1s - loss: 0.7400 - accuracy: 0.6743\n",
      "Epoch 4: saving model to model_weights-04.weights.h5\n",
      "53/72 [=====================>........] - ETA: 1s - loss: 0.7406 - accuracy: 0.6742\n",
      "Epoch 4: saving model to model_weights-04.weights.h5\n",
      "54/72 [=====================>........] - ETA: 1s - loss: 0.7426 - accuracy: 0.6722\n",
      "Epoch 4: saving model to model_weights-04.weights.h5\n",
      "55/72 [=====================>........] - ETA: 1s - loss: 0.7460 - accuracy: 0.6702\n",
      "Epoch 4: saving model to model_weights-04.weights.h5\n",
      "56/72 [======================>.......] - ETA: 1s - loss: 0.7450 - accuracy: 0.6710\n",
      "Epoch 4: saving model to model_weights-04.weights.h5\n",
      "57/72 [======================>.......] - ETA: 1s - loss: 0.7440 - accuracy: 0.6719\n",
      "Epoch 4: saving model to model_weights-04.weights.h5\n",
      "58/72 [=======================>......] - ETA: 1s - loss: 0.7429 - accuracy: 0.6724\n",
      "Epoch 4: saving model to model_weights-04.weights.h5\n",
      "59/72 [=======================>......] - ETA: 0s - loss: 0.7409 - accuracy: 0.6737\n",
      "Epoch 4: saving model to model_weights-04.weights.h5\n",
      "60/72 [========================>.....] - ETA: 0s - loss: 0.7404 - accuracy: 0.6740\n",
      "Epoch 4: saving model to model_weights-04.weights.h5\n",
      "61/72 [========================>.....] - ETA: 0s - loss: 0.7400 - accuracy: 0.6747\n",
      "Epoch 4: saving model to model_weights-04.weights.h5\n",
      "62/72 [========================>.....] - ETA: 0s - loss: 0.7402 - accuracy: 0.6744\n",
      "Epoch 4: saving model to model_weights-04.weights.h5\n",
      "63/72 [=========================>....] - ETA: 0s - loss: 0.7403 - accuracy: 0.6753\n",
      "Epoch 4: saving model to model_weights-04.weights.h5\n",
      "64/72 [=========================>....] - ETA: 0s - loss: 0.7401 - accuracy: 0.6753\n",
      "Epoch 4: saving model to model_weights-04.weights.h5\n",
      "65/72 [==========================>...] - ETA: 0s - loss: 0.7392 - accuracy: 0.6760\n",
      "Epoch 4: saving model to model_weights-04.weights.h5\n",
      "66/72 [==========================>...] - ETA: 0s - loss: 0.7414 - accuracy: 0.6742\n",
      "Epoch 4: saving model to model_weights-04.weights.h5\n",
      "67/72 [==========================>...] - ETA: 0s - loss: 0.7407 - accuracy: 0.6744\n",
      "Epoch 4: saving model to model_weights-04.weights.h5\n",
      "68/72 [===========================>..] - ETA: 0s - loss: 0.7405 - accuracy: 0.6749\n",
      "Epoch 4: saving model to model_weights-04.weights.h5\n",
      "69/72 [===========================>..] - ETA: 0s - loss: 0.7393 - accuracy: 0.6753\n",
      "Epoch 4: saving model to model_weights-04.weights.h5\n",
      "70/72 [============================>.] - ETA: 0s - loss: 0.7389 - accuracy: 0.6750\n",
      "Epoch 4: saving model to model_weights-04.weights.h5\n",
      "71/72 [============================>.] - ETA: 0s - loss: 0.7395 - accuracy: 0.6743\n",
      "Epoch 4: saving model to model_weights-04.weights.h5\n",
      "72/72 [==============================] - 5s 75ms/step - loss: 0.7401 - accuracy: 0.6738 - val_loss: 0.7280 - val_accuracy: 0.6996\n",
      "Epoch 5/5\n",
      "\n",
      "Epoch 5: saving model to model_weights-05.weights.h5\n",
      " 1/72 [..............................] - ETA: 5s - loss: 0.6298 - accuracy: 0.6875\n",
      "Epoch 5: saving model to model_weights-05.weights.h5\n",
      " 2/72 [..............................] - ETA: 5s - loss: 0.6197 - accuracy: 0.7109\n",
      "Epoch 5: saving model to model_weights-05.weights.h5\n",
      " 3/72 [>.............................] - ETA: 5s - loss: 0.6166 - accuracy: 0.7396\n",
      "Epoch 5: saving model to model_weights-05.weights.h5\n",
      " 4/72 [>.............................] - ETA: 5s - loss: 0.6604 - accuracy: 0.7227\n",
      "Epoch 5: saving model to model_weights-05.weights.h5\n",
      " 5/72 [=>............................] - ETA: 5s - loss: 0.6685 - accuracy: 0.7344\n",
      "Epoch 5: saving model to model_weights-05.weights.h5\n",
      " 6/72 [=>............................] - ETA: 4s - loss: 0.6590 - accuracy: 0.7422\n",
      "Epoch 5: saving model to model_weights-05.weights.h5\n",
      " 7/72 [=>............................] - ETA: 4s - loss: 0.6525 - accuracy: 0.7478\n",
      "Epoch 5: saving model to model_weights-05.weights.h5\n",
      " 8/72 [==>...........................] - ETA: 4s - loss: 0.6467 - accuracy: 0.7422\n",
      "Epoch 5: saving model to model_weights-05.weights.h5\n",
      " 9/72 [==>...........................] - ETA: 4s - loss: 0.6667 - accuracy: 0.7326\n",
      "Epoch 5: saving model to model_weights-05.weights.h5\n",
      "10/72 [===>..........................] - ETA: 4s - loss: 0.6622 - accuracy: 0.7312\n",
      "Epoch 5: saving model to model_weights-05.weights.h5\n",
      "11/72 [===>..........................] - ETA: 4s - loss: 0.6748 - accuracy: 0.7273\n",
      "Epoch 5: saving model to model_weights-05.weights.h5\n",
      "12/72 [====>.........................] - ETA: 4s - loss: 0.6932 - accuracy: 0.7109\n",
      "Epoch 5: saving model to model_weights-05.weights.h5\n",
      "13/72 [====>.........................] - ETA: 4s - loss: 0.7049 - accuracy: 0.7067\n",
      "Epoch 5: saving model to model_weights-05.weights.h5\n",
      "14/72 [====>.........................] - ETA: 4s - loss: 0.7026 - accuracy: 0.7087\n",
      "Epoch 5: saving model to model_weights-05.weights.h5\n",
      "15/72 [=====>........................] - ETA: 4s - loss: 0.7166 - accuracy: 0.7031\n",
      "Epoch 5: saving model to model_weights-05.weights.h5\n",
      "16/72 [=====>........................] - ETA: 4s - loss: 0.7152 - accuracy: 0.7031\n",
      "Epoch 5: saving model to model_weights-05.weights.h5\n",
      "17/72 [======>.......................] - ETA: 4s - loss: 0.7141 - accuracy: 0.7040\n",
      "Epoch 5: saving model to model_weights-05.weights.h5\n",
      "18/72 [======>.......................] - ETA: 4s - loss: 0.7058 - accuracy: 0.7109\n",
      "Epoch 5: saving model to model_weights-05.weights.h5\n",
      "19/72 [======>.......................] - ETA: 3s - loss: 0.7056 - accuracy: 0.7105\n",
      "Epoch 5: saving model to model_weights-05.weights.h5\n",
      "20/72 [=======>......................] - ETA: 3s - loss: 0.7013 - accuracy: 0.7109\n",
      "Epoch 5: saving model to model_weights-05.weights.h5\n",
      "21/72 [=======>......................] - ETA: 3s - loss: 0.6972 - accuracy: 0.7150\n",
      "Epoch 5: saving model to model_weights-05.weights.h5\n",
      "22/72 [========>.....................] - ETA: 3s - loss: 0.6922 - accuracy: 0.7202\n",
      "Epoch 5: saving model to model_weights-05.weights.h5\n",
      "23/72 [========>.....................] - ETA: 3s - loss: 0.6901 - accuracy: 0.7208\n",
      "Epoch 5: saving model to model_weights-05.weights.h5\n",
      "24/72 [=========>....................] - ETA: 3s - loss: 0.6867 - accuracy: 0.7240\n",
      "Epoch 5: saving model to model_weights-05.weights.h5\n",
      "25/72 [=========>....................] - ETA: 3s - loss: 0.6898 - accuracy: 0.7244\n",
      "Epoch 5: saving model to model_weights-05.weights.h5\n",
      "26/72 [=========>....................] - ETA: 3s - loss: 0.6868 - accuracy: 0.7230\n",
      "Epoch 5: saving model to model_weights-05.weights.h5\n",
      "27/72 [==========>...................] - ETA: 3s - loss: 0.6845 - accuracy: 0.7245\n",
      "Epoch 5: saving model to model_weights-05.weights.h5\n",
      "28/72 [==========>...................] - ETA: 3s - loss: 0.6776 - accuracy: 0.7294\n",
      "Epoch 5: saving model to model_weights-05.weights.h5\n",
      "29/72 [===========>..................] - ETA: 3s - loss: 0.6775 - accuracy: 0.7290\n",
      "Epoch 5: saving model to model_weights-05.weights.h5\n",
      "30/72 [===========>..................] - ETA: 3s - loss: 0.6793 - accuracy: 0.7286\n",
      "Epoch 5: saving model to model_weights-05.weights.h5\n",
      "31/72 [===========>..................] - ETA: 3s - loss: 0.6812 - accuracy: 0.7278\n",
      "Epoch 5: saving model to model_weights-05.weights.h5\n",
      "32/72 [============>.................] - ETA: 2s - loss: 0.6759 - accuracy: 0.7290\n",
      "Epoch 5: saving model to model_weights-05.weights.h5\n",
      "33/72 [============>.................] - ETA: 2s - loss: 0.6776 - accuracy: 0.7282\n",
      "Epoch 5: saving model to model_weights-05.weights.h5\n",
      "34/72 [=============>................] - ETA: 2s - loss: 0.6769 - accuracy: 0.7284\n",
      "Epoch 5: saving model to model_weights-05.weights.h5\n",
      "35/72 [=============>................] - ETA: 2s - loss: 0.6804 - accuracy: 0.7254\n",
      "Epoch 5: saving model to model_weights-05.weights.h5\n",
      "36/72 [==============>...............] - ETA: 2s - loss: 0.6810 - accuracy: 0.7248\n",
      "Epoch 5: saving model to model_weights-05.weights.h5\n",
      "37/72 [==============>...............] - ETA: 2s - loss: 0.6836 - accuracy: 0.7221\n",
      "Epoch 5: saving model to model_weights-05.weights.h5\n",
      "38/72 [==============>...............] - ETA: 2s - loss: 0.6837 - accuracy: 0.7220\n",
      "Epoch 5: saving model to model_weights-05.weights.h5\n",
      "39/72 [===============>..............] - ETA: 2s - loss: 0.6860 - accuracy: 0.7188\n",
      "Epoch 5: saving model to model_weights-05.weights.h5\n",
      "40/72 [===============>..............] - ETA: 2s - loss: 0.6848 - accuracy: 0.7195\n",
      "Epoch 5: saving model to model_weights-05.weights.h5\n",
      "41/72 [================>.............] - ETA: 2s - loss: 0.6868 - accuracy: 0.7176\n",
      "Epoch 5: saving model to model_weights-05.weights.h5\n",
      "42/72 [================>.............] - ETA: 2s - loss: 0.6881 - accuracy: 0.7184\n",
      "Epoch 5: saving model to model_weights-05.weights.h5\n",
      "43/72 [================>.............] - ETA: 2s - loss: 0.6883 - accuracy: 0.7180\n",
      "Epoch 5: saving model to model_weights-05.weights.h5\n",
      "44/72 [=================>............] - ETA: 2s - loss: 0.6866 - accuracy: 0.7180\n",
      "Epoch 5: saving model to model_weights-05.weights.h5\n",
      "45/72 [=================>............] - ETA: 2s - loss: 0.6856 - accuracy: 0.7188\n",
      "Epoch 5: saving model to model_weights-05.weights.h5\n",
      "46/72 [==================>...........] - ETA: 1s - loss: 0.6847 - accuracy: 0.7181\n",
      "Epoch 5: saving model to model_weights-05.weights.h5\n",
      "47/72 [==================>...........] - ETA: 1s - loss: 0.6834 - accuracy: 0.7194\n",
      "Epoch 5: saving model to model_weights-05.weights.h5\n",
      "48/72 [===================>..........] - ETA: 1s - loss: 0.6855 - accuracy: 0.7191\n",
      "Epoch 5: saving model to model_weights-05.weights.h5\n",
      "49/72 [===================>..........] - ETA: 1s - loss: 0.6842 - accuracy: 0.7191\n",
      "Epoch 5: saving model to model_weights-05.weights.h5\n",
      "50/72 [===================>..........] - ETA: 1s - loss: 0.6864 - accuracy: 0.7175\n",
      "Epoch 5: saving model to model_weights-05.weights.h5\n",
      "51/72 [====================>.........] - ETA: 1s - loss: 0.6876 - accuracy: 0.7172\n",
      "Epoch 5: saving model to model_weights-05.weights.h5\n",
      "52/72 [====================>.........] - ETA: 1s - loss: 0.6874 - accuracy: 0.7163\n",
      "Epoch 5: saving model to model_weights-05.weights.h5\n",
      "53/72 [=====================>........] - ETA: 1s - loss: 0.6893 - accuracy: 0.7152\n",
      "Epoch 5: saving model to model_weights-05.weights.h5\n",
      "54/72 [=====================>........] - ETA: 1s - loss: 0.6922 - accuracy: 0.7144\n",
      "Epoch 5: saving model to model_weights-05.weights.h5\n",
      "55/72 [=====================>........] - ETA: 1s - loss: 0.6916 - accuracy: 0.7136\n",
      "Epoch 5: saving model to model_weights-05.weights.h5\n",
      "56/72 [======================>.......] - ETA: 1s - loss: 0.6918 - accuracy: 0.7140\n",
      "Epoch 5: saving model to model_weights-05.weights.h5\n",
      "57/72 [======================>.......] - ETA: 1s - loss: 0.6918 - accuracy: 0.7144\n",
      "Epoch 5: saving model to model_weights-05.weights.h5\n",
      "58/72 [=======================>......] - ETA: 1s - loss: 0.6900 - accuracy: 0.7152\n",
      "Epoch 5: saving model to model_weights-05.weights.h5\n",
      "59/72 [=======================>......] - ETA: 0s - loss: 0.6887 - accuracy: 0.7150\n",
      "Epoch 5: saving model to model_weights-05.weights.h5\n",
      "60/72 [========================>.....] - ETA: 0s - loss: 0.6882 - accuracy: 0.7151\n",
      "Epoch 5: saving model to model_weights-05.weights.h5\n",
      "61/72 [========================>.....] - ETA: 0s - loss: 0.6894 - accuracy: 0.7157\n",
      "Epoch 5: saving model to model_weights-05.weights.h5\n",
      "62/72 [========================>.....] - ETA: 0s - loss: 0.6888 - accuracy: 0.7160\n",
      "Epoch 5: saving model to model_weights-05.weights.h5\n",
      "63/72 [=========================>....] - ETA: 0s - loss: 0.6860 - accuracy: 0.7178\n",
      "Epoch 5: saving model to model_weights-05.weights.h5\n",
      "64/72 [=========================>....] - ETA: 0s - loss: 0.6857 - accuracy: 0.7168\n",
      "Epoch 5: saving model to model_weights-05.weights.h5\n",
      "65/72 [==========================>...] - ETA: 0s - loss: 0.6857 - accuracy: 0.7163\n",
      "Epoch 5: saving model to model_weights-05.weights.h5\n",
      "66/72 [==========================>...] - ETA: 0s - loss: 0.6875 - accuracy: 0.7145\n",
      "Epoch 5: saving model to model_weights-05.weights.h5\n",
      "67/72 [==========================>...] - ETA: 0s - loss: 0.6856 - accuracy: 0.7148\n",
      "Epoch 5: saving model to model_weights-05.weights.h5\n",
      "68/72 [===========================>..] - ETA: 0s - loss: 0.6878 - accuracy: 0.7132\n",
      "Epoch 5: saving model to model_weights-05.weights.h5\n",
      "69/72 [===========================>..] - ETA: 0s - loss: 0.6845 - accuracy: 0.7151\n",
      "Epoch 5: saving model to model_weights-05.weights.h5\n",
      "70/72 [============================>.] - ETA: 0s - loss: 0.6854 - accuracy: 0.7145\n",
      "Epoch 5: saving model to model_weights-05.weights.h5\n",
      "71/72 [============================>.] - ETA: 0s - loss: 0.6840 - accuracy: 0.7154\n",
      "Epoch 5: saving model to model_weights-05.weights.h5\n",
      "72/72 [==============================] - 5s 75ms/step - loss: 0.6832 - accuracy: 0.7156 - val_loss: 0.7307 - val_accuracy: 0.7055\n",
      "16/16 [==============================] - 0s 6ms/step\n",
      "16/16 [==============================] - 0s 6ms/step\n",
      "Validation accuracy:  0.7055335968379447\n",
      "Test accuracy:  0.6962524654832347\n"
     ]
    }
   ],
   "source": [
    "from keras.callbacks import EarlyStopping\n",
    "\n",
    "RCNN_model = Sequential()\n",
    "\n",
    "RCNN_model.add(Input(shape=(300,)))\n",
    "RCNN_model.add(Reshape((10, 30)))\n",
    "RCNN_model.add(Bidirectional(GRU(128, activation='relu', return_sequences=True)))\n",
    "RCNN_model.add(Convolution1D(100, 3, activation=\"relu\"))\n",
    "RCNN_model.add(Flatten())\n",
    "RCNN_model.add(Dense(512, activation='relu'))\n",
    "RCNN_model.add(Dense(512, activation='relu'))\n",
    "RCNN_model.add(Dense(128, activation='relu'))\n",
    "RCNN_model.add(Dense(3, activation='softmax'))\n",
    "RCNN_model.summary()\n",
    "\n",
    "RCNN_model.compile(optimizer='adam', loss='sparse_categorical_crossentropy', metrics=['accuracy'])\n",
    "\n",
    "early_stop = EarlyStopping(monitor='val_loss', patience=3)  \n",
    "\n",
    "from tensorflow.keras.callbacks import ModelCheckpoint\n",
    "\n",
    "checkpoint_filepath = 'model_weights-{epoch:02d}.weights.h5'\n",
    "\n",
    "# Define the checkpoint callback to save weights after every 5 epochs\n",
    "checkpoint_callback = ModelCheckpoint(\n",
    "    filepath=checkpoint_filepath,\n",
    "    save_weights_only=True,  # Save only the weights, not the entire model\n",
    "    save_freq=1,  # Save after every 5 epochs (since data_generator yields 1 batch per step)\n",
    "    verbose=1\n",
    ")\n",
    "\n",
    "history = RCNN_model.fit(X_train_tfidf_svd, Y_train, validation_data=(X_val_tfidf_svd, Y_val), epochs=5, batch_size=64, callbacks=[early_stop,checkpoint_callback]) \n",
    "    \n",
    "val_predictions = RCNN_model.predict(X_val_tfidf_svd)\n",
    "test_predictions = RCNN_model.predict(X_test_tfidf_svd)\n",
    "val_predictions = val_predictions.argmax(axis=-1)\n",
    "test_predictions = test_predictions.argmax(axis=-1)\n",
    "    \n",
    "print(\"Validation accuracy: \", metrics.accuracy_score(val_predictions, Y_val))\n",
    "print(\"Test accuracy: \", metrics.accuracy_score(test_predictions, Y_test))\n"
   ]
  },
  {
   "cell_type": "code",
   "execution_count": 157,
   "metadata": {
    "trusted": true
   },
   "outputs": [
    {
     "data": {
      "image/png": "[encoded data removed]",
      "text/plain": [
       "<Figure size 1000x500 with 1 Axes>"
      ]
     },
     "metadata": {},
     "output_type": "display_data"
    },
    {
     "data": {
      "image/png": "[encoded data removed]",
      "text/plain": [
       "<Figure size 1000x500 with 1 Axes>"
      ]
     },
     "metadata": {},
     "output_type": "display_data"
    }
   ],
   "source": [
    "import matplotlib.pyplot as plt\n",
    "\n",
    "# Lấy các giá trị từ lịch sử huấn luyện\n",
    "train_accuracy = history.history['accuracy']\n",
    "val_accuracy = history.history['val_accuracy']\n",
    "train_loss = history.history['loss']\n",
    "val_loss = history.history['val_loss']\n",
    "epochs = range(1, len(train_accuracy) + 1)\n",
    "\n",
    "# Vẽ đồ thị độ chính xác\n",
    "plt.figure(figsize=(10, 5))\n",
    "plt.plot(epochs, train_accuracy, 'b', label='Training accuracy')\n",
    "plt.plot(epochs, val_accuracy, 'r', label='Validation accuracy')\n",
    "plt.title('Training and validation accuracy')\n",
    "plt.xlabel('Epochs')\n",
    "plt.ylabel('Accuracy')\n",
    "plt.legend()\n",
    "plt.show()\n",
    "\n",
    "# Vẽ đồ thị mất mát\n",
    "plt.figure(figsize=(10, 5))\n",
    "plt.plot(epochs, train_loss, 'b', label='Training loss')\n",
    "plt.plot(epochs, val_loss, 'r', label='Validation loss')\n",
    "plt.title('Training and validation loss')\n",
    "plt.xlabel('Epochs')\n",
    "plt.ylabel('Loss')\n",
    "plt.legend()\n",
    "plt.show()\n"
   ]
  },
  {
   "cell_type": "code",
   "execution_count": 158,
   "metadata": {
    "trusted": true
   },
   "outputs": [
    {
     "name": "stdout",
     "output_type": "stream",
     "text": [
      "Classification Report:\n",
      "               precision    recall  f1-score   support\n",
      "\n",
      "         NEU       0.60      0.77      0.68       170\n",
      "         POS       0.81      0.68      0.74       167\n",
      "         NEG       0.72      0.64      0.68       170\n",
      "\n",
      "    accuracy                           0.70       507\n",
      "   macro avg       0.71      0.70      0.70       507\n",
      "weighted avg       0.71      0.70      0.70       507\n",
      "\n"
     ]
    }
   ],
   "source": [
    "from sklearn.metrics import classification_report\n",
    "\n",
    "# Tính toán classification report trên tập dữ liệu kiểm tra\n",
    "class_report = classification_report(Y_test, test_predictions, target_names=class_names)\n",
    "\n",
    "# Hiển thị classification report\n",
    "print(\"Classification Report:\\n\", class_report)\n"
   ]
  },
  {
   "cell_type": "code",
   "execution_count": 159,
   "metadata": {
    "trusted": true
   },
   "outputs": [
    {
     "data": {
      "image/png": "[encoded data removed]",
      "text/plain": [
       "<Figure size 800x600 with 2 Axes>"
      ]
     },
     "metadata": {},
     "output_type": "display_data"
    }
   ],
   "source": [
    "from sklearn.metrics import confusion_matrix\n",
    "import seaborn as sns\n",
    "import matplotlib.pyplot as plt\n",
    "\n",
    "# Tính toán confusion matrix trên tập dữ liệu kiểm tra\n",
    "conf_matrix = confusion_matrix(Y_test, test_predictions)\n",
    "\n",
    "# Hiển thị confusion matrix bằng seaborn heatmap\n",
    "plt.figure(figsize=(8, 6))\n",
    "sns.heatmap(conf_matrix, annot=True, fmt='d', cmap='Blues', xticklabels=class_names, yticklabels=class_names)\n",
    "plt.xlabel('Predicted labels')\n",
    "plt.ylabel('True labels')\n",
    "plt.title('Confusion Matrix')\n",
    "plt.show()\n"
   ]
  },
  {
   "cell_type": "code",
   "execution_count": 160,
   "metadata": {
    "trusted": true
   },
   "outputs": [
    {
     "name": "stdout",
     "output_type": "stream",
     "text": [
      "16/16 [==============================] - 0s 7ms/step - loss: 0.7103 - accuracy: 0.6963\n",
      "Test Accuracy: 0.6962524652481079\n",
      "Test Loss: 0.7102755904197693\n"
     ]
    }
   ],
   "source": [
    "# Đánh giá mô hình trên tập test\n",
    "test_loss, test_accuracy = RCNN_model.evaluate(X_test_tfidf_svd, Y_test)\n",
    "\n",
    "print(\"Test Accuracy:\", test_accuracy)\n",
    "print(\"Test Loss:\", test_loss)\n"
   ]
  },
  {
   "cell_type": "code",
   "execution_count": 161,
   "metadata": {
    "trusted": true
   },
   "outputs": [],
   "source": [
    "for i in range(len(RCNN_model.weights)):\n",
    "    RCNN_model.weights[i]._handle_name = RCNN_model.weights[i].name + \"_\" + str(i)"
   ]
  },
  {
   "cell_type": "code",
   "execution_count": 163,
   "metadata": {
    "trusted": true
   },
   "outputs": [
    {
     "data": {
      "text/plain": [
       "['./svd_model.joblib']"
      ]
     },
     "execution_count": 163,
     "metadata": {},
     "output_type": "execute_result"
    }
   ],
   "source": [
    "from joblib import dump\n",
    "RCNN_model.save(\"RCNN_model.h5\")\n",
    "dump(tfidf_vect, \"./tfidf_model.joblib\")\n",
    "dump(svd, \"./svd_model.joblib\")\n"
   ]
  },
  {
   "cell_type": "code",
   "execution_count": 186,
   "metadata": {
    "trusted": true
   },
   "outputs": [],
   "source": [
    "import joblib\n",
    "import tensorflow as tf\n",
    "import keras\n",
    "\n",
    "svd = joblib.load('./svd_model.joblib')\n",
    "tfidf = joblib.load('./tfidf_model.joblib')\n",
    "RCNN_model.load_weights('model_weights-05.weights.h5')\n"
   ]
  },
  {
   "cell_type": "code",
   "execution_count": 193,
   "metadata": {
    "trusted": true
   },
   "outputs": [],
   "source": [
    "def rcnnSentiment(text, class_name):\n",
    "    \"\"\"\n",
    "    Predict sentiment for a given text using the RCNN model.\n",
    "\n",
    "    Args:\n",
    "        text (str): Input text for sentiment analysis.\n",
    "    \n",
    "    Returns:\n",
    "        None\n",
    "    \"\"\"\n",
    "    # Ensure the input is wrapped in a list\n",
    "    text_tfidf = tfidf.transform([text])  # Wrap the string in a list\n",
    "    text_svd = svd.transform(text_tfidf)\n",
    "    predictions = RCNN_model.predict(text_svd)\n",
    "    predicted_class_index = np.argmax(predictions)\n",
    "    predicted_class = class_names[predicted_class_index]\n",
    "    probabilities = prediction[0]\n",
    "\n",
    "    return predicted_class, probabilities"
   ]
  },
  {
   "cell_type": "code",
   "execution_count": 194,
   "metadata": {
    "trusted": true
   },
   "outputs": [
    {
     "name": "stdout",
     "output_type": "stream",
     "text": [
      "1/1 [==============================] - 0s 17ms/step\n"
     ]
    },
    {
     "data": {
      "text/plain": [
       "('POS', tensor(2, device='cuda:0'))"
      ]
     },
     "execution_count": 194,
     "metadata": {},
     "output_type": "execute_result"
    }
   ],
   "source": [
    "rcnnSentiment(text = \"Sản phẩm này rất tốt, tôi rất thích nó\", class_name=class_name)"
   ]
  }
 ],
 "metadata": {
  "kaggle": {
   "accelerator": "gpu",
   "dataSources": [
    {
     "datasetId": 4954350,
     "sourceId": 8362380,
     "sourceType": "datasetVersion"
    }
   ],
   "isGpuEnabled": true,
   "isInternetEnabled": true,
   "language": "python",
   "sourceType": "notebook"
  },
  "kernelspec": {
   "display_name": "venv",
   "language": "python",
   "name": "python3"
  },
  "language_info": {
   "codemirror_mode": {
    "name": "ipython",
    "version": 3
   },
   "file_extension": ".py",
   "mimetype": "text/x-python",
   "name": "python",
   "nbconvert_exporter": "python",
   "pygments_lexer": "ipython3",
   "version": "3.10.12"
  }
 },
 "nbformat": 4,
 "nbformat_minor": 4
}
