{
 "cells": [
  {
   "cell_type": "markdown",
   "metadata": {
    "id": "QbM7x-5UEzUR"
   },
   "source": [
    "# Sentiment Analysis using BERT\n",
    "\n",
    "BERT (Bidirectionnal Encoder Representations for Transformers) is a “new method of pre-training language representations” developed by Google and released in late 2018."
   ]
  },
  {
   "cell_type": "markdown",
   "metadata": {
    "id": "Q6hKNfAlEzUS"
   },
   "source": [
    "### Import Libraries and Set the intial variables"
   ]
  },
  {
   "cell_type": "code",
   "execution_count": 1,
   "metadata": {
    "execution": {
     "iopub.execute_input": "2024-06-11T08:02:18.012687Z",
     "iopub.status.busy": "2024-06-11T08:02:18.012366Z",
     "iopub.status.idle": "2024-06-11T08:02:26.391860Z",
     "shell.execute_reply": "2024-06-11T08:02:26.390896Z",
     "shell.execute_reply.started": "2024-06-11T08:02:18.012653Z"
    },
    "id": "WtQykqrfEzUT",
    "trusted": true
   },
   "outputs": [
    {
     "name": "stderr",
     "output_type": "stream",
     "text": [
      "2024-11-23 12:10:08.272091: I tensorflow/core/platform/cpu_feature_guard.cc:193] This TensorFlow binary is optimized with oneAPI Deep Neural Network Library (oneDNN) to use the following CPU instructions in performance-critical operations:  AVX2 AVX_VNNI FMA\n",
      "To enable them in other operations, rebuild TensorFlow with the appropriate compiler flags.\n",
      "2024-11-23 12:10:08.362445: I tensorflow/core/util/port.cc:104] oneDNN custom operations are on. You may see slightly different numerical results due to floating-point round-off errors from different computation orders. To turn them off, set the environment variable `TF_ENABLE_ONEDNN_OPTS=0`.\n",
      "2024-11-23 12:10:08.793707: W tensorflow/compiler/xla/stream_executor/platform/default/dso_loader.cc:64] Could not load dynamic library 'libnvinfer.so.7'; dlerror: libnvinfer.so.7: cannot open shared object file: No such file or directory\n",
      "2024-11-23 12:10:08.793791: W tensorflow/compiler/xla/stream_executor/platform/default/dso_loader.cc:64] Could not load dynamic library 'libnvinfer_plugin.so.7'; dlerror: libnvinfer_plugin.so.7: cannot open shared object file: No such file or directory\n",
      "2024-11-23 12:10:08.793796: W tensorflow/compiler/tf2tensorrt/utils/py_utils.cc:38] TF-TRT Warning: Cannot dlopen some TensorRT libraries. If you would like to use Nvidia GPU with TensorRT, please make sure the missing libraries mentioned above are installed properly.\n"
     ]
    }
   ],
   "source": [
    "# Import necessary libraries\n",
    "import sys\n",
    "sys.path.append(\"\") \n",
    "\n",
    "import os\n",
    "\n",
    "import numpy as np\n",
    "import pandas as pd\n",
    "import seaborn as sns\n",
    "from pylab import rcParams\n",
    "import regex as re\n",
    "import string\n",
    "import json\n",
    "# import matplotlib.pyplot as plt\n",
    "from matplotlib import rc\n",
    "from sklearn.model_selection import train_test_split\n",
    "from sklearn.metrics import confusion_matrix, classification_report\n",
    "# from collections import defaultdict\n",
    "# from textwrap import wrap\n",
    "\n",
    "# Torch ML libraries\n",
    "# import transformers\n",
    "from transformers import BertModel, BertTokenizer, AdamW, get_linear_schedule_with_warmup\n",
    "import torch\n",
    "from torch import nn\n",
    "from torch.utils.data import Dataset, DataLoader\n",
    "\n",
    "#metrics\n",
    "# from sklearn.metrics import accuracy_score, f1_score\n",
    "from sklearn.metrics import classification_report, confusion_matrix\n",
    "\n",
    "# Misc.\n",
    "import warnings\n",
    "warnings.filterwarnings('ignore')"
   ]
  },
  {
   "cell_type": "code",
   "execution_count": 2,
   "metadata": {},
   "outputs": [
    {
     "name": "stdout",
     "output_type": "stream",
     "text": [
      "CUDA is available.\n"
     ]
    }
   ],
   "source": [
    "if torch.cuda.is_available():\n",
    "    print(\"CUDA is available.\")\n",
    "else:\n",
    "    print(\"Using CPU\")"
   ]
  },
  {
   "cell_type": "code",
   "execution_count": 19,
   "metadata": {
    "execution": {
     "iopub.execute_input": "2024-06-11T08:02:26.393409Z",
     "iopub.status.busy": "2024-06-11T08:02:26.392970Z",
     "iopub.status.idle": "2024-06-11T08:02:26.398001Z",
     "shell.execute_reply": "2024-06-11T08:02:26.397141Z",
     "shell.execute_reply.started": "2024-06-11T08:02:26.393383Z"
    },
    "id": "gRINjFWWEzUb",
    "trusted": true
   },
   "outputs": [],
   "source": [
    "CURRENT_PATH = os.getcwd()\n",
    "TRAINING_DATASET_PATH = f\"{CURRENT_PATH}/dataset\"\n",
    "OUTPUT_DIR = f\"{CURRENT_PATH}/output\"\n",
    "RAW_DATASET_PATH = \"vlsp_sentiment_train.csv\"\n",
    "stop_words_path = \"vietnamese-stopwords.txt\"\n",
    "MAX_LEN = 90\n",
    "RANDOM_SEED =42\n",
    "class_names = ['POS', 'NEG', 'NEU']"
   ]
  },
  {
   "cell_type": "markdown",
   "metadata": {
    "id": "LQOFO5MSEzUf"
   },
   "source": [
    "### Load the data"
   ]
  },
  {
   "cell_type": "code",
   "execution_count": 4,
   "metadata": {
    "execution": {
     "iopub.execute_input": "2024-06-11T08:02:26.400368Z",
     "iopub.status.busy": "2024-06-11T08:02:26.400104Z",
     "iopub.status.idle": "2024-06-11T08:02:26.476172Z",
     "shell.execute_reply": "2024-06-11T08:02:26.475262Z",
     "shell.execute_reply.started": "2024-06-11T08:02:26.400345Z"
    },
    "id": "g6b5ajqzEzUg",
    "outputId": "a7888891-5d69-42b7-a1e0-ccdbe75f04e4",
    "trusted": true
   },
   "outputs": [],
   "source": [
    "dataset = pd.read_csv(RAW_DATASET_PATH,  on_bad_lines='skip', delimiter=\"\\t\")"
   ]
  },
  {
   "cell_type": "code",
   "execution_count": 5,
   "metadata": {
    "execution": {
     "iopub.execute_input": "2024-06-11T08:02:26.477829Z",
     "iopub.status.busy": "2024-06-11T08:02:26.477383Z",
     "iopub.status.idle": "2024-06-11T08:02:26.484775Z",
     "shell.execute_reply": "2024-06-11T08:02:26.483910Z",
     "shell.execute_reply.started": "2024-06-11T08:02:26.477797Z"
    },
    "id": "eQ5Uwg8xEzUk",
    "outputId": "2b23324b-d208-462f-d011-95c2f7847390",
    "trusted": true
   },
   "outputs": [
    {
     "data": {
      "text/plain": [
       "(5100, 2)"
      ]
     },
     "execution_count": 5,
     "metadata": {},
     "output_type": "execute_result"
    }
   ],
   "source": [
    "dataset.shape"
   ]
  },
  {
   "cell_type": "markdown",
   "metadata": {
    "id": "7zqGIlGIEzUo"
   },
   "source": [
    "We can see that the most relevant column for us is content and replyContent and the score as well."
   ]
  },
  {
   "cell_type": "code",
   "execution_count": 6,
   "metadata": {
    "execution": {
     "iopub.execute_input": "2024-06-11T08:02:26.486310Z",
     "iopub.status.busy": "2024-06-11T08:02:26.485996Z",
     "iopub.status.idle": "2024-06-11T08:02:26.498353Z",
     "shell.execute_reply": "2024-06-11T08:02:26.497586Z",
     "shell.execute_reply.started": "2024-06-11T08:02:26.486282Z"
    },
    "id": "24xNLIJlEzUo",
    "outputId": "eae6af5f-068a-480e-acdd-3c78b3e8a81b",
    "trusted": true
   },
   "outputs": [
    {
     "data": {
      "text/plain": [
       "Index(['Class', 'Data'], dtype='object')"
      ]
     },
     "execution_count": 6,
     "metadata": {},
     "output_type": "execute_result"
    }
   ],
   "source": [
    "dataset.columns"
   ]
  },
  {
   "cell_type": "markdown",
   "metadata": {
    "id": "trIBdPvXEzUy"
   },
   "source": [
    "We can see that we have more positive classes than negative and low number of neutral class. I have kept neutral less to focus more on positive and negative classes. Let's allot classes based on scores now. \n",
    "\n",
    "* -1 - negative\n",
    "* 0 - neutral \n",
    "* 1 - positive"
   ]
  },
  {
   "cell_type": "code",
   "execution_count": 7,
   "metadata": {},
   "outputs": [
    {
     "data": {
      "text/html": [
       "<div>\n",
       "<style scoped>\n",
       "    .dataframe tbody tr th:only-of-type {\n",
       "        vertical-align: middle;\n",
       "    }\n",
       "\n",
       "    .dataframe tbody tr th {\n",
       "        vertical-align: top;\n",
       "    }\n",
       "\n",
       "    .dataframe thead th {\n",
       "        text-align: right;\n",
       "    }\n",
       "</style>\n",
       "<table border=\"1\" class=\"dataframe\">\n",
       "  <thead>\n",
       "    <tr style=\"text-align: right;\">\n",
       "      <th></th>\n",
       "      <th>Class</th>\n",
       "    </tr>\n",
       "  </thead>\n",
       "  <tbody>\n",
       "    <tr>\n",
       "      <th>count</th>\n",
       "      <td>5100.000000</td>\n",
       "    </tr>\n",
       "    <tr>\n",
       "      <th>mean</th>\n",
       "      <td>0.000000</td>\n",
       "    </tr>\n",
       "    <tr>\n",
       "      <th>std</th>\n",
       "      <td>0.816577</td>\n",
       "    </tr>\n",
       "    <tr>\n",
       "      <th>min</th>\n",
       "      <td>-1.000000</td>\n",
       "    </tr>\n",
       "    <tr>\n",
       "      <th>25%</th>\n",
       "      <td>-1.000000</td>\n",
       "    </tr>\n",
       "    <tr>\n",
       "      <th>50%</th>\n",
       "      <td>0.000000</td>\n",
       "    </tr>\n",
       "    <tr>\n",
       "      <th>75%</th>\n",
       "      <td>1.000000</td>\n",
       "    </tr>\n",
       "    <tr>\n",
       "      <th>max</th>\n",
       "      <td>1.000000</td>\n",
       "    </tr>\n",
       "  </tbody>\n",
       "</table>\n",
       "</div>"
      ],
      "text/plain": [
       "             Class\n",
       "count  5100.000000\n",
       "mean      0.000000\n",
       "std       0.816577\n",
       "min      -1.000000\n",
       "25%      -1.000000\n",
       "50%       0.000000\n",
       "75%       1.000000\n",
       "max       1.000000"
      ]
     },
     "execution_count": 7,
     "metadata": {},
     "output_type": "execute_result"
    }
   ],
   "source": [
    "dataset.describe()"
   ]
  },
  {
   "cell_type": "code",
   "execution_count": 8,
   "metadata": {
    "execution": {
     "iopub.execute_input": "2024-06-11T08:02:26.499801Z",
     "iopub.status.busy": "2024-06-11T08:02:26.499481Z",
     "iopub.status.idle": "2024-06-11T08:02:26.524219Z",
     "shell.execute_reply": "2024-06-11T08:02:26.523220Z",
     "shell.execute_reply.started": "2024-06-11T08:02:26.499778Z"
    },
    "id": "VzaRGLGDEzU2",
    "outputId": "df731374-977a-4f04-ba82-ab60c0c5ffa8",
    "trusted": true
   },
   "outputs": [],
   "source": [
    "dataset=dataset.drop_duplicates(\"Data\")\n",
    "dataset = dataset.dropna()"
   ]
  },
  {
   "cell_type": "code",
   "execution_count": 9,
   "metadata": {
    "execution": {
     "iopub.execute_input": "2024-06-11T08:02:26.525680Z",
     "iopub.status.busy": "2024-06-11T08:02:26.525391Z",
     "iopub.status.idle": "2024-06-11T08:02:26.538701Z",
     "shell.execute_reply": "2024-06-11T08:02:26.537857Z",
     "shell.execute_reply.started": "2024-06-11T08:02:26.525657Z"
    },
    "trusted": true
   },
   "outputs": [
    {
     "data": {
      "text/plain": [
       "Class\n",
       " 0    1697\n",
       "-1    1693\n",
       " 1    1672\n",
       "Name: count, dtype: int64"
      ]
     },
     "execution_count": 9,
     "metadata": {},
     "output_type": "execute_result"
    }
   ],
   "source": [
    "dataset[\"Class\"].value_counts()"
   ]
  },
  {
   "cell_type": "code",
   "execution_count": 10,
   "metadata": {},
   "outputs": [
    {
     "data": {
      "text/plain": [
       "4664    Dàn này chắc thiết kế ra để dùng vs curved TV ...\n",
       "3128    đẹp ,cấu hình ngon, mà mình sài Htc rồi máy bề...\n",
       "2500               Đang xài Surface pro 3. Quá tuyệt vời.\n",
       "3358    sony xperia z1 bạn nhé, cấu hình mạnh cam...\n",
       "1253                                 Tần số quet thấp quá\n",
       "1325    Android thì chỉ chơi Sony hay HTC. Samsung chỉ...\n",
       "1163    Apple lên bỏ nút home đi. giờ nó không có tác ...\n",
       "1616    Đúng thế con neo 7 màn hình qhd mà giá gần 4tr...\n",
       "354     Nói gì thì nói mình lương tháng 21tr cũng khôn...\n",
       "859                     Cho tiền ko xài. Ngán Androi zoài\n",
       "3535    đa phần các dịch vụ bạn dùng đều k hỗ trợ Việt...\n",
       "1760                                             ngon quá\n",
       "3135    Máy đẹp đó, chất lượng hoàn thiện cực tốt, cấu...\n",
       "1902    Trước tôi đc cô cho 1 em samsung nắp gập rất b...\n",
       "475     Hi, vậy Iphone 6S màu vàng hồng bị bong tróc v...\n",
       "1016    Mình hôm nay lại phát hiện thêm lỗi nữa,...\n",
       "4770    Con này ra mà giốn hệt 5s thì sẽ rất ít người ...\n",
       "3339      Giá rẻ... có xài tốt rồi.. đòi hỏi chi nhiều...\n",
       "1951                      Công nhận con này pin khoẻ thật\n",
       "527     Thiết kế gì thế này, thôi rồi Sony mất chất th...\n",
       "2549    Mình đang dùng một em Thinkpad T450 và cảm thấ...\n",
       "4221                Mình giờ vẫn sài lumia thì có sao đâu\n",
       "4764                   Chip A8 dùng trên iphone 6 nhé bạn\n",
       "2496    Quá đẹp so với quy định, nhất định mình sẽ rướ...\n",
       "3219                 Ngon đấy mà mình không có lúa để mua\n",
       "4894    Ý mình nói là cùng tầm giá. Nhưng cho dù thế n...\n",
       "3325    tôi đang dùng note 5 đây, vk dùng ip 6 plus,nh...\n",
       "745                                     Laban key tốt hơn\n",
       "2600                    Ồ ! Mobiistar chụp ngon hơn hẳn !\n",
       "3615    Cái đồng hồ mình người ta gọi điện tới không h...\n",
       "4408    Sao mấy bạn coi kinh doanh như trò đùa vậy nhỉ...\n",
       "3643    Bác chấp nhận cho nó thò cây kim ra đâm một nh...\n",
       "2610    ;trước giờ không nghĩ là em mbs lại sx x max v...\n",
       "4483    xài hàng Nhật đi bạn, Sony - Toshiba - Sharp -...\n",
       "4526    G4 chụp hình đẹp nhất smarphone, Zenphone 2 cấ...\n",
       "4293    Họ tính cả rồi, làm 1 cái OS riêng phải thì do...\n",
       "2263    Mình đag dung ip 3s và cảm thấy chưa cần thiết...\n",
       "4616    thương hiệu Mobile thì không bằng LG, và LG G4...\n",
       "4346    Giảm đc vì màn hình là màn hình LED phát sáng ...\n",
       "120           có 4 cái lỗ loa để phục vụ cho 1 loa thì có\n",
       "Name: Data, dtype: object"
      ]
     },
     "execution_count": 10,
     "metadata": {},
     "output_type": "execute_result"
    }
   ],
   "source": [
    "dataset[\"Data\"].sample(40)"
   ]
  },
  {
   "cell_type": "code",
   "execution_count": 11,
   "metadata": {
    "execution": {
     "iopub.execute_input": "2024-06-11T08:02:26.555671Z",
     "iopub.status.busy": "2024-06-11T08:02:26.555360Z",
     "iopub.status.idle": "2024-06-11T08:02:26.652437Z",
     "shell.execute_reply": "2024-06-11T08:02:26.651592Z",
     "shell.execute_reply.started": "2024-06-11T08:02:26.555642Z"
    },
    "trusted": true
   },
   "outputs": [],
   "source": [
    "import regex as re\n",
    "import string\n",
    "import json\n",
    "\n",
    "emoji_pattern = re.compile(\"[\"\n",
    "                u\"\\U0001F600-\\U0001F64F\"  # emoticons\n",
    "                u\"\\U0001F300-\\U0001F5FF\"  # symbols & pictographs\n",
    "                u\"\\U0001F680-\\U0001F6FF\"  # transport & map symbols\n",
    "                u\"\\U0001F1E0-\\U0001F1FF\"  # flags (iOS)\n",
    "                u\"\\U00002702-\\U000027B0\"\n",
    "                u\"\\U000024C2-\\U0001F251\"\n",
    "                u\"\\U0001f926-\\U0001f937\"\n",
    "                u'\\U00010000-\\U0010ffff'\n",
    "                u\"\\u200d\"\n",
    "                u\"\\u2640-\\u2642\"\n",
    "                u\"\\u2600-\\u2B55\"\n",
    "                u\"\\u23cf\"\n",
    "                u\"\\u23e9\"\n",
    "                u\"\\u231a\"\n",
    "                u\"\\u3030\"\n",
    "                u\"\\ufe0f\"\n",
    "    \"]+\", flags=re.UNICODE)\n",
    "\n",
    "def clean_text(text):\n",
    "    text = text.lower()\n",
    "    text = re.sub(emoji_pattern, \" \", text)\n",
    "    text = re.sub(r'([a-z]+?)\\1+',r'\\1', text)\n",
    "    text = re.sub(r\"(\\w)\\s*([\" + string.punctuation + \"])\\s*(\\w)\", r\"\\1 \\2 \\3\", text)\n",
    "    text = re.sub(r\"(\\w)\\s*([\" + string.punctuation + \"])\", r\"\\1 \\2\", text)\n",
    "    # text = re.sub(r\"(\\d)([^\\d.])\", r\"\\1 \\2\", text)\n",
    "    # text = re.sub(r\"([^\\d.])(\\d)\", r\"\\1 \\2\", text)\n",
    "    text = re.sub(f\"([{string.punctuation}])([{string.punctuation}])+\",r\"\\1\", text)\n",
    "    text = text.strip()\n",
    "    while text.endswith(tuple(string.punctuation+string.whitespace)):\n",
    "        text = text[:-1]\n",
    "    while text.startswith(tuple(string.punctuation+string.whitespace)):\n",
    "        text = text[1:]\n",
    "    text = re.sub(r\"\\s+\", \" \", text)\n",
    "    return text\n",
    "\n",
    "from pyvi import ViTokenizer\n",
    "\n",
    "def tokenizingText(text):\n",
    "    return ViTokenizer.tokenize(text)\n",
    "\n",
    "lookup_dict = { 'sf': 'sản phẩm','cx':'cũng','kg':'kilogam', 'k':'không', 'ko':'không', 'hong':'không', 'kh':'không', 'kt':'kiểm tra', 'ktra':'kiểm tra', 'bt':'biết', 'pít': 'biết', 'píc': 'biết','v': 'với', 'sl': 'số lượng' ,'dk' : 'được', 'dc' : 'được', 'đc' : 'được' ,'chat' : 'chất' ,'okela' : 'tốt' , 'mn' : 'mọi người', 'sp' : 'sản phẩm', 'ib' : 'inbox', 'nt': 'nhắn tin', 'qc': 'quảng cáo', 'sd': 'sử dụng', 'g': 'giờ', 'dv': 'dịch vụ', 'vs': 'với', 'wa': 'qua', 'tgian' :' thời gian', 'tg' :' thời gian', 'tl' : 'trả lời', 'dx' : 'được', 'ntn' : 'như thế này', 'trc' :'trước'}\n",
    "\n",
    "def text_std(input_text):\n",
    "    words = input_text.split()\n",
    "    new_words = []\n",
    "    for word in words:\n",
    "        word = re.sub(r'[^\\w\\s]','', word)\n",
    "        if word.lower() in lookup_dict:\n",
    "            word = lookup_dict[word.lower()]\n",
    "        new_words.append(word)\n",
    "    new_text = \" \".join(new_words)\n",
    "    return new_text\n",
    "\n",
    "normalized_string = lambda x: \" \".join(x.lower() for x in x.split())\n",
    "\n",
    "with open(stop_words_path, 'r', encoding='utf-8') as file:\n",
    "    stop_words = file.read().splitlines()\n",
    "\n",
    "def remove_stopwords(text):\n",
    "    words = text.split()\n",
    "    filtered_words = [word for word in words if word.lower() not in stop_words]\n",
    "    return ' '.join(filtered_words)\n",
    "\n",
    "def map_label(label):\n",
    "    label_map = {\n",
    "        \"POS\": 0,\n",
    "        \"NEG\": 1,\n",
    "        \"NEU\": 2\n",
    "    }\n",
    "    return label_map[label]"
   ]
  },
  {
   "cell_type": "code",
   "execution_count": 12,
   "metadata": {
    "execution": {
     "iopub.execute_input": "2024-06-11T08:02:26.654278Z",
     "iopub.status.busy": "2024-06-11T08:02:26.653722Z",
     "iopub.status.idle": "2024-06-11T08:02:36.791132Z",
     "shell.execute_reply": "2024-06-11T08:02:36.790358Z",
     "shell.execute_reply.started": "2024-06-11T08:02:26.654248Z"
    },
    "trusted": true
   },
   "outputs": [],
   "source": [
    "dataset[\"Data\"] = dataset[\"Data\"].map(lambda text: clean_text(text))\n",
    "dataset[\"Data\"] = dataset[\"Data\"].apply(text_std)\n",
    "# dataset[\"content\"] = dataset[\"content\"].apply(remove_stopwords)\n",
    "dataset[\"Data\"] = dataset[\"Data\"].apply(normalized_string)\n",
    "dataset[\"Data\"] = dataset[\"Data\"].apply(tokenizingText)\n",
    "# dataset[\"label\"] = dataset[\"label\"].map(lambda label: map_label(label))"
   ]
  },
  {
   "cell_type": "code",
   "execution_count": 13,
   "metadata": {
    "execution": {
     "iopub.execute_input": "2024-06-11T08:02:36.792372Z",
     "iopub.status.busy": "2024-06-11T08:02:36.792099Z",
     "iopub.status.idle": "2024-06-11T08:02:36.804866Z",
     "shell.execute_reply": "2024-06-11T08:02:36.803957Z",
     "shell.execute_reply.started": "2024-06-11T08:02:36.792349Z"
    },
    "trusted": true
   },
   "outputs": [
    {
     "data": {
      "text/html": [
       "<div>\n",
       "<style scoped>\n",
       "    .dataframe tbody tr th:only-of-type {\n",
       "        vertical-align: middle;\n",
       "    }\n",
       "\n",
       "    .dataframe tbody tr th {\n",
       "        vertical-align: top;\n",
       "    }\n",
       "\n",
       "    .dataframe thead th {\n",
       "        text-align: right;\n",
       "    }\n",
       "</style>\n",
       "<table border=\"1\" class=\"dataframe\">\n",
       "  <thead>\n",
       "    <tr style=\"text-align: right;\">\n",
       "      <th></th>\n",
       "      <th>Class</th>\n",
       "      <th>Data</th>\n",
       "    </tr>\n",
       "  </thead>\n",
       "  <tbody>\n",
       "    <tr>\n",
       "      <th>0</th>\n",
       "      <td>-1</td>\n",
       "      <td>mình đã dùng anywhere thế_hệ đầu quả là đầy th...</td>\n",
       "    </tr>\n",
       "    <tr>\n",
       "      <th>1</th>\n",
       "      <td>-1</td>\n",
       "      <td>quan_tâm nhất là độ trễ có cao không dùng thi_...</td>\n",
       "    </tr>\n",
       "    <tr>\n",
       "      <th>2</th>\n",
       "      <td>-1</td>\n",
       "      <td>dag xài con cùi bắp 98k pin trâu mỗi tội đánh ...</td>\n",
       "    </tr>\n",
       "    <tr>\n",
       "      <th>3</th>\n",
       "      <td>-1</td>\n",
       "      <td>logitech chắc hàng phải tiền triệu trở lên dùn...</td>\n",
       "    </tr>\n",
       "    <tr>\n",
       "      <th>4</th>\n",
       "      <td>-1</td>\n",
       "      <td>đang xài con m175 cùi mía nhà xài nhiều chuột ...</td>\n",
       "    </tr>\n",
       "    <tr>\n",
       "      <th>5</th>\n",
       "      <td>-1</td>\n",
       "      <td>đang xài 2 con m185 nút chuột giữa hai con đều...</td>\n",
       "    </tr>\n",
       "    <tr>\n",
       "      <th>6</th>\n",
       "      <td>-1</td>\n",
       "      <td>con anywhere 1 mình dùng bị double click cũng ...</td>\n",
       "    </tr>\n",
       "    <tr>\n",
       "      <th>7</th>\n",
       "      <td>-1</td>\n",
       "      <td>hàng cty cấp cấp xong vứt ở nhà xài con xornet...</td>\n",
       "    </tr>\n",
       "    <tr>\n",
       "      <th>8</th>\n",
       "      <td>-1</td>\n",
       "      <td>magic mouse mà ngon hơn mới_lạ magic mouse chỉ...</td>\n",
       "    </tr>\n",
       "    <tr>\n",
       "      <th>9</th>\n",
       "      <td>-1</td>\n",
       "      <td>em giống y bác luôn chán bluetoth kinh_hồn 1tr...</td>\n",
       "    </tr>\n",
       "  </tbody>\n",
       "</table>\n",
       "</div>"
      ],
      "text/plain": [
       "   Class                                               Data\n",
       "0     -1  mình đã dùng anywhere thế_hệ đầu quả là đầy th...\n",
       "1     -1  quan_tâm nhất là độ trễ có cao không dùng thi_...\n",
       "2     -1  dag xài con cùi bắp 98k pin trâu mỗi tội đánh ...\n",
       "3     -1  logitech chắc hàng phải tiền triệu trở lên dùn...\n",
       "4     -1  đang xài con m175 cùi mía nhà xài nhiều chuột ...\n",
       "5     -1  đang xài 2 con m185 nút chuột giữa hai con đều...\n",
       "6     -1  con anywhere 1 mình dùng bị double click cũng ...\n",
       "7     -1  hàng cty cấp cấp xong vứt ở nhà xài con xornet...\n",
       "8     -1  magic mouse mà ngon hơn mới_lạ magic mouse chỉ...\n",
       "9     -1  em giống y bác luôn chán bluetoth kinh_hồn 1tr..."
      ]
     },
     "execution_count": 13,
     "metadata": {},
     "output_type": "execute_result"
    }
   ],
   "source": [
    "dataset.head(10)"
   ]
  },
  {
   "cell_type": "markdown",
   "metadata": {
    "id": "JeJSe1hIEzU5"
   },
   "source": [
    "## Data Preprocessing"
   ]
  },
  {
   "cell_type": "code",
   "execution_count": 14,
   "metadata": {
    "execution": {
     "iopub.execute_input": "2024-06-11T08:02:37.441283Z",
     "iopub.status.busy": "2024-06-11T08:02:37.441000Z",
     "iopub.status.idle": "2024-06-11T08:02:38.175503Z",
     "shell.execute_reply": "2024-06-11T08:02:38.174600Z",
     "shell.execute_reply.started": "2024-06-11T08:02:37.441258Z"
    },
    "id": "Uj5eXyqYEzU6",
    "outputId": "4a6b71ec-7503-4884-c669-08383d60225e",
    "trusted": true
   },
   "outputs": [
    {
     "data": {
      "application/vnd.jupyter.widget-view+json": {
       "model_id": "aad5148f2e8d454eaf9b0d9302918992",
       "version_major": 2,
       "version_minor": 0
      },
      "text/plain": [
       "tokenizer_config.json:   0%|          | 0.00/238 [00:00<?, ?B/s]"
      ]
     },
     "metadata": {},
     "output_type": "display_data"
    },
    {
     "data": {
      "application/vnd.jupyter.widget-view+json": {
       "model_id": "fd497748ff8342d3ab7331c0976b19b4",
       "version_major": 2,
       "version_minor": 0
      },
      "text/plain": [
       "vocab.txt:   0%|          | 0.00/207k [00:00<?, ?B/s]"
      ]
     },
     "metadata": {},
     "output_type": "display_data"
    },
    {
     "data": {
      "application/vnd.jupyter.widget-view+json": {
       "model_id": "5bb18b83ab8c428fa7853779696702e3",
       "version_major": 2,
       "version_minor": 0
      },
      "text/plain": [
       "special_tokens_map.json:   0%|          | 0.00/112 [00:00<?, ?B/s]"
      ]
     },
     "metadata": {},
     "output_type": "display_data"
    },
    {
     "data": {
      "application/vnd.jupyter.widget-view+json": {
       "model_id": "2443af068f6a48448fc096dae2345e6f",
       "version_major": 2,
       "version_minor": 0
      },
      "text/plain": [
       "config.json:   0%|          | 0.00/846 [00:00<?, ?B/s]"
      ]
     },
     "metadata": {},
     "output_type": "display_data"
    }
   ],
   "source": [
    "# Set the model name\n",
    "MODEL_NAME = 'trituenhantaoio/bert-base-vietnamese-uncased'\n",
    "\n",
    "# Build a BERT based tokenizer\n",
    "tokenizer = BertTokenizer.from_pretrained(MODEL_NAME)"
   ]
  },
  {
   "cell_type": "code",
   "execution_count": 15,
   "metadata": {
    "execution": {
     "iopub.execute_input": "2024-06-11T08:02:38.176941Z",
     "iopub.status.busy": "2024-06-11T08:02:38.176663Z",
     "iopub.status.idle": "2024-06-11T08:02:38.182584Z",
     "shell.execute_reply": "2024-06-11T08:02:38.181732Z",
     "shell.execute_reply.started": "2024-06-11T08:02:38.176918Z"
    },
    "id": "5XqmI4AZEzU9",
    "outputId": "773ac222-7aa8-48d6-eeab-2239646a805a",
    "trusted": true
   },
   "outputs": [
    {
     "name": "stdout",
     "output_type": "stream",
     "text": [
      "[SEP] 3\n",
      "[CLS] 2\n",
      "[PAD] 0\n",
      "[UNK] 1\n"
     ]
    }
   ],
   "source": [
    "# Some of the common BERT tokens\n",
    "print(tokenizer.sep_token, tokenizer.sep_token_id) # marker for ending of a sentence\n",
    "print(tokenizer.cls_token, tokenizer.cls_token_id) # start of each sentence, so BERT knows we’re doing classification\n",
    "print(tokenizer.pad_token, tokenizer.pad_token_id) # special token for padding\n",
    "print(tokenizer.unk_token, tokenizer.unk_token_id) # tokens not found in training set "
   ]
  },
  {
   "cell_type": "markdown",
   "metadata": {
    "id": "r-ridSzLEzVA"
   },
   "source": [
    "BERT works with fixed-length sequences. We’ll use a simple strategy to choose the max length. Let’s store the token length of each review."
   ]
  },
  {
   "cell_type": "code",
   "execution_count": 17,
   "metadata": {
    "execution": {
     "iopub.execute_input": "2024-06-11T08:02:38.184429Z",
     "iopub.status.busy": "2024-06-11T08:02:38.183802Z",
     "iopub.status.idle": "2024-06-11T08:02:47.204800Z",
     "shell.execute_reply": "2024-06-11T08:02:47.204036Z",
     "shell.execute_reply.started": "2024-06-11T08:02:38.184397Z"
    },
    "trusted": true
   },
   "outputs": [
    {
     "name": "stderr",
     "output_type": "stream",
     "text": [
      "Truncation was not explicitly activated but `max_length` is provided a specific value, please use `truncation=True` to explicitly truncate examples to max length. Defaulting to 'longest_first' truncation strategy. If you encode pairs of sequences (GLUE-style) with the tokenizer you can select this strategy more precisely by providing a specific strategy to `truncation`.\n"
     ]
    }
   ],
   "source": [
    "# Store length of each review \n",
    "token_lens = []\n",
    "\n",
    "# Iterate through the content slide\n",
    "for txt in dataset.Data:\n",
    "    tokens = tokenizer.encode(txt, max_length=512)\n",
    "    token_lens.append(len(tokens))"
   ]
  },
  {
   "cell_type": "code",
   "execution_count": 18,
   "metadata": {
    "execution": {
     "iopub.execute_input": "2024-06-11T08:02:47.206374Z",
     "iopub.status.busy": "2024-06-11T08:02:47.206022Z",
     "iopub.status.idle": "2024-06-11T08:02:47.735379Z",
     "shell.execute_reply": "2024-06-11T08:02:47.734539Z",
     "shell.execute_reply.started": "2024-06-11T08:02:47.206343Z"
    },
    "id": "bpVn-ndyEzVE",
    "outputId": "70db118d-4736-4b61-db2d-bc9de8e0d977",
    "trusted": true
   },
   "outputs": [
    {
     "data": {
      "image/png": "[encoded data removed]",
      "text/plain": [
       "<Figure size 640x480 with 1 Axes>"
      ]
     },
     "metadata": {},
     "output_type": "display_data"
    }
   ],
   "source": [
    "import seaborn as sns\n",
    "import matplotlib.pyplot as plt\n",
    "\n",
    "# Plot the distribution of review lengths using histplot\n",
    "sns.histplot(token_lens, kde=True, bins=30)  # `kde=True` adds the kernel density estimate\n",
    "plt.xlim([0, 256])\n",
    "plt.xlabel('Token count')\n",
    "plt.ylabel('Frequency')\n",
    "plt.title('Distribution of Review Lengths')\n",
    "plt.show()\n"
   ]
  },
  {
   "cell_type": "code",
   "execution_count": 25,
   "metadata": {
    "execution": {
     "iopub.execute_input": "2024-06-11T08:02:47.742398Z",
     "iopub.status.busy": "2024-06-11T08:02:47.742076Z",
     "iopub.status.idle": "2024-06-11T08:02:47.765178Z",
     "shell.execute_reply": "2024-06-11T08:02:47.764383Z",
     "shell.execute_reply.started": "2024-06-11T08:02:47.742368Z"
    },
    "trusted": true
   },
   "outputs": [
    {
     "name": "stdout",
     "output_type": "stream",
     "text": [
      "(14645, 2) (1831, 2) (1831, 2)\n"
     ]
    }
   ],
   "source": [
    "df_train, df_test = train_test_split(dataset, test_size=0.2, random_state=RANDOM_SEED,stratify=dataset['label'])\n",
    "df_val, df_test = train_test_split(df_test, test_size=0.5, random_state=RANDOM_SEED, stratify=df_test['label'])\n",
    "print(df_train.shape, df_val.shape, df_test.shape)"
   ]
  },
  {
   "cell_type": "code",
   "execution_count": 26,
   "metadata": {
    "execution": {
     "iopub.execute_input": "2024-06-11T08:02:47.766849Z",
     "iopub.status.busy": "2024-06-11T08:02:47.766243Z",
     "iopub.status.idle": "2024-06-11T08:02:47.778302Z",
     "shell.execute_reply": "2024-06-11T08:02:47.777519Z",
     "shell.execute_reply.started": "2024-06-11T08:02:47.766816Z"
    },
    "trusted": true
   },
   "outputs": [
    {
     "name": "stdout",
     "output_type": "stream",
     "text": [
      "(16696, 2) (1831, 2) (1831, 2)\n"
     ]
    }
   ],
   "source": [
    "from sklearn.utils import shuffle\n",
    "df_train = pd.concat([df_train, df_val.sample(frac=0.62, random_state=RANDOM_SEED)])\n",
    "df_train = pd.concat([df_train, df_test.sample(frac=0.5, random_state=RANDOM_SEED)])\n",
    "\n",
    "df_train = shuffle(df_train, random_state=RANDOM_SEED)\n",
    "\n",
    "print(df_train.shape, df_val.shape, df_test.shape)"
   ]
  },
  {
   "cell_type": "code",
   "execution_count": 27,
   "metadata": {
    "execution": {
     "iopub.execute_input": "2024-06-11T08:02:47.779517Z",
     "iopub.status.busy": "2024-06-11T08:02:47.779261Z",
     "iopub.status.idle": "2024-06-11T08:02:47.790407Z",
     "shell.execute_reply": "2024-06-11T08:02:47.789513Z",
     "shell.execute_reply.started": "2024-06-11T08:02:47.779494Z"
    },
    "trusted": true
   },
   "outputs": [
    {
     "name": "stdout",
     "output_type": "stream",
     "text": [
      "(16696, 2) (1831, 2) (1831, 2)\n"
     ]
    }
   ],
   "source": [
    "df_train=df_train.drop_duplicates(\"content\")\n",
    "print(df_train.shape, df_val.shape, df_test.shape)"
   ]
  },
  {
   "cell_type": "code",
   "execution_count": 28,
   "metadata": {
    "execution": {
     "iopub.execute_input": "2024-06-11T08:02:47.799108Z",
     "iopub.status.busy": "2024-06-11T08:02:47.798588Z",
     "iopub.status.idle": "2024-06-11T08:02:47.878198Z",
     "shell.execute_reply": "2024-06-11T08:02:47.877535Z",
     "shell.execute_reply.started": "2024-06-11T08:02:47.799082Z"
    },
    "trusted": true
   },
   "outputs": [],
   "source": [
    "df_train.to_csv(\"/kaggle/working/train.csv\", index=False)\n",
    "df_val.to_csv(\"/kaggle/working/val.csv\", index=False)\n",
    "df_test.to_csv(\"/kaggle/working/test.csv\", index=False)"
   ]
  },
  {
   "cell_type": "markdown",
   "metadata": {},
   "source": [
    "# Create Pytorch Dataset"
   ]
  },
  {
   "cell_type": "code",
   "execution_count": 29,
   "metadata": {
    "execution": {
     "iopub.execute_input": "2024-06-11T08:02:47.879318Z",
     "iopub.status.busy": "2024-06-11T08:02:47.879092Z",
     "iopub.status.idle": "2024-06-11T08:02:47.886756Z",
     "shell.execute_reply": "2024-06-11T08:02:47.885911Z",
     "shell.execute_reply.started": "2024-06-11T08:02:47.879299Z"
    },
    "id": "Sbakw3KIEzVM",
    "trusted": true
   },
   "outputs": [],
   "source": [
    "class GPReviewDataset(Dataset):\n",
    "    # Constructor Function \n",
    "    def __init__(self, reviews, targets, tokenizer, max_len):\n",
    "        self.reviews = reviews\n",
    "        self.targets = targets\n",
    "        self.tokenizer = tokenizer\n",
    "        self.max_len = max_len\n",
    "    \n",
    "    # Length magic method\n",
    "    def __len__(self):\n",
    "        return len(self.reviews)\n",
    "    \n",
    "    # get item magic method\n",
    "    def __getitem__(self, item):\n",
    "        review = str(self.reviews[item])\n",
    "        target = self.targets[item]\n",
    "        \n",
    "        # Encoded format to be returned \n",
    "        encoding = self.tokenizer.encode_plus(\n",
    "            review,\n",
    "            add_special_tokens=True,\n",
    "            max_length=self.max_len,\n",
    "            return_token_type_ids=False,\n",
    "            pad_to_max_length=True,\n",
    "            return_attention_mask=True,\n",
    "            return_tensors='pt',\n",
    "        )\n",
    "        \n",
    "        return {\n",
    "            'review_text': review,\n",
    "            'input_ids': encoding['input_ids'].flatten(),\n",
    "            'attention_mask': encoding['attention_mask'].flatten(),\n",
    "            'targets': torch.tensor(target, dtype=torch.long)\n",
    "        }"
   ]
  },
  {
   "cell_type": "code",
   "execution_count": 30,
   "metadata": {
    "execution": {
     "iopub.execute_input": "2024-06-11T08:02:47.888168Z",
     "iopub.status.busy": "2024-06-11T08:02:47.887860Z",
     "iopub.status.idle": "2024-06-11T08:02:47.901479Z",
     "shell.execute_reply": "2024-06-11T08:02:47.900658Z",
     "shell.execute_reply.started": "2024-06-11T08:02:47.888140Z"
    },
    "id": "c7SCbUlmEzVT",
    "trusted": true
   },
   "outputs": [],
   "source": [
    "def create_data_loader(df, tokenizer, max_len, batch_size):\n",
    "    ds = GPReviewDataset(\n",
    "        reviews=df.content.to_numpy(),\n",
    "        targets=df.label.to_numpy(),\n",
    "        tokenizer=tokenizer,\n",
    "        max_len=max_len\n",
    "    )\n",
    "    \n",
    "    return DataLoader(\n",
    "        ds,\n",
    "        batch_size=batch_size,\n",
    "        num_workers=0\n",
    "    )"
   ]
  },
  {
   "cell_type": "code",
   "execution_count": 31,
   "metadata": {
    "execution": {
     "iopub.execute_input": "2024-06-11T08:02:47.903006Z",
     "iopub.status.busy": "2024-06-11T08:02:47.902692Z",
     "iopub.status.idle": "2024-06-11T08:02:47.940812Z",
     "shell.execute_reply": "2024-06-11T08:02:47.939927Z",
     "shell.execute_reply.started": "2024-06-11T08:02:47.902977Z"
    },
    "id": "31-GApKIEzVW",
    "trusted": true
   },
   "outputs": [],
   "source": [
    "# Create train, test and val data loaders\n",
    "BATCH_SIZE = 32\n",
    "device = torch.device(\"cuda\" if torch.cuda.is_available() else \"cpu\")\n",
    "train_data_loader = create_data_loader(df_train, tokenizer, MAX_LEN, BATCH_SIZE)\n",
    "val_data_loader = create_data_loader(df_val, tokenizer, MAX_LEN, BATCH_SIZE)\n",
    "test_data_loader = create_data_loader(df_test, tokenizer, MAX_LEN, BATCH_SIZE)"
   ]
  },
  {
   "cell_type": "code",
   "execution_count": 32,
   "metadata": {
    "execution": {
     "iopub.execute_input": "2024-06-11T08:02:47.942203Z",
     "iopub.status.busy": "2024-06-11T08:02:47.941914Z",
     "iopub.status.idle": "2024-06-11T08:02:48.015545Z",
     "shell.execute_reply": "2024-06-11T08:02:48.014709Z",
     "shell.execute_reply.started": "2024-06-11T08:02:47.942180Z"
    },
    "id": "6ZPtu0jjEzVc",
    "outputId": "dd0bb267-6d3d-4ce1-8c81-76b8e4d1beca",
    "trusted": true
   },
   "outputs": [
    {
     "name": "stdout",
     "output_type": "stream",
     "text": [
      "dict_keys(['review_text', 'input_ids', 'attention_mask', 'targets'])\n",
      "torch.Size([32, 90])\n",
      "torch.Size([32, 90])\n",
      "torch.Size([32])\n"
     ]
    }
   ],
   "source": [
    "# Examples \n",
    "data = next(iter(train_data_loader))\n",
    "print(data.keys())\n",
    "\n",
    "print(data['input_ids'].shape)\n",
    "print(data['attention_mask'].shape)\n",
    "print(data['targets'].shape)"
   ]
  },
  {
   "cell_type": "markdown",
   "metadata": {
    "id": "bnRQaNQ0EzVf"
   },
   "source": [
    "## Sentiment Classification with BERT"
   ]
  },
  {
   "cell_type": "markdown",
   "metadata": {},
   "source": [
    "**Load the dataset**"
   ]
  },
  {
   "cell_type": "code",
   "execution_count": 33,
   "metadata": {
    "execution": {
     "iopub.execute_input": "2024-06-11T08:02:48.016814Z",
     "iopub.status.busy": "2024-06-11T08:02:48.016541Z",
     "iopub.status.idle": "2024-06-11T08:03:02.343964Z",
     "shell.execute_reply": "2024-06-11T08:03:02.343036Z",
     "shell.execute_reply.started": "2024-06-11T08:02:48.016792Z"
    },
    "trusted": true
   },
   "outputs": [
    {
     "data": {
      "application/vnd.jupyter.widget-view+json": {
       "model_id": "4a7ecef6d9284d9dafcf6d457d67e442",
       "version_major": 2,
       "version_minor": 0
      },
      "text/plain": [
       "pytorch_model.bin:   0%|          | 0.00/443M [00:00<?, ?B/s]"
      ]
     },
     "metadata": {},
     "output_type": "display_data"
    }
   ],
   "source": [
    "# Load the basic BERT model \n",
    "bert_model = BertModel.from_pretrained(MODEL_NAME)"
   ]
  },
  {
   "cell_type": "code",
   "execution_count": 34,
   "metadata": {
    "execution": {
     "iopub.execute_input": "2024-06-11T08:03:02.345478Z",
     "iopub.status.busy": "2024-06-11T08:03:02.345176Z",
     "iopub.status.idle": "2024-06-11T08:03:02.352072Z",
     "shell.execute_reply": "2024-06-11T08:03:02.351184Z",
     "shell.execute_reply.started": "2024-06-11T08:03:02.345453Z"
    },
    "trusted": true
   },
   "outputs": [],
   "source": [
    "# Build the Sentiment Classifier class \n",
    "class SentimentClassifier(nn.Module):\n",
    "    \n",
    "    # Constructor class \n",
    "    def __init__(self, n_classes):\n",
    "        super(SentimentClassifier, self).__init__()\n",
    "        self.bert = BertModel.from_pretrained(MODEL_NAME)\n",
    "        self.drop = nn.Dropout(p=0.5)\n",
    "        self.out = nn.Linear(self.bert.config.hidden_size, n_classes)\n",
    "        \n",
    "    \n",
    "    def forward(self, input_ids, attention_mask):\n",
    "            bert_output = self.bert(\n",
    "              input_ids=input_ids,\n",
    "              attention_mask=attention_mask\n",
    "            )\n",
    "            pooled_output = bert_output.pooler_output # Accessing the pooled output\n",
    "            #  Add a dropout layer\n",
    "            output = self.drop(pooled_output)\n",
    "            return self.out(output)"
   ]
  },
  {
   "cell_type": "code",
   "execution_count": 35,
   "metadata": {
    "execution": {
     "iopub.execute_input": "2024-06-11T08:03:02.354141Z",
     "iopub.status.busy": "2024-06-11T08:03:02.353413Z",
     "iopub.status.idle": "2024-06-11T08:03:03.093895Z",
     "shell.execute_reply": "2024-06-11T08:03:03.093102Z",
     "shell.execute_reply.started": "2024-06-11T08:03:02.354110Z"
    },
    "trusted": true
   },
   "outputs": [],
   "source": [
    "# Instantiate the model and move to classifier\n",
    "model = SentimentClassifier(len(class_names))\n",
    "model = model.to(device)"
   ]
  },
  {
   "cell_type": "code",
   "execution_count": 36,
   "metadata": {
    "execution": {
     "iopub.execute_input": "2024-06-11T08:03:03.096027Z",
     "iopub.status.busy": "2024-06-11T08:03:03.095100Z",
     "iopub.status.idle": "2024-06-11T08:03:03.105446Z",
     "shell.execute_reply": "2024-06-11T08:03:03.104577Z",
     "shell.execute_reply.started": "2024-06-11T08:03:03.095992Z"
    },
    "trusted": true
   },
   "outputs": [],
   "source": [
    "# Number of iterations \n",
    "EPOCHS = 15\n",
    "\n",
    "# Optimizer Adam \n",
    "optimizer = AdamW(model.parameters(), lr=1e-5, correct_bias=False)\n",
    "\n",
    "total_steps = len(train_data_loader) * EPOCHS\n",
    "\n",
    "scheduler = get_linear_schedule_with_warmup(\n",
    "    optimizer,\n",
    "    num_warmup_steps=0,\n",
    "    num_training_steps=total_steps\n",
    ")\n",
    "\n",
    "# Set the loss function \n",
    "loss_fn = nn.CrossEntropyLoss().to(device)"
   ]
  },
  {
   "cell_type": "code",
   "execution_count": 37,
   "metadata": {
    "execution": {
     "iopub.execute_input": "2024-06-11T08:03:03.106843Z",
     "iopub.status.busy": "2024-06-11T08:03:03.106522Z",
     "iopub.status.idle": "2024-06-11T08:03:03.115493Z",
     "shell.execute_reply": "2024-06-11T08:03:03.114702Z",
     "shell.execute_reply.started": "2024-06-11T08:03:03.106818Z"
    },
    "trusted": true
   },
   "outputs": [],
   "source": [
    "# Function for a single training iteration\n",
    "def train_epoch(model, data_loader, loss_fn, optimizer, device, scheduler, n_examples):\n",
    "    model = model.train()\n",
    "    losses = []\n",
    "    correct_predictions = 0\n",
    "    \n",
    "    for i,d in enumerate(data_loader):\n",
    "        input_ids = d[\"input_ids\"].to(device)\n",
    "        attention_mask = d[\"attention_mask\"].to(device)\n",
    "        targets = d[\"targets\"].to(device)\n",
    "        \n",
    "        outputs = model(\n",
    "            input_ids=input_ids,\n",
    "            attention_mask=attention_mask\n",
    "        )\n",
    "        \n",
    "        _, preds = torch.max(outputs, dim=1)\n",
    "        loss = loss_fn(outputs, targets)\n",
    "        correct_predictions += torch.sum(preds == targets)\n",
    "        losses.append(loss.item())\n",
    "        \n",
    "        # Backward prop\n",
    "        loss.backward()\n",
    "        \n",
    "        # Gradient Descent\n",
    "        nn.utils.clip_grad_norm_(model.parameters(), max_norm=1.0)\n",
    "        optimizer.step()\n",
    "        scheduler.step()\n",
    "        optimizer.zero_grad()\n",
    "    \n",
    "    return correct_predictions.double() / n_examples, np.mean(losses)"
   ]
  },
  {
   "cell_type": "code",
   "execution_count": 38,
   "metadata": {
    "execution": {
     "iopub.execute_input": "2024-06-11T08:03:03.116771Z",
     "iopub.status.busy": "2024-06-11T08:03:03.116486Z",
     "iopub.status.idle": "2024-06-11T08:03:03.131379Z",
     "shell.execute_reply": "2024-06-11T08:03:03.130485Z",
     "shell.execute_reply.started": "2024-06-11T08:03:03.116749Z"
    },
    "trusted": true
   },
   "outputs": [],
   "source": [
    "def eval_model(model, data_loader, loss_fn, device, n_examples):\n",
    "    model = model.eval()\n",
    "    \n",
    "    losses = []\n",
    "    correct_predictions = 0\n",
    "    \n",
    "    with torch.no_grad():\n",
    "        for d in data_loader:\n",
    "            input_ids = d[\"input_ids\"].to(device)\n",
    "            attention_mask = d[\"attention_mask\"].to(device)\n",
    "            targets = d[\"targets\"].to(device)\n",
    "            \n",
    "            # Get model ouptuts\n",
    "            outputs = model(\n",
    "                input_ids=input_ids,\n",
    "                attention_mask=attention_mask\n",
    "            )\n",
    "            \n",
    "            _, preds = torch.max(outputs, dim=1)\n",
    "            loss = loss_fn(outputs, targets)\n",
    "            \n",
    "            correct_predictions += torch.sum(preds == targets)\n",
    "            losses.append(loss.item())\n",
    "    \n",
    "    return correct_predictions.double() / n_examples, np.mean(losses)"
   ]
  },
  {
   "cell_type": "code",
   "execution_count": 39,
   "metadata": {
    "execution": {
     "iopub.execute_input": "2024-06-11T08:03:03.132653Z",
     "iopub.status.busy": "2024-06-11T08:03:03.132325Z",
     "iopub.status.idle": "2024-06-11T08:21:44.304130Z",
     "shell.execute_reply": "2024-06-11T08:21:44.303207Z",
     "shell.execute_reply.started": "2024-06-11T08:03:03.132628Z"
    },
    "trusted": true
   },
   "outputs": [
    {
     "name": "stdout",
     "output_type": "stream",
     "text": [
      "Epoch 1/15\n",
      "----------\n",
      "Train loss 0.7568608765058591 accuracy 0.6636919022520364\n",
      "Val loss 0.6289482820650627 accuracy 0.7274713271436373\n",
      "Epoch 2/15\n",
      "----------\n",
      "Train loss 0.6115848445743893 accuracy 0.736942980354576\n",
      "Val loss 0.5723883093431078 accuracy 0.7602403058438011\n",
      "Epoch 3/15\n",
      "----------\n",
      "Train loss 0.5209068694505198 accuracy 0.7822831816003833\n",
      "Val loss 0.5378348919852026 accuracy 0.7831785909339158\n",
      "Epoch 4/15\n",
      "----------\n",
      "Train loss 0.432245410564873 accuracy 0.8277431720172497\n",
      "Val loss 0.5065873278112247 accuracy 0.813216821409066\n",
      "Epoch 5/15\n",
      "----------\n",
      "Train loss 0.3565679642575226 accuracy 0.8633804504072832\n",
      "Val loss 0.5014482785401673 accuracy 0.8159475696340797\n",
      "Epoch 6/15\n",
      "----------\n",
      "Train loss 0.29193590183910056 accuracy 0.891111643507427\n",
      "Val loss 0.5131648663302948 accuracy 0.8241398143091206\n",
      "Epoch 7/15\n",
      "----------\n",
      "Train loss 0.2374444307894999 accuracy 0.9136919022520364\n",
      "Val loss 0.5276342196197346 accuracy 0.8367012561441834\n",
      "Early Stop trigger\n",
      "CPU times: user 14min 33s, sys: 4min 7s, total: 18min 40s\n",
      "Wall time: 18min 41s\n"
     ]
    }
   ],
   "source": [
    "%%time\n",
    "\n",
    "history = defaultdict(list)\n",
    "best_accuracy = 0\n",
    "best_loss = 100\n",
    "patient = 2\n",
    "patient_count = 0\n",
    "\n",
    "for epoch in range(EPOCHS):\n",
    "    \n",
    "    # Show details \n",
    "    print(f\"Epoch {epoch + 1}/{EPOCHS}\")\n",
    "    print(\"-\" * 10)\n",
    "    \n",
    "    train_acc, train_loss = train_epoch(\n",
    "        model,\n",
    "        train_data_loader,\n",
    "        loss_fn,\n",
    "        optimizer,\n",
    "        device,\n",
    "        scheduler,\n",
    "        len(df_train)\n",
    "    )\n",
    "    print(f\"Train loss {train_loss} accuracy {train_acc}\")\n",
    "    \n",
    "    \n",
    "    # Get model performance (accuracy and loss)\n",
    "    val_acc, val_loss = eval_model(\n",
    "        model,\n",
    "        val_data_loader,\n",
    "        loss_fn,\n",
    "        device,\n",
    "        len(df_val)\n",
    "    )\n",
    "    \n",
    "    print(f\"Val loss {val_loss} accuracy {val_acc}\")\n",
    "    \n",
    "    history['train_acc'].append(train_acc.item())\n",
    "    history['train_loss'].append(train_loss)\n",
    "    history['val_acc'].append(val_acc.item())\n",
    "    history['val_loss'].append(val_loss)\n",
    "    \n",
    "    # If we beat prev performance\n",
    "    if val_acc > best_accuracy and best_loss > val_loss:\n",
    "        model_name = f\"model_state_{epoch}.bin\"\n",
    "        torch.save(model.state_dict(), model_name)\n",
    "        best_accuracy = val_acc\n",
    "        best_loss = val_loss\n",
    "    elif(best_loss < val_loss):\n",
    "        patient_count = patient_count +1\n",
    "        if (patient_count >= patient):\n",
    "            print(\"Early Stop trigger\")\n",
    "            break;"
   ]
  },
  {
   "cell_type": "code",
   "execution_count": 104,
   "metadata": {
    "execution": {
     "iopub.execute_input": "2024-06-11T09:15:02.702352Z",
     "iopub.status.busy": "2024-06-11T09:15:02.701493Z",
     "iopub.status.idle": "2024-06-11T09:15:02.707129Z",
     "shell.execute_reply": "2024-06-11T09:15:02.706217Z",
     "shell.execute_reply.started": "2024-06-11T09:15:02.702321Z"
    },
    "trusted": true
   },
   "outputs": [],
   "source": [
    "# history = {\n",
    "#     'train_acc': [0.7754, 0.8974, 0.9333, 0.9561],\n",
    "#     'val_acc': [0.8578, 0.8981, 0.9191, 0.9252],\n",
    "#     'train_loss': [0.5609, 0.2872, 0.1936, 0.1281],\n",
    "#     'val_loss': [0.3937, 0.2986, 0.2445, 0.2399]\n",
    "# }\n"
   ]
  },
  {
   "cell_type": "code",
   "execution_count": 109,
   "metadata": {
    "execution": {
     "iopub.execute_input": "2024-06-11T09:22:51.631421Z",
     "iopub.status.busy": "2024-06-11T09:22:51.630463Z",
     "iopub.status.idle": "2024-06-11T09:22:52.103679Z",
     "shell.execute_reply": "2024-06-11T09:22:52.102766Z",
     "shell.execute_reply.started": "2024-06-11T09:22:51.631372Z"
    },
    "trusted": true
   },
   "outputs": [
    {
     "data": {
      "image/png": "[encoded data removed]",
      "text/plain": [
       "<Figure size 1400x500 with 2 Axes>"
      ]
     },
     "metadata": {},
     "output_type": "display_data"
    }
   ],
   "source": [
    "import matplotlib.pyplot as plt\n",
    "\n",
    "# Create a figure with two subplots\n",
    "fig, (ax1, ax2) = plt.subplots(1, 2, figsize=(14, 5))\n",
    "\n",
    "# Plot training and validation loss on the first subplot (left)\n",
    "ax2.plot(history['train_loss'], label='train loss')\n",
    "ax2.plot(history['val_loss'], label='validation loss')\n",
    "ax2.set_title('Train and Valid Loss')\n",
    "ax2.set_ylabel('Loss')\n",
    "ax2.set_xlabel('Epoch')\n",
    "ax2.legend()\n",
    "ax2.set_ylim([0, 1])\n",
    "\n",
    "# Plot training and validation accuracy on the second subplot (right)\n",
    "ax1.plot(history['train_acc'], label='train accuracy')\n",
    "ax1.plot(history['val_acc'], label='validation accuracy')\n",
    "ax1.set_title('Train and Valid Accuracy')\n",
    "ax1.set_ylabel('Accuracy')\n",
    "ax1.set_xlabel('Epoch')\n",
    "ax1.legend()\n",
    "ax1.set_ylim([0, 1])\n",
    "\n",
    "# Display the plots\n",
    "plt.tight_layout()\n",
    "plt.show()\n"
   ]
  },
  {
   "cell_type": "markdown",
   "metadata": {},
   "source": [
    "# Test model"
   ]
  },
  {
   "cell_type": "code",
   "execution_count": 42,
   "metadata": {
    "execution": {
     "iopub.execute_input": "2024-06-11T08:21:44.866814Z",
     "iopub.status.busy": "2024-06-11T08:21:44.866501Z",
     "iopub.status.idle": "2024-06-11T08:21:50.968593Z",
     "shell.execute_reply": "2024-06-11T08:21:50.967616Z",
     "shell.execute_reply.started": "2024-06-11T08:21:44.866789Z"
    },
    "trusted": true
   },
   "outputs": [
    {
     "data": {
      "text/plain": [
       "0.8143091206990715"
      ]
     },
     "execution_count": 42,
     "metadata": {},
     "output_type": "execute_result"
    }
   ],
   "source": [
    "test_acc, _ = eval_model(\n",
    "  model,\n",
    "  test_data_loader,\n",
    "  loss_fn,\n",
    "  device,\n",
    "  len(df_test)\n",
    ")\n",
    "\n",
    "test_acc.item()"
   ]
  },
  {
   "cell_type": "code",
   "execution_count": 43,
   "metadata": {
    "execution": {
     "iopub.execute_input": "2024-06-11T08:21:50.970024Z",
     "iopub.status.busy": "2024-06-11T08:21:50.969747Z",
     "iopub.status.idle": "2024-06-11T08:21:51.000861Z",
     "shell.execute_reply": "2024-06-11T08:21:51.000023Z",
     "shell.execute_reply.started": "2024-06-11T08:21:50.970001Z"
    },
    "trusted": true
   },
   "outputs": [
    {
     "data": {
      "text/plain": [
       "('/kaggle/working/tokenizer_config.json',\n",
       " '/kaggle/working/special_tokens_map.json',\n",
       " '/kaggle/working/vocab.txt',\n",
       " '/kaggle/working/added_tokens.json')"
      ]
     },
     "execution_count": 43,
     "metadata": {},
     "output_type": "execute_result"
    }
   ],
   "source": [
    "\n",
    "# Đường dẫn để lưu tokenizer\n",
    "output_dir = \"/kaggle/working/\"\n",
    "\n",
    "# Lưu tokenizer\n",
    "tokenizer.save_pretrained(output_dir)"
   ]
  },
  {
   "cell_type": "code",
   "execution_count": 44,
   "metadata": {
    "execution": {
     "iopub.execute_input": "2024-06-11T08:21:51.002784Z",
     "iopub.status.busy": "2024-06-11T08:21:51.001993Z",
     "iopub.status.idle": "2024-06-11T08:21:51.009084Z",
     "shell.execute_reply": "2024-06-11T08:21:51.008255Z",
     "shell.execute_reply.started": "2024-06-11T08:21:51.002751Z"
    },
    "trusted": true
   },
   "outputs": [],
   "source": [
    "# Build the Sentiment Classifier class \n",
    "class SentimentClassifier(nn.Module):\n",
    "    \n",
    "    # Constructor class \n",
    "    def __init__(self, n_classes):\n",
    "        super(SentimentClassifier, self).__init__()\n",
    "        self.bert = BertModel.from_pretrained(MODEL_NAME,config =config)\n",
    "        self.drop = nn.Dropout(p=0.5)\n",
    "        self.out = nn.Linear(self.bert.config.hidden_size, n_classes)\n",
    "        \n",
    "    \n",
    "    def forward(self, input_ids, attention_mask):\n",
    "            bert_output = self.bert(\n",
    "              input_ids=input_ids,\n",
    "              attention_mask=attention_mask\n",
    "            )\n",
    "            pooled_output = bert_output.pooler_output # Accessing the pooled output\n",
    "            #  Add a dropout layer\n",
    "            output = self.drop(pooled_output)\n",
    "            return self.out(output)"
   ]
  },
  {
   "cell_type": "code",
   "execution_count": 82,
   "metadata": {
    "execution": {
     "iopub.execute_input": "2024-06-11T08:37:39.662535Z",
     "iopub.status.busy": "2024-06-11T08:37:39.661828Z",
     "iopub.status.idle": "2024-06-11T08:37:43.854988Z",
     "shell.execute_reply": "2024-06-11T08:37:43.854041Z",
     "shell.execute_reply.started": "2024-06-11T08:37:39.662496Z"
    },
    "trusted": true
   },
   "outputs": [
    {
     "data": {
      "text/plain": [
       "SentimentClassifier(\n",
       "  (bert): BertModel(\n",
       "    (embeddings): BertEmbeddings(\n",
       "      (word_embeddings): Embedding(32000, 768, padding_idx=0)\n",
       "      (position_embeddings): Embedding(512, 768)\n",
       "      (token_type_embeddings): Embedding(2, 768)\n",
       "      (LayerNorm): LayerNorm((768,), eps=1e-12, elementwise_affine=True)\n",
       "      (dropout): Dropout(p=0.1, inplace=False)\n",
       "    )\n",
       "    (encoder): BertEncoder(\n",
       "      (layer): ModuleList(\n",
       "        (0-11): 12 x BertLayer(\n",
       "          (attention): BertAttention(\n",
       "            (self): BertSdpaSelfAttention(\n",
       "              (query): Linear(in_features=768, out_features=768, bias=True)\n",
       "              (key): Linear(in_features=768, out_features=768, bias=True)\n",
       "              (value): Linear(in_features=768, out_features=768, bias=True)\n",
       "              (dropout): Dropout(p=0.1, inplace=False)\n",
       "            )\n",
       "            (output): BertSelfOutput(\n",
       "              (dense): Linear(in_features=768, out_features=768, bias=True)\n",
       "              (LayerNorm): LayerNorm((768,), eps=1e-12, elementwise_affine=True)\n",
       "              (dropout): Dropout(p=0.1, inplace=False)\n",
       "            )\n",
       "          )\n",
       "          (intermediate): BertIntermediate(\n",
       "            (dense): Linear(in_features=768, out_features=3072, bias=True)\n",
       "            (intermediate_act_fn): GELUActivation()\n",
       "          )\n",
       "          (output): BertOutput(\n",
       "            (dense): Linear(in_features=3072, out_features=768, bias=True)\n",
       "            (LayerNorm): LayerNorm((768,), eps=1e-12, elementwise_affine=True)\n",
       "            (dropout): Dropout(p=0.1, inplace=False)\n",
       "          )\n",
       "        )\n",
       "      )\n",
       "    )\n",
       "    (pooler): BertPooler(\n",
       "      (dense): Linear(in_features=768, out_features=768, bias=True)\n",
       "      (activation): Tanh()\n",
       "    )\n",
       "  )\n",
       "  (drop): Dropout(p=0.5, inplace=False)\n",
       "  (out): Linear(in_features=768, out_features=3, bias=True)\n",
       ")"
      ]
     },
     "execution_count": 82,
     "metadata": {},
     "output_type": "execute_result"
    }
   ],
   "source": [
    "import os\n",
    "from transformers import BertTokenizer, BertConfig, BertModel\n",
    "MODEL_NAME = \"trituenhantaoio/bert-base-vietnamese-uncased\"\n",
    "model_path = \"/kaggle/input/sentiment/bert-base-uncased\"\n",
    "# Tải cấu hình của mô hình từ tệp config.json\n",
    "config = BertConfig.from_pretrained(MODEL_NAME)\n",
    "\n",
    "# Tải tokenizer từ thư mục chứa các tệp nhị phân đã lưu trữ\n",
    "tokenizer = BertTokenizer.from_pretrained(MODEL_NAME)\n",
    "\n",
    "# Tải mô hình từ thư mục chứa các tệp nhị phân đã lưu trữ\n",
    "model_bert_sentiment = SentimentClassifier(3)\n",
    "model_bert_sentiment.load_state_dict(torch.load('/kaggle/input/sentiment/pytorch_model.bin'))\n",
    "\n",
    "# Đảm bảo mô hình ở chế độ evaluation\n",
    "model_bert_sentiment.eval()\n",
    "if torch.cuda.is_available():\n",
    "    device = torch.device(\"cuda\")\n",
    "else:\n",
    "    device = torch.device(\"cpu\")\n",
    "\n",
    "model_bert_sentiment.to(device)"
   ]
  },
  {
   "cell_type": "code",
   "execution_count": 83,
   "metadata": {
    "execution": {
     "iopub.execute_input": "2024-06-11T08:37:48.961598Z",
     "iopub.status.busy": "2024-06-11T08:37:48.960974Z",
     "iopub.status.idle": "2024-06-11T08:37:55.084003Z",
     "shell.execute_reply": "2024-06-11T08:37:55.083202Z",
     "shell.execute_reply.started": "2024-06-11T08:37:48.961565Z"
    },
    "trusted": true
   },
   "outputs": [
    {
     "data": {
      "text/plain": [
       "0.9142545057345712"
      ]
     },
     "execution_count": 83,
     "metadata": {},
     "output_type": "execute_result"
    }
   ],
   "source": [
    "test_acc, _ = eval_model(\n",
    "  model_bert_sentiment,\n",
    "  test_data_loader,\n",
    "  loss_fn,\n",
    "  device,\n",
    "  len(df_test)\n",
    ")\n",
    "\n",
    "test_acc.item()"
   ]
  },
  {
   "cell_type": "code",
   "execution_count": 84,
   "metadata": {
    "execution": {
     "iopub.execute_input": "2024-06-11T08:37:57.720941Z",
     "iopub.status.busy": "2024-06-11T08:37:57.720065Z",
     "iopub.status.idle": "2024-06-11T08:37:57.729025Z",
     "shell.execute_reply": "2024-06-11T08:37:57.727986Z",
     "shell.execute_reply.started": "2024-06-11T08:37:57.720895Z"
    },
    "trusted": true
   },
   "outputs": [],
   "source": [
    "def get_predictions(model, data_loader):\n",
    "    model = model.eval()\n",
    "\n",
    "    review_texts = []\n",
    "    predictions = []\n",
    "    prediction_probs = []\n",
    "    real_values = []\n",
    "\n",
    "    with torch.no_grad():\n",
    "        for d in data_loader:\n",
    "            texts = d[\"review_text\"]\n",
    "            input_ids = d[\"input_ids\"].to(device)\n",
    "            attention_mask = d[\"attention_mask\"].to(device)\n",
    "            targets = d[\"targets\"].to(device)\n",
    "\n",
    "            # Get outouts\n",
    "            outputs = model(\n",
    "                input_ids=input_ids,\n",
    "                attention_mask=attention_mask\n",
    "            )\n",
    "            _, preds = torch.max(outputs, dim=1)\n",
    "\n",
    "            review_texts.extend(texts)\n",
    "            predictions.extend(preds)\n",
    "            prediction_probs.extend(outputs)\n",
    "            real_values.extend(targets)\n",
    "\n",
    "    predictions = torch.stack(predictions).cpu()\n",
    "    prediction_probs = torch.stack(prediction_probs).cpu()\n",
    "    real_values = torch.stack(real_values).cpu()\n",
    "\n",
    "    return review_texts, predictions, prediction_probs, real_values"
   ]
  },
  {
   "cell_type": "code",
   "execution_count": 85,
   "metadata": {
    "execution": {
     "iopub.execute_input": "2024-06-11T08:38:01.883157Z",
     "iopub.status.busy": "2024-06-11T08:38:01.882489Z",
     "iopub.status.idle": "2024-06-11T08:38:06.833999Z",
     "shell.execute_reply": "2024-06-11T08:38:06.833123Z",
     "shell.execute_reply.started": "2024-06-11T08:38:01.883128Z"
    },
    "trusted": true
   },
   "outputs": [],
   "source": [
    "y_review_texts, y_pred, y_pred_probs, y_test = get_predictions(\n",
    "    model_bert_sentiment,\n",
    "    test_data_loader\n",
    ")"
   ]
  },
  {
   "cell_type": "code",
   "execution_count": 86,
   "metadata": {
    "execution": {
     "iopub.execute_input": "2024-06-11T08:38:06.836309Z",
     "iopub.status.busy": "2024-06-11T08:38:06.835699Z",
     "iopub.status.idle": "2024-06-11T08:38:06.851654Z",
     "shell.execute_reply": "2024-06-11T08:38:06.850661Z",
     "shell.execute_reply.started": "2024-06-11T08:38:06.836273Z"
    },
    "trusted": true
   },
   "outputs": [
    {
     "name": "stdout",
     "output_type": "stream",
     "text": [
      "              precision    recall  f1-score   support\n",
      "\n",
      "         POS       0.96      0.91      0.93       687\n",
      "         NEG       0.93      0.96      0.94       689\n",
      "         NEU       0.84      0.86      0.85       455\n",
      "\n",
      "    accuracy                           0.91      1831\n",
      "   macro avg       0.91      0.91      0.91      1831\n",
      "weighted avg       0.92      0.91      0.91      1831\n",
      "\n"
     ]
    }
   ],
   "source": [
    "print(classification_report(y_test, y_pred, target_names=class_names))"
   ]
  },
  {
   "cell_type": "code",
   "execution_count": 87,
   "metadata": {
    "execution": {
     "iopub.execute_input": "2024-06-11T08:38:10.448906Z",
     "iopub.status.busy": "2024-06-11T08:38:10.448511Z",
     "iopub.status.idle": "2024-06-11T08:38:10.795070Z",
     "shell.execute_reply": "2024-06-11T08:38:10.793591Z",
     "shell.execute_reply.started": "2024-06-11T08:38:10.448877Z"
    },
    "trusted": true
   },
   "outputs": [
    {
     "data": {
      "image/png": "[encoded data removed]",
      "text/plain": [
       "<Figure size 640x480 with 2 Axes>"
      ]
     },
     "metadata": {},
     "output_type": "display_data"
    }
   ],
   "source": [
    "def show_confusion_matrix(confusion_matrix):\n",
    "    hmap = sns.heatmap(confusion_matrix, annot=True, fmt=\"d\", cmap=\"Blues\")\n",
    "    hmap.yaxis.set_ticklabels(hmap.yaxis.get_ticklabels(), rotation=0, ha='right')\n",
    "    hmap.xaxis.set_ticklabels(hmap.xaxis.get_ticklabels(), rotation=30, ha='right')\n",
    "    plt.ylabel('True sentiment')\n",
    "    plt.xlabel('Predicted sentiment');\n",
    "\n",
    "cm = confusion_matrix(y_test, y_pred)\n",
    "df_cm = pd.DataFrame(cm, index=class_names, columns=class_names)\n",
    "show_confusion_matrix(df_cm)"
   ]
  },
  {
   "cell_type": "code",
   "execution_count": 51,
   "metadata": {
    "execution": {
     "iopub.execute_input": "2024-06-11T08:22:03.450301Z",
     "iopub.status.busy": "2024-06-11T08:22:03.450058Z",
     "iopub.status.idle": "2024-06-11T08:22:03.454447Z",
     "shell.execute_reply": "2024-06-11T08:22:03.453601Z",
     "shell.execute_reply.started": "2024-06-11T08:22:03.450280Z"
    },
    "id": "S4CWFF0MEzV9",
    "trusted": true
   },
   "outputs": [],
   "source": [
    "review_text = \"Sản phẩm này cũng tạm được\""
   ]
  },
  {
   "cell_type": "code",
   "execution_count": 52,
   "metadata": {
    "execution": {
     "iopub.execute_input": "2024-06-11T08:22:03.455787Z",
     "iopub.status.busy": "2024-06-11T08:22:03.455517Z",
     "iopub.status.idle": "2024-06-11T08:22:03.468939Z",
     "shell.execute_reply": "2024-06-11T08:22:03.468127Z",
     "shell.execute_reply.started": "2024-06-11T08:22:03.455765Z"
    },
    "id": "TOelFhlsSiK2",
    "trusted": true
   },
   "outputs": [],
   "source": [
    "encoded_review = tokenizer.encode_plus(\n",
    "    review_text,\n",
    "    max_length=MAX_LEN,\n",
    "    add_special_tokens=True,\n",
    "    return_token_type_ids=False,\n",
    "    pad_to_max_length=True,\n",
    "    return_attention_mask=True,\n",
    "    return_tensors='pt',\n",
    "    truncation=True\n",
    ")"
   ]
  },
  {
   "cell_type": "code",
   "execution_count": null,
   "metadata": {
    "trusted": true
   },
   "outputs": [],
   "source": []
  },
  {
   "cell_type": "code",
   "execution_count": 53,
   "metadata": {
    "execution": {
     "iopub.execute_input": "2024-06-11T08:22:03.470133Z",
     "iopub.status.busy": "2024-06-11T08:22:03.469882Z",
     "iopub.status.idle": "2024-06-11T08:22:03.513203Z",
     "shell.execute_reply": "2024-06-11T08:22:03.512424Z",
     "shell.execute_reply.started": "2024-06-11T08:22:03.470112Z"
    },
    "id": "3LZm3Ag0WGpi",
    "outputId": "adc38462-7a4a-4554-c856-f8af32c3c8c2",
    "trusted": true
   },
   "outputs": [
    {
     "name": "stdout",
     "output_type": "stream",
     "text": [
      "POS probability: 0.0302\n",
      "NEG probability: 0.0181\n",
      "NEU probability: 0.9517\n",
      "Review text: Sản phẩm này cũng tạm được\n",
      "Sentiment  : NEU\n"
     ]
    }
   ],
   "source": [
    "import torch.nn.functional as F\n",
    "\n",
    "input_ids = encoded_review['input_ids'].to('cuda')\n",
    "attention_mask = encoded_review['attention_mask'].to('cuda')\n",
    "\n",
    "output = model_bert_sentiment(input_ids, attention_mask)\n",
    "_, prediction = torch.max(output, dim=1)\n",
    "\n",
    "\n",
    "probs = F.softmax(output, dim=1)\n",
    "\n",
    "for i, class_name in enumerate(class_names):\n",
    "    print(f'{class_name} probability: {probs[0][i].item():.4f}')\n",
    "\n",
    "# In ra review text và nhãn dự đoán\n",
    "print(f'Review text: {review_text}')\n",
    "print(f'Sentiment  : {class_names[prediction]}')\n"
   ]
  },
  {
   "cell_type": "markdown",
   "metadata": {},
   "source": [
    "# **RCNN**"
   ]
  },
  {
   "cell_type": "code",
   "execution_count": 54,
   "metadata": {
    "execution": {
     "iopub.execute_input": "2024-06-11T08:22:03.514451Z",
     "iopub.status.busy": "2024-06-11T08:22:03.514158Z",
     "iopub.status.idle": "2024-06-11T08:22:14.318370Z",
     "shell.execute_reply": "2024-06-11T08:22:14.317410Z",
     "shell.execute_reply.started": "2024-06-11T08:22:03.514396Z"
    },
    "trusted": true
   },
   "outputs": [
    {
     "name": "stderr",
     "output_type": "stream",
     "text": [
      "2024-06-11 08:22:05.229383: E external/local_xla/xla/stream_executor/cuda/cuda_dnn.cc:9261] Unable to register cuDNN factory: Attempting to register factory for plugin cuDNN when one has already been registered\n",
      "2024-06-11 08:22:05.229511: E external/local_xla/xla/stream_executor/cuda/cuda_fft.cc:607] Unable to register cuFFT factory: Attempting to register factory for plugin cuFFT when one has already been registered\n",
      "2024-06-11 08:22:05.357021: E external/local_xla/xla/stream_executor/cuda/cuda_blas.cc:1515] Unable to register cuBLAS factory: Attempting to register factory for plugin cuBLAS when one has already been registered\n"
     ]
    },
    {
     "name": "stdout",
     "output_type": "stream",
     "text": [
      "3.3.3\n",
      "2.15.0\n"
     ]
    }
   ],
   "source": [
    "import tensorflow as tf\n",
    "print(tf.keras.__version__)\n",
    "print(tf.__version__)"
   ]
  },
  {
   "cell_type": "code",
   "execution_count": 55,
   "metadata": {
    "execution": {
     "iopub.execute_input": "2024-06-11T08:22:14.320292Z",
     "iopub.status.busy": "2024-06-11T08:22:14.319645Z",
     "iopub.status.idle": "2024-06-11T08:22:34.644031Z",
     "shell.execute_reply": "2024-06-11T08:22:34.643185Z",
     "shell.execute_reply.started": "2024-06-11T08:22:14.320264Z"
    },
    "trusted": true
   },
   "outputs": [],
   "source": [
    "from tensorflow.keras.preprocessing.text import Tokenizer\n",
    "from tensorflow.keras.preprocessing.sequence import pad_sequences\n",
    "import pandas as pd\n",
    "import re\n",
    "import string\n",
    "from tqdm import tqdm\n",
    "import numpy as np\n",
    "import os \n",
    "import gensim\n",
    "from gensim.models import KeyedVectors\n",
    "import sklearn\n",
    "from sklearn.model_selection import train_test_split\n",
    "from sklearn.feature_extraction.text import TfidfVectorizer, CountVectorizer\n",
    "import sklearn.metrics as metrics\n",
    "from sklearn.decomposition import TruncatedSVD\n",
    "from sklearn.svm import SVC \n",
    "from sklearn.ensemble import RandomForestClassifier\n",
    "from sklearn.preprocessing import LabelEncoder\n",
    "from keras.models import Sequential\n",
    "from keras.layers import Embedding, Conv1D, GlobalMaxPooling1D, Dense, Dropout, Flatten, LSTM, Conv1D, MaxPooling1D, Input, Reshape, GRU, Bidirectional, Convolution1D\n",
    "from keras import Model, models, optimizers"
   ]
  },
  {
   "cell_type": "code",
   "execution_count": 56,
   "metadata": {
    "execution": {
     "iopub.execute_input": "2024-06-11T08:22:34.645425Z",
     "iopub.status.busy": "2024-06-11T08:22:34.645145Z",
     "iopub.status.idle": "2024-06-11T08:22:34.695011Z",
     "shell.execute_reply": "2024-06-11T08:22:34.694271Z",
     "shell.execute_reply.started": "2024-06-11T08:22:34.645400Z"
    },
    "trusted": true
   },
   "outputs": [],
   "source": [
    "# df_train = pd.read_csv('/kaggle/input/sentiment/train.csv')\n",
    "# df_val = pd.read_csv(\"/kaggle/input/sentiment/val.csv\")\n",
    "# df_test = pd.read_csv(\"/kaggle/input/sentiment/test.csv\")\n",
    "df_train = pd.read_csv('/kaggle/working/train.csv')\n",
    "df_val = pd.read_csv(\"/kaggle/working/val.csv\")\n",
    "df_test = pd.read_csv(\"/kaggle/working/test.csv\")"
   ]
  },
  {
   "cell_type": "code",
   "execution_count": 57,
   "metadata": {
    "execution": {
     "iopub.execute_input": "2024-06-11T08:22:34.696340Z",
     "iopub.status.busy": "2024-06-11T08:22:34.696062Z",
     "iopub.status.idle": "2024-06-11T08:22:46.907772Z",
     "shell.execute_reply": "2024-06-11T08:22:46.906623Z",
     "shell.execute_reply.started": "2024-06-11T08:22:34.696315Z"
    },
    "trusted": true
   },
   "outputs": [
    {
     "name": "stdout",
     "output_type": "stream",
     "text": [
      "Requirement already satisfied: pyvi in /opt/conda/lib/python3.10/site-packages (0.1.1)\n",
      "Requirement already satisfied: scikit-learn in /opt/conda/lib/python3.10/site-packages (from pyvi) (1.2.2)\n",
      "Requirement already satisfied: sklearn-crfsuite in /opt/conda/lib/python3.10/site-packages (from pyvi) (0.3.6)\n",
      "Requirement already satisfied: numpy>=1.17.3 in /opt/conda/lib/python3.10/site-packages (from scikit-learn->pyvi) (1.26.4)\n",
      "Requirement already satisfied: scipy>=1.3.2 in /opt/conda/lib/python3.10/site-packages (from scikit-learn->pyvi) (1.11.4)\n",
      "Requirement already satisfied: joblib>=1.1.1 in /opt/conda/lib/python3.10/site-packages (from scikit-learn->pyvi) (1.4.2)\n",
      "Requirement already satisfied: threadpoolctl>=2.0.0 in /opt/conda/lib/python3.10/site-packages (from scikit-learn->pyvi) (3.2.0)\n",
      "Requirement already satisfied: python-crfsuite>=0.8.3 in /opt/conda/lib/python3.10/site-packages (from sklearn-crfsuite->pyvi) (0.9.10)\n",
      "Requirement already satisfied: six in /opt/conda/lib/python3.10/site-packages (from sklearn-crfsuite->pyvi) (1.16.0)\n",
      "Requirement already satisfied: tabulate in /opt/conda/lib/python3.10/site-packages (from sklearn-crfsuite->pyvi) (0.9.0)\n",
      "Requirement already satisfied: tqdm>=2.0 in /opt/conda/lib/python3.10/site-packages (from sklearn-crfsuite->pyvi) (4.66.4)\n"
     ]
    }
   ],
   "source": [
    "!pip install pyvi"
   ]
  },
  {
   "cell_type": "code",
   "execution_count": 58,
   "metadata": {
    "execution": {
     "iopub.execute_input": "2024-06-11T08:22:46.909498Z",
     "iopub.status.busy": "2024-06-11T08:22:46.909172Z",
     "iopub.status.idle": "2024-06-11T08:22:46.915420Z",
     "shell.execute_reply": "2024-06-11T08:22:46.914623Z",
     "shell.execute_reply.started": "2024-06-11T08:22:46.909470Z"
    },
    "trusted": true
   },
   "outputs": [],
   "source": [
    "from pyvi import ViTokenizer\n",
    "def TokenizingText(text):\n",
    "    return ViTokenizer.tokenize(text)"
   ]
  },
  {
   "cell_type": "code",
   "execution_count": 59,
   "metadata": {
    "execution": {
     "iopub.execute_input": "2024-06-11T08:22:46.916861Z",
     "iopub.status.busy": "2024-06-11T08:22:46.916578Z",
     "iopub.status.idle": "2024-06-11T08:22:51.318372Z",
     "shell.execute_reply": "2024-06-11T08:22:51.317603Z",
     "shell.execute_reply.started": "2024-06-11T08:22:46.916838Z"
    },
    "trusted": true
   },
   "outputs": [],
   "source": [
    "df_train['content']= df_train['content'].apply(TokenizingText)\n",
    "df_val['content']= df_val['content'].apply(TokenizingText)\n",
    "df_test['content']= df_test['content'].apply(TokenizingText)"
   ]
  },
  {
   "cell_type": "code",
   "execution_count": 60,
   "metadata": {
    "execution": {
     "iopub.execute_input": "2024-06-11T08:22:51.319822Z",
     "iopub.status.busy": "2024-06-11T08:22:51.319517Z",
     "iopub.status.idle": "2024-06-11T08:22:51.325343Z",
     "shell.execute_reply": "2024-06-11T08:22:51.324452Z",
     "shell.execute_reply.started": "2024-06-11T08:22:51.319796Z"
    },
    "trusted": true
   },
   "outputs": [],
   "source": [
    "X_train = df_train['content']\n",
    "X_val = df_val['content']\n",
    "X_test = df_test['content']\n",
    "\n",
    "Y_train = df_train['label']\n",
    "Y_val = df_val['label']\n",
    "Y_test = df_test['label']"
   ]
  },
  {
   "cell_type": "code",
   "execution_count": 61,
   "metadata": {
    "execution": {
     "iopub.execute_input": "2024-06-11T08:22:51.326767Z",
     "iopub.status.busy": "2024-06-11T08:22:51.326416Z",
     "iopub.status.idle": "2024-06-11T08:22:52.001189Z",
     "shell.execute_reply": "2024-06-11T08:22:52.000389Z",
     "shell.execute_reply.started": "2024-06-11T08:22:51.326745Z"
    },
    "trusted": true
   },
   "outputs": [],
   "source": [
    "tfidf_vect = TfidfVectorizer(analyzer='word', max_features=30000)\n",
    "tfidf_vect.fit(X_train) \n",
    "X_train_tfidf =  tfidf_vect.transform(X_train)\n",
    "X_val_tfidf =  tfidf_vect.transform(X_val)\n",
    "X_test_tfidf =  tfidf_vect.transform(X_test)"
   ]
  },
  {
   "cell_type": "code",
   "execution_count": 62,
   "metadata": {
    "execution": {
     "iopub.execute_input": "2024-06-11T08:22:52.002458Z",
     "iopub.status.busy": "2024-06-11T08:22:52.002186Z",
     "iopub.status.idle": "2024-06-11T08:22:55.650772Z",
     "shell.execute_reply": "2024-06-11T08:22:55.649976Z",
     "shell.execute_reply.started": "2024-06-11T08:22:52.002435Z"
    },
    "trusted": true
   },
   "outputs": [],
   "source": [
    "svd = TruncatedSVD(n_components=300, random_state=42)\n",
    "svd.fit(X_train_tfidf)\n",
    "X_train_tfidf_svd = svd.transform(X_train_tfidf)\n",
    "X_val_tfidf_svd = svd.transform(X_val_tfidf)\n",
    "X_test_tfidf_svd = svd.transform(X_test_tfidf)"
   ]
  },
  {
   "cell_type": "code",
   "execution_count": 63,
   "metadata": {
    "execution": {
     "iopub.execute_input": "2024-06-11T08:22:55.652706Z",
     "iopub.status.busy": "2024-06-11T08:22:55.652068Z",
     "iopub.status.idle": "2024-06-11T08:22:56.020625Z",
     "shell.execute_reply": "2024-06-11T08:22:56.019543Z",
     "shell.execute_reply.started": "2024-06-11T08:22:55.652669Z"
    },
    "trusted": true
   },
   "outputs": [],
   "source": [
    "tf.keras.backend.clear_session()"
   ]
  },
  {
   "cell_type": "code",
   "execution_count": null,
   "metadata": {
    "execution": {
     "iopub.execute_input": "2024-06-11T08:22:56.022163Z",
     "iopub.status.busy": "2024-06-11T08:22:56.021864Z"
    },
    "trusted": true
   },
   "outputs": [
    {
     "data": {
      "text/html": [
       "<pre style=\"white-space:pre;overflow-x:auto;line-height:normal;font-family:Menlo,'DejaVu Sans Mono',consolas,'Courier New',monospace\"><span style=\"font-weight: bold\">Model: \"sequential\"</span>\n",
       "</pre>\n"
      ],
      "text/plain": [
       "\u001b[1mModel: \"sequential\"\u001b[0m\n"
      ]
     },
     "metadata": {},
     "output_type": "display_data"
    },
    {
     "data": {
      "text/html": [
       "<pre style=\"white-space:pre;overflow-x:auto;line-height:normal;font-family:Menlo,'DejaVu Sans Mono',consolas,'Courier New',monospace\">┏━━━━━━━━━━━━━━━━━━━━━━━━━━━━━━━━━┳━━━━━━━━━━━━━━━━━━━━━━━━┳━━━━━━━━━━━━━━━┓\n",
       "┃<span style=\"font-weight: bold\"> Layer (type)                    </span>┃<span style=\"font-weight: bold\"> Output Shape           </span>┃<span style=\"font-weight: bold\">       Param # </span>┃\n",
       "┡━━━━━━━━━━━━━━━━━━━━━━━━━━━━━━━━━╇━━━━━━━━━━━━━━━━━━━━━━━━╇━━━━━━━━━━━━━━━┩\n",
       "│ reshape (<span style=\"color: #0087ff; text-decoration-color: #0087ff\">Reshape</span>)               │ (<span style=\"color: #00d7ff; text-decoration-color: #00d7ff\">None</span>, <span style=\"color: #00af00; text-decoration-color: #00af00\">10</span>, <span style=\"color: #00af00; text-decoration-color: #00af00\">30</span>)         │             <span style=\"color: #00af00; text-decoration-color: #00af00\">0</span> │\n",
       "├─────────────────────────────────┼────────────────────────┼───────────────┤\n",
       "│ bidirectional (<span style=\"color: #0087ff; text-decoration-color: #0087ff\">Bidirectional</span>)   │ (<span style=\"color: #00d7ff; text-decoration-color: #00d7ff\">None</span>, <span style=\"color: #00af00; text-decoration-color: #00af00\">10</span>, <span style=\"color: #00af00; text-decoration-color: #00af00\">256</span>)        │       <span style=\"color: #00af00; text-decoration-color: #00af00\">122,880</span> │\n",
       "├─────────────────────────────────┼────────────────────────┼───────────────┤\n",
       "│ conv1d (<span style=\"color: #0087ff; text-decoration-color: #0087ff\">Conv1D</span>)                 │ (<span style=\"color: #00d7ff; text-decoration-color: #00d7ff\">None</span>, <span style=\"color: #00af00; text-decoration-color: #00af00\">8</span>, <span style=\"color: #00af00; text-decoration-color: #00af00\">100</span>)         │        <span style=\"color: #00af00; text-decoration-color: #00af00\">76,900</span> │\n",
       "├─────────────────────────────────┼────────────────────────┼───────────────┤\n",
       "│ flatten (<span style=\"color: #0087ff; text-decoration-color: #0087ff\">Flatten</span>)               │ (<span style=\"color: #00d7ff; text-decoration-color: #00d7ff\">None</span>, <span style=\"color: #00af00; text-decoration-color: #00af00\">800</span>)            │             <span style=\"color: #00af00; text-decoration-color: #00af00\">0</span> │\n",
       "├─────────────────────────────────┼────────────────────────┼───────────────┤\n",
       "│ dense (<span style=\"color: #0087ff; text-decoration-color: #0087ff\">Dense</span>)                   │ (<span style=\"color: #00d7ff; text-decoration-color: #00d7ff\">None</span>, <span style=\"color: #00af00; text-decoration-color: #00af00\">512</span>)            │       <span style=\"color: #00af00; text-decoration-color: #00af00\">410,112</span> │\n",
       "├─────────────────────────────────┼────────────────────────┼───────────────┤\n",
       "│ dense_1 (<span style=\"color: #0087ff; text-decoration-color: #0087ff\">Dense</span>)                 │ (<span style=\"color: #00d7ff; text-decoration-color: #00d7ff\">None</span>, <span style=\"color: #00af00; text-decoration-color: #00af00\">512</span>)            │       <span style=\"color: #00af00; text-decoration-color: #00af00\">262,656</span> │\n",
       "├─────────────────────────────────┼────────────────────────┼───────────────┤\n",
       "│ dense_2 (<span style=\"color: #0087ff; text-decoration-color: #0087ff\">Dense</span>)                 │ (<span style=\"color: #00d7ff; text-decoration-color: #00d7ff\">None</span>, <span style=\"color: #00af00; text-decoration-color: #00af00\">128</span>)            │        <span style=\"color: #00af00; text-decoration-color: #00af00\">65,664</span> │\n",
       "├─────────────────────────────────┼────────────────────────┼───────────────┤\n",
       "│ dense_3 (<span style=\"color: #0087ff; text-decoration-color: #0087ff\">Dense</span>)                 │ (<span style=\"color: #00d7ff; text-decoration-color: #00d7ff\">None</span>, <span style=\"color: #00af00; text-decoration-color: #00af00\">3</span>)              │           <span style=\"color: #00af00; text-decoration-color: #00af00\">387</span> │\n",
       "└─────────────────────────────────┴────────────────────────┴───────────────┘\n",
       "</pre>\n"
      ],
      "text/plain": [
       "┏━━━━━━━━━━━━━━━━━━━━━━━━━━━━━━━━━┳━━━━━━━━━━━━━━━━━━━━━━━━┳━━━━━━━━━━━━━━━┓\n",
       "┃\u001b[1m \u001b[0m\u001b[1mLayer (type)                   \u001b[0m\u001b[1m \u001b[0m┃\u001b[1m \u001b[0m\u001b[1mOutput Shape          \u001b[0m\u001b[1m \u001b[0m┃\u001b[1m \u001b[0m\u001b[1m      Param #\u001b[0m\u001b[1m \u001b[0m┃\n",
       "┡━━━━━━━━━━━━━━━━━━━━━━━━━━━━━━━━━╇━━━━━━━━━━━━━━━━━━━━━━━━╇━━━━━━━━━━━━━━━┩\n",
       "│ reshape (\u001b[38;5;33mReshape\u001b[0m)               │ (\u001b[38;5;45mNone\u001b[0m, \u001b[38;5;34m10\u001b[0m, \u001b[38;5;34m30\u001b[0m)         │             \u001b[38;5;34m0\u001b[0m │\n",
       "├─────────────────────────────────┼────────────────────────┼───────────────┤\n",
       "│ bidirectional (\u001b[38;5;33mBidirectional\u001b[0m)   │ (\u001b[38;5;45mNone\u001b[0m, \u001b[38;5;34m10\u001b[0m, \u001b[38;5;34m256\u001b[0m)        │       \u001b[38;5;34m122,880\u001b[0m │\n",
       "├─────────────────────────────────┼────────────────────────┼───────────────┤\n",
       "│ conv1d (\u001b[38;5;33mConv1D\u001b[0m)                 │ (\u001b[38;5;45mNone\u001b[0m, \u001b[38;5;34m8\u001b[0m, \u001b[38;5;34m100\u001b[0m)         │        \u001b[38;5;34m76,900\u001b[0m │\n",
       "├─────────────────────────────────┼────────────────────────┼───────────────┤\n",
       "│ flatten (\u001b[38;5;33mFlatten\u001b[0m)               │ (\u001b[38;5;45mNone\u001b[0m, \u001b[38;5;34m800\u001b[0m)            │             \u001b[38;5;34m0\u001b[0m │\n",
       "├─────────────────────────────────┼────────────────────────┼───────────────┤\n",
       "│ dense (\u001b[38;5;33mDense\u001b[0m)                   │ (\u001b[38;5;45mNone\u001b[0m, \u001b[38;5;34m512\u001b[0m)            │       \u001b[38;5;34m410,112\u001b[0m │\n",
       "├─────────────────────────────────┼────────────────────────┼───────────────┤\n",
       "│ dense_1 (\u001b[38;5;33mDense\u001b[0m)                 │ (\u001b[38;5;45mNone\u001b[0m, \u001b[38;5;34m512\u001b[0m)            │       \u001b[38;5;34m262,656\u001b[0m │\n",
       "├─────────────────────────────────┼────────────────────────┼───────────────┤\n",
       "│ dense_2 (\u001b[38;5;33mDense\u001b[0m)                 │ (\u001b[38;5;45mNone\u001b[0m, \u001b[38;5;34m128\u001b[0m)            │        \u001b[38;5;34m65,664\u001b[0m │\n",
       "├─────────────────────────────────┼────────────────────────┼───────────────┤\n",
       "│ dense_3 (\u001b[38;5;33mDense\u001b[0m)                 │ (\u001b[38;5;45mNone\u001b[0m, \u001b[38;5;34m3\u001b[0m)              │           \u001b[38;5;34m387\u001b[0m │\n",
       "└─────────────────────────────────┴────────────────────────┴───────────────┘\n"
      ]
     },
     "metadata": {},
     "output_type": "display_data"
    },
    {
     "data": {
      "text/html": [
       "<pre style=\"white-space:pre;overflow-x:auto;line-height:normal;font-family:Menlo,'DejaVu Sans Mono',consolas,'Courier New',monospace\"><span style=\"font-weight: bold\"> Total params: </span><span style=\"color: #00af00; text-decoration-color: #00af00\">938,599</span> (3.58 MB)\n",
       "</pre>\n"
      ],
      "text/plain": [
       "\u001b[1m Total params: \u001b[0m\u001b[38;5;34m938,599\u001b[0m (3.58 MB)\n"
      ]
     },
     "metadata": {},
     "output_type": "display_data"
    },
    {
     "data": {
      "text/html": [
       "<pre style=\"white-space:pre;overflow-x:auto;line-height:normal;font-family:Menlo,'DejaVu Sans Mono',consolas,'Courier New',monospace\"><span style=\"font-weight: bold\"> Trainable params: </span><span style=\"color: #00af00; text-decoration-color: #00af00\">938,599</span> (3.58 MB)\n",
       "</pre>\n"
      ],
      "text/plain": [
       "\u001b[1m Trainable params: \u001b[0m\u001b[38;5;34m938,599\u001b[0m (3.58 MB)\n"
      ]
     },
     "metadata": {},
     "output_type": "display_data"
    },
    {
     "data": {
      "text/html": [
       "<pre style=\"white-space:pre;overflow-x:auto;line-height:normal;font-family:Menlo,'DejaVu Sans Mono',consolas,'Courier New',monospace\"><span style=\"font-weight: bold\"> Non-trainable params: </span><span style=\"color: #00af00; text-decoration-color: #00af00\">0</span> (0.00 B)\n",
       "</pre>\n"
      ],
      "text/plain": [
       "\u001b[1m Non-trainable params: \u001b[0m\u001b[38;5;34m0\u001b[0m (0.00 B)\n"
      ]
     },
     "metadata": {},
     "output_type": "display_data"
    },
    {
     "name": "stdout",
     "output_type": "stream",
     "text": [
      "Epoch 1/5\n",
      "\n",
      "Epoch 1: saving model to model_weights-01.weights.h5\n",
      "\u001b[1m  1/261\u001b[0m \u001b[37m━━━━━━━━━━━━━━━━━━━━\u001b[0m \u001b[1m32:06\u001b[0m 7s/step - accuracy: 0.2812 - loss: 1.0985\n",
      "Epoch 1: saving model to model_weights-01.weights.h5\n",
      "\u001b[1m  2/261\u001b[0m \u001b[37m━━━━━━━━━━━━━━━━━━━━\u001b[0m \u001b[1m17s\u001b[0m 68ms/step - accuracy: 0.2969 - loss: 1.0974\n",
      "Epoch 1: saving model to model_weights-01.weights.h5\n"
     ]
    },
    {
     "name": "stderr",
     "output_type": "stream",
     "text": [
      "WARNING: All log messages before absl::InitializeLog() is called are written to STDERR\n",
      "I0000 00:00:1718094184.372652     106 device_compiler.h:186] Compiled cluster using XLA!  This line is logged at most once for the lifetime of the process.\n"
     ]
    },
    {
     "name": "stdout",
     "output_type": "stream",
     "text": [
      "\u001b[1m  3/261\u001b[0m \u001b[37m━━━━━━━━━━━━━━━━━━━━\u001b[0m \u001b[1m17s\u001b[0m 68ms/step - accuracy: 0.3142 - loss: 1.0961\n",
      "Epoch 1: saving model to model_weights-01.weights.h5\n",
      "\u001b[1m  4/261\u001b[0m \u001b[37m━━━━━━━━━━━━━━━━━━━━\u001b[0m \u001b[1m17s\u001b[0m 67ms/step - accuracy: 0.3216 - loss: 1.0956\n",
      "Epoch 1: saving model to model_weights-01.weights.h5\n",
      "\u001b[1m  5/261\u001b[0m \u001b[37m━━━━━━━━━━━━━━━━━━━━\u001b[0m \u001b[1m16s\u001b[0m 66ms/step - accuracy: 0.3292 - loss: 1.0953\n",
      "Epoch 1: saving model to model_weights-01.weights.h5\n",
      "\u001b[1m  6/261\u001b[0m \u001b[37m━━━━━━━━━━━━━━━━━━━━\u001b[0m \u001b[1m16s\u001b[0m 66ms/step - accuracy: 0.3359 - loss: 1.0940\n",
      "Epoch 1: saving model to model_weights-01.weights.h5\n",
      "\u001b[1m  7/261\u001b[0m \u001b[37m━━━━━━━━━━━━━━━━━━━━\u001b[0m \u001b[1m16s\u001b[0m 65ms/step - accuracy: 0.3402 - loss: 1.0931\n",
      "Epoch 1: saving model to model_weights-01.weights.h5\n",
      "\u001b[1m  8/261\u001b[0m \u001b[37m━━━━━━━━━━━━━━━━━━━━\u001b[0m \u001b[1m16s\u001b[0m 65ms/step - accuracy: 0.3431 - loss: 1.0925\n",
      "Epoch 1: saving model to model_weights-01.weights.h5\n",
      "\u001b[1m  9/261\u001b[0m \u001b[37m━━━━━━━━━━━━━━━━━━━━\u001b[0m \u001b[1m16s\u001b[0m 64ms/step - accuracy: 0.3470 - loss: 1.0915\n",
      "Epoch 1: saving model to model_weights-01.weights.h5\n",
      "\u001b[1m 10/261\u001b[0m \u001b[37m━━━━━━━━━━━━━━━━━━━━\u001b[0m \u001b[1m16s\u001b[0m 65ms/step - accuracy: 0.3500 - loss: 1.0908\n",
      "Epoch 1: saving model to model_weights-01.weights.h5\n",
      "\u001b[1m 11/261\u001b[0m \u001b[37m━━━━━━━━━━━━━━━━━━━━\u001b[0m \u001b[1m16s\u001b[0m 64ms/step - accuracy: 0.3524 - loss: 1.0900\n",
      "Epoch 1: saving model to model_weights-01.weights.h5\n",
      "\u001b[1m 12/261\u001b[0m \u001b[37m━━━━━━━━━━━━━━━━━━━━\u001b[0m \u001b[1m15s\u001b[0m 64ms/step - accuracy: 0.3545 - loss: 1.0896\n",
      "Epoch 1: saving model to model_weights-01.weights.h5\n",
      "\u001b[1m 13/261\u001b[0m \u001b[37m━━━━━━━━━━━━━━━━━━━━\u001b[0m \u001b[1m15s\u001b[0m 64ms/step - accuracy: 0.3561 - loss: 1.0893\n",
      "Epoch 1: saving model to model_weights-01.weights.h5\n",
      "\u001b[1m 14/261\u001b[0m \u001b[32m━\u001b[0m\u001b[37m━━━━━━━━━━━━━━━━━━━\u001b[0m \u001b[1m15s\u001b[0m 63ms/step - accuracy: 0.3570 - loss: 1.0891\n",
      "Epoch 1: saving model to model_weights-01.weights.h5\n",
      "\u001b[1m 15/261\u001b[0m \u001b[32m━\u001b[0m\u001b[37m━━━━━━━━━━━━━━━━━━━\u001b[0m \u001b[1m15s\u001b[0m 63ms/step - accuracy: 0.3583 - loss: 1.0888\n",
      "Epoch 1: saving model to model_weights-01.weights.h5\n",
      "\u001b[1m 16/261\u001b[0m \u001b[32m━\u001b[0m\u001b[37m━━━━━━━━━━━━━━━━━━━\u001b[0m \u001b[1m15s\u001b[0m 63ms/step - accuracy: 0.3599 - loss: 1.0885\n",
      "Epoch 1: saving model to model_weights-01.weights.h5\n",
      "\u001b[1m 17/261\u001b[0m \u001b[32m━\u001b[0m\u001b[37m━━━━━━━━━━━━━━━━━━━\u001b[0m \u001b[1m15s\u001b[0m 63ms/step - accuracy: 0.3613 - loss: 1.0882\n",
      "Epoch 1: saving model to model_weights-01.weights.h5\n",
      "\u001b[1m 18/261\u001b[0m \u001b[32m━\u001b[0m\u001b[37m━━━━━━━━━━━━━━━━━━━\u001b[0m \u001b[1m15s\u001b[0m 63ms/step - accuracy: 0.3629 - loss: 1.0880\n",
      "Epoch 1: saving model to model_weights-01.weights.h5\n",
      "\u001b[1m 19/261\u001b[0m \u001b[32m━\u001b[0m\u001b[37m━━━━━━━━━━━━━━━━━━━\u001b[0m \u001b[1m15s\u001b[0m 62ms/step - accuracy: 0.3643 - loss: 1.0877\n",
      "Epoch 1: saving model to model_weights-01.weights.h5\n",
      "\u001b[1m 20/261\u001b[0m \u001b[32m━\u001b[0m\u001b[37m━━━━━━━━━━━━━━━━━━━\u001b[0m \u001b[1m15s\u001b[0m 62ms/step - accuracy: 0.3659 - loss: 1.0873\n",
      "Epoch 1: saving model to model_weights-01.weights.h5\n",
      "\u001b[1m 21/261\u001b[0m \u001b[32m━\u001b[0m\u001b[37m━━━━━━━━━━━━━━━━━━━\u001b[0m \u001b[1m14s\u001b[0m 62ms/step - accuracy: 0.3678 - loss: 1.0869\n",
      "Epoch 1: saving model to model_weights-01.weights.h5\n",
      "\u001b[1m 22/261\u001b[0m \u001b[32m━\u001b[0m\u001b[37m━━━━━━━━━━━━━━━━━━━\u001b[0m \u001b[1m14s\u001b[0m 62ms/step - accuracy: 0.3698 - loss: 1.0863\n",
      "Epoch 1: saving model to model_weights-01.weights.h5\n",
      "\u001b[1m 23/261\u001b[0m \u001b[32m━\u001b[0m\u001b[37m━━━━━━━━━━━━━━━━━━━\u001b[0m \u001b[1m14s\u001b[0m 62ms/step - accuracy: 0.3718 - loss: 1.0857\n",
      "Epoch 1: saving model to model_weights-01.weights.h5\n",
      "\u001b[1m 24/261\u001b[0m \u001b[32m━\u001b[0m\u001b[37m━━━━━━━━━━━━━━━━━━━\u001b[0m \u001b[1m14s\u001b[0m 62ms/step - accuracy: 0.3737 - loss: 1.0851\n",
      "Epoch 1: saving model to model_weights-01.weights.h5\n",
      "\u001b[1m 25/261\u001b[0m \u001b[32m━\u001b[0m\u001b[37m━━━━━━━━━━━━━━━━━━━\u001b[0m \u001b[1m14s\u001b[0m 62ms/step - accuracy: 0.3756 - loss: 1.0844\n",
      "Epoch 1: saving model to model_weights-01.weights.h5\n",
      "\u001b[1m 26/261\u001b[0m \u001b[32m━\u001b[0m\u001b[37m━━━━━━━━━━━━━━━━━━━\u001b[0m \u001b[1m14s\u001b[0m 62ms/step - accuracy: 0.3776 - loss: 1.0836\n",
      "Epoch 1: saving model to model_weights-01.weights.h5\n",
      "\u001b[1m 27/261\u001b[0m \u001b[32m━━\u001b[0m\u001b[37m━━━━━━━━━━━━━━━━━━\u001b[0m \u001b[1m14s\u001b[0m 62ms/step - accuracy: 0.3796 - loss: 1.0828\n",
      "Epoch 1: saving model to model_weights-01.weights.h5\n",
      "\u001b[1m 28/261\u001b[0m \u001b[32m━━\u001b[0m\u001b[37m━━━━━━━━━━━━━━━━━━\u001b[0m \u001b[1m14s\u001b[0m 62ms/step - accuracy: 0.3817 - loss: 1.0819\n",
      "Epoch 1: saving model to model_weights-01.weights.h5\n",
      "\u001b[1m 29/261\u001b[0m \u001b[32m━━\u001b[0m\u001b[37m━━━━━━━━━━━━━━━━━━\u001b[0m \u001b[1m14s\u001b[0m 62ms/step - accuracy: 0.3840 - loss: 1.0807\n",
      "Epoch 1: saving model to model_weights-01.weights.h5\n",
      "\u001b[1m 30/261\u001b[0m \u001b[32m━━\u001b[0m\u001b[37m━━━━━━━━━━━━━━━━━━\u001b[0m \u001b[1m14s\u001b[0m 62ms/step - accuracy: 0.3862 - loss: 1.0795\n",
      "Epoch 1: saving model to model_weights-01.weights.h5\n",
      "\u001b[1m 31/261\u001b[0m \u001b[32m━━\u001b[0m\u001b[37m━━━━━━━━━━━━━━━━━━\u001b[0m \u001b[1m14s\u001b[0m 62ms/step - accuracy: 0.3883 - loss: 1.0783\n",
      "Epoch 1: saving model to model_weights-01.weights.h5\n",
      "\u001b[1m 32/261\u001b[0m \u001b[32m━━\u001b[0m\u001b[37m━━━━━━━━━━━━━━━━━━\u001b[0m \u001b[1m14s\u001b[0m 62ms/step - accuracy: 0.3905 - loss: 1.0771\n",
      "Epoch 1: saving model to model_weights-01.weights.h5\n",
      "\u001b[1m 33/261\u001b[0m \u001b[32m━━\u001b[0m\u001b[37m━━━━━━━━━━━━━━━━━━\u001b[0m \u001b[1m14s\u001b[0m 62ms/step - accuracy: 0.3927 - loss: 1.0758\n",
      "Epoch 1: saving model to model_weights-01.weights.h5\n",
      "\u001b[1m 34/261\u001b[0m \u001b[32m━━\u001b[0m\u001b[37m━━━━━━━━━━━━━━━━━━\u001b[0m \u001b[1m14s\u001b[0m 62ms/step - accuracy: 0.3947 - loss: 1.0746\n",
      "Epoch 1: saving model to model_weights-01.weights.h5\n",
      "\u001b[1m 35/261\u001b[0m \u001b[32m━━\u001b[0m\u001b[37m━━━━━━━━━━━━━━━━━━\u001b[0m \u001b[1m14s\u001b[0m 62ms/step - accuracy: 0.3967 - loss: 1.0734\n",
      "Epoch 1: saving model to model_weights-01.weights.h5\n",
      "\u001b[1m 36/261\u001b[0m \u001b[32m━━\u001b[0m\u001b[37m━━━━━━━━━━━━━━━━━━\u001b[0m \u001b[1m13s\u001b[0m 62ms/step - accuracy: 0.3987 - loss: 1.0721\n",
      "Epoch 1: saving model to model_weights-01.weights.h5\n",
      "\u001b[1m 37/261\u001b[0m \u001b[32m━━\u001b[0m\u001b[37m━━━━━━━━━━━━━━━━━━\u001b[0m \u001b[1m13s\u001b[0m 62ms/step - accuracy: 0.4006 - loss: 1.0708\n",
      "Epoch 1: saving model to model_weights-01.weights.h5\n",
      "\u001b[1m 38/261\u001b[0m \u001b[32m━━\u001b[0m\u001b[37m━━━━━━━━━━━━━━━━━━\u001b[0m \u001b[1m13s\u001b[0m 62ms/step - accuracy: 0.4024 - loss: 1.0697\n",
      "Epoch 1: saving model to model_weights-01.weights.h5\n",
      "\u001b[1m 39/261\u001b[0m \u001b[32m━━\u001b[0m\u001b[37m━━━━━━━━━━━━━━━━━━\u001b[0m \u001b[1m13s\u001b[0m 62ms/step - accuracy: 0.4042 - loss: 1.0685\n",
      "Epoch 1: saving model to model_weights-01.weights.h5\n",
      "\u001b[1m 40/261\u001b[0m \u001b[32m━━━\u001b[0m\u001b[37m━━━━━━━━━━━━━━━━━\u001b[0m \u001b[1m13s\u001b[0m 62ms/step - accuracy: 0.4060 - loss: 1.0673\n",
      "Epoch 1: saving model to model_weights-01.weights.h5\n",
      "\u001b[1m 41/261\u001b[0m \u001b[32m━━━\u001b[0m\u001b[37m━━━━━━━━━━━━━━━━━\u001b[0m \u001b[1m13s\u001b[0m 62ms/step - accuracy: 0.4078 - loss: 1.0661\n",
      "Epoch 1: saving model to model_weights-01.weights.h5\n",
      "\u001b[1m 42/261\u001b[0m \u001b[32m━━━\u001b[0m\u001b[37m━━━━━━━━━━━━━━━━━\u001b[0m \u001b[1m13s\u001b[0m 62ms/step - accuracy: 0.4095 - loss: 1.0648\n",
      "Epoch 1: saving model to model_weights-01.weights.h5\n",
      "\u001b[1m 43/261\u001b[0m \u001b[32m━━━\u001b[0m\u001b[37m━━━━━━━━━━━━━━━━━\u001b[0m \u001b[1m13s\u001b[0m 62ms/step - accuracy: 0.4112 - loss: 1.0635\n",
      "Epoch 1: saving model to model_weights-01.weights.h5\n",
      "\u001b[1m 44/261\u001b[0m \u001b[32m━━━\u001b[0m\u001b[37m━━━━━━━━━━━━━━━━━\u001b[0m \u001b[1m13s\u001b[0m 62ms/step - accuracy: 0.4129 - loss: 1.0623\n",
      "Epoch 1: saving model to model_weights-01.weights.h5\n",
      "\u001b[1m 45/261\u001b[0m \u001b[32m━━━\u001b[0m\u001b[37m━━━━━━━━━━━━━━━━━\u001b[0m \u001b[1m13s\u001b[0m 62ms/step - accuracy: 0.4146 - loss: 1.0610\n",
      "Epoch 1: saving model to model_weights-01.weights.h5\n",
      "\u001b[1m 46/261\u001b[0m \u001b[32m━━━\u001b[0m\u001b[37m━━━━━━━━━━━━━━━━━\u001b[0m \u001b[1m13s\u001b[0m 62ms/step - accuracy: 0.4163 - loss: 1.0597\n",
      "Epoch 1: saving model to model_weights-01.weights.h5\n",
      "\u001b[1m 47/261\u001b[0m \u001b[32m━━━\u001b[0m\u001b[37m━━━━━━━━━━━━━━━━━\u001b[0m \u001b[1m13s\u001b[0m 62ms/step - accuracy: 0.4180 - loss: 1.0584\n",
      "Epoch 1: saving model to model_weights-01.weights.h5\n",
      "\u001b[1m 48/261\u001b[0m \u001b[32m━━━\u001b[0m\u001b[37m━━━━━━━━━━━━━━━━━\u001b[0m \u001b[1m13s\u001b[0m 62ms/step - accuracy: 0.4197 - loss: 1.0571\n",
      "Epoch 1: saving model to model_weights-01.weights.h5\n",
      "\u001b[1m 49/261\u001b[0m \u001b[32m━━━\u001b[0m\u001b[37m━━━━━━━━━━━━━━━━━\u001b[0m \u001b[1m13s\u001b[0m 62ms/step - accuracy: 0.4214 - loss: 1.0558\n",
      "Epoch 1: saving model to model_weights-01.weights.h5\n",
      "\u001b[1m 50/261\u001b[0m \u001b[32m━━━\u001b[0m\u001b[37m━━━━━━━━━━━━━━━━━\u001b[0m \u001b[1m13s\u001b[0m 62ms/step - accuracy: 0.4230 - loss: 1.0545\n",
      "Epoch 1: saving model to model_weights-01.weights.h5\n",
      "\u001b[1m 51/261\u001b[0m \u001b[32m━━━\u001b[0m\u001b[37m━━━━━━━━━━━━━━━━━\u001b[0m \u001b[1m12s\u001b[0m 62ms/step - accuracy: 0.4245 - loss: 1.0533\n",
      "Epoch 1: saving model to model_weights-01.weights.h5\n",
      "\u001b[1m 52/261\u001b[0m \u001b[32m━━━\u001b[0m\u001b[37m━━━━━━━━━━━━━━━━━\u001b[0m \u001b[1m12s\u001b[0m 62ms/step - accuracy: 0.4261 - loss: 1.0520\n",
      "Epoch 1: saving model to model_weights-01.weights.h5\n",
      "\u001b[1m 53/261\u001b[0m \u001b[32m━━━━\u001b[0m\u001b[37m━━━━━━━━━━━━━━━━\u001b[0m \u001b[1m12s\u001b[0m 62ms/step - accuracy: 0.4276 - loss: 1.0507\n",
      "Epoch 1: saving model to model_weights-01.weights.h5\n",
      "\u001b[1m 54/261\u001b[0m \u001b[32m━━━━\u001b[0m\u001b[37m━━━━━━━━━━━━━━━━\u001b[0m \u001b[1m12s\u001b[0m 62ms/step - accuracy: 0.4291 - loss: 1.0495\n",
      "Epoch 1: saving model to model_weights-01.weights.h5\n",
      "\u001b[1m 55/261\u001b[0m \u001b[32m━━━━\u001b[0m\u001b[37m━━━━━━━━━━━━━━━━\u001b[0m \u001b[1m12s\u001b[0m 62ms/step - accuracy: 0.4306 - loss: 1.0482\n",
      "Epoch 1: saving model to model_weights-01.weights.h5\n",
      "\u001b[1m 56/261\u001b[0m \u001b[32m━━━━\u001b[0m\u001b[37m━━━━━━━━━━━━━━━━\u001b[0m \u001b[1m12s\u001b[0m 62ms/step - accuracy: 0.4320 - loss: 1.0469\n",
      "Epoch 1: saving model to model_weights-01.weights.h5\n",
      "\u001b[1m 57/261\u001b[0m \u001b[32m━━━━\u001b[0m\u001b[37m━━━━━━━━━━━━━━━━\u001b[0m \u001b[1m12s\u001b[0m 62ms/step - accuracy: 0.4335 - loss: 1.0457\n",
      "Epoch 1: saving model to model_weights-01.weights.h5\n",
      "\u001b[1m 58/261\u001b[0m \u001b[32m━━━━\u001b[0m\u001b[37m━━━━━━━━━━━━━━━━\u001b[0m \u001b[1m12s\u001b[0m 62ms/step - accuracy: 0.4349 - loss: 1.0444\n",
      "Epoch 1: saving model to model_weights-01.weights.h5\n",
      "\u001b[1m 59/261\u001b[0m \u001b[32m━━━━\u001b[0m\u001b[37m━━━━━━━━━━━━━━━━\u001b[0m \u001b[1m12s\u001b[0m 62ms/step - accuracy: 0.4363 - loss: 1.0432\n",
      "Epoch 1: saving model to model_weights-01.weights.h5\n",
      "\u001b[1m 60/261\u001b[0m \u001b[32m━━━━\u001b[0m\u001b[37m━━━━━━━━━━━━━━━━\u001b[0m \u001b[1m12s\u001b[0m 62ms/step - accuracy: 0.4377 - loss: 1.0419\n",
      "Epoch 1: saving model to model_weights-01.weights.h5\n",
      "\u001b[1m 61/261\u001b[0m \u001b[32m━━━━\u001b[0m\u001b[37m━━━━━━━━━━━━━━━━\u001b[0m \u001b[1m12s\u001b[0m 62ms/step - accuracy: 0.4391 - loss: 1.0407\n",
      "Epoch 1: saving model to model_weights-01.weights.h5\n",
      "\u001b[1m 62/261\u001b[0m \u001b[32m━━━━\u001b[0m\u001b[37m━━━━━━━━━━━━━━━━\u001b[0m \u001b[1m12s\u001b[0m 62ms/step - accuracy: 0.4404 - loss: 1.0394\n",
      "Epoch 1: saving model to model_weights-01.weights.h5\n",
      "\u001b[1m 63/261\u001b[0m \u001b[32m━━━━\u001b[0m\u001b[37m━━━━━━━━━━━━━━━━\u001b[0m \u001b[1m12s\u001b[0m 62ms/step - accuracy: 0.4418 - loss: 1.0381\n",
      "Epoch 1: saving model to model_weights-01.weights.h5\n",
      "\u001b[1m 64/261\u001b[0m \u001b[32m━━━━\u001b[0m\u001b[37m━━━━━━━━━━━━━━━━\u001b[0m \u001b[1m12s\u001b[0m 62ms/step - accuracy: 0.4431 - loss: 1.0368\n",
      "Epoch 1: saving model to model_weights-01.weights.h5\n",
      "\u001b[1m 65/261\u001b[0m \u001b[32m━━━━\u001b[0m\u001b[37m━━━━━━━━━━━━━━━━\u001b[0m \u001b[1m12s\u001b[0m 61ms/step - accuracy: 0.4445 - loss: 1.0355\n",
      "Epoch 1: saving model to model_weights-01.weights.h5\n",
      "\u001b[1m 66/261\u001b[0m \u001b[32m━━━━━\u001b[0m\u001b[37m━━━━━━━━━━━━━━━\u001b[0m \u001b[1m11s\u001b[0m 61ms/step - accuracy: 0.4458 - loss: 1.0343\n",
      "Epoch 1: saving model to model_weights-01.weights.h5\n",
      "\u001b[1m 67/261\u001b[0m \u001b[32m━━━━━\u001b[0m\u001b[37m━━━━━━━━━━━━━━━\u001b[0m \u001b[1m11s\u001b[0m 61ms/step - accuracy: 0.4471 - loss: 1.0330\n",
      "Epoch 1: saving model to model_weights-01.weights.h5\n",
      "\u001b[1m 68/261\u001b[0m \u001b[32m━━━━━\u001b[0m\u001b[37m━━━━━━━━━━━━━━━\u001b[0m \u001b[1m11s\u001b[0m 61ms/step - accuracy: 0.4483 - loss: 1.0318\n",
      "Epoch 1: saving model to model_weights-01.weights.h5\n",
      "\u001b[1m 69/261\u001b[0m \u001b[32m━━━━━\u001b[0m\u001b[37m━━━━━━━━━━━━━━━\u001b[0m \u001b[1m11s\u001b[0m 61ms/step - accuracy: 0.4496 - loss: 1.0305\n",
      "Epoch 1: saving model to model_weights-01.weights.h5\n",
      "\u001b[1m 70/261\u001b[0m \u001b[32m━━━━━\u001b[0m\u001b[37m━━━━━━━━━━━━━━━\u001b[0m \u001b[1m11s\u001b[0m 61ms/step - accuracy: 0.4508 - loss: 1.0293\n",
      "Epoch 1: saving model to model_weights-01.weights.h5\n",
      "\u001b[1m 71/261\u001b[0m \u001b[32m━━━━━\u001b[0m\u001b[37m━━━━━━━━━━━━━━━\u001b[0m \u001b[1m11s\u001b[0m 61ms/step - accuracy: 0.4520 - loss: 1.0281\n",
      "Epoch 1: saving model to model_weights-01.weights.h5\n",
      "\u001b[1m 72/261\u001b[0m \u001b[32m━━━━━\u001b[0m\u001b[37m━━━━━━━━━━━━━━━\u001b[0m \u001b[1m11s\u001b[0m 61ms/step - accuracy: 0.4532 - loss: 1.0269\n",
      "Epoch 1: saving model to model_weights-01.weights.h5\n",
      "\u001b[1m 73/261\u001b[0m \u001b[32m━━━━━\u001b[0m\u001b[37m━━━━━━━━━━━━━━━\u001b[0m \u001b[1m11s\u001b[0m 61ms/step - accuracy: 0.4544 - loss: 1.0258\n",
      "Epoch 1: saving model to model_weights-01.weights.h5\n",
      "\u001b[1m 74/261\u001b[0m \u001b[32m━━━━━\u001b[0m\u001b[37m━━━━━━━━━━━━━━━\u001b[0m \u001b[1m11s\u001b[0m 61ms/step - accuracy: 0.4555 - loss: 1.0246\n",
      "Epoch 1: saving model to model_weights-01.weights.h5\n",
      "\u001b[1m 75/261\u001b[0m \u001b[32m━━━━━\u001b[0m\u001b[37m━━━━━━━━━━━━━━━\u001b[0m \u001b[1m11s\u001b[0m 61ms/step - accuracy: 0.4567 - loss: 1.0234\n",
      "Epoch 1: saving model to model_weights-01.weights.h5\n",
      "\u001b[1m 76/261\u001b[0m \u001b[32m━━━━━\u001b[0m\u001b[37m━━━━━━━━━━━━━━━\u001b[0m \u001b[1m11s\u001b[0m 61ms/step - accuracy: 0.4578 - loss: 1.0223\n",
      "Epoch 1: saving model to model_weights-01.weights.h5\n",
      "\u001b[1m 77/261\u001b[0m \u001b[32m━━━━━\u001b[0m\u001b[37m━━━━━━━━━━━━━━━\u001b[0m \u001b[1m11s\u001b[0m 61ms/step - accuracy: 0.4589 - loss: 1.0211\n",
      "Epoch 1: saving model to model_weights-01.weights.h5\n",
      "\u001b[1m 78/261\u001b[0m \u001b[32m━━━━━\u001b[0m\u001b[37m━━━━━━━━━━━━━━━\u001b[0m \u001b[1m11s\u001b[0m 61ms/step - accuracy: 0.4600 - loss: 1.0200\n",
      "Epoch 1: saving model to model_weights-01.weights.h5\n",
      "\u001b[1m 79/261\u001b[0m \u001b[32m━━━━━━\u001b[0m\u001b[37m━━━━━━━━━━━━━━\u001b[0m \u001b[1m11s\u001b[0m 62ms/step - accuracy: 0.4612 - loss: 1.0188\n",
      "Epoch 1: saving model to model_weights-01.weights.h5\n",
      "\u001b[1m 80/261\u001b[0m \u001b[32m━━━━━━\u001b[0m\u001b[37m━━━━━━━━━━━━━━\u001b[0m \u001b[1m11s\u001b[0m 62ms/step - accuracy: 0.4623 - loss: 1.0177\n",
      "Epoch 1: saving model to model_weights-01.weights.h5\n",
      "\u001b[1m 81/261\u001b[0m \u001b[32m━━━━━━\u001b[0m\u001b[37m━━━━━━━━━━━━━━\u001b[0m \u001b[1m11s\u001b[0m 62ms/step - accuracy: 0.4634 - loss: 1.0165\n",
      "Epoch 1: saving model to model_weights-01.weights.h5\n",
      "\u001b[1m 82/261\u001b[0m \u001b[32m━━━━━━\u001b[0m\u001b[37m━━━━━━━━━━━━━━\u001b[0m \u001b[1m11s\u001b[0m 62ms/step - accuracy: 0.4644 - loss: 1.0154\n",
      "Epoch 1: saving model to model_weights-01.weights.h5\n",
      "\u001b[1m 83/261\u001b[0m \u001b[32m━━━━━━\u001b[0m\u001b[37m━━━━━━━━━━━━━━\u001b[0m \u001b[1m10s\u001b[0m 62ms/step - accuracy: 0.4655 - loss: 1.0143\n",
      "Epoch 1: saving model to model_weights-01.weights.h5\n",
      "\u001b[1m 84/261\u001b[0m \u001b[32m━━━━━━\u001b[0m\u001b[37m━━━━━━━━━━━━━━\u001b[0m \u001b[1m10s\u001b[0m 62ms/step - accuracy: 0.4666 - loss: 1.0131\n",
      "Epoch 1: saving model to model_weights-01.weights.h5\n",
      "\u001b[1m 85/261\u001b[0m \u001b[32m━━━━━━\u001b[0m\u001b[37m━━━━━━━━━━━━━━\u001b[0m \u001b[1m10s\u001b[0m 62ms/step - accuracy: 0.4676 - loss: 1.0120\n",
      "Epoch 1: saving model to model_weights-01.weights.h5\n",
      "\u001b[1m 86/261\u001b[0m \u001b[32m━━━━━━\u001b[0m\u001b[37m━━━━━━━━━━━━━━\u001b[0m \u001b[1m10s\u001b[0m 62ms/step - accuracy: 0.4687 - loss: 1.0110\n",
      "Epoch 1: saving model to model_weights-01.weights.h5\n",
      "\u001b[1m 87/261\u001b[0m \u001b[32m━━━━━━\u001b[0m\u001b[37m━━━━━━━━━━━━━━\u001b[0m \u001b[1m10s\u001b[0m 62ms/step - accuracy: 0.4697 - loss: 1.0099\n",
      "Epoch 1: saving model to model_weights-01.weights.h5\n",
      "\u001b[1m 88/261\u001b[0m \u001b[32m━━━━━━\u001b[0m\u001b[37m━━━━━━━━━━━━━━\u001b[0m \u001b[1m10s\u001b[0m 62ms/step - accuracy: 0.4707 - loss: 1.0088\n",
      "Epoch 1: saving model to model_weights-01.weights.h5\n",
      "\u001b[1m 89/261\u001b[0m \u001b[32m━━━━━━\u001b[0m\u001b[37m━━━━━━━━━━━━━━\u001b[0m \u001b[1m10s\u001b[0m 62ms/step - accuracy: 0.4717 - loss: 1.0078\n",
      "Epoch 1: saving model to model_weights-01.weights.h5\n",
      "\u001b[1m 90/261\u001b[0m \u001b[32m━━━━━━\u001b[0m\u001b[37m━━━━━━━━━━━━━━\u001b[0m \u001b[1m10s\u001b[0m 62ms/step - accuracy: 0.4727 - loss: 1.0067\n",
      "Epoch 1: saving model to model_weights-01.weights.h5\n",
      "\u001b[1m 91/261\u001b[0m \u001b[32m━━━━━━\u001b[0m\u001b[37m━━━━━━━━━━━━━━\u001b[0m \u001b[1m10s\u001b[0m 62ms/step - accuracy: 0.4737 - loss: 1.0057\n",
      "Epoch 1: saving model to model_weights-01.weights.h5\n",
      "\u001b[1m 92/261\u001b[0m \u001b[32m━━━━━━━\u001b[0m\u001b[37m━━━━━━━━━━━━━\u001b[0m \u001b[1m10s\u001b[0m 62ms/step - accuracy: 0.4747 - loss: 1.0046\n",
      "Epoch 1: saving model to model_weights-01.weights.h5\n",
      "\u001b[1m 93/261\u001b[0m \u001b[32m━━━━━━━\u001b[0m\u001b[37m━━━━━━━━━━━━━\u001b[0m \u001b[1m10s\u001b[0m 62ms/step - accuracy: 0.4756 - loss: 1.0036\n",
      "Epoch 1: saving model to model_weights-01.weights.h5\n",
      "\u001b[1m 94/261\u001b[0m \u001b[32m━━━━━━━\u001b[0m\u001b[37m━━━━━━━━━━━━━\u001b[0m \u001b[1m10s\u001b[0m 62ms/step - accuracy: 0.4766 - loss: 1.0025\n",
      "Epoch 1: saving model to model_weights-01.weights.h5\n",
      "\u001b[1m 95/261\u001b[0m \u001b[32m━━━━━━━\u001b[0m\u001b[37m━━━━━━━━━━━━━\u001b[0m \u001b[1m10s\u001b[0m 62ms/step - accuracy: 0.4775 - loss: 1.0015\n",
      "Epoch 1: saving model to model_weights-01.weights.h5\n",
      "\u001b[1m 96/261\u001b[0m \u001b[32m━━━━━━━\u001b[0m\u001b[37m━━━━━━━━━━━━━\u001b[0m \u001b[1m10s\u001b[0m 62ms/step - accuracy: 0.4784 - loss: 1.0005\n",
      "Epoch 1: saving model to model_weights-01.weights.h5\n",
      "\u001b[1m 97/261\u001b[0m \u001b[32m━━━━━━━\u001b[0m\u001b[37m━━━━━━━━━━━━━\u001b[0m \u001b[1m10s\u001b[0m 62ms/step - accuracy: 0.4793 - loss: 0.9995\n",
      "Epoch 1: saving model to model_weights-01.weights.h5\n",
      "\u001b[1m 98/261\u001b[0m \u001b[32m━━━━━━━\u001b[0m\u001b[37m━━━━━━━━━━━━━\u001b[0m \u001b[1m10s\u001b[0m 62ms/step - accuracy: 0.4802 - loss: 0.9985\n",
      "Epoch 1: saving model to model_weights-01.weights.h5\n",
      "\u001b[1m 99/261\u001b[0m \u001b[32m━━━━━━━\u001b[0m\u001b[37m━━━━━━━━━━━━━\u001b[0m \u001b[1m10s\u001b[0m 62ms/step - accuracy: 0.4811 - loss: 0.9976\n",
      "Epoch 1: saving model to model_weights-01.weights.h5\n",
      "\u001b[1m100/261\u001b[0m \u001b[32m━━━━━━━\u001b[0m\u001b[37m━━━━━━━━━━━━━\u001b[0m \u001b[1m10s\u001b[0m 62ms/step - accuracy: 0.4820 - loss: 0.9966\n",
      "Epoch 1: saving model to model_weights-01.weights.h5\n",
      "\u001b[1m101/261\u001b[0m \u001b[32m━━━━━━━\u001b[0m\u001b[37m━━━━━━━━━━━━━\u001b[0m \u001b[1m9s\u001b[0m 62ms/step - accuracy: 0.4829 - loss: 0.9956 \n",
      "Epoch 1: saving model to model_weights-01.weights.h5\n",
      "\u001b[1m102/261\u001b[0m \u001b[32m━━━━━━━\u001b[0m\u001b[37m━━━━━━━━━━━━━\u001b[0m \u001b[1m9s\u001b[0m 62ms/step - accuracy: 0.4837 - loss: 0.9946\n",
      "Epoch 1: saving model to model_weights-01.weights.h5\n",
      "\u001b[1m103/261\u001b[0m \u001b[32m━━━━━━━\u001b[0m\u001b[37m━━━━━━━━━━━━━\u001b[0m \u001b[1m9s\u001b[0m 62ms/step - accuracy: 0.4846 - loss: 0.9937\n",
      "Epoch 1: saving model to model_weights-01.weights.h5\n",
      "\u001b[1m104/261\u001b[0m \u001b[32m━━━━━━━\u001b[0m\u001b[37m━━━━━━━━━━━━━\u001b[0m \u001b[1m9s\u001b[0m 62ms/step - accuracy: 0.4854 - loss: 0.9927\n",
      "Epoch 1: saving model to model_weights-01.weights.h5\n",
      "\u001b[1m105/261\u001b[0m \u001b[32m━━━━━━━━\u001b[0m\u001b[37m━━━━━━━━━━━━\u001b[0m \u001b[1m9s\u001b[0m 62ms/step - accuracy: 0.4863 - loss: 0.9918\n",
      "Epoch 1: saving model to model_weights-01.weights.h5\n",
      "\u001b[1m106/261\u001b[0m \u001b[32m━━━━━━━━\u001b[0m\u001b[37m━━━━━━━━━━━━\u001b[0m \u001b[1m9s\u001b[0m 62ms/step - accuracy: 0.4871 - loss: 0.9909\n",
      "Epoch 1: saving model to model_weights-01.weights.h5\n",
      "\u001b[1m107/261\u001b[0m \u001b[32m━━━━━━━━\u001b[0m\u001b[37m━━━━━━━━━━━━\u001b[0m \u001b[1m9s\u001b[0m 62ms/step - accuracy: 0.4879 - loss: 0.9899\n",
      "Epoch 1: saving model to model_weights-01.weights.h5\n",
      "\u001b[1m108/261\u001b[0m \u001b[32m━━━━━━━━\u001b[0m\u001b[37m━━━━━━━━━━━━\u001b[0m \u001b[1m9s\u001b[0m 62ms/step - accuracy: 0.4887 - loss: 0.9890\n",
      "Epoch 1: saving model to model_weights-01.weights.h5\n",
      "\u001b[1m109/261\u001b[0m \u001b[32m━━━━━━━━\u001b[0m\u001b[37m━━━━━━━━━━━━\u001b[0m \u001b[1m9s\u001b[0m 62ms/step - accuracy: 0.4895 - loss: 0.9881\n",
      "Epoch 1: saving model to model_weights-01.weights.h5\n",
      "\u001b[1m110/261\u001b[0m \u001b[32m━━━━━━━━\u001b[0m\u001b[37m━━━━━━━━━━━━\u001b[0m \u001b[1m9s\u001b[0m 62ms/step - accuracy: 0.4903 - loss: 0.9872\n",
      "Epoch 1: saving model to model_weights-01.weights.h5\n",
      "\u001b[1m111/261\u001b[0m \u001b[32m━━━━━━━━\u001b[0m\u001b[37m━━━━━━━━━━━━\u001b[0m \u001b[1m9s\u001b[0m 62ms/step - accuracy: 0.4911 - loss: 0.9862\n",
      "Epoch 1: saving model to model_weights-01.weights.h5\n",
      "\u001b[1m112/261\u001b[0m \u001b[32m━━━━━━━━\u001b[0m\u001b[37m━━━━━━━━━━━━\u001b[0m \u001b[1m9s\u001b[0m 62ms/step - accuracy: 0.4919 - loss: 0.9853\n",
      "Epoch 1: saving model to model_weights-01.weights.h5\n",
      "\u001b[1m113/261\u001b[0m \u001b[32m━━━━━━━━\u001b[0m\u001b[37m━━━━━━━━━━━━\u001b[0m \u001b[1m9s\u001b[0m 62ms/step - accuracy: 0.4926 - loss: 0.9844\n",
      "Epoch 1: saving model to model_weights-01.weights.h5\n",
      "\u001b[1m114/261\u001b[0m \u001b[32m━━━━━━━━\u001b[0m\u001b[37m━━━━━━━━━━━━\u001b[0m \u001b[1m9s\u001b[0m 62ms/step - accuracy: 0.4934 - loss: 0.9836\n",
      "Epoch 1: saving model to model_weights-01.weights.h5\n",
      "\u001b[1m115/261\u001b[0m \u001b[32m━━━━━━━━\u001b[0m\u001b[37m━━━━━━━━━━━━\u001b[0m \u001b[1m9s\u001b[0m 62ms/step - accuracy: 0.4941 - loss: 0.9827\n",
      "Epoch 1: saving model to model_weights-01.weights.h5\n",
      "\u001b[1m116/261\u001b[0m \u001b[32m━━━━━━━━\u001b[0m\u001b[37m━━━━━━━━━━━━\u001b[0m \u001b[1m9s\u001b[0m 62ms/step - accuracy: 0.4949 - loss: 0.9818\n",
      "Epoch 1: saving model to model_weights-01.weights.h5\n",
      "\u001b[1m117/261\u001b[0m \u001b[32m━━━━━━━━\u001b[0m\u001b[37m━━━━━━━━━━━━\u001b[0m \u001b[1m8s\u001b[0m 62ms/step - accuracy: 0.4956 - loss: 0.9810\n",
      "Epoch 1: saving model to model_weights-01.weights.h5\n",
      "\u001b[1m118/261\u001b[0m \u001b[32m━━━━━━━━━\u001b[0m\u001b[37m━━━━━━━━━━━\u001b[0m \u001b[1m8s\u001b[0m 62ms/step - accuracy: 0.4963 - loss: 0.9801\n",
      "Epoch 1: saving model to model_weights-01.weights.h5\n",
      "\u001b[1m119/261\u001b[0m \u001b[32m━━━━━━━━━\u001b[0m\u001b[37m━━━━━━━━━━━\u001b[0m \u001b[1m8s\u001b[0m 62ms/step - accuracy: 0.4970 - loss: 0.9792\n",
      "Epoch 1: saving model to model_weights-01.weights.h5\n",
      "\u001b[1m120/261\u001b[0m \u001b[32m━━━━━━━━━\u001b[0m\u001b[37m━━━━━━━━━━━\u001b[0m \u001b[1m8s\u001b[0m 62ms/step - accuracy: 0.4978 - loss: 0.9784\n",
      "Epoch 1: saving model to model_weights-01.weights.h5\n",
      "\u001b[1m121/261\u001b[0m \u001b[32m━━━━━━━━━\u001b[0m\u001b[37m━━━━━━━━━━━\u001b[0m \u001b[1m8s\u001b[0m 62ms/step - accuracy: 0.4985 - loss: 0.9776\n",
      "Epoch 1: saving model to model_weights-01.weights.h5\n",
      "\u001b[1m122/261\u001b[0m \u001b[32m━━━━━━━━━\u001b[0m\u001b[37m━━━━━━━━━━━\u001b[0m \u001b[1m8s\u001b[0m 62ms/step - accuracy: 0.4991 - loss: 0.9767\n",
      "Epoch 1: saving model to model_weights-01.weights.h5\n",
      "\u001b[1m123/261\u001b[0m \u001b[32m━━━━━━━━━\u001b[0m\u001b[37m━━━━━━━━━━━\u001b[0m \u001b[1m8s\u001b[0m 62ms/step - accuracy: 0.4998 - loss: 0.9759\n",
      "Epoch 1: saving model to model_weights-01.weights.h5\n",
      "\u001b[1m124/261\u001b[0m \u001b[32m━━━━━━━━━\u001b[0m\u001b[37m━━━━━━━━━━━\u001b[0m \u001b[1m8s\u001b[0m 62ms/step - accuracy: 0.5005 - loss: 0.9751\n",
      "Epoch 1: saving model to model_weights-01.weights.h5\n",
      "\u001b[1m125/261\u001b[0m \u001b[32m━━━━━━━━━\u001b[0m\u001b[37m━━━━━━━━━━━\u001b[0m \u001b[1m8s\u001b[0m 62ms/step - accuracy: 0.5012 - loss: 0.9743\n",
      "Epoch 1: saving model to model_weights-01.weights.h5\n",
      "\u001b[1m126/261\u001b[0m \u001b[32m━━━━━━━━━\u001b[0m\u001b[37m━━━━━━━━━━━\u001b[0m \u001b[1m8s\u001b[0m 62ms/step - accuracy: 0.5018 - loss: 0.9735\n",
      "Epoch 1: saving model to model_weights-01.weights.h5\n",
      "\u001b[1m127/261\u001b[0m \u001b[32m━━━━━━━━━\u001b[0m\u001b[37m━━━━━━━━━━━\u001b[0m \u001b[1m8s\u001b[0m 63ms/step - accuracy: 0.5025 - loss: 0.9727\n",
      "Epoch 1: saving model to model_weights-01.weights.h5\n",
      "\u001b[1m128/261\u001b[0m \u001b[32m━━━━━━━━━\u001b[0m\u001b[37m━━━━━━━━━━━\u001b[0m \u001b[1m8s\u001b[0m 62ms/step - accuracy: 0.5032 - loss: 0.9719\n",
      "Epoch 1: saving model to model_weights-01.weights.h5\n",
      "\u001b[1m129/261\u001b[0m \u001b[32m━━━━━━━━━\u001b[0m\u001b[37m━━━━━━━━━━━\u001b[0m \u001b[1m8s\u001b[0m 63ms/step - accuracy: 0.5038 - loss: 0.9711\n",
      "Epoch 1: saving model to model_weights-01.weights.h5\n",
      "\u001b[1m130/261\u001b[0m \u001b[32m━━━━━━━━━\u001b[0m\u001b[37m━━━━━━━━━━━\u001b[0m \u001b[1m8s\u001b[0m 63ms/step - accuracy: 0.5045 - loss: 0.9704\n",
      "Epoch 1: saving model to model_weights-01.weights.h5\n",
      "\u001b[1m131/261\u001b[0m \u001b[32m━━━━━━━━━━\u001b[0m\u001b[37m━━━━━━━━━━\u001b[0m \u001b[1m8s\u001b[0m 63ms/step - accuracy: 0.5051 - loss: 0.9696\n",
      "Epoch 1: saving model to model_weights-01.weights.h5\n",
      "\u001b[1m132/261\u001b[0m \u001b[32m━━━━━━━━━━\u001b[0m\u001b[37m━━━━━━━━━━\u001b[0m \u001b[1m8s\u001b[0m 63ms/step - accuracy: 0.5058 - loss: 0.9688\n",
      "Epoch 1: saving model to model_weights-01.weights.h5\n",
      "\u001b[1m133/261\u001b[0m \u001b[32m━━━━━━━━━━\u001b[0m\u001b[37m━━━━━━━━━━\u001b[0m \u001b[1m8s\u001b[0m 63ms/step - accuracy: 0.5065 - loss: 0.9680\n",
      "Epoch 1: saving model to model_weights-01.weights.h5\n",
      "\u001b[1m134/261\u001b[0m \u001b[32m━━━━━━━━━━\u001b[0m\u001b[37m━━━━━━━━━━\u001b[0m \u001b[1m7s\u001b[0m 63ms/step - accuracy: 0.5071 - loss: 0.9672\n",
      "Epoch 1: saving model to model_weights-01.weights.h5\n",
      "\u001b[1m135/261\u001b[0m \u001b[32m━━━━━━━━━━\u001b[0m\u001b[37m━━━━━━━━━━\u001b[0m \u001b[1m7s\u001b[0m 63ms/step - accuracy: 0.5077 - loss: 0.9665\n",
      "Epoch 1: saving model to model_weights-01.weights.h5\n",
      "\u001b[1m136/261\u001b[0m \u001b[32m━━━━━━━━━━\u001b[0m\u001b[37m━━━━━━━━━━\u001b[0m \u001b[1m7s\u001b[0m 63ms/step - accuracy: 0.5084 - loss: 0.9657\n",
      "Epoch 1: saving model to model_weights-01.weights.h5\n",
      "\u001b[1m137/261\u001b[0m \u001b[32m━━━━━━━━━━\u001b[0m\u001b[37m━━━━━━━━━━\u001b[0m \u001b[1m7s\u001b[0m 63ms/step - accuracy: 0.5090 - loss: 0.9649\n",
      "Epoch 1: saving model to model_weights-01.weights.h5\n",
      "\u001b[1m138/261\u001b[0m \u001b[32m━━━━━━━━━━\u001b[0m\u001b[37m━━━━━━━━━━\u001b[0m \u001b[1m7s\u001b[0m 63ms/step - accuracy: 0.5096 - loss: 0.9642\n",
      "Epoch 1: saving model to model_weights-01.weights.h5\n",
      "\u001b[1m139/261\u001b[0m \u001b[32m━━━━━━━━━━\u001b[0m\u001b[37m━━━━━━━━━━\u001b[0m \u001b[1m7s\u001b[0m 63ms/step - accuracy: 0.5102 - loss: 0.9635\n",
      "Epoch 1: saving model to model_weights-01.weights.h5\n",
      "\u001b[1m140/261\u001b[0m \u001b[32m━━━━━━━━━━\u001b[0m\u001b[37m━━━━━━━━━━\u001b[0m \u001b[1m7s\u001b[0m 63ms/step - accuracy: 0.5108 - loss: 0.9627\n",
      "Epoch 1: saving model to model_weights-01.weights.h5\n",
      "\u001b[1m141/261\u001b[0m \u001b[32m━━━━━━━━━━\u001b[0m\u001b[37m━━━━━━━━━━\u001b[0m \u001b[1m7s\u001b[0m 63ms/step - accuracy: 0.5114 - loss: 0.9620\n",
      "Epoch 1: saving model to model_weights-01.weights.h5\n",
      "\u001b[1m142/261\u001b[0m \u001b[32m━━━━━━━━━━\u001b[0m\u001b[37m━━━━━━━━━━\u001b[0m \u001b[1m7s\u001b[0m 63ms/step - accuracy: 0.5120 - loss: 0.9613\n",
      "Epoch 1: saving model to model_weights-01.weights.h5\n",
      "\u001b[1m143/261\u001b[0m \u001b[32m━━━━━━━━━━\u001b[0m\u001b[37m━━━━━━━━━━\u001b[0m \u001b[1m7s\u001b[0m 63ms/step - accuracy: 0.5126 - loss: 0.9606\n",
      "Epoch 1: saving model to model_weights-01.weights.h5\n",
      "\u001b[1m144/261\u001b[0m \u001b[32m━━━━━━━━━━━\u001b[0m\u001b[37m━━━━━━━━━\u001b[0m \u001b[1m7s\u001b[0m 63ms/step - accuracy: 0.5132 - loss: 0.9599\n",
      "Epoch 1: saving model to model_weights-01.weights.h5\n",
      "\u001b[1m145/261\u001b[0m \u001b[32m━━━━━━━━━━━\u001b[0m\u001b[37m━━━━━━━━━\u001b[0m \u001b[1m7s\u001b[0m 63ms/step - accuracy: 0.5137 - loss: 0.9592\n",
      "Epoch 1: saving model to model_weights-01.weights.h5\n",
      "\u001b[1m146/261\u001b[0m \u001b[32m━━━━━━━━━━━\u001b[0m\u001b[37m━━━━━━━━━\u001b[0m \u001b[1m7s\u001b[0m 63ms/step - accuracy: 0.5143 - loss: 0.9585\n",
      "Epoch 1: saving model to model_weights-01.weights.h5\n",
      "\u001b[1m147/261\u001b[0m \u001b[32m━━━━━━━━━━━\u001b[0m\u001b[37m━━━━━━━━━\u001b[0m \u001b[1m7s\u001b[0m 63ms/step - accuracy: 0.5149 - loss: 0.9578\n",
      "Epoch 1: saving model to model_weights-01.weights.h5\n",
      "\u001b[1m148/261\u001b[0m \u001b[32m━━━━━━━━━━━\u001b[0m\u001b[37m━━━━━━━━━\u001b[0m \u001b[1m7s\u001b[0m 63ms/step - accuracy: 0.5154 - loss: 0.9571\n",
      "Epoch 1: saving model to model_weights-01.weights.h5\n",
      "\u001b[1m149/261\u001b[0m \u001b[32m━━━━━━━━━━━\u001b[0m\u001b[37m━━━━━━━━━\u001b[0m \u001b[1m7s\u001b[0m 63ms/step - accuracy: 0.5160 - loss: 0.9565\n",
      "Epoch 1: saving model to model_weights-01.weights.h5\n",
      "\u001b[1m150/261\u001b[0m \u001b[32m━━━━━━━━━━━\u001b[0m\u001b[37m━━━━━━━━━\u001b[0m \u001b[1m6s\u001b[0m 63ms/step - accuracy: 0.5165 - loss: 0.9558\n",
      "Epoch 1: saving model to model_weights-01.weights.h5\n",
      "\u001b[1m151/261\u001b[0m \u001b[32m━━━━━━━━━━━\u001b[0m\u001b[37m━━━━━━━━━\u001b[0m \u001b[1m6s\u001b[0m 63ms/step - accuracy: 0.5171 - loss: 0.9551\n",
      "Epoch 1: saving model to model_weights-01.weights.h5\n",
      "\u001b[1m152/261\u001b[0m \u001b[32m━━━━━━━━━━━\u001b[0m\u001b[37m━━━━━━━━━\u001b[0m \u001b[1m6s\u001b[0m 63ms/step - accuracy: 0.5176 - loss: 0.9545\n",
      "Epoch 1: saving model to model_weights-01.weights.h5\n",
      "\u001b[1m153/261\u001b[0m \u001b[32m━━━━━━━━━━━\u001b[0m\u001b[37m━━━━━━━━━\u001b[0m \u001b[1m6s\u001b[0m 63ms/step - accuracy: 0.5182 - loss: 0.9538\n",
      "Epoch 1: saving model to model_weights-01.weights.h5\n",
      "\u001b[1m154/261\u001b[0m \u001b[32m━━━━━━━━━━━\u001b[0m\u001b[37m━━━━━━━━━\u001b[0m \u001b[1m6s\u001b[0m 63ms/step - accuracy: 0.5187 - loss: 0.9532\n",
      "Epoch 1: saving model to model_weights-01.weights.h5\n",
      "\u001b[1m155/261\u001b[0m \u001b[32m━━━━━━━━━━━\u001b[0m\u001b[37m━━━━━━━━━\u001b[0m \u001b[1m6s\u001b[0m 63ms/step - accuracy: 0.5192 - loss: 0.9525\n",
      "Epoch 1: saving model to model_weights-01.weights.h5\n",
      "\u001b[1m156/261\u001b[0m \u001b[32m━━━━━━━━━━━\u001b[0m\u001b[37m━━━━━━━━━\u001b[0m \u001b[1m6s\u001b[0m 63ms/step - accuracy: 0.5197 - loss: 0.9519\n",
      "Epoch 1: saving model to model_weights-01.weights.h5\n",
      "\u001b[1m157/261\u001b[0m \u001b[32m━━━━━━━━━━━━\u001b[0m\u001b[37m━━━━━━━━\u001b[0m \u001b[1m6s\u001b[0m 63ms/step - accuracy: 0.5203 - loss: 0.9513\n",
      "Epoch 1: saving model to model_weights-01.weights.h5\n",
      "\u001b[1m158/261\u001b[0m \u001b[32m━━━━━━━━━━━━\u001b[0m\u001b[37m━━━━━━━━\u001b[0m \u001b[1m6s\u001b[0m 63ms/step - accuracy: 0.5208 - loss: 0.9506\n",
      "Epoch 1: saving model to model_weights-01.weights.h5\n",
      "\u001b[1m159/261\u001b[0m \u001b[32m━━━━━━━━━━━━\u001b[0m\u001b[37m━━━━━━━━\u001b[0m \u001b[1m6s\u001b[0m 63ms/step - accuracy: 0.5213 - loss: 0.9500\n",
      "Epoch 1: saving model to model_weights-01.weights.h5\n",
      "\u001b[1m160/261\u001b[0m \u001b[32m━━━━━━━━━━━━\u001b[0m\u001b[37m━━━━━━━━\u001b[0m \u001b[1m6s\u001b[0m 63ms/step - accuracy: 0.5218 - loss: 0.9494\n",
      "Epoch 1: saving model to model_weights-01.weights.h5\n",
      "\u001b[1m161/261\u001b[0m \u001b[32m━━━━━━━━━━━━\u001b[0m\u001b[37m━━━━━━━━\u001b[0m \u001b[1m6s\u001b[0m 63ms/step - accuracy: 0.5223 - loss: 0.9488\n",
      "Epoch 1: saving model to model_weights-01.weights.h5\n",
      "\u001b[1m162/261\u001b[0m \u001b[32m━━━━━━━━━━━━\u001b[0m\u001b[37m━━━━━━━━\u001b[0m \u001b[1m6s\u001b[0m 63ms/step - accuracy: 0.5228 - loss: 0.9482\n",
      "Epoch 1: saving model to model_weights-01.weights.h5\n",
      "\u001b[1m163/261\u001b[0m \u001b[32m━━━━━━━━━━━━\u001b[0m\u001b[37m━━━━━━━━\u001b[0m \u001b[1m6s\u001b[0m 63ms/step - accuracy: 0.5233 - loss: 0.9476\n",
      "Epoch 1: saving model to model_weights-01.weights.h5\n",
      "\u001b[1m164/261\u001b[0m \u001b[32m━━━━━━━━━━━━\u001b[0m\u001b[37m━━━━━━━━\u001b[0m \u001b[1m6s\u001b[0m 63ms/step - accuracy: 0.5237 - loss: 0.9470\n",
      "Epoch 1: saving model to model_weights-01.weights.h5\n",
      "\u001b[1m165/261\u001b[0m \u001b[32m━━━━━━━━━━━━\u001b[0m\u001b[37m━━━━━━━━\u001b[0m \u001b[1m6s\u001b[0m 63ms/step - accuracy: 0.5242 - loss: 0.9465\n",
      "Epoch 1: saving model to model_weights-01.weights.h5\n",
      "\u001b[1m166/261\u001b[0m \u001b[32m━━━━━━━━━━━━\u001b[0m\u001b[37m━━━━━━━━\u001b[0m \u001b[1m5s\u001b[0m 63ms/step - accuracy: 0.5247 - loss: 0.9459\n",
      "Epoch 1: saving model to model_weights-01.weights.h5\n",
      "\u001b[1m167/261\u001b[0m \u001b[32m━━━━━━━━━━━━\u001b[0m\u001b[37m━━━━━━━━\u001b[0m \u001b[1m5s\u001b[0m 63ms/step - accuracy: 0.5251 - loss: 0.9453\n",
      "Epoch 1: saving model to model_weights-01.weights.h5\n",
      "\u001b[1m168/261\u001b[0m \u001b[32m━━━━━━━━━━━━\u001b[0m\u001b[37m━━━━━━━━\u001b[0m \u001b[1m5s\u001b[0m 63ms/step - accuracy: 0.5256 - loss: 0.9448\n",
      "Epoch 1: saving model to model_weights-01.weights.h5\n",
      "\u001b[1m169/261\u001b[0m \u001b[32m━━━━━━━━━━━━\u001b[0m\u001b[37m━━━━━━━━\u001b[0m \u001b[1m5s\u001b[0m 63ms/step - accuracy: 0.5261 - loss: 0.9442\n",
      "Epoch 1: saving model to model_weights-01.weights.h5\n",
      "\u001b[1m170/261\u001b[0m \u001b[32m━━━━━━━━━━━━━\u001b[0m\u001b[37m━━━━━━━\u001b[0m \u001b[1m5s\u001b[0m 63ms/step - accuracy: 0.5265 - loss: 0.9437\n",
      "Epoch 1: saving model to model_weights-01.weights.h5\n",
      "\u001b[1m171/261\u001b[0m \u001b[32m━━━━━━━━━━━━━\u001b[0m\u001b[37m━━━━━━━\u001b[0m \u001b[1m5s\u001b[0m 63ms/step - accuracy: 0.5270 - loss: 0.9431\n",
      "Epoch 1: saving model to model_weights-01.weights.h5\n",
      "\u001b[1m172/261\u001b[0m \u001b[32m━━━━━━━━━━━━━\u001b[0m\u001b[37m━━━━━━━\u001b[0m \u001b[1m5s\u001b[0m 63ms/step - accuracy: 0.5274 - loss: 0.9426\n",
      "Epoch 1: saving model to model_weights-01.weights.h5\n",
      "\u001b[1m173/261\u001b[0m \u001b[32m━━━━━━━━━━━━━\u001b[0m\u001b[37m━━━━━━━\u001b[0m \u001b[1m5s\u001b[0m 63ms/step - accuracy: 0.5278 - loss: 0.9421\n",
      "Epoch 1: saving model to model_weights-01.weights.h5\n",
      "\u001b[1m174/261\u001b[0m \u001b[32m━━━━━━━━━━━━━\u001b[0m\u001b[37m━━━━━━━\u001b[0m \u001b[1m5s\u001b[0m 63ms/step - accuracy: 0.5283 - loss: 0.9415\n",
      "Epoch 1: saving model to model_weights-01.weights.h5\n",
      "\u001b[1m175/261\u001b[0m \u001b[32m━━━━━━━━━━━━━\u001b[0m\u001b[37m━━━━━━━\u001b[0m \u001b[1m5s\u001b[0m 63ms/step - accuracy: 0.5287 - loss: 0.9410\n",
      "Epoch 1: saving model to model_weights-01.weights.h5\n",
      "\u001b[1m176/261\u001b[0m \u001b[32m━━━━━━━━━━━━━\u001b[0m\u001b[37m━━━━━━━\u001b[0m \u001b[1m5s\u001b[0m 63ms/step - accuracy: 0.5291 - loss: 0.9405\n",
      "Epoch 1: saving model to model_weights-01.weights.h5\n",
      "\u001b[1m177/261\u001b[0m \u001b[32m━━━━━━━━━━━━━\u001b[0m\u001b[37m━━━━━━━\u001b[0m \u001b[1m5s\u001b[0m 63ms/step - accuracy: 0.5296 - loss: 0.9399\n",
      "Epoch 1: saving model to model_weights-01.weights.h5\n",
      "\u001b[1m178/261\u001b[0m \u001b[32m━━━━━━━━━━━━━\u001b[0m\u001b[37m━━━━━━━\u001b[0m \u001b[1m5s\u001b[0m 63ms/step - accuracy: 0.5300 - loss: 0.9394\n",
      "Epoch 1: saving model to model_weights-01.weights.h5\n",
      "\u001b[1m179/261\u001b[0m \u001b[32m━━━━━━━━━━━━━\u001b[0m\u001b[37m━━━━━━━\u001b[0m \u001b[1m5s\u001b[0m 63ms/step - accuracy: 0.5304 - loss: 0.9389\n",
      "Epoch 1: saving model to model_weights-01.weights.h5\n",
      "\u001b[1m180/261\u001b[0m \u001b[32m━━━━━━━━━━━━━\u001b[0m\u001b[37m━━━━━━━\u001b[0m \u001b[1m5s\u001b[0m 63ms/step - accuracy: 0.5308 - loss: 0.9384\n",
      "Epoch 1: saving model to model_weights-01.weights.h5\n",
      "\u001b[1m181/261\u001b[0m \u001b[32m━━━━━━━━━━━━━\u001b[0m\u001b[37m━━━━━━━\u001b[0m \u001b[1m5s\u001b[0m 63ms/step - accuracy: 0.5312 - loss: 0.9379\n",
      "Epoch 1: saving model to model_weights-01.weights.h5\n",
      "\u001b[1m182/261\u001b[0m \u001b[32m━━━━━━━━━━━━━\u001b[0m\u001b[37m━━━━━━━\u001b[0m \u001b[1m4s\u001b[0m 63ms/step - accuracy: 0.5317 - loss: 0.9374\n",
      "Epoch 1: saving model to model_weights-01.weights.h5\n",
      "\u001b[1m183/261\u001b[0m \u001b[32m━━━━━━━━━━━━━━\u001b[0m\u001b[37m━━━━━━\u001b[0m \u001b[1m4s\u001b[0m 63ms/step - accuracy: 0.5321 - loss: 0.9368\n",
      "Epoch 1: saving model to model_weights-01.weights.h5\n",
      "\u001b[1m184/261\u001b[0m \u001b[32m━━━━━━━━━━━━━━\u001b[0m\u001b[37m━━━━━━\u001b[0m \u001b[1m4s\u001b[0m 63ms/step - accuracy: 0.5325 - loss: 0.9363\n",
      "Epoch 1: saving model to model_weights-01.weights.h5\n",
      "\u001b[1m185/261\u001b[0m \u001b[32m━━━━━━━━━━━━━━\u001b[0m\u001b[37m━━━━━━\u001b[0m \u001b[1m4s\u001b[0m 63ms/step - accuracy: 0.5329 - loss: 0.9358\n",
      "Epoch 1: saving model to model_weights-01.weights.h5\n",
      "\u001b[1m186/261\u001b[0m \u001b[32m━━━━━━━━━━━━━━\u001b[0m\u001b[37m━━━━━━\u001b[0m \u001b[1m4s\u001b[0m 63ms/step - accuracy: 0.5333 - loss: 0.9353\n",
      "Epoch 1: saving model to model_weights-01.weights.h5\n",
      "\u001b[1m187/261\u001b[0m \u001b[32m━━━━━━━━━━━━━━\u001b[0m\u001b[37m━━━━━━\u001b[0m \u001b[1m4s\u001b[0m 63ms/step - accuracy: 0.5337 - loss: 0.9348\n",
      "Epoch 1: saving model to model_weights-01.weights.h5\n",
      "\u001b[1m188/261\u001b[0m \u001b[32m━━━━━━━━━━━━━━\u001b[0m\u001b[37m━━━━━━\u001b[0m \u001b[1m4s\u001b[0m 63ms/step - accuracy: 0.5340 - loss: 0.9343\n",
      "Epoch 1: saving model to model_weights-01.weights.h5\n",
      "\u001b[1m189/261\u001b[0m \u001b[32m━━━━━━━━━━━━━━\u001b[0m\u001b[37m━━━━━━\u001b[0m \u001b[1m4s\u001b[0m 63ms/step - accuracy: 0.5344 - loss: 0.9338\n",
      "Epoch 1: saving model to model_weights-01.weights.h5\n",
      "\u001b[1m190/261\u001b[0m \u001b[32m━━━━━━━━━━━━━━\u001b[0m\u001b[37m━━━━━━\u001b[0m \u001b[1m4s\u001b[0m 63ms/step - accuracy: 0.5348 - loss: 0.9334\n",
      "Epoch 1: saving model to model_weights-01.weights.h5\n",
      "\u001b[1m191/261\u001b[0m \u001b[32m━━━━━━━━━━━━━━\u001b[0m\u001b[37m━━━━━━\u001b[0m \u001b[1m4s\u001b[0m 63ms/step - accuracy: 0.5352 - loss: 0.9329\n",
      "Epoch 1: saving model to model_weights-01.weights.h5\n",
      "\u001b[1m192/261\u001b[0m \u001b[32m━━━━━━━━━━━━━━\u001b[0m\u001b[37m━━━━━━\u001b[0m \u001b[1m4s\u001b[0m 63ms/step - accuracy: 0.5356 - loss: 0.9324\n",
      "Epoch 1: saving model to model_weights-01.weights.h5\n",
      "\u001b[1m193/261\u001b[0m \u001b[32m━━━━━━━━━━━━━━\u001b[0m\u001b[37m━━━━━━\u001b[0m \u001b[1m4s\u001b[0m 63ms/step - accuracy: 0.5360 - loss: 0.9319\n",
      "Epoch 1: saving model to model_weights-01.weights.h5\n",
      "\u001b[1m194/261\u001b[0m \u001b[32m━━━━━━━━━━━━━━\u001b[0m\u001b[37m━━━━━━\u001b[0m \u001b[1m4s\u001b[0m 63ms/step - accuracy: 0.5363 - loss: 0.9314\n",
      "Epoch 1: saving model to model_weights-01.weights.h5\n",
      "\u001b[1m195/261\u001b[0m \u001b[32m━━━━━━━━━━━━━━\u001b[0m\u001b[37m━━━━━━\u001b[0m \u001b[1m4s\u001b[0m 63ms/step - accuracy: 0.5367 - loss: 0.9309\n",
      "Epoch 1: saving model to model_weights-01.weights.h5\n",
      "\u001b[1m196/261\u001b[0m \u001b[32m━━━━━━━━━━━━━━━\u001b[0m\u001b[37m━━━━━\u001b[0m \u001b[1m4s\u001b[0m 63ms/step - accuracy: 0.5371 - loss: 0.9305\n",
      "Epoch 1: saving model to model_weights-01.weights.h5\n",
      "\u001b[1m197/261\u001b[0m \u001b[32m━━━━━━━━━━━━━━━\u001b[0m\u001b[37m━━━━━\u001b[0m \u001b[1m4s\u001b[0m 63ms/step - accuracy: 0.5375 - loss: 0.9300\n",
      "Epoch 1: saving model to model_weights-01.weights.h5\n",
      "\u001b[1m198/261\u001b[0m \u001b[32m━━━━━━━━━━━━━━━\u001b[0m\u001b[37m━━━━━\u001b[0m \u001b[1m3s\u001b[0m 63ms/step - accuracy: 0.5378 - loss: 0.9295\n",
      "Epoch 1: saving model to model_weights-01.weights.h5\n",
      "\u001b[1m199/261\u001b[0m \u001b[32m━━━━━━━━━━━━━━━\u001b[0m\u001b[37m━━━━━\u001b[0m \u001b[1m3s\u001b[0m 63ms/step - accuracy: 0.5382 - loss: 0.9290\n",
      "Epoch 1: saving model to model_weights-01.weights.h5\n",
      "\u001b[1m200/261\u001b[0m \u001b[32m━━━━━━━━━━━━━━━\u001b[0m\u001b[37m━━━━━\u001b[0m \u001b[1m3s\u001b[0m 63ms/step - accuracy: 0.5386 - loss: 0.9286\n",
      "Epoch 1: saving model to model_weights-01.weights.h5\n",
      "\u001b[1m201/261\u001b[0m \u001b[32m━━━━━━━━━━━━━━━\u001b[0m\u001b[37m━━━━━\u001b[0m \u001b[1m3s\u001b[0m 63ms/step - accuracy: 0.5389 - loss: 0.9281\n",
      "Epoch 1: saving model to model_weights-01.weights.h5\n",
      "\u001b[1m202/261\u001b[0m \u001b[32m━━━━━━━━━━━━━━━\u001b[0m\u001b[37m━━━━━\u001b[0m \u001b[1m3s\u001b[0m 63ms/step - accuracy: 0.5393 - loss: 0.9277\n",
      "Epoch 1: saving model to model_weights-01.weights.h5\n",
      "\u001b[1m203/261\u001b[0m \u001b[32m━━━━━━━━━━━━━━━\u001b[0m\u001b[37m━━━━━\u001b[0m \u001b[1m3s\u001b[0m 63ms/step - accuracy: 0.5397 - loss: 0.9272\n",
      "Epoch 1: saving model to model_weights-01.weights.h5\n",
      "\u001b[1m204/261\u001b[0m \u001b[32m━━━━━━━━━━━━━━━\u001b[0m\u001b[37m━━━━━\u001b[0m \u001b[1m3s\u001b[0m 63ms/step - accuracy: 0.5400 - loss: 0.9267\n",
      "Epoch 1: saving model to model_weights-01.weights.h5\n",
      "\u001b[1m205/261\u001b[0m \u001b[32m━━━━━━━━━━━━━━━\u001b[0m\u001b[37m━━━━━\u001b[0m \u001b[1m3s\u001b[0m 63ms/step - accuracy: 0.5404 - loss: 0.9263\n",
      "Epoch 1: saving model to model_weights-01.weights.h5\n",
      "\u001b[1m206/261\u001b[0m \u001b[32m━━━━━━━━━━━━━━━\u001b[0m\u001b[37m━━━━━\u001b[0m \u001b[1m3s\u001b[0m 63ms/step - accuracy: 0.5407 - loss: 0.9258\n",
      "Epoch 1: saving model to model_weights-01.weights.h5\n",
      "\u001b[1m207/261\u001b[0m \u001b[32m━━━━━━━━━━━━━━━\u001b[0m\u001b[37m━━━━━\u001b[0m \u001b[1m3s\u001b[0m 63ms/step - accuracy: 0.5411 - loss: 0.9254\n",
      "Epoch 1: saving model to model_weights-01.weights.h5\n",
      "\u001b[1m208/261\u001b[0m \u001b[32m━━━━━━━━━━━━━━━\u001b[0m\u001b[37m━━━━━\u001b[0m \u001b[1m3s\u001b[0m 63ms/step - accuracy: 0.5414 - loss: 0.9250\n",
      "Epoch 1: saving model to model_weights-01.weights.h5\n",
      "\u001b[1m209/261\u001b[0m \u001b[32m━━━━━━━━━━━━━━━━\u001b[0m\u001b[37m━━━━\u001b[0m \u001b[1m3s\u001b[0m 63ms/step - accuracy: 0.5417 - loss: 0.9245\n",
      "Epoch 1: saving model to model_weights-01.weights.h5\n",
      "\u001b[1m210/261\u001b[0m \u001b[32m━━━━━━━━━━━━━━━━\u001b[0m\u001b[37m━━━━\u001b[0m \u001b[1m3s\u001b[0m 63ms/step - accuracy: 0.5421 - loss: 0.9241\n",
      "Epoch 1: saving model to model_weights-01.weights.h5\n",
      "\u001b[1m211/261\u001b[0m \u001b[32m━━━━━━━━━━━━━━━━\u001b[0m\u001b[37m━━━━\u001b[0m \u001b[1m3s\u001b[0m 63ms/step - accuracy: 0.5424 - loss: 0.9237\n",
      "Epoch 1: saving model to model_weights-01.weights.h5\n",
      "\u001b[1m212/261\u001b[0m \u001b[32m━━━━━━━━━━━━━━━━\u001b[0m\u001b[37m━━━━\u001b[0m \u001b[1m3s\u001b[0m 63ms/step - accuracy: 0.5427 - loss: 0.9233\n",
      "Epoch 1: saving model to model_weights-01.weights.h5\n",
      "\u001b[1m213/261\u001b[0m \u001b[32m━━━━━━━━━━━━━━━━\u001b[0m\u001b[37m━━━━\u001b[0m \u001b[1m3s\u001b[0m 63ms/step - accuracy: 0.5431 - loss: 0.9228\n",
      "Epoch 1: saving model to model_weights-01.weights.h5\n",
      "\u001b[1m214/261\u001b[0m \u001b[32m━━━━━━━━━━━━━━━━\u001b[0m\u001b[37m━━━━\u001b[0m \u001b[1m2s\u001b[0m 63ms/step - accuracy: 0.5434 - loss: 0.9224\n",
      "Epoch 1: saving model to model_weights-01.weights.h5\n",
      "\u001b[1m215/261\u001b[0m \u001b[32m━━━━━━━━━━━━━━━━\u001b[0m\u001b[37m━━━━\u001b[0m \u001b[1m2s\u001b[0m 63ms/step - accuracy: 0.5437 - loss: 0.9220\n",
      "Epoch 1: saving model to model_weights-01.weights.h5\n",
      "\u001b[1m216/261\u001b[0m \u001b[32m━━━━━━━━━━━━━━━━\u001b[0m\u001b[37m━━━━\u001b[0m \u001b[1m2s\u001b[0m 63ms/step - accuracy: 0.5440 - loss: 0.9216\n",
      "Epoch 1: saving model to model_weights-01.weights.h5\n",
      "\u001b[1m217/261\u001b[0m \u001b[32m━━━━━━━━━━━━━━━━\u001b[0m\u001b[37m━━━━\u001b[0m \u001b[1m2s\u001b[0m 63ms/step - accuracy: 0.5443 - loss: 0.9212\n",
      "Epoch 1: saving model to model_weights-01.weights.h5\n",
      "\u001b[1m218/261\u001b[0m \u001b[32m━━━━━━━━━━━━━━━━\u001b[0m\u001b[37m━━━━\u001b[0m \u001b[1m2s\u001b[0m 63ms/step - accuracy: 0.5447 - loss: 0.9208\n",
      "Epoch 1: saving model to model_weights-01.weights.h5\n",
      "\u001b[1m219/261\u001b[0m \u001b[32m━━━━━━━━━━━━━━━━\u001b[0m\u001b[37m━━━━\u001b[0m \u001b[1m2s\u001b[0m 63ms/step - accuracy: 0.5450 - loss: 0.9204\n",
      "Epoch 1: saving model to model_weights-01.weights.h5\n",
      "\u001b[1m220/261\u001b[0m \u001b[32m━━━━━━━━━━━━━━━━\u001b[0m\u001b[37m━━━━\u001b[0m \u001b[1m2s\u001b[0m 63ms/step - accuracy: 0.5453 - loss: 0.9200\n",
      "Epoch 1: saving model to model_weights-01.weights.h5\n",
      "\u001b[1m221/261\u001b[0m \u001b[32m━━━━━━━━━━━━━━━━\u001b[0m\u001b[37m━━━━\u001b[0m \u001b[1m2s\u001b[0m 63ms/step - accuracy: 0.5456 - loss: 0.9196\n",
      "Epoch 1: saving model to model_weights-01.weights.h5\n",
      "\u001b[1m222/261\u001b[0m \u001b[32m━━━━━━━━━━━━━━━━━\u001b[0m\u001b[37m━━━\u001b[0m \u001b[1m2s\u001b[0m 63ms/step - accuracy: 0.5459 - loss: 0.9192\n",
      "Epoch 1: saving model to model_weights-01.weights.h5\n",
      "\u001b[1m223/261\u001b[0m \u001b[32m━━━━━━━━━━━━━━━━━\u001b[0m\u001b[37m━━━\u001b[0m \u001b[1m2s\u001b[0m 63ms/step - accuracy: 0.5462 - loss: 0.9188\n",
      "Epoch 1: saving model to model_weights-01.weights.h5\n",
      "\u001b[1m224/261\u001b[0m \u001b[32m━━━━━━━━━━━━━━━━━\u001b[0m\u001b[37m━━━\u001b[0m \u001b[1m2s\u001b[0m 63ms/step - accuracy: 0.5465 - loss: 0.9185\n",
      "Epoch 1: saving model to model_weights-01.weights.h5\n",
      "\u001b[1m225/261\u001b[0m \u001b[32m━━━━━━━━━━━━━━━━━\u001b[0m\u001b[37m━━━\u001b[0m \u001b[1m2s\u001b[0m 63ms/step - accuracy: 0.5468 - loss: 0.9181\n",
      "Epoch 1: saving model to model_weights-01.weights.h5\n",
      "\u001b[1m226/261\u001b[0m \u001b[32m━━━━━━━━━━━━━━━━━\u001b[0m\u001b[37m━━━\u001b[0m \u001b[1m2s\u001b[0m 63ms/step - accuracy: 0.5471 - loss: 0.9177\n",
      "Epoch 1: saving model to model_weights-01.weights.h5\n",
      "\u001b[1m227/261\u001b[0m \u001b[32m━━━━━━━━━━━━━━━━━\u001b[0m\u001b[37m━━━\u001b[0m \u001b[1m2s\u001b[0m 63ms/step - accuracy: 0.5474 - loss: 0.9173\n",
      "Epoch 1: saving model to model_weights-01.weights.h5\n",
      "\u001b[1m228/261\u001b[0m \u001b[32m━━━━━━━━━━━━━━━━━\u001b[0m\u001b[37m━━━\u001b[0m \u001b[1m2s\u001b[0m 63ms/step - accuracy: 0.5477 - loss: 0.9169\n",
      "Epoch 1: saving model to model_weights-01.weights.h5\n",
      "\u001b[1m229/261\u001b[0m \u001b[32m━━━━━━━━━━━━━━━━━\u001b[0m\u001b[37m━━━\u001b[0m \u001b[1m2s\u001b[0m 63ms/step - accuracy: 0.5480 - loss: 0.9166\n",
      "Epoch 1: saving model to model_weights-01.weights.h5\n",
      "\u001b[1m230/261\u001b[0m \u001b[32m━━━━━━━━━━━━━━━━━\u001b[0m\u001b[37m━━━\u001b[0m \u001b[1m1s\u001b[0m 63ms/step - accuracy: 0.5483 - loss: 0.9162\n",
      "Epoch 1: saving model to model_weights-01.weights.h5\n",
      "\u001b[1m231/261\u001b[0m \u001b[32m━━━━━━━━━━━━━━━━━\u001b[0m\u001b[37m━━━\u001b[0m \u001b[1m1s\u001b[0m 63ms/step - accuracy: 0.5486 - loss: 0.9158\n",
      "Epoch 1: saving model to model_weights-01.weights.h5\n",
      "\u001b[1m232/261\u001b[0m \u001b[32m━━━━━━━━━━━━━━━━━\u001b[0m\u001b[37m━━━\u001b[0m \u001b[1m1s\u001b[0m 63ms/step - accuracy: 0.5489 - loss: 0.9154\n",
      "Epoch 1: saving model to model_weights-01.weights.h5\n",
      "\u001b[1m233/261\u001b[0m \u001b[32m━━━━━━━━━━━━━━━━━\u001b[0m\u001b[37m━━━\u001b[0m \u001b[1m1s\u001b[0m 63ms/step - accuracy: 0.5492 - loss: 0.9151\n",
      "Epoch 1: saving model to model_weights-01.weights.h5\n",
      "\u001b[1m234/261\u001b[0m \u001b[32m━━━━━━━━━━━━━━━━━\u001b[0m\u001b[37m━━━\u001b[0m \u001b[1m1s\u001b[0m 63ms/step - accuracy: 0.5495 - loss: 0.9147\n",
      "Epoch 1: saving model to model_weights-01.weights.h5\n",
      "\u001b[1m235/261\u001b[0m \u001b[32m━━━━━━━━━━━━━━━━━━\u001b[0m\u001b[37m━━\u001b[0m \u001b[1m1s\u001b[0m 63ms/step - accuracy: 0.5498 - loss: 0.9143\n",
      "Epoch 1: saving model to model_weights-01.weights.h5\n",
      "\u001b[1m236/261\u001b[0m \u001b[32m━━━━━━━━━━━━━━━━━━\u001b[0m\u001b[37m━━\u001b[0m \u001b[1m1s\u001b[0m 63ms/step - accuracy: 0.5500 - loss: 0.9140\n",
      "Epoch 1: saving model to model_weights-01.weights.h5\n",
      "\u001b[1m237/261\u001b[0m \u001b[32m━━━━━━━━━━━━━━━━━━\u001b[0m\u001b[37m━━\u001b[0m \u001b[1m1s\u001b[0m 63ms/step - accuracy: 0.5503 - loss: 0.9136\n",
      "Epoch 1: saving model to model_weights-01.weights.h5\n",
      "\u001b[1m238/261\u001b[0m \u001b[32m━━━━━━━━━━━━━━━━━━\u001b[0m\u001b[37m━━\u001b[0m \u001b[1m1s\u001b[0m 63ms/step - accuracy: 0.5506 - loss: 0.9133\n",
      "Epoch 1: saving model to model_weights-01.weights.h5\n",
      "\u001b[1m239/261\u001b[0m \u001b[32m━━━━━━━━━━━━━━━━━━\u001b[0m\u001b[37m━━\u001b[0m \u001b[1m1s\u001b[0m 63ms/step - accuracy: 0.5509 - loss: 0.9129\n",
      "Epoch 1: saving model to model_weights-01.weights.h5\n",
      "\u001b[1m240/261\u001b[0m \u001b[32m━━━━━━━━━━━━━━━━━━\u001b[0m\u001b[37m━━\u001b[0m \u001b[1m1s\u001b[0m 63ms/step - accuracy: 0.5512 - loss: 0.9125\n",
      "Epoch 1: saving model to model_weights-01.weights.h5\n",
      "\u001b[1m241/261\u001b[0m \u001b[32m━━━━━━━━━━━━━━━━━━\u001b[0m\u001b[37m━━\u001b[0m \u001b[1m1s\u001b[0m 63ms/step - accuracy: 0.5514 - loss: 0.9122\n",
      "Epoch 1: saving model to model_weights-01.weights.h5\n",
      "\u001b[1m242/261\u001b[0m \u001b[32m━━━━━━━━━━━━━━━━━━\u001b[0m\u001b[37m━━\u001b[0m \u001b[1m1s\u001b[0m 63ms/step - accuracy: 0.5517 - loss: 0.9118\n",
      "Epoch 1: saving model to model_weights-01.weights.h5\n",
      "\u001b[1m243/261\u001b[0m \u001b[32m━━━━━━━━━━━━━━━━━━\u001b[0m\u001b[37m━━\u001b[0m \u001b[1m1s\u001b[0m 63ms/step - accuracy: 0.5520 - loss: 0.9115\n",
      "Epoch 1: saving model to model_weights-01.weights.h5\n",
      "\u001b[1m244/261\u001b[0m \u001b[32m━━━━━━━━━━━━━━━━━━\u001b[0m\u001b[37m━━\u001b[0m \u001b[1m1s\u001b[0m 63ms/step - accuracy: 0.5522 - loss: 0.9111\n",
      "Epoch 1: saving model to model_weights-01.weights.h5\n",
      "\u001b[1m245/261\u001b[0m \u001b[32m━━━━━━━━━━━━━━━━━━\u001b[0m\u001b[37m━━\u001b[0m \u001b[1m1s\u001b[0m 63ms/step - accuracy: 0.5525 - loss: 0.9108\n",
      "Epoch 1: saving model to model_weights-01.weights.h5\n",
      "\u001b[1m246/261\u001b[0m \u001b[32m━━━━━━━━━━━━━━━━━━\u001b[0m\u001b[37m━━\u001b[0m \u001b[1m0s\u001b[0m 63ms/step - accuracy: 0.5528 - loss: 0.9104\n",
      "Epoch 1: saving model to model_weights-01.weights.h5\n",
      "\u001b[1m247/261\u001b[0m \u001b[32m━━━━━━━━━━━━━━━━━━\u001b[0m\u001b[37m━━\u001b[0m \u001b[1m0s\u001b[0m 63ms/step - accuracy: 0.5530 - loss: 0.9101\n",
      "Epoch 1: saving model to model_weights-01.weights.h5\n",
      "\u001b[1m248/261\u001b[0m \u001b[32m━━━━━━━━━━━━━━━━━━━\u001b[0m\u001b[37m━\u001b[0m \u001b[1m0s\u001b[0m 63ms/step - accuracy: 0.5533 - loss: 0.9098\n",
      "Epoch 1: saving model to model_weights-01.weights.h5\n",
      "\u001b[1m249/261\u001b[0m \u001b[32m━━━━━━━━━━━━━━━━━━━\u001b[0m\u001b[37m━\u001b[0m \u001b[1m0s\u001b[0m 63ms/step - accuracy: 0.5536 - loss: 0.9094\n",
      "Epoch 1: saving model to model_weights-01.weights.h5\n",
      "\u001b[1m250/261\u001b[0m \u001b[32m━━━━━━━━━━━━━━━━━━━\u001b[0m\u001b[37m━\u001b[0m \u001b[1m0s\u001b[0m 63ms/step - accuracy: 0.5538 - loss: 0.9091\n",
      "Epoch 1: saving model to model_weights-01.weights.h5\n",
      "\u001b[1m251/261\u001b[0m \u001b[32m━━━━━━━━━━━━━━━━━━━\u001b[0m\u001b[37m━\u001b[0m \u001b[1m0s\u001b[0m 63ms/step - accuracy: 0.5541 - loss: 0.9087\n",
      "Epoch 1: saving model to model_weights-01.weights.h5\n",
      "\u001b[1m252/261\u001b[0m \u001b[32m━━━━━━━━━━━━━━━━━━━\u001b[0m\u001b[37m━\u001b[0m \u001b[1m0s\u001b[0m 63ms/step - accuracy: 0.5543 - loss: 0.9084\n",
      "Epoch 1: saving model to model_weights-01.weights.h5\n",
      "\u001b[1m253/261\u001b[0m \u001b[32m━━━━━━━━━━━━━━━━━━━\u001b[0m\u001b[37m━\u001b[0m \u001b[1m0s\u001b[0m 63ms/step - accuracy: 0.5546 - loss: 0.9081\n",
      "Epoch 1: saving model to model_weights-01.weights.h5\n",
      "\u001b[1m254/261\u001b[0m \u001b[32m━━━━━━━━━━━━━━━━━━━\u001b[0m\u001b[37m━\u001b[0m \u001b[1m0s\u001b[0m 63ms/step - accuracy: 0.5548 - loss: 0.9078\n",
      "Epoch 1: saving model to model_weights-01.weights.h5\n",
      "\u001b[1m255/261\u001b[0m \u001b[32m━━━━━━━━━━━━━━━━━━━\u001b[0m\u001b[37m━\u001b[0m \u001b[1m0s\u001b[0m 63ms/step - accuracy: 0.5551 - loss: 0.9074\n",
      "Epoch 1: saving model to model_weights-01.weights.h5\n",
      "\u001b[1m256/261\u001b[0m \u001b[32m━━━━━━━━━━━━━━━━━━━\u001b[0m\u001b[37m━\u001b[0m \u001b[1m0s\u001b[0m 63ms/step - accuracy: 0.5553 - loss: 0.9071\n",
      "Epoch 1: saving model to model_weights-01.weights.h5\n",
      "\u001b[1m257/261\u001b[0m \u001b[32m━━━━━━━━━━━━━━━━━━━\u001b[0m\u001b[37m━\u001b[0m \u001b[1m0s\u001b[0m 63ms/step - accuracy: 0.5556 - loss: 0.9068\n",
      "Epoch 1: saving model to model_weights-01.weights.h5\n",
      "\u001b[1m258/261\u001b[0m \u001b[32m━━━━━━━━━━━━━━━━━━━\u001b[0m\u001b[37m━\u001b[0m \u001b[1m0s\u001b[0m 63ms/step - accuracy: 0.5558 - loss: 0.9064\n",
      "Epoch 1: saving model to model_weights-01.weights.h5\n",
      "\u001b[1m259/261\u001b[0m \u001b[32m━━━━━━━━━━━━━━━━━━━\u001b[0m\u001b[37m━\u001b[0m \u001b[1m0s\u001b[0m 63ms/step - accuracy: 0.5561 - loss: 0.9061\n",
      "Epoch 1: saving model to model_weights-01.weights.h5\n",
      "\u001b[1m260/261\u001b[0m \u001b[32m━━━━━━━━━━━━━━━━━━━\u001b[0m\u001b[37m━\u001b[0m \u001b[1m0s\u001b[0m 63ms/step - accuracy: 0.5563 - loss: 0.9058\n",
      "Epoch 1: saving model to model_weights-01.weights.h5\n",
      "\u001b[1m261/261\u001b[0m \u001b[32m━━━━━━━━━━━━━━━━━━━━\u001b[0m\u001b[37m\u001b[0m \u001b[1m28s\u001b[0m 81ms/step - accuracy: 0.5568 - loss: 0.9052 - val_accuracy: 0.6789 - val_loss: 0.7320\n",
      "Epoch 2/5\n",
      "\n",
      "Epoch 2: saving model to model_weights-02.weights.h5\n",
      "\u001b[1m  1/261\u001b[0m \u001b[37m━━━━━━━━━━━━━━━━━━━━\u001b[0m \u001b[1m20s\u001b[0m 81ms/step - accuracy: 0.7812 - loss: 0.6072\n",
      "Epoch 2: saving model to model_weights-02.weights.h5\n",
      "\u001b[1m  2/261\u001b[0m \u001b[37m━━━━━━━━━━━━━━━━━━━━\u001b[0m \u001b[1m16s\u001b[0m 63ms/step - accuracy: 0.7344 - loss: 0.6644\n",
      "Epoch 2: saving model to model_weights-02.weights.h5\n",
      "\u001b[1m  3/261\u001b[0m \u001b[37m━━━━━━━━━━━━━━━━━━━━\u001b[0m \u001b[1m16s\u001b[0m 64ms/step - accuracy: 0.7153 - loss: 0.6875\n",
      "Epoch 2: saving model to model_weights-02.weights.h5\n",
      "\u001b[1m  4/261\u001b[0m \u001b[37m━━━━━━━━━━━━━━━━━━━━\u001b[0m \u001b[1m15s\u001b[0m 62ms/step - accuracy: 0.7083 - loss: 0.6959\n",
      "Epoch 2: saving model to model_weights-02.weights.h5\n",
      "\u001b[1m  5/261\u001b[0m \u001b[37m━━━━━━━━━━━━━━━━━━━━\u001b[0m \u001b[1m15s\u001b[0m 62ms/step - accuracy: 0.7054 - loss: 0.6997\n",
      "Epoch 2: saving model to model_weights-02.weights.h5\n",
      "\u001b[1m  6/261\u001b[0m \u001b[37m━━━━━━━━━━━━━━━━━━━━\u001b[0m \u001b[1m15s\u001b[0m 61ms/step - accuracy: 0.7033 - loss: 0.7017\n",
      "Epoch 2: saving model to model_weights-02.weights.h5\n",
      "\u001b[1m  7/261\u001b[0m \u001b[37m━━━━━━━━━━━━━━━━━━━━\u001b[0m \u001b[1m15s\u001b[0m 61ms/step - accuracy: 0.7036 - loss: 0.7012\n",
      "Epoch 2: saving model to model_weights-02.weights.h5\n",
      "\u001b[1m  8/261\u001b[0m \u001b[37m━━━━━━━━━━━━━━━━━━━━\u001b[0m \u001b[1m15s\u001b[0m 61ms/step - accuracy: 0.7026 - loss: 0.7020\n",
      "Epoch 2: saving model to model_weights-02.weights.h5\n",
      "\u001b[1m  9/261\u001b[0m \u001b[37m━━━━━━━━━━━━━━━━━━━━\u001b[0m \u001b[1m15s\u001b[0m 61ms/step - accuracy: 0.7013 - loss: 0.7026\n",
      "Epoch 2: saving model to model_weights-02.weights.h5\n",
      "\u001b[1m 10/261\u001b[0m \u001b[37m━━━━━━━━━━━━━━━━━━━━\u001b[0m \u001b[1m15s\u001b[0m 61ms/step - accuracy: 0.6996 - loss: 0.7043\n",
      "Epoch 2: saving model to model_weights-02.weights.h5\n",
      "\u001b[1m 11/261\u001b[0m \u001b[37m━━━━━━━━━━━━━━━━━━━━\u001b[0m \u001b[1m15s\u001b[0m 61ms/step - accuracy: 0.6981 - loss: 0.7058\n",
      "Epoch 2: saving model to model_weights-02.weights.h5\n",
      "\u001b[1m 12/261\u001b[0m \u001b[37m━━━━━━━━━━━━━━━━━━━━\u001b[0m \u001b[1m15s\u001b[0m 60ms/step - accuracy: 0.6971 - loss: 0.7063\n",
      "Epoch 2: saving model to model_weights-02.weights.h5\n",
      "\u001b[1m 13/261\u001b[0m \u001b[37m━━━━━━━━━━━━━━━━━━━━\u001b[0m \u001b[1m14s\u001b[0m 60ms/step - accuracy: 0.6964 - loss: 0.7065\n",
      "Epoch 2: saving model to model_weights-02.weights.h5\n",
      "\u001b[1m 14/261\u001b[0m \u001b[32m━\u001b[0m\u001b[37m━━━━━━━━━━━━━━━━━━━\u001b[0m \u001b[1m14s\u001b[0m 60ms/step - accuracy: 0.6959 - loss: 0.7062\n",
      "Epoch 2: saving model to model_weights-02.weights.h5\n",
      "\u001b[1m 15/261\u001b[0m \u001b[32m━\u001b[0m\u001b[37m━━━━━━━━━━━━━━━━━━━\u001b[0m \u001b[1m14s\u001b[0m 60ms/step - accuracy: 0.6954 - loss: 0.7059\n",
      "Epoch 2: saving model to model_weights-02.weights.h5\n",
      "\u001b[1m 16/261\u001b[0m \u001b[32m━\u001b[0m\u001b[37m━━━━━━━━━━━━━━━━━━━\u001b[0m \u001b[1m14s\u001b[0m 60ms/step - accuracy: 0.6950 - loss: 0.7058\n",
      "Epoch 2: saving model to model_weights-02.weights.h5\n",
      "\u001b[1m 17/261\u001b[0m \u001b[32m━\u001b[0m\u001b[37m━━━━━━━━━━━━━━━━━━━\u001b[0m \u001b[1m14s\u001b[0m 60ms/step - accuracy: 0.6947 - loss: 0.7053\n",
      "Epoch 2: saving model to model_weights-02.weights.h5\n",
      "\u001b[1m 18/261\u001b[0m \u001b[32m━\u001b[0m\u001b[37m━━━━━━━━━━━━━━━━━━━\u001b[0m \u001b[1m14s\u001b[0m 60ms/step - accuracy: 0.6943 - loss: 0.7050\n",
      "Epoch 2: saving model to model_weights-02.weights.h5\n",
      "\u001b[1m 19/261\u001b[0m \u001b[32m━\u001b[0m\u001b[37m━━━━━━━━━━━━━━━━━━━\u001b[0m \u001b[1m14s\u001b[0m 60ms/step - accuracy: 0.6940 - loss: 0.7047\n",
      "Epoch 2: saving model to model_weights-02.weights.h5\n",
      "\u001b[1m 20/261\u001b[0m \u001b[32m━\u001b[0m\u001b[37m━━━━━━━━━━━━━━━━━━━\u001b[0m \u001b[1m14s\u001b[0m 60ms/step - accuracy: 0.6937 - loss: 0.7045\n",
      "Epoch 2: saving model to model_weights-02.weights.h5\n",
      "\u001b[1m 21/261\u001b[0m \u001b[32m━\u001b[0m\u001b[37m━━━━━━━━━━━━━━━━━━━\u001b[0m \u001b[1m14s\u001b[0m 60ms/step - accuracy: 0.6934 - loss: 0.7041\n",
      "Epoch 2: saving model to model_weights-02.weights.h5\n",
      "\u001b[1m 22/261\u001b[0m \u001b[32m━\u001b[0m\u001b[37m━━━━━━━━━━━━━━━━━━━\u001b[0m \u001b[1m14s\u001b[0m 60ms/step - accuracy: 0.6931 - loss: 0.7037\n",
      "Epoch 2: saving model to model_weights-02.weights.h5\n",
      "\u001b[1m 23/261\u001b[0m \u001b[32m━\u001b[0m\u001b[37m━━━━━━━━━━━━━━━━━━━\u001b[0m \u001b[1m14s\u001b[0m 60ms/step - accuracy: 0.6924 - loss: 0.7038\n",
      "Epoch 2: saving model to model_weights-02.weights.h5\n",
      "\u001b[1m 24/261\u001b[0m \u001b[32m━\u001b[0m\u001b[37m━━━━━━━━━━━━━━━━━━━\u001b[0m \u001b[1m14s\u001b[0m 60ms/step - accuracy: 0.6917 - loss: 0.7038\n",
      "Epoch 2: saving model to model_weights-02.weights.h5\n",
      "\u001b[1m 25/261\u001b[0m \u001b[32m━\u001b[0m\u001b[37m━━━━━━━━━━━━━━━━━━━\u001b[0m \u001b[1m14s\u001b[0m 60ms/step - accuracy: 0.6911 - loss: 0.7039\n",
      "Epoch 2: saving model to model_weights-02.weights.h5\n",
      "\u001b[1m 26/261\u001b[0m \u001b[32m━\u001b[0m\u001b[37m━━━━━━━━━━━━━━━━━━━\u001b[0m \u001b[1m14s\u001b[0m 60ms/step - accuracy: 0.6905 - loss: 0.7041\n",
      "Epoch 2: saving model to model_weights-02.weights.h5\n",
      "\u001b[1m 27/261\u001b[0m \u001b[32m━━\u001b[0m\u001b[37m━━━━━━━━━━━━━━━━━━\u001b[0m \u001b[1m14s\u001b[0m 60ms/step - accuracy: 0.6898 - loss: 0.7044\n",
      "Epoch 2: saving model to model_weights-02.weights.h5\n",
      "\u001b[1m 28/261\u001b[0m \u001b[32m━━\u001b[0m\u001b[37m━━━━━━━━━━━━━━━━━━\u001b[0m \u001b[1m13s\u001b[0m 60ms/step - accuracy: 0.6891 - loss: 0.7048\n",
      "Epoch 2: saving model to model_weights-02.weights.h5\n",
      "\u001b[1m 29/261\u001b[0m \u001b[32m━━\u001b[0m\u001b[37m━━━━━━━━━━━━━━━━━━\u001b[0m \u001b[1m13s\u001b[0m 60ms/step - accuracy: 0.6885 - loss: 0.7053\n",
      "Epoch 2: saving model to model_weights-02.weights.h5\n",
      "\u001b[1m 30/261\u001b[0m \u001b[32m━━\u001b[0m\u001b[37m━━━━━━━━━━━━━━━━━━\u001b[0m \u001b[1m13s\u001b[0m 60ms/step - accuracy: 0.6880 - loss: 0.7056\n",
      "Epoch 2: saving model to model_weights-02.weights.h5\n",
      "\u001b[1m 31/261\u001b[0m \u001b[32m━━\u001b[0m\u001b[37m━━━━━━━━━━━━━━━━━━\u001b[0m \u001b[1m13s\u001b[0m 60ms/step - accuracy: 0.6876 - loss: 0.7060\n",
      "Epoch 2: saving model to model_weights-02.weights.h5\n",
      "\u001b[1m 32/261\u001b[0m \u001b[32m━━\u001b[0m\u001b[37m━━━━━━━━━━━━━━━━━━\u001b[0m \u001b[1m13s\u001b[0m 60ms/step - accuracy: 0.6872 - loss: 0.7062\n",
      "Epoch 2: saving model to model_weights-02.weights.h5\n",
      "\u001b[1m 33/261\u001b[0m \u001b[32m━━\u001b[0m\u001b[37m━━━━━━━━━━━━━━━━━━\u001b[0m \u001b[1m13s\u001b[0m 60ms/step - accuracy: 0.6868 - loss: 0.7065\n",
      "Epoch 2: saving model to model_weights-02.weights.h5\n",
      "\u001b[1m 34/261\u001b[0m \u001b[32m━━\u001b[0m\u001b[37m━━━━━━━━━━━━━━━━━━\u001b[0m \u001b[1m13s\u001b[0m 60ms/step - accuracy: 0.6864 - loss: 0.7070\n",
      "Epoch 2: saving model to model_weights-02.weights.h5\n",
      "\u001b[1m 35/261\u001b[0m \u001b[32m━━\u001b[0m\u001b[37m━━━━━━━━━━━━━━━━━━\u001b[0m \u001b[1m13s\u001b[0m 60ms/step - accuracy: 0.6861 - loss: 0.7073\n",
      "Epoch 2: saving model to model_weights-02.weights.h5\n",
      "\u001b[1m 36/261\u001b[0m \u001b[32m━━\u001b[0m\u001b[37m━━━━━━━━━━━━━━━━━━\u001b[0m \u001b[1m13s\u001b[0m 60ms/step - accuracy: 0.6858 - loss: 0.7077\n",
      "Epoch 2: saving model to model_weights-02.weights.h5\n",
      "\u001b[1m 37/261\u001b[0m \u001b[32m━━\u001b[0m\u001b[37m━━━━━━━━━━━━━━━━━━\u001b[0m \u001b[1m13s\u001b[0m 60ms/step - accuracy: 0.6855 - loss: 0.7080\n",
      "Epoch 2: saving model to model_weights-02.weights.h5\n",
      "\u001b[1m 38/261\u001b[0m \u001b[32m━━\u001b[0m\u001b[37m━━━━━━━━━━━━━━━━━━\u001b[0m \u001b[1m13s\u001b[0m 60ms/step - accuracy: 0.6852 - loss: 0.7083\n",
      "Epoch 2: saving model to model_weights-02.weights.h5\n",
      "\u001b[1m 39/261\u001b[0m \u001b[32m━━\u001b[0m\u001b[37m━━━━━━━━━━━━━━━━━━\u001b[0m \u001b[1m13s\u001b[0m 60ms/step - accuracy: 0.6849 - loss: 0.7085\n",
      "Epoch 2: saving model to model_weights-02.weights.h5\n",
      "\u001b[1m 40/261\u001b[0m \u001b[32m━━━\u001b[0m\u001b[37m━━━━━━━━━━━━━━━━━\u001b[0m \u001b[1m13s\u001b[0m 60ms/step - accuracy: 0.6846 - loss: 0.7087\n",
      "Epoch 2: saving model to model_weights-02.weights.h5\n",
      "\u001b[1m 41/261\u001b[0m \u001b[32m━━━\u001b[0m\u001b[37m━━━━━━━━━━━━━━━━━\u001b[0m \u001b[1m13s\u001b[0m 60ms/step - accuracy: 0.6843 - loss: 0.7090\n",
      "Epoch 2: saving model to model_weights-02.weights.h5\n",
      "\u001b[1m 42/261\u001b[0m \u001b[32m━━━\u001b[0m\u001b[37m━━━━━━━━━━━━━━━━━\u001b[0m \u001b[1m13s\u001b[0m 60ms/step - accuracy: 0.6840 - loss: 0.7093\n",
      "Epoch 2: saving model to model_weights-02.weights.h5\n",
      "\u001b[1m 43/261\u001b[0m \u001b[32m━━━\u001b[0m\u001b[37m━━━━━━━━━━━━━━━━━\u001b[0m \u001b[1m13s\u001b[0m 60ms/step - accuracy: 0.6838 - loss: 0.7095\n",
      "Epoch 2: saving model to model_weights-02.weights.h5\n",
      "\u001b[1m 44/261\u001b[0m \u001b[32m━━━\u001b[0m\u001b[37m━━━━━━━━━━━━━━━━━\u001b[0m \u001b[1m13s\u001b[0m 60ms/step - accuracy: 0.6836 - loss: 0.7098\n",
      "Epoch 2: saving model to model_weights-02.weights.h5\n",
      "\u001b[1m 45/261\u001b[0m \u001b[32m━━━\u001b[0m\u001b[37m━━━━━━━━━━━━━━━━━\u001b[0m \u001b[1m12s\u001b[0m 60ms/step - accuracy: 0.6833 - loss: 0.7101\n",
      "Epoch 2: saving model to model_weights-02.weights.h5\n",
      "\u001b[1m 46/261\u001b[0m \u001b[32m━━━\u001b[0m\u001b[37m━━━━━━━━━━━━━━━━━\u001b[0m \u001b[1m12s\u001b[0m 60ms/step - accuracy: 0.6831 - loss: 0.7104\n",
      "Epoch 2: saving model to model_weights-02.weights.h5\n",
      "\u001b[1m 47/261\u001b[0m \u001b[32m━━━\u001b[0m\u001b[37m━━━━━━━━━━━━━━━━━\u001b[0m \u001b[1m12s\u001b[0m 60ms/step - accuracy: 0.6829 - loss: 0.7107\n",
      "Epoch 2: saving model to model_weights-02.weights.h5\n",
      "\u001b[1m 48/261\u001b[0m \u001b[32m━━━\u001b[0m\u001b[37m━━━━━━━━━━━━━━━━━\u001b[0m \u001b[1m12s\u001b[0m 60ms/step - accuracy: 0.6827 - loss: 0.7109\n",
      "Epoch 2: saving model to model_weights-02.weights.h5\n",
      "\u001b[1m 49/261\u001b[0m \u001b[32m━━━\u001b[0m\u001b[37m━━━━━━━━━━━━━━━━━\u001b[0m \u001b[1m12s\u001b[0m 60ms/step - accuracy: 0.6825 - loss: 0.7112\n",
      "Epoch 2: saving model to model_weights-02.weights.h5\n",
      "\u001b[1m 50/261\u001b[0m \u001b[32m━━━\u001b[0m\u001b[37m━━━━━━━━━━━━━━━━━\u001b[0m \u001b[1m12s\u001b[0m 60ms/step - accuracy: 0.6824 - loss: 0.7113\n",
      "Epoch 2: saving model to model_weights-02.weights.h5\n",
      "\u001b[1m 51/261\u001b[0m \u001b[32m━━━\u001b[0m\u001b[37m━━━━━━━━━━━━━━━━━\u001b[0m \u001b[1m12s\u001b[0m 60ms/step - accuracy: 0.6822 - loss: 0.7115\n",
      "Epoch 2: saving model to model_weights-02.weights.h5\n",
      "\u001b[1m 52/261\u001b[0m \u001b[32m━━━\u001b[0m\u001b[37m━━━━━━━━━━━━━━━━━\u001b[0m \u001b[1m12s\u001b[0m 60ms/step - accuracy: 0.6820 - loss: 0.7117\n",
      "Epoch 2: saving model to model_weights-02.weights.h5\n",
      "\u001b[1m 53/261\u001b[0m \u001b[32m━━━━\u001b[0m\u001b[37m━━━━━━━━━━━━━━━━\u001b[0m \u001b[1m12s\u001b[0m 60ms/step - accuracy: 0.6819 - loss: 0.7120\n",
      "Epoch 2: saving model to model_weights-02.weights.h5\n",
      "\u001b[1m 54/261\u001b[0m \u001b[32m━━━━\u001b[0m\u001b[37m━━━━━━━━━━━━━━━━\u001b[0m \u001b[1m12s\u001b[0m 60ms/step - accuracy: 0.6818 - loss: 0.7121\n",
      "Epoch 2: saving model to model_weights-02.weights.h5\n",
      "\u001b[1m 55/261\u001b[0m \u001b[32m━━━━\u001b[0m\u001b[37m━━━━━━━━━━━━━━━━\u001b[0m \u001b[1m12s\u001b[0m 60ms/step - accuracy: 0.6816 - loss: 0.7123\n",
      "Epoch 2: saving model to model_weights-02.weights.h5\n",
      "\u001b[1m 56/261\u001b[0m \u001b[32m━━━━\u001b[0m\u001b[37m━━━━━━━━━━━━━━━━\u001b[0m \u001b[1m12s\u001b[0m 60ms/step - accuracy: 0.6815 - loss: 0.7125\n",
      "Epoch 2: saving model to model_weights-02.weights.h5\n",
      "\u001b[1m 57/261\u001b[0m \u001b[32m━━━━\u001b[0m\u001b[37m━━━━━━━━━━━━━━━━\u001b[0m \u001b[1m12s\u001b[0m 60ms/step - accuracy: 0.6814 - loss: 0.7127\n",
      "Epoch 2: saving model to model_weights-02.weights.h5\n",
      "\u001b[1m 58/261\u001b[0m \u001b[32m━━━━\u001b[0m\u001b[37m━━━━━━━━━━━━━━━━\u001b[0m \u001b[1m12s\u001b[0m 60ms/step - accuracy: 0.6812 - loss: 0.7128\n",
      "Epoch 2: saving model to model_weights-02.weights.h5\n",
      "\u001b[1m 59/261\u001b[0m \u001b[32m━━━━\u001b[0m\u001b[37m━━━━━━━━━━━━━━━━\u001b[0m \u001b[1m12s\u001b[0m 60ms/step - accuracy: 0.6811 - loss: 0.7130\n",
      "Epoch 2: saving model to model_weights-02.weights.h5\n",
      "\u001b[1m 60/261\u001b[0m \u001b[32m━━━━\u001b[0m\u001b[37m━━━━━━━━━━━━━━━━\u001b[0m \u001b[1m12s\u001b[0m 60ms/step - accuracy: 0.6809 - loss: 0.7132\n",
      "Epoch 2: saving model to model_weights-02.weights.h5\n",
      "\u001b[1m 61/261\u001b[0m \u001b[32m━━━━\u001b[0m\u001b[37m━━━━━━━━━━━━━━━━\u001b[0m \u001b[1m12s\u001b[0m 60ms/step - accuracy: 0.6808 - loss: 0.7134\n",
      "Epoch 2: saving model to model_weights-02.weights.h5\n",
      "\u001b[1m 62/261\u001b[0m \u001b[32m━━━━\u001b[0m\u001b[37m━━━━━━━━━━━━━━━━\u001b[0m \u001b[1m11s\u001b[0m 60ms/step - accuracy: 0.6807 - loss: 0.7135\n",
      "Epoch 2: saving model to model_weights-02.weights.h5\n",
      "\u001b[1m 63/261\u001b[0m \u001b[32m━━━━\u001b[0m\u001b[37m━━━━━━━━━━━━━━━━\u001b[0m \u001b[1m11s\u001b[0m 60ms/step - accuracy: 0.6805 - loss: 0.7137\n",
      "Epoch 2: saving model to model_weights-02.weights.h5\n",
      "\u001b[1m 64/261\u001b[0m \u001b[32m━━━━\u001b[0m\u001b[37m━━━━━━━━━━━━━━━━\u001b[0m \u001b[1m11s\u001b[0m 60ms/step - accuracy: 0.6804 - loss: 0.7139\n",
      "Epoch 2: saving model to model_weights-02.weights.h5\n",
      "\u001b[1m 65/261\u001b[0m \u001b[32m━━━━\u001b[0m\u001b[37m━━━━━━━━━━━━━━━━\u001b[0m \u001b[1m11s\u001b[0m 60ms/step - accuracy: 0.6802 - loss: 0.7141\n",
      "Epoch 2: saving model to model_weights-02.weights.h5\n",
      "\u001b[1m 66/261\u001b[0m \u001b[32m━━━━━\u001b[0m\u001b[37m━━━━━━━━━━━━━━━\u001b[0m \u001b[1m11s\u001b[0m 60ms/step - accuracy: 0.6801 - loss: 0.7143\n",
      "Epoch 2: saving model to model_weights-02.weights.h5\n",
      "\u001b[1m 67/261\u001b[0m \u001b[32m━━━━━\u001b[0m\u001b[37m━━━━━━━━━━━━━━━\u001b[0m \u001b[1m11s\u001b[0m 60ms/step - accuracy: 0.6799 - loss: 0.7145\n",
      "Epoch 2: saving model to model_weights-02.weights.h5\n",
      "\u001b[1m 68/261\u001b[0m \u001b[32m━━━━━\u001b[0m\u001b[37m━━━━━━━━━━━━━━━\u001b[0m \u001b[1m11s\u001b[0m 60ms/step - accuracy: 0.6797 - loss: 0.7147\n",
      "Epoch 2: saving model to model_weights-02.weights.h5\n",
      "\u001b[1m 69/261\u001b[0m \u001b[32m━━━━━\u001b[0m\u001b[37m━━━━━━━━━━━━━━━\u001b[0m \u001b[1m11s\u001b[0m 60ms/step - accuracy: 0.6796 - loss: 0.7149\n",
      "Epoch 2: saving model to model_weights-02.weights.h5\n",
      "\u001b[1m 70/261\u001b[0m \u001b[32m━━━━━\u001b[0m\u001b[37m━━━━━━━━━━━━━━━\u001b[0m \u001b[1m11s\u001b[0m 60ms/step - accuracy: 0.6794 - loss: 0.7151\n",
      "Epoch 2: saving model to model_weights-02.weights.h5\n",
      "\u001b[1m 71/261\u001b[0m \u001b[32m━━━━━\u001b[0m\u001b[37m━━━━━━━━━━━━━━━\u001b[0m \u001b[1m11s\u001b[0m 60ms/step - accuracy: 0.6793 - loss: 0.7153\n",
      "Epoch 2: saving model to model_weights-02.weights.h5\n",
      "\u001b[1m 72/261\u001b[0m \u001b[32m━━━━━\u001b[0m\u001b[37m━━━━━━━━━━━━━━━\u001b[0m \u001b[1m11s\u001b[0m 60ms/step - accuracy: 0.6792 - loss: 0.7154\n",
      "Epoch 2: saving model to model_weights-02.weights.h5\n",
      "\u001b[1m 73/261\u001b[0m \u001b[32m━━━━━\u001b[0m\u001b[37m━━━━━━━━━━━━━━━\u001b[0m \u001b[1m11s\u001b[0m 60ms/step - accuracy: 0.6791 - loss: 0.7156\n",
      "Epoch 2: saving model to model_weights-02.weights.h5\n",
      "\u001b[1m 74/261\u001b[0m \u001b[32m━━━━━\u001b[0m\u001b[37m━━━━━━━━━━━━━━━\u001b[0m \u001b[1m11s\u001b[0m 60ms/step - accuracy: 0.6790 - loss: 0.7157\n",
      "Epoch 2: saving model to model_weights-02.weights.h5\n",
      "\u001b[1m 75/261\u001b[0m \u001b[32m━━━━━\u001b[0m\u001b[37m━━━━━━━━━━━━━━━\u001b[0m \u001b[1m11s\u001b[0m 60ms/step - accuracy: 0.6789 - loss: 0.7158\n",
      "Epoch 2: saving model to model_weights-02.weights.h5\n",
      "\u001b[1m 76/261\u001b[0m \u001b[32m━━━━━\u001b[0m\u001b[37m━━━━━━━━━━━━━━━\u001b[0m \u001b[1m11s\u001b[0m 60ms/step - accuracy: 0.6788 - loss: 0.7160\n",
      "Epoch 2: saving model to model_weights-02.weights.h5\n",
      "\u001b[1m 77/261\u001b[0m \u001b[32m━━━━━\u001b[0m\u001b[37m━━━━━━━━━━━━━━━\u001b[0m \u001b[1m11s\u001b[0m 60ms/step - accuracy: 0.6787 - loss: 0.7160\n",
      "Epoch 2: saving model to model_weights-02.weights.h5\n",
      "\u001b[1m 78/261\u001b[0m \u001b[32m━━━━━\u001b[0m\u001b[37m━━━━━━━━━━━━━━━\u001b[0m \u001b[1m11s\u001b[0m 60ms/step - accuracy: 0.6786 - loss: 0.7161\n",
      "Epoch 2: saving model to model_weights-02.weights.h5\n",
      "\u001b[1m 79/261\u001b[0m \u001b[32m━━━━━━\u001b[0m\u001b[37m━━━━━━━━━━━━━━\u001b[0m \u001b[1m10s\u001b[0m 60ms/step - accuracy: 0.6785 - loss: 0.7162\n",
      "Epoch 2: saving model to model_weights-02.weights.h5\n",
      "\u001b[1m 80/261\u001b[0m \u001b[32m━━━━━━\u001b[0m\u001b[37m━━━━━━━━━━━━━━\u001b[0m \u001b[1m10s\u001b[0m 60ms/step - accuracy: 0.6784 - loss: 0.7162\n",
      "Epoch 2: saving model to model_weights-02.weights.h5\n",
      "\u001b[1m 81/261\u001b[0m \u001b[32m━━━━━━\u001b[0m\u001b[37m━━━━━━━━━━━━━━\u001b[0m \u001b[1m10s\u001b[0m 60ms/step - accuracy: 0.6783 - loss: 0.7163\n",
      "Epoch 2: saving model to model_weights-02.weights.h5\n",
      "\u001b[1m 82/261\u001b[0m \u001b[32m━━━━━━\u001b[0m\u001b[37m━━━━━━━━━━━━━━\u001b[0m \u001b[1m10s\u001b[0m 60ms/step - accuracy: 0.6783 - loss: 0.7164\n",
      "Epoch 2: saving model to model_weights-02.weights.h5\n",
      "\u001b[1m 83/261\u001b[0m \u001b[32m━━━━━━\u001b[0m\u001b[37m━━━━━━━━━━━━━━\u001b[0m \u001b[1m10s\u001b[0m 60ms/step - accuracy: 0.6782 - loss: 0.7165\n",
      "Epoch 2: saving model to model_weights-02.weights.h5\n",
      "\u001b[1m 84/261\u001b[0m \u001b[32m━━━━━━\u001b[0m\u001b[37m━━━━━━━━━━━━━━\u001b[0m \u001b[1m10s\u001b[0m 60ms/step - accuracy: 0.6781 - loss: 0.7165\n",
      "Epoch 2: saving model to model_weights-02.weights.h5\n",
      "\u001b[1m 85/261\u001b[0m \u001b[32m━━━━━━\u001b[0m\u001b[37m━━━━━━━━━━━━━━\u001b[0m \u001b[1m10s\u001b[0m 60ms/step - accuracy: 0.6780 - loss: 0.7167\n",
      "Epoch 2: saving model to model_weights-02.weights.h5\n",
      "\u001b[1m 86/261\u001b[0m \u001b[32m━━━━━━\u001b[0m\u001b[37m━━━━━━━━━━━━━━\u001b[0m \u001b[1m10s\u001b[0m 60ms/step - accuracy: 0.6779 - loss: 0.7168\n",
      "Epoch 2: saving model to model_weights-02.weights.h5\n",
      "\u001b[1m 87/261\u001b[0m \u001b[32m━━━━━━\u001b[0m\u001b[37m━━━━━━━━━━━━━━\u001b[0m \u001b[1m10s\u001b[0m 60ms/step - accuracy: 0.6778 - loss: 0.7169\n",
      "Epoch 2: saving model to model_weights-02.weights.h5\n",
      "\u001b[1m 88/261\u001b[0m \u001b[32m━━━━━━\u001b[0m\u001b[37m━━━━━━━━━━━━━━\u001b[0m \u001b[1m10s\u001b[0m 60ms/step - accuracy: 0.6777 - loss: 0.7170\n",
      "Epoch 2: saving model to model_weights-02.weights.h5\n",
      "\u001b[1m 89/261\u001b[0m \u001b[32m━━━━━━\u001b[0m\u001b[37m━━━━━━━━━━━━━━\u001b[0m \u001b[1m10s\u001b[0m 60ms/step - accuracy: 0.6776 - loss: 0.7171\n",
      "Epoch 2: saving model to model_weights-02.weights.h5\n",
      "\u001b[1m 90/261\u001b[0m \u001b[32m━━━━━━\u001b[0m\u001b[37m━━━━━━━━━━━━━━\u001b[0m \u001b[1m10s\u001b[0m 61ms/step - accuracy: 0.6776 - loss: 0.7172\n",
      "Epoch 2: saving model to model_weights-02.weights.h5\n",
      "\u001b[1m 91/261\u001b[0m \u001b[32m━━━━━━\u001b[0m\u001b[37m━━━━━━━━━━━━━━\u001b[0m \u001b[1m10s\u001b[0m 61ms/step - accuracy: 0.6775 - loss: 0.7173\n",
      "Epoch 2: saving model to model_weights-02.weights.h5\n",
      "\u001b[1m 92/261\u001b[0m \u001b[32m━━━━━━━\u001b[0m\u001b[37m━━━━━━━━━━━━━\u001b[0m \u001b[1m10s\u001b[0m 61ms/step - accuracy: 0.6774 - loss: 0.7174\n",
      "Epoch 2: saving model to model_weights-02.weights.h5\n",
      "\u001b[1m 93/261\u001b[0m \u001b[32m━━━━━━━\u001b[0m\u001b[37m━━━━━━━━━━━━━\u001b[0m \u001b[1m10s\u001b[0m 61ms/step - accuracy: 0.6774 - loss: 0.7175\n",
      "Epoch 2: saving model to model_weights-02.weights.h5\n",
      "\u001b[1m 94/261\u001b[0m \u001b[32m━━━━━━━\u001b[0m\u001b[37m━━━━━━━━━━━━━\u001b[0m \u001b[1m10s\u001b[0m 61ms/step - accuracy: 0.6773 - loss: 0.7177\n",
      "Epoch 2: saving model to model_weights-02.weights.h5\n",
      "\u001b[1m 95/261\u001b[0m \u001b[32m━━━━━━━\u001b[0m\u001b[37m━━━━━━━━━━━━━\u001b[0m \u001b[1m10s\u001b[0m 61ms/step - accuracy: 0.6772 - loss: 0.7178\n",
      "Epoch 2: saving model to model_weights-02.weights.h5\n",
      "\u001b[1m 96/261\u001b[0m \u001b[32m━━━━━━━\u001b[0m\u001b[37m━━━━━━━━━━━━━\u001b[0m \u001b[1m10s\u001b[0m 61ms/step - accuracy: 0.6772 - loss: 0.7179\n",
      "Epoch 2: saving model to model_weights-02.weights.h5\n",
      "\u001b[1m 97/261\u001b[0m \u001b[32m━━━━━━━\u001b[0m\u001b[37m━━━━━━━━━━━━━\u001b[0m \u001b[1m9s\u001b[0m 61ms/step - accuracy: 0.6772 - loss: 0.7180 \n",
      "Epoch 2: saving model to model_weights-02.weights.h5\n",
      "\u001b[1m 98/261\u001b[0m \u001b[32m━━━━━━━\u001b[0m\u001b[37m━━━━━━━━━━━━━\u001b[0m \u001b[1m9s\u001b[0m 61ms/step - accuracy: 0.6771 - loss: 0.7181\n",
      "Epoch 2: saving model to model_weights-02.weights.h5\n",
      "\u001b[1m 99/261\u001b[0m \u001b[32m━━━━━━━\u001b[0m\u001b[37m━━━━━━━━━━━━━\u001b[0m \u001b[1m9s\u001b[0m 61ms/step - accuracy: 0.6770 - loss: 0.7182\n",
      "Epoch 2: saving model to model_weights-02.weights.h5\n",
      "\u001b[1m100/261\u001b[0m \u001b[32m━━━━━━━\u001b[0m\u001b[37m━━━━━━━━━━━━━\u001b[0m \u001b[1m9s\u001b[0m 61ms/step - accuracy: 0.6770 - loss: 0.7183\n",
      "Epoch 2: saving model to model_weights-02.weights.h5\n",
      "\u001b[1m101/261\u001b[0m \u001b[32m━━━━━━━\u001b[0m\u001b[37m━━━━━━━━━━━━━\u001b[0m \u001b[1m9s\u001b[0m 61ms/step - accuracy: 0.6770 - loss: 0.7184\n",
      "Epoch 2: saving model to model_weights-02.weights.h5\n",
      "\u001b[1m102/261\u001b[0m \u001b[32m━━━━━━━\u001b[0m\u001b[37m━━━━━━━━━━━━━\u001b[0m \u001b[1m9s\u001b[0m 61ms/step - accuracy: 0.6769 - loss: 0.7185\n",
      "Epoch 2: saving model to model_weights-02.weights.h5\n",
      "\u001b[1m103/261\u001b[0m \u001b[32m━━━━━━━\u001b[0m\u001b[37m━━━━━━━━━━━━━\u001b[0m \u001b[1m9s\u001b[0m 61ms/step - accuracy: 0.6769 - loss: 0.7185\n",
      "Epoch 2: saving model to model_weights-02.weights.h5\n",
      "\u001b[1m104/261\u001b[0m \u001b[32m━━━━━━━\u001b[0m\u001b[37m━━━━━━━━━━━━━\u001b[0m \u001b[1m9s\u001b[0m 61ms/step - accuracy: 0.6768 - loss: 0.7186\n",
      "Epoch 2: saving model to model_weights-02.weights.h5\n",
      "\u001b[1m105/261\u001b[0m \u001b[32m━━━━━━━━\u001b[0m\u001b[37m━━━━━━━━━━━━\u001b[0m \u001b[1m9s\u001b[0m 61ms/step - accuracy: 0.6768 - loss: 0.7187\n",
      "Epoch 2: saving model to model_weights-02.weights.h5\n",
      "\u001b[1m106/261\u001b[0m \u001b[32m━━━━━━━━\u001b[0m\u001b[37m━━━━━━━━━━━━\u001b[0m \u001b[1m9s\u001b[0m 61ms/step - accuracy: 0.6767 - loss: 0.7188\n",
      "Epoch 2: saving model to model_weights-02.weights.h5\n",
      "\u001b[1m107/261\u001b[0m \u001b[32m━━━━━━━━\u001b[0m\u001b[37m━━━━━━━━━━━━\u001b[0m \u001b[1m9s\u001b[0m 61ms/step - accuracy: 0.6767 - loss: 0.7189\n",
      "Epoch 2: saving model to model_weights-02.weights.h5\n",
      "\u001b[1m108/261\u001b[0m \u001b[32m━━━━━━━━\u001b[0m\u001b[37m━━━━━━━━━━━━\u001b[0m \u001b[1m9s\u001b[0m 61ms/step - accuracy: 0.6767 - loss: 0.7189\n",
      "Epoch 2: saving model to model_weights-02.weights.h5\n",
      "\u001b[1m109/261\u001b[0m \u001b[32m━━━━━━━━\u001b[0m\u001b[37m━━━━━━━━━━━━\u001b[0m \u001b[1m9s\u001b[0m 61ms/step - accuracy: 0.6766 - loss: 0.7190\n",
      "Epoch 2: saving model to model_weights-02.weights.h5\n",
      "\u001b[1m110/261\u001b[0m \u001b[32m━━━━━━━━\u001b[0m\u001b[37m━━━━━━━━━━━━\u001b[0m \u001b[1m9s\u001b[0m 61ms/step - accuracy: 0.6766 - loss: 0.7191\n",
      "Epoch 2: saving model to model_weights-02.weights.h5\n",
      "\u001b[1m111/261\u001b[0m \u001b[32m━━━━━━━━\u001b[0m\u001b[37m━━━━━━━━━━━━\u001b[0m \u001b[1m9s\u001b[0m 61ms/step - accuracy: 0.6766 - loss: 0.7192\n",
      "Epoch 2: saving model to model_weights-02.weights.h5\n",
      "\u001b[1m112/261\u001b[0m \u001b[32m━━━━━━━━\u001b[0m\u001b[37m━━━━━━━━━━━━\u001b[0m \u001b[1m9s\u001b[0m 61ms/step - accuracy: 0.6765 - loss: 0.7193\n",
      "Epoch 2: saving model to model_weights-02.weights.h5\n",
      "\u001b[1m113/261\u001b[0m \u001b[32m━━━━━━━━\u001b[0m\u001b[37m━━━━━━━━━━━━\u001b[0m \u001b[1m9s\u001b[0m 61ms/step - accuracy: 0.6765 - loss: 0.7194\n",
      "Epoch 2: saving model to model_weights-02.weights.h5\n",
      "\u001b[1m114/261\u001b[0m \u001b[32m━━━━━━━━\u001b[0m\u001b[37m━━━━━━━━━━━━\u001b[0m \u001b[1m8s\u001b[0m 61ms/step - accuracy: 0.6765 - loss: 0.7195\n",
      "Epoch 2: saving model to model_weights-02.weights.h5\n",
      "\u001b[1m115/261\u001b[0m \u001b[32m━━━━━━━━\u001b[0m\u001b[37m━━━━━━━━━━━━\u001b[0m \u001b[1m8s\u001b[0m 61ms/step - accuracy: 0.6764 - loss: 0.7196\n",
      "Epoch 2: saving model to model_weights-02.weights.h5\n",
      "\u001b[1m116/261\u001b[0m \u001b[32m━━━━━━━━\u001b[0m\u001b[37m━━━━━━━━━━━━\u001b[0m \u001b[1m8s\u001b[0m 61ms/step - accuracy: 0.6764 - loss: 0.7197\n",
      "Epoch 2: saving model to model_weights-02.weights.h5\n",
      "\u001b[1m117/261\u001b[0m \u001b[32m━━━━━━━━\u001b[0m\u001b[37m━━━━━━━━━━━━\u001b[0m \u001b[1m8s\u001b[0m 61ms/step - accuracy: 0.6764 - loss: 0.7198\n",
      "Epoch 2: saving model to model_weights-02.weights.h5\n",
      "\u001b[1m118/261\u001b[0m \u001b[32m━━━━━━━━━\u001b[0m\u001b[37m━━━━━━━━━━━\u001b[0m \u001b[1m8s\u001b[0m 61ms/step - accuracy: 0.6763 - loss: 0.7198\n",
      "Epoch 2: saving model to model_weights-02.weights.h5\n",
      "\u001b[1m119/261\u001b[0m \u001b[32m━━━━━━━━━\u001b[0m\u001b[37m━━━━━━━━━━━\u001b[0m \u001b[1m8s\u001b[0m 61ms/step - accuracy: 0.6763 - loss: 0.7199\n",
      "Epoch 2: saving model to model_weights-02.weights.h5\n",
      "\u001b[1m120/261\u001b[0m \u001b[32m━━━━━━━━━\u001b[0m\u001b[37m━━━━━━━━━━━\u001b[0m \u001b[1m8s\u001b[0m 61ms/step - accuracy: 0.6762 - loss: 0.7200\n",
      "Epoch 2: saving model to model_weights-02.weights.h5\n",
      "\u001b[1m121/261\u001b[0m \u001b[32m━━━━━━━━━\u001b[0m\u001b[37m━━━━━━━━━━━\u001b[0m \u001b[1m8s\u001b[0m 61ms/step - accuracy: 0.6762 - loss: 0.7201\n",
      "Epoch 2: saving model to model_weights-02.weights.h5\n",
      "\u001b[1m122/261\u001b[0m \u001b[32m━━━━━━━━━\u001b[0m\u001b[37m━━━━━━━━━━━\u001b[0m \u001b[1m8s\u001b[0m 61ms/step - accuracy: 0.6762 - loss: 0.7202\n",
      "Epoch 2: saving model to model_weights-02.weights.h5\n",
      "\u001b[1m123/261\u001b[0m \u001b[32m━━━━━━━━━\u001b[0m\u001b[37m━━━━━━━━━━━\u001b[0m \u001b[1m8s\u001b[0m 61ms/step - accuracy: 0.6762 - loss: 0.7203\n",
      "Epoch 2: saving model to model_weights-02.weights.h5\n",
      "\u001b[1m124/261\u001b[0m \u001b[32m━━━━━━━━━\u001b[0m\u001b[37m━━━━━━━━━━━\u001b[0m \u001b[1m8s\u001b[0m 61ms/step - accuracy: 0.6761 - loss: 0.7204\n",
      "Epoch 2: saving model to model_weights-02.weights.h5\n",
      "\u001b[1m125/261\u001b[0m \u001b[32m━━━━━━━━━\u001b[0m\u001b[37m━━━━━━━━━━━\u001b[0m \u001b[1m8s\u001b[0m 61ms/step - accuracy: 0.6761 - loss: 0.7204\n",
      "Epoch 2: saving model to model_weights-02.weights.h5\n",
      "\u001b[1m126/261\u001b[0m \u001b[32m━━━━━━━━━\u001b[0m\u001b[37m━━━━━━━━━━━\u001b[0m \u001b[1m8s\u001b[0m 61ms/step - accuracy: 0.6760 - loss: 0.7205\n",
      "Epoch 2: saving model to model_weights-02.weights.h5\n",
      "\u001b[1m127/261\u001b[0m \u001b[32m━━━━━━━━━\u001b[0m\u001b[37m━━━━━━━━━━━\u001b[0m \u001b[1m8s\u001b[0m 61ms/step - accuracy: 0.6760 - loss: 0.7206\n",
      "Epoch 2: saving model to model_weights-02.weights.h5\n",
      "\u001b[1m128/261\u001b[0m \u001b[32m━━━━━━━━━\u001b[0m\u001b[37m━━━━━━━━━━━\u001b[0m \u001b[1m8s\u001b[0m 61ms/step - accuracy: 0.6760 - loss: 0.7207\n",
      "Epoch 2: saving model to model_weights-02.weights.h5\n",
      "\u001b[1m129/261\u001b[0m \u001b[32m━━━━━━━━━\u001b[0m\u001b[37m━━━━━━━━━━━\u001b[0m \u001b[1m8s\u001b[0m 61ms/step - accuracy: 0.6759 - loss: 0.7207\n",
      "Epoch 2: saving model to model_weights-02.weights.h5\n",
      "\u001b[1m130/261\u001b[0m \u001b[32m━━━━━━━━━\u001b[0m\u001b[37m━━━━━━━━━━━\u001b[0m \u001b[1m8s\u001b[0m 61ms/step - accuracy: 0.6759 - loss: 0.7208\n",
      "Epoch 2: saving model to model_weights-02.weights.h5\n",
      "\u001b[1m131/261\u001b[0m \u001b[32m━━━━━━━━━━\u001b[0m\u001b[37m━━━━━━━━━━\u001b[0m \u001b[1m7s\u001b[0m 61ms/step - accuracy: 0.6758 - loss: 0.7209\n",
      "Epoch 2: saving model to model_weights-02.weights.h5\n",
      "\u001b[1m132/261\u001b[0m \u001b[32m━━━━━━━━━━\u001b[0m\u001b[37m━━━━━━━━━━\u001b[0m \u001b[1m7s\u001b[0m 61ms/step - accuracy: 0.6758 - loss: 0.7209\n",
      "Epoch 2: saving model to model_weights-02.weights.h5\n",
      "\u001b[1m133/261\u001b[0m \u001b[32m━━━━━━━━━━\u001b[0m\u001b[37m━━━━━━━━━━\u001b[0m \u001b[1m7s\u001b[0m 61ms/step - accuracy: 0.6758 - loss: 0.7210\n",
      "Epoch 2: saving model to model_weights-02.weights.h5\n",
      "\u001b[1m134/261\u001b[0m \u001b[32m━━━━━━━━━━\u001b[0m\u001b[37m━━━━━━━━━━\u001b[0m \u001b[1m7s\u001b[0m 61ms/step - accuracy: 0.6757 - loss: 0.7211\n",
      "Epoch 2: saving model to model_weights-02.weights.h5\n",
      "\u001b[1m135/261\u001b[0m \u001b[32m━━━━━━━━━━\u001b[0m\u001b[37m━━━━━━━━━━\u001b[0m \u001b[1m7s\u001b[0m 61ms/step - accuracy: 0.6757 - loss: 0.7211\n",
      "Epoch 2: saving model to model_weights-02.weights.h5\n",
      "\u001b[1m136/261\u001b[0m \u001b[32m━━━━━━━━━━\u001b[0m\u001b[37m━━━━━━━━━━\u001b[0m \u001b[1m7s\u001b[0m 61ms/step - accuracy: 0.6757 - loss: 0.7212\n",
      "Epoch 2: saving model to model_weights-02.weights.h5\n",
      "\u001b[1m137/261\u001b[0m \u001b[32m━━━━━━━━━━\u001b[0m\u001b[37m━━━━━━━━━━\u001b[0m \u001b[1m7s\u001b[0m 61ms/step - accuracy: 0.6757 - loss: 0.7212\n",
      "Epoch 2: saving model to model_weights-02.weights.h5\n",
      "\u001b[1m138/261\u001b[0m \u001b[32m━━━━━━━━━━\u001b[0m\u001b[37m━━━━━━━━━━\u001b[0m \u001b[1m7s\u001b[0m 61ms/step - accuracy: 0.6756 - loss: 0.7213\n",
      "Epoch 2: saving model to model_weights-02.weights.h5\n",
      "\u001b[1m139/261\u001b[0m \u001b[32m━━━━━━━━━━\u001b[0m\u001b[37m━━━━━━━━━━\u001b[0m \u001b[1m7s\u001b[0m 61ms/step - accuracy: 0.6756 - loss: 0.7213\n",
      "Epoch 2: saving model to model_weights-02.weights.h5\n",
      "\u001b[1m140/261\u001b[0m \u001b[32m━━━━━━━━━━\u001b[0m\u001b[37m━━━━━━━━━━\u001b[0m \u001b[1m7s\u001b[0m 61ms/step - accuracy: 0.6756 - loss: 0.7214\n",
      "Epoch 2: saving model to model_weights-02.weights.h5\n",
      "\u001b[1m141/261\u001b[0m \u001b[32m━━━━━━━━━━\u001b[0m\u001b[37m━━━━━━━━━━\u001b[0m \u001b[1m7s\u001b[0m 61ms/step - accuracy: 0.6755 - loss: 0.7214\n",
      "Epoch 2: saving model to model_weights-02.weights.h5\n",
      "\u001b[1m142/261\u001b[0m \u001b[32m━━━━━━━━━━\u001b[0m\u001b[37m━━━━━━━━━━\u001b[0m \u001b[1m7s\u001b[0m 61ms/step - accuracy: 0.6755 - loss: 0.7215\n",
      "Epoch 2: saving model to model_weights-02.weights.h5\n",
      "\u001b[1m143/261\u001b[0m \u001b[32m━━━━━━━━━━\u001b[0m\u001b[37m━━━━━━━━━━\u001b[0m \u001b[1m7s\u001b[0m 61ms/step - accuracy: 0.6755 - loss: 0.7215\n",
      "Epoch 2: saving model to model_weights-02.weights.h5\n",
      "\u001b[1m144/261\u001b[0m \u001b[32m━━━━━━━━━━━\u001b[0m\u001b[37m━━━━━━━━━\u001b[0m \u001b[1m7s\u001b[0m 61ms/step - accuracy: 0.6755 - loss: 0.7216\n",
      "Epoch 2: saving model to model_weights-02.weights.h5\n",
      "\u001b[1m145/261\u001b[0m \u001b[32m━━━━━━━━━━━\u001b[0m\u001b[37m━━━━━━━━━\u001b[0m \u001b[1m7s\u001b[0m 61ms/step - accuracy: 0.6755 - loss: 0.7216\n",
      "Epoch 2: saving model to model_weights-02.weights.h5\n",
      "\u001b[1m146/261\u001b[0m \u001b[32m━━━━━━━━━━━\u001b[0m\u001b[37m━━━━━━━━━\u001b[0m \u001b[1m7s\u001b[0m 61ms/step - accuracy: 0.6754 - loss: 0.7217\n",
      "Epoch 2: saving model to model_weights-02.weights.h5\n",
      "\u001b[1m147/261\u001b[0m \u001b[32m━━━━━━━━━━━\u001b[0m\u001b[37m━━━━━━━━━\u001b[0m \u001b[1m6s\u001b[0m 61ms/step - accuracy: 0.6754 - loss: 0.7217\n",
      "Epoch 2: saving model to model_weights-02.weights.h5\n",
      "\u001b[1m148/261\u001b[0m \u001b[32m━━━━━━━━━━━\u001b[0m\u001b[37m━━━━━━━━━\u001b[0m \u001b[1m6s\u001b[0m 61ms/step - accuracy: 0.6754 - loss: 0.7217\n",
      "Epoch 2: saving model to model_weights-02.weights.h5\n",
      "\u001b[1m149/261\u001b[0m \u001b[32m━━━━━━━━━━━\u001b[0m\u001b[37m━━━━━━━━━\u001b[0m \u001b[1m6s\u001b[0m 61ms/step - accuracy: 0.6754 - loss: 0.7218\n",
      "Epoch 2: saving model to model_weights-02.weights.h5\n",
      "\u001b[1m150/261\u001b[0m \u001b[32m━━━━━━━━━━━\u001b[0m\u001b[37m━━━━━━━━━\u001b[0m \u001b[1m6s\u001b[0m 61ms/step - accuracy: 0.6754 - loss: 0.7218\n",
      "Epoch 2: saving model to model_weights-02.weights.h5\n",
      "\u001b[1m151/261\u001b[0m \u001b[32m━━━━━━━━━━━\u001b[0m\u001b[37m━━━━━━━━━\u001b[0m \u001b[1m6s\u001b[0m 61ms/step - accuracy: 0.6754 - loss: 0.7218\n",
      "Epoch 2: saving model to model_weights-02.weights.h5\n",
      "\u001b[1m152/261\u001b[0m \u001b[32m━━━━━━━━━━━\u001b[0m\u001b[37m━━━━━━━━━\u001b[0m \u001b[1m6s\u001b[0m 61ms/step - accuracy: 0.6754 - loss: 0.7218\n",
      "Epoch 2: saving model to model_weights-02.weights.h5\n",
      "\u001b[1m153/261\u001b[0m \u001b[32m━━━━━━━━━━━\u001b[0m\u001b[37m━━━━━━━━━\u001b[0m \u001b[1m6s\u001b[0m 61ms/step - accuracy: 0.6754 - loss: 0.7218\n",
      "Epoch 2: saving model to model_weights-02.weights.h5\n",
      "\u001b[1m154/261\u001b[0m \u001b[32m━━━━━━━━━━━\u001b[0m\u001b[37m━━━━━━━━━\u001b[0m \u001b[1m6s\u001b[0m 61ms/step - accuracy: 0.6754 - loss: 0.7219\n",
      "Epoch 2: saving model to model_weights-02.weights.h5\n",
      "\u001b[1m155/261\u001b[0m \u001b[32m━━━━━━━━━━━\u001b[0m\u001b[37m━━━━━━━━━\u001b[0m \u001b[1m6s\u001b[0m 61ms/step - accuracy: 0.6753 - loss: 0.7219\n",
      "Epoch 2: saving model to model_weights-02.weights.h5\n",
      "\u001b[1m156/261\u001b[0m \u001b[32m━━━━━━━━━━━\u001b[0m\u001b[37m━━━━━━━━━\u001b[0m \u001b[1m6s\u001b[0m 61ms/step - accuracy: 0.6753 - loss: 0.7219\n",
      "Epoch 2: saving model to model_weights-02.weights.h5\n",
      "\u001b[1m157/261\u001b[0m \u001b[32m━━━━━━━━━━━━\u001b[0m\u001b[37m━━━━━━━━\u001b[0m \u001b[1m6s\u001b[0m 61ms/step - accuracy: 0.6753 - loss: 0.7220\n",
      "Epoch 2: saving model to model_weights-02.weights.h5\n",
      "\u001b[1m158/261\u001b[0m \u001b[32m━━━━━━━━━━━━\u001b[0m\u001b[37m━━━━━━━━\u001b[0m \u001b[1m6s\u001b[0m 61ms/step - accuracy: 0.6753 - loss: 0.7220\n",
      "Epoch 2: saving model to model_weights-02.weights.h5\n",
      "\u001b[1m159/261\u001b[0m \u001b[32m━━━━━━━━━━━━\u001b[0m\u001b[37m━━━━━━━━\u001b[0m \u001b[1m6s\u001b[0m 61ms/step - accuracy: 0.6753 - loss: 0.7220\n",
      "Epoch 2: saving model to model_weights-02.weights.h5\n",
      "\u001b[1m160/261\u001b[0m \u001b[32m━━━━━━━━━━━━\u001b[0m\u001b[37m━━━━━━━━\u001b[0m \u001b[1m6s\u001b[0m 61ms/step - accuracy: 0.6752 - loss: 0.7221\n",
      "Epoch 2: saving model to model_weights-02.weights.h5\n",
      "\u001b[1m161/261\u001b[0m \u001b[32m━━━━━━━━━━━━\u001b[0m\u001b[37m━━━━━━━━\u001b[0m \u001b[1m6s\u001b[0m 61ms/step - accuracy: 0.6752 - loss: 0.7221\n",
      "Epoch 2: saving model to model_weights-02.weights.h5\n",
      "\u001b[1m162/261\u001b[0m \u001b[32m━━━━━━━━━━━━\u001b[0m\u001b[37m━━━━━━━━\u001b[0m \u001b[1m6s\u001b[0m 61ms/step - accuracy: 0.6752 - loss: 0.7221\n",
      "Epoch 2: saving model to model_weights-02.weights.h5\n",
      "\u001b[1m163/261\u001b[0m \u001b[32m━━━━━━━━━━━━\u001b[0m\u001b[37m━━━━━━━━\u001b[0m \u001b[1m6s\u001b[0m 61ms/step - accuracy: 0.6752 - loss: 0.7222\n",
      "Epoch 2: saving model to model_weights-02.weights.h5\n",
      "\u001b[1m164/261\u001b[0m \u001b[32m━━━━━━━━━━━━\u001b[0m\u001b[37m━━━━━━━━\u001b[0m \u001b[1m5s\u001b[0m 61ms/step - accuracy: 0.6752 - loss: 0.7222\n",
      "Epoch 2: saving model to model_weights-02.weights.h5\n",
      "\u001b[1m165/261\u001b[0m \u001b[32m━━━━━━━━━━━━\u001b[0m\u001b[37m━━━━━━━━\u001b[0m \u001b[1m5s\u001b[0m 61ms/step - accuracy: 0.6752 - loss: 0.7222\n",
      "Epoch 2: saving model to model_weights-02.weights.h5\n",
      "\u001b[1m166/261\u001b[0m \u001b[32m━━━━━━━━━━━━\u001b[0m\u001b[37m━━━━━━━━\u001b[0m \u001b[1m5s\u001b[0m 61ms/step - accuracy: 0.6752 - loss: 0.7223\n",
      "Epoch 2: saving model to model_weights-02.weights.h5\n",
      "\u001b[1m167/261\u001b[0m \u001b[32m━━━━━━━━━━━━\u001b[0m\u001b[37m━━━━━━━━\u001b[0m \u001b[1m5s\u001b[0m 61ms/step - accuracy: 0.6751 - loss: 0.7223\n",
      "Epoch 2: saving model to model_weights-02.weights.h5\n",
      "\u001b[1m168/261\u001b[0m \u001b[32m━━━━━━━━━━━━\u001b[0m\u001b[37m━━━━━━━━\u001b[0m \u001b[1m5s\u001b[0m 61ms/step - accuracy: 0.6751 - loss: 0.7224\n",
      "Epoch 2: saving model to model_weights-02.weights.h5\n",
      "\u001b[1m169/261\u001b[0m \u001b[32m━━━━━━━━━━━━\u001b[0m\u001b[37m━━━━━━━━\u001b[0m \u001b[1m5s\u001b[0m 61ms/step - accuracy: 0.6751 - loss: 0.7224\n",
      "Epoch 2: saving model to model_weights-02.weights.h5\n",
      "\u001b[1m170/261\u001b[0m \u001b[32m━━━━━━━━━━━━━\u001b[0m\u001b[37m━━━━━━━\u001b[0m \u001b[1m5s\u001b[0m 61ms/step - accuracy: 0.6751 - loss: 0.7224\n",
      "Epoch 2: saving model to model_weights-02.weights.h5\n",
      "\u001b[1m171/261\u001b[0m \u001b[32m━━━━━━━━━━━━━\u001b[0m\u001b[37m━━━━━━━\u001b[0m \u001b[1m5s\u001b[0m 61ms/step - accuracy: 0.6751 - loss: 0.7225\n",
      "Epoch 2: saving model to model_weights-02.weights.h5\n",
      "\u001b[1m172/261\u001b[0m \u001b[32m━━━━━━━━━━━━━\u001b[0m\u001b[37m━━━━━━━\u001b[0m \u001b[1m5s\u001b[0m 61ms/step - accuracy: 0.6751 - loss: 0.7225\n",
      "Epoch 2: saving model to model_weights-02.weights.h5\n",
      "\u001b[1m173/261\u001b[0m \u001b[32m━━━━━━━━━━━━━\u001b[0m\u001b[37m━━━━━━━\u001b[0m \u001b[1m5s\u001b[0m 61ms/step - accuracy: 0.6750 - loss: 0.7226\n",
      "Epoch 2: saving model to model_weights-02.weights.h5\n",
      "\u001b[1m174/261\u001b[0m \u001b[32m━━━━━━━━━━━━━\u001b[0m\u001b[37m━━━━━━━\u001b[0m \u001b[1m5s\u001b[0m 61ms/step - accuracy: 0.6750 - loss: 0.7226\n",
      "Epoch 2: saving model to model_weights-02.weights.h5\n",
      "\u001b[1m175/261\u001b[0m \u001b[32m━━━━━━━━━━━━━\u001b[0m\u001b[37m━━━━━━━\u001b[0m \u001b[1m5s\u001b[0m 61ms/step - accuracy: 0.6750 - loss: 0.7226\n",
      "Epoch 2: saving model to model_weights-02.weights.h5\n",
      "\u001b[1m176/261\u001b[0m \u001b[32m━━━━━━━━━━━━━\u001b[0m\u001b[37m━━━━━━━\u001b[0m \u001b[1m5s\u001b[0m 61ms/step - accuracy: 0.6750 - loss: 0.7226\n",
      "Epoch 2: saving model to model_weights-02.weights.h5\n",
      "\u001b[1m177/261\u001b[0m \u001b[32m━━━━━━━━━━━━━\u001b[0m\u001b[37m━━━━━━━\u001b[0m \u001b[1m5s\u001b[0m 61ms/step - accuracy: 0.6750 - loss: 0.7227\n",
      "Epoch 2: saving model to model_weights-02.weights.h5\n",
      "\u001b[1m178/261\u001b[0m \u001b[32m━━━━━━━━━━━━━\u001b[0m\u001b[37m━━━━━━━\u001b[0m \u001b[1m5s\u001b[0m 61ms/step - accuracy: 0.6750 - loss: 0.7227\n",
      "Epoch 2: saving model to model_weights-02.weights.h5\n",
      "\u001b[1m179/261\u001b[0m \u001b[32m━━━━━━━━━━━━━\u001b[0m\u001b[37m━━━━━━━\u001b[0m \u001b[1m5s\u001b[0m 61ms/step - accuracy: 0.6750 - loss: 0.7227\n",
      "Epoch 2: saving model to model_weights-02.weights.h5\n",
      "\u001b[1m180/261\u001b[0m \u001b[32m━━━━━━━━━━━━━\u001b[0m\u001b[37m━━━━━━━\u001b[0m \u001b[1m4s\u001b[0m 61ms/step - accuracy: 0.6750 - loss: 0.7227\n",
      "Epoch 2: saving model to model_weights-02.weights.h5\n",
      "\u001b[1m181/261\u001b[0m \u001b[32m━━━━━━━━━━━━━\u001b[0m\u001b[37m━━━━━━━\u001b[0m \u001b[1m4s\u001b[0m 61ms/step - accuracy: 0.6750 - loss: 0.7228\n",
      "Epoch 2: saving model to model_weights-02.weights.h5\n",
      "\u001b[1m182/261\u001b[0m \u001b[32m━━━━━━━━━━━━━\u001b[0m\u001b[37m━━━━━━━\u001b[0m \u001b[1m4s\u001b[0m 61ms/step - accuracy: 0.6750 - loss: 0.7228\n",
      "Epoch 2: saving model to model_weights-02.weights.h5\n",
      "\u001b[1m183/261\u001b[0m \u001b[32m━━━━━━━━━━━━━━\u001b[0m\u001b[37m━━━━━━\u001b[0m \u001b[1m4s\u001b[0m 61ms/step - accuracy: 0.6750 - loss: 0.7228\n",
      "Epoch 2: saving model to model_weights-02.weights.h5\n",
      "\u001b[1m184/261\u001b[0m \u001b[32m━━━━━━━━━━━━━━\u001b[0m\u001b[37m━━━━━━\u001b[0m \u001b[1m4s\u001b[0m 61ms/step - accuracy: 0.6749 - loss: 0.7229\n",
      "Epoch 2: saving model to model_weights-02.weights.h5\n",
      "\u001b[1m185/261\u001b[0m \u001b[32m━━━━━━━━━━━━━━\u001b[0m\u001b[37m━━━━━━\u001b[0m \u001b[1m4s\u001b[0m 62ms/step - accuracy: 0.6749 - loss: 0.7229\n",
      "Epoch 2: saving model to model_weights-02.weights.h5\n",
      "\u001b[1m186/261\u001b[0m \u001b[32m━━━━━━━━━━━━━━\u001b[0m\u001b[37m━━━━━━\u001b[0m \u001b[1m4s\u001b[0m 62ms/step - accuracy: 0.6749 - loss: 0.7229\n",
      "Epoch 2: saving model to model_weights-02.weights.h5\n",
      "\u001b[1m187/261\u001b[0m \u001b[32m━━━━━━━━━━━━━━\u001b[0m\u001b[37m━━━━━━\u001b[0m \u001b[1m4s\u001b[0m 62ms/step - accuracy: 0.6749 - loss: 0.7229\n",
      "Epoch 2: saving model to model_weights-02.weights.h5\n",
      "\u001b[1m188/261\u001b[0m \u001b[32m━━━━━━━━━━━━━━\u001b[0m\u001b[37m━━━━━━\u001b[0m \u001b[1m4s\u001b[0m 62ms/step - accuracy: 0.6749 - loss: 0.7230\n",
      "Epoch 2: saving model to model_weights-02.weights.h5\n",
      "\u001b[1m189/261\u001b[0m \u001b[32m━━━━━━━━━━━━━━\u001b[0m\u001b[37m━━━━━━\u001b[0m \u001b[1m4s\u001b[0m 62ms/step - accuracy: 0.6749 - loss: 0.7230\n",
      "Epoch 2: saving model to model_weights-02.weights.h5\n",
      "\u001b[1m190/261\u001b[0m \u001b[32m━━━━━━━━━━━━━━\u001b[0m\u001b[37m━━━━━━\u001b[0m \u001b[1m4s\u001b[0m 62ms/step - accuracy: 0.6749 - loss: 0.7230\n",
      "Epoch 2: saving model to model_weights-02.weights.h5\n",
      "\u001b[1m191/261\u001b[0m \u001b[32m━━━━━━━━━━━━━━\u001b[0m\u001b[37m━━━━━━\u001b[0m \u001b[1m4s\u001b[0m 62ms/step - accuracy: 0.6749 - loss: 0.7230\n",
      "Epoch 2: saving model to model_weights-02.weights.h5\n",
      "\u001b[1m192/261\u001b[0m \u001b[32m━━━━━━━━━━━━━━\u001b[0m\u001b[37m━━━━━━\u001b[0m \u001b[1m4s\u001b[0m 62ms/step - accuracy: 0.6749 - loss: 0.7231\n",
      "Epoch 2: saving model to model_weights-02.weights.h5\n",
      "\u001b[1m193/261\u001b[0m \u001b[32m━━━━━━━━━━━━━━\u001b[0m\u001b[37m━━━━━━\u001b[0m \u001b[1m4s\u001b[0m 62ms/step - accuracy: 0.6749 - loss: 0.7231\n",
      "Epoch 2: saving model to model_weights-02.weights.h5\n",
      "\u001b[1m194/261\u001b[0m \u001b[32m━━━━━━━━━━━━━━\u001b[0m\u001b[37m━━━━━━\u001b[0m \u001b[1m4s\u001b[0m 62ms/step - accuracy: 0.6748 - loss: 0.7231\n",
      "Epoch 2: saving model to model_weights-02.weights.h5\n",
      "\u001b[1m195/261\u001b[0m \u001b[32m━━━━━━━━━━━━━━\u001b[0m\u001b[37m━━━━━━\u001b[0m \u001b[1m4s\u001b[0m 62ms/step - accuracy: 0.6748 - loss: 0.7232\n",
      "Epoch 2: saving model to model_weights-02.weights.h5\n",
      "\u001b[1m196/261\u001b[0m \u001b[32m━━━━━━━━━━━━━━━\u001b[0m\u001b[37m━━━━━\u001b[0m \u001b[1m3s\u001b[0m 62ms/step - accuracy: 0.6748 - loss: 0.7232\n",
      "Epoch 2: saving model to model_weights-02.weights.h5\n",
      "\u001b[1m197/261\u001b[0m \u001b[32m━━━━━━━━━━━━━━━\u001b[0m\u001b[37m━━━━━\u001b[0m \u001b[1m3s\u001b[0m 62ms/step - accuracy: 0.6748 - loss: 0.7232\n",
      "Epoch 2: saving model to model_weights-02.weights.h5\n",
      "\u001b[1m198/261\u001b[0m \u001b[32m━━━━━━━━━━━━━━━\u001b[0m\u001b[37m━━━━━\u001b[0m \u001b[1m3s\u001b[0m 62ms/step - accuracy: 0.6748 - loss: 0.7232\n",
      "Epoch 2: saving model to model_weights-02.weights.h5\n",
      "\u001b[1m199/261\u001b[0m \u001b[32m━━━━━━━━━━━━━━━\u001b[0m\u001b[37m━━━━━\u001b[0m \u001b[1m3s\u001b[0m 62ms/step - accuracy: 0.6748 - loss: 0.7233\n",
      "Epoch 2: saving model to model_weights-02.weights.h5\n",
      "\u001b[1m200/261\u001b[0m \u001b[32m━━━━━━━━━━━━━━━\u001b[0m\u001b[37m━━━━━\u001b[0m \u001b[1m3s\u001b[0m 62ms/step - accuracy: 0.6748 - loss: 0.7233\n",
      "Epoch 2: saving model to model_weights-02.weights.h5\n",
      "\u001b[1m201/261\u001b[0m \u001b[32m━━━━━━━━━━━━━━━\u001b[0m\u001b[37m━━━━━\u001b[0m \u001b[1m3s\u001b[0m 62ms/step - accuracy: 0.6748 - loss: 0.7233\n",
      "Epoch 2: saving model to model_weights-02.weights.h5\n",
      "\u001b[1m202/261\u001b[0m \u001b[32m━━━━━━━━━━━━━━━\u001b[0m\u001b[37m━━━━━\u001b[0m \u001b[1m3s\u001b[0m 62ms/step - accuracy: 0.6747 - loss: 0.7233\n",
      "Epoch 2: saving model to model_weights-02.weights.h5\n",
      "\u001b[1m203/261\u001b[0m \u001b[32m━━━━━━━━━━━━━━━\u001b[0m\u001b[37m━━━━━\u001b[0m \u001b[1m3s\u001b[0m 62ms/step - accuracy: 0.6747 - loss: 0.7234\n",
      "Epoch 2: saving model to model_weights-02.weights.h5\n",
      "\u001b[1m204/261\u001b[0m \u001b[32m━━━━━━━━━━━━━━━\u001b[0m\u001b[37m━━━━━\u001b[0m \u001b[1m3s\u001b[0m 62ms/step - accuracy: 0.6747 - loss: 0.7234\n",
      "Epoch 2: saving model to model_weights-02.weights.h5\n",
      "\u001b[1m205/261\u001b[0m \u001b[32m━━━━━━━━━━━━━━━\u001b[0m\u001b[37m━━━━━\u001b[0m \u001b[1m3s\u001b[0m 62ms/step - accuracy: 0.6747 - loss: 0.7234\n",
      "Epoch 2: saving model to model_weights-02.weights.h5\n",
      "\u001b[1m206/261\u001b[0m \u001b[32m━━━━━━━━━━━━━━━\u001b[0m\u001b[37m━━━━━\u001b[0m \u001b[1m3s\u001b[0m 62ms/step - accuracy: 0.6747 - loss: 0.7234\n",
      "Epoch 2: saving model to model_weights-02.weights.h5\n",
      "\u001b[1m207/261\u001b[0m \u001b[32m━━━━━━━━━━━━━━━\u001b[0m\u001b[37m━━━━━\u001b[0m \u001b[1m3s\u001b[0m 62ms/step - accuracy: 0.6747 - loss: 0.7235\n",
      "Epoch 2: saving model to model_weights-02.weights.h5\n",
      "\u001b[1m208/261\u001b[0m \u001b[32m━━━━━━━━━━━━━━━\u001b[0m\u001b[37m━━━━━\u001b[0m \u001b[1m3s\u001b[0m 62ms/step - accuracy: 0.6747 - loss: 0.7235\n",
      "Epoch 2: saving model to model_weights-02.weights.h5\n",
      "\u001b[1m209/261\u001b[0m \u001b[32m━━━━━━━━━━━━━━━━\u001b[0m\u001b[37m━━━━\u001b[0m \u001b[1m3s\u001b[0m 62ms/step - accuracy: 0.6746 - loss: 0.7235\n",
      "Epoch 2: saving model to model_weights-02.weights.h5\n",
      "\u001b[1m210/261\u001b[0m \u001b[32m━━━━━━━━━━━━━━━━\u001b[0m\u001b[37m━━━━\u001b[0m \u001b[1m3s\u001b[0m 62ms/step - accuracy: 0.6746 - loss: 0.7235\n",
      "Epoch 2: saving model to model_weights-02.weights.h5\n",
      "\u001b[1m211/261\u001b[0m \u001b[32m━━━━━━━━━━━━━━━━\u001b[0m\u001b[37m━━━━\u001b[0m \u001b[1m3s\u001b[0m 62ms/step - accuracy: 0.6746 - loss: 0.7236\n",
      "Epoch 2: saving model to model_weights-02.weights.h5\n",
      "\u001b[1m212/261\u001b[0m \u001b[32m━━━━━━━━━━━━━━━━\u001b[0m\u001b[37m━━━━\u001b[0m \u001b[1m3s\u001b[0m 62ms/step - accuracy: 0.6746 - loss: 0.7236\n",
      "Epoch 2: saving model to model_weights-02.weights.h5\n",
      "\u001b[1m213/261\u001b[0m \u001b[32m━━━━━━━━━━━━━━━━\u001b[0m\u001b[37m━━━━\u001b[0m \u001b[1m2s\u001b[0m 62ms/step - accuracy: 0.6746 - loss: 0.7236\n",
      "Epoch 2: saving model to model_weights-02.weights.h5\n",
      "\u001b[1m214/261\u001b[0m \u001b[32m━━━━━━━━━━━━━━━━\u001b[0m\u001b[37m━━━━\u001b[0m \u001b[1m2s\u001b[0m 62ms/step - accuracy: 0.6746 - loss: 0.7236\n",
      "Epoch 2: saving model to model_weights-02.weights.h5\n",
      "\u001b[1m215/261\u001b[0m \u001b[32m━━━━━━━━━━━━━━━━\u001b[0m\u001b[37m━━━━\u001b[0m \u001b[1m2s\u001b[0m 62ms/step - accuracy: 0.6746 - loss: 0.7237\n",
      "Epoch 2: saving model to model_weights-02.weights.h5\n",
      "\u001b[1m216/261\u001b[0m \u001b[32m━━━━━━━━━━━━━━━━\u001b[0m\u001b[37m━━━━\u001b[0m \u001b[1m2s\u001b[0m 62ms/step - accuracy: 0.6745 - loss: 0.7237\n",
      "Epoch 2: saving model to model_weights-02.weights.h5\n",
      "\u001b[1m217/261\u001b[0m \u001b[32m━━━━━━━━━━━━━━━━\u001b[0m\u001b[37m━━━━\u001b[0m \u001b[1m2s\u001b[0m 62ms/step - accuracy: 0.6745 - loss: 0.7237\n",
      "Epoch 2: saving model to model_weights-02.weights.h5\n",
      "\u001b[1m218/261\u001b[0m \u001b[32m━━━━━━━━━━━━━━━━\u001b[0m\u001b[37m━━━━\u001b[0m \u001b[1m2s\u001b[0m 62ms/step - accuracy: 0.6745 - loss: 0.7237\n",
      "Epoch 2: saving model to model_weights-02.weights.h5\n",
      "\u001b[1m219/261\u001b[0m \u001b[32m━━━━━━━━━━━━━━━━\u001b[0m\u001b[37m━━━━\u001b[0m \u001b[1m2s\u001b[0m 62ms/step - accuracy: 0.6745 - loss: 0.7238\n",
      "Epoch 2: saving model to model_weights-02.weights.h5\n",
      "\u001b[1m220/261\u001b[0m \u001b[32m━━━━━━━━━━━━━━━━\u001b[0m\u001b[37m━━━━\u001b[0m \u001b[1m2s\u001b[0m 62ms/step - accuracy: 0.6745 - loss: 0.7238\n",
      "Epoch 2: saving model to model_weights-02.weights.h5\n",
      "\u001b[1m221/261\u001b[0m \u001b[32m━━━━━━━━━━━━━━━━\u001b[0m\u001b[37m━━━━\u001b[0m \u001b[1m2s\u001b[0m 62ms/step - accuracy: 0.6745 - loss: 0.7238\n",
      "Epoch 2: saving model to model_weights-02.weights.h5\n",
      "\u001b[1m222/261\u001b[0m \u001b[32m━━━━━━━━━━━━━━━━━\u001b[0m\u001b[37m━━━\u001b[0m \u001b[1m2s\u001b[0m 62ms/step - accuracy: 0.6744 - loss: 0.7238\n",
      "Epoch 2: saving model to model_weights-02.weights.h5\n",
      "\u001b[1m223/261\u001b[0m \u001b[32m━━━━━━━━━━━━━━━━━\u001b[0m\u001b[37m━━━\u001b[0m \u001b[1m2s\u001b[0m 62ms/step - accuracy: 0.6744 - loss: 0.7238\n",
      "Epoch 2: saving model to model_weights-02.weights.h5\n",
      "\u001b[1m224/261\u001b[0m \u001b[32m━━━━━━━━━━━━━━━━━\u001b[0m\u001b[37m━━━\u001b[0m \u001b[1m2s\u001b[0m 62ms/step - accuracy: 0.6744 - loss: 0.7239\n",
      "Epoch 2: saving model to model_weights-02.weights.h5\n",
      "\u001b[1m225/261\u001b[0m \u001b[32m━━━━━━━━━━━━━━━━━\u001b[0m\u001b[37m━━━\u001b[0m \u001b[1m2s\u001b[0m 62ms/step - accuracy: 0.6744 - loss: 0.7239\n",
      "Epoch 2: saving model to model_weights-02.weights.h5\n",
      "\u001b[1m226/261\u001b[0m \u001b[32m━━━━━━━━━━━━━━━━━\u001b[0m\u001b[37m━━━\u001b[0m \u001b[1m2s\u001b[0m 62ms/step - accuracy: 0.6744 - loss: 0.7239\n",
      "Epoch 2: saving model to model_weights-02.weights.h5\n",
      "\u001b[1m227/261\u001b[0m \u001b[32m━━━━━━━━━━━━━━━━━\u001b[0m\u001b[37m━━━\u001b[0m \u001b[1m2s\u001b[0m 62ms/step - accuracy: 0.6744 - loss: 0.7239\n",
      "Epoch 2: saving model to model_weights-02.weights.h5\n",
      "\u001b[1m228/261\u001b[0m \u001b[32m━━━━━━━━━━━━━━━━━\u001b[0m\u001b[37m━━━\u001b[0m \u001b[1m2s\u001b[0m 62ms/step - accuracy: 0.6744 - loss: 0.7239\n",
      "Epoch 2: saving model to model_weights-02.weights.h5\n",
      "\u001b[1m229/261\u001b[0m \u001b[32m━━━━━━━━━━━━━━━━━\u001b[0m\u001b[37m━━━\u001b[0m \u001b[1m1s\u001b[0m 62ms/step - accuracy: 0.6743 - loss: 0.7239\n",
      "Epoch 2: saving model to model_weights-02.weights.h5\n",
      "\u001b[1m230/261\u001b[0m \u001b[32m━━━━━━━━━━━━━━━━━\u001b[0m\u001b[37m━━━\u001b[0m \u001b[1m1s\u001b[0m 62ms/step - accuracy: 0.6743 - loss: 0.7239\n",
      "Epoch 2: saving model to model_weights-02.weights.h5\n",
      "\u001b[1m231/261\u001b[0m \u001b[32m━━━━━━━━━━━━━━━━━\u001b[0m\u001b[37m━━━\u001b[0m \u001b[1m1s\u001b[0m 62ms/step - accuracy: 0.6743 - loss: 0.7240\n",
      "Epoch 2: saving model to model_weights-02.weights.h5\n",
      "\u001b[1m232/261\u001b[0m \u001b[32m━━━━━━━━━━━━━━━━━\u001b[0m\u001b[37m━━━\u001b[0m \u001b[1m1s\u001b[0m 62ms/step - accuracy: 0.6743 - loss: 0.7240\n",
      "Epoch 2: saving model to model_weights-02.weights.h5\n",
      "\u001b[1m233/261\u001b[0m \u001b[32m━━━━━━━━━━━━━━━━━\u001b[0m\u001b[37m━━━\u001b[0m \u001b[1m1s\u001b[0m 62ms/step - accuracy: 0.6743 - loss: 0.7240\n",
      "Epoch 2: saving model to model_weights-02.weights.h5\n",
      "\u001b[1m234/261\u001b[0m \u001b[32m━━━━━━━━━━━━━━━━━\u001b[0m\u001b[37m━━━\u001b[0m \u001b[1m1s\u001b[0m 62ms/step - accuracy: 0.6743 - loss: 0.7240\n",
      "Epoch 2: saving model to model_weights-02.weights.h5\n",
      "\u001b[1m235/261\u001b[0m \u001b[32m━━━━━━━━━━━━━━━━━━\u001b[0m\u001b[37m━━\u001b[0m \u001b[1m1s\u001b[0m 62ms/step - accuracy: 0.6742 - loss: 0.7240\n",
      "Epoch 2: saving model to model_weights-02.weights.h5\n",
      "\u001b[1m236/261\u001b[0m \u001b[32m━━━━━━━━━━━━━━━━━━\u001b[0m\u001b[37m━━\u001b[0m \u001b[1m1s\u001b[0m 62ms/step - accuracy: 0.6742 - loss: 0.7241\n",
      "Epoch 2: saving model to model_weights-02.weights.h5\n",
      "\u001b[1m237/261\u001b[0m \u001b[32m━━━━━━━━━━━━━━━━━━\u001b[0m\u001b[37m━━\u001b[0m \u001b[1m1s\u001b[0m 62ms/step - accuracy: 0.6742 - loss: 0.7241\n",
      "Epoch 2: saving model to model_weights-02.weights.h5\n",
      "\u001b[1m238/261\u001b[0m \u001b[32m━━━━━━━━━━━━━━━━━━\u001b[0m\u001b[37m━━\u001b[0m \u001b[1m1s\u001b[0m 62ms/step - accuracy: 0.6742 - loss: 0.7241\n",
      "Epoch 2: saving model to model_weights-02.weights.h5\n",
      "\u001b[1m239/261\u001b[0m \u001b[32m━━━━━━━━━━━━━━━━━━\u001b[0m\u001b[37m━━\u001b[0m \u001b[1m1s\u001b[0m 62ms/step - accuracy: 0.6742 - loss: 0.7241\n",
      "Epoch 2: saving model to model_weights-02.weights.h5\n",
      "\u001b[1m240/261\u001b[0m \u001b[32m━━━━━━━━━━━━━━━━━━\u001b[0m\u001b[37m━━\u001b[0m \u001b[1m1s\u001b[0m 62ms/step - accuracy: 0.6741 - loss: 0.7241\n",
      "Epoch 2: saving model to model_weights-02.weights.h5\n",
      "\u001b[1m241/261\u001b[0m \u001b[32m━━━━━━━━━━━━━━━━━━\u001b[0m\u001b[37m━━\u001b[0m \u001b[1m1s\u001b[0m 62ms/step - accuracy: 0.6741 - loss: 0.7242\n",
      "Epoch 2: saving model to model_weights-02.weights.h5\n",
      "\u001b[1m242/261\u001b[0m \u001b[32m━━━━━━━━━━━━━━━━━━\u001b[0m\u001b[37m━━\u001b[0m \u001b[1m1s\u001b[0m 62ms/step - accuracy: 0.6741 - loss: 0.7242\n",
      "Epoch 2: saving model to model_weights-02.weights.h5\n",
      "\u001b[1m243/261\u001b[0m \u001b[32m━━━━━━━━━━━━━━━━━━\u001b[0m\u001b[37m━━\u001b[0m \u001b[1m1s\u001b[0m 62ms/step - accuracy: 0.6741 - loss: 0.7242\n",
      "Epoch 2: saving model to model_weights-02.weights.h5\n",
      "\u001b[1m244/261\u001b[0m \u001b[32m━━━━━━━━━━━━━━━━━━\u001b[0m\u001b[37m━━\u001b[0m \u001b[1m1s\u001b[0m 62ms/step - accuracy: 0.6741 - loss: 0.7242\n",
      "Epoch 2: saving model to model_weights-02.weights.h5\n",
      "\u001b[1m245/261\u001b[0m \u001b[32m━━━━━━━━━━━━━━━━━━\u001b[0m\u001b[37m━━\u001b[0m \u001b[1m0s\u001b[0m 62ms/step - accuracy: 0.6741 - loss: 0.7242\n",
      "Epoch 2: saving model to model_weights-02.weights.h5\n",
      "\u001b[1m246/261\u001b[0m \u001b[32m━━━━━━━━━━━━━━━━━━\u001b[0m\u001b[37m━━\u001b[0m \u001b[1m0s\u001b[0m 62ms/step - accuracy: 0.6740 - loss: 0.7243\n",
      "Epoch 2: saving model to model_weights-02.weights.h5\n",
      "\u001b[1m247/261\u001b[0m \u001b[32m━━━━━━━━━━━━━━━━━━\u001b[0m\u001b[37m━━\u001b[0m \u001b[1m0s\u001b[0m 62ms/step - accuracy: 0.6740 - loss: 0.7243\n",
      "Epoch 2: saving model to model_weights-02.weights.h5\n",
      "\u001b[1m248/261\u001b[0m \u001b[32m━━━━━━━━━━━━━━━━━━━\u001b[0m\u001b[37m━\u001b[0m \u001b[1m0s\u001b[0m 62ms/step - accuracy: 0.6740 - loss: 0.7243\n",
      "Epoch 2: saving model to model_weights-02.weights.h5\n",
      "\u001b[1m249/261\u001b[0m \u001b[32m━━━━━━━━━━━━━━━━━━━\u001b[0m\u001b[37m━\u001b[0m \u001b[1m0s\u001b[0m 62ms/step - accuracy: 0.6740 - loss: 0.7243\n",
      "Epoch 2: saving model to model_weights-02.weights.h5\n",
      "\u001b[1m250/261\u001b[0m \u001b[32m━━━━━━━━━━━━━━━━━━━\u001b[0m\u001b[37m━\u001b[0m \u001b[1m0s\u001b[0m 62ms/step - accuracy: 0.6740 - loss: 0.7243\n",
      "Epoch 2: saving model to model_weights-02.weights.h5\n",
      "\u001b[1m251/261\u001b[0m \u001b[32m━━━━━━━━━━━━━━━━━━━\u001b[0m\u001b[37m━\u001b[0m \u001b[1m0s\u001b[0m 62ms/step - accuracy: 0.6739 - loss: 0.7244\n",
      "Epoch 2: saving model to model_weights-02.weights.h5\n",
      "\u001b[1m252/261\u001b[0m \u001b[32m━━━━━━━━━━━━━━━━━━━\u001b[0m\u001b[37m━\u001b[0m \u001b[1m0s\u001b[0m 62ms/step - accuracy: 0.6739 - loss: 0.7244\n",
      "Epoch 2: saving model to model_weights-02.weights.h5\n",
      "\u001b[1m253/261\u001b[0m \u001b[32m━━━━━━━━━━━━━━━━━━━\u001b[0m\u001b[37m━\u001b[0m \u001b[1m0s\u001b[0m 62ms/step - accuracy: 0.6739 - loss: 0.7244\n",
      "Epoch 2: saving model to model_weights-02.weights.h5\n",
      "\u001b[1m254/261\u001b[0m \u001b[32m━━━━━━━━━━━━━━━━━━━\u001b[0m\u001b[37m━\u001b[0m \u001b[1m0s\u001b[0m 62ms/step - accuracy: 0.6739 - loss: 0.7244\n",
      "Epoch 2: saving model to model_weights-02.weights.h5\n",
      "\u001b[1m255/261\u001b[0m \u001b[32m━━━━━━━━━━━━━━━━━━━\u001b[0m\u001b[37m━\u001b[0m \u001b[1m0s\u001b[0m 62ms/step - accuracy: 0.6739 - loss: 0.7244\n",
      "Epoch 2: saving model to model_weights-02.weights.h5\n",
      "\u001b[1m256/261\u001b[0m \u001b[32m━━━━━━━━━━━━━━━━━━━\u001b[0m\u001b[37m━\u001b[0m \u001b[1m0s\u001b[0m 62ms/step - accuracy: 0.6738 - loss: 0.7244\n",
      "Epoch 2: saving model to model_weights-02.weights.h5\n",
      "\u001b[1m257/261\u001b[0m \u001b[32m━━━━━━━━━━━━━━━━━━━\u001b[0m\u001b[37m━\u001b[0m \u001b[1m0s\u001b[0m 62ms/step - accuracy: 0.6738 - loss: 0.7245\n",
      "Epoch 2: saving model to model_weights-02.weights.h5\n",
      "\u001b[1m258/261\u001b[0m \u001b[32m━━━━━━━━━━━━━━━━━━━\u001b[0m\u001b[37m━\u001b[0m \u001b[1m0s\u001b[0m 62ms/step - accuracy: 0.6738 - loss: 0.7245\n",
      "Epoch 2: saving model to model_weights-02.weights.h5\n",
      "\u001b[1m259/261\u001b[0m \u001b[32m━━━━━━━━━━━━━━━━━━━\u001b[0m\u001b[37m━\u001b[0m \u001b[1m0s\u001b[0m 62ms/step - accuracy: 0.6738 - loss: 0.7245\n",
      "Epoch 2: saving model to model_weights-02.weights.h5\n",
      "\u001b[1m260/261\u001b[0m \u001b[32m━━━━━━━━━━━━━━━━━━━\u001b[0m\u001b[37m━\u001b[0m \u001b[1m0s\u001b[0m 62ms/step - accuracy: 0.6738 - loss: 0.7245\n",
      "Epoch 2: saving model to model_weights-02.weights.h5\n",
      "\u001b[1m261/261\u001b[0m \u001b[32m━━━━━━━━━━━━━━━━━━━━\u001b[0m\u001b[37m\u001b[0m \u001b[1m16s\u001b[0m 63ms/step - accuracy: 0.6738 - loss: 0.7245 - val_accuracy: 0.6805 - val_loss: 0.7175\n",
      "Epoch 3/5\n",
      "\n",
      "Epoch 3: saving model to model_weights-03.weights.h5\n",
      "\u001b[1m  1/261\u001b[0m \u001b[37m━━━━━━━━━━━━━━━━━━━━\u001b[0m \u001b[1m19s\u001b[0m 77ms/step - accuracy: 0.6875 - loss: 0.7578\n",
      "Epoch 3: saving model to model_weights-03.weights.h5\n",
      "\u001b[1m  2/261\u001b[0m \u001b[37m━━━━━━━━━━━━━━━━━━━━\u001b[0m \u001b[1m15s\u001b[0m 60ms/step - accuracy: 0.6914 - loss: 0.7427\n",
      "Epoch 3: saving model to model_weights-03.weights.h5\n",
      "\u001b[1m  3/261\u001b[0m \u001b[37m━━━━━━━━━━━━━━━━━━━━\u001b[0m \u001b[1m15s\u001b[0m 59ms/step - accuracy: 0.6918 - loss: 0.7318\n",
      "Epoch 3: saving model to model_weights-03.weights.h5\n",
      "\u001b[1m  4/261\u001b[0m \u001b[37m━━━━━━━━━━━━━━━━━━━━\u001b[0m \u001b[1m15s\u001b[0m 60ms/step - accuracy: 0.6947 - loss: 0.7207\n",
      "Epoch 3: saving model to model_weights-03.weights.h5\n",
      "\u001b[1m  5/261\u001b[0m \u001b[37m━━━━━━━━━━━━━━━━━━━━\u001b[0m \u001b[1m15s\u001b[0m 60ms/step - accuracy: 0.6951 - loss: 0.7151\n",
      "Epoch 3: saving model to model_weights-03.weights.h5\n",
      "\u001b[1m  6/261\u001b[0m \u001b[37m━━━━━━━━━━━━━━━━━━━━\u001b[0m \u001b[1m15s\u001b[0m 60ms/step - accuracy: 0.6956 - loss: 0.7100\n",
      "Epoch 3: saving model to model_weights-03.weights.h5\n",
      "\u001b[1m  7/261\u001b[0m \u001b[37m━━━━━━━━━━━━━━━━━━━━\u001b[0m \u001b[1m15s\u001b[0m 60ms/step - accuracy: 0.6976 - loss: 0.7041\n",
      "Epoch 3: saving model to model_weights-03.weights.h5\n",
      "\u001b[1m  8/261\u001b[0m \u001b[37m━━━━━━━━━━━━━━━━━━━━\u001b[0m \u001b[1m15s\u001b[0m 60ms/step - accuracy: 0.6995 - loss: 0.6998\n",
      "Epoch 3: saving model to model_weights-03.weights.h5\n",
      "\u001b[1m  9/261\u001b[0m \u001b[37m━━━━━━━━━━━━━━━━━━━━\u001b[0m \u001b[1m15s\u001b[0m 60ms/step - accuracy: 0.7011 - loss: 0.6962\n",
      "Epoch 3: saving model to model_weights-03.weights.h5\n",
      "\u001b[1m 10/261\u001b[0m \u001b[37m━━━━━━━━━━━━━━━━━━━━\u001b[0m \u001b[1m15s\u001b[0m 60ms/step - accuracy: 0.7027 - loss: 0.6933\n",
      "Epoch 3: saving model to model_weights-03.weights.h5\n",
      "\u001b[1m 11/261\u001b[0m \u001b[37m━━━━━━━━━━━━━━━━━━━━\u001b[0m \u001b[1m15s\u001b[0m 60ms/step - accuracy: 0.7044 - loss: 0.6908\n",
      "Epoch 3: saving model to model_weights-03.weights.h5\n",
      "\u001b[1m 12/261\u001b[0m \u001b[37m━━━━━━━━━━━━━━━━━━━━\u001b[0m \u001b[1m14s\u001b[0m 60ms/step - accuracy: 0.7059 - loss: 0.6879\n",
      "Epoch 3: saving model to model_weights-03.weights.h5\n",
      "\u001b[1m 13/261\u001b[0m \u001b[37m━━━━━━━━━━━━━━━━━━━━\u001b[0m \u001b[1m14s\u001b[0m 60ms/step - accuracy: 0.7070 - loss: 0.6849\n",
      "Epoch 3: saving model to model_weights-03.weights.h5\n",
      "\u001b[1m 14/261\u001b[0m \u001b[32m━\u001b[0m\u001b[37m━━━━━━━━━━━━━━━━━━━\u001b[0m \u001b[1m14s\u001b[0m 60ms/step - accuracy: 0.7074 - loss: 0.6826\n",
      "Epoch 3: saving model to model_weights-03.weights.h5\n",
      "\u001b[1m 15/261\u001b[0m \u001b[32m━\u001b[0m\u001b[37m━━━━━━━━━━━━━━━━━━━\u001b[0m \u001b[1m14s\u001b[0m 60ms/step - accuracy: 0.7072 - loss: 0.6816\n",
      "Epoch 3: saving model to model_weights-03.weights.h5\n",
      "\u001b[1m 16/261\u001b[0m \u001b[32m━\u001b[0m\u001b[37m━━━━━━━━━━━━━━━━━━━\u001b[0m \u001b[1m14s\u001b[0m 60ms/step - accuracy: 0.7070 - loss: 0.6809\n",
      "Epoch 3: saving model to model_weights-03.weights.h5\n",
      "\u001b[1m 17/261\u001b[0m \u001b[32m━\u001b[0m\u001b[37m━━━━━━━━━━━━━━━━━━━\u001b[0m \u001b[1m14s\u001b[0m 60ms/step - accuracy: 0.7066 - loss: 0.6805\n",
      "Epoch 3: saving model to model_weights-03.weights.h5\n",
      "\u001b[1m 18/261\u001b[0m \u001b[32m━\u001b[0m\u001b[37m━━━━━━━━━━━━━━━━━━━\u001b[0m \u001b[1m14s\u001b[0m 60ms/step - accuracy: 0.7061 - loss: 0.6805\n",
      "Epoch 3: saving model to model_weights-03.weights.h5\n",
      "\u001b[1m 19/261\u001b[0m \u001b[32m━\u001b[0m\u001b[37m━━━━━━━━━━━━━━━━━━━\u001b[0m \u001b[1m14s\u001b[0m 60ms/step - accuracy: 0.7052 - loss: 0.6813\n",
      "Epoch 3: saving model to model_weights-03.weights.h5\n",
      "\u001b[1m 20/261\u001b[0m \u001b[32m━\u001b[0m\u001b[37m━━━━━━━━━━━━━━━━━━━\u001b[0m \u001b[1m14s\u001b[0m 61ms/step - accuracy: 0.7044 - loss: 0.6821\n",
      "Epoch 3: saving model to model_weights-03.weights.h5\n",
      "\u001b[1m 21/261\u001b[0m \u001b[32m━\u001b[0m\u001b[37m━━━━━━━━━━━━━━━━━━━\u001b[0m \u001b[1m14s\u001b[0m 61ms/step - accuracy: 0.7035 - loss: 0.6832\n",
      "Epoch 3: saving model to model_weights-03.weights.h5\n",
      "\u001b[1m 22/261\u001b[0m \u001b[32m━\u001b[0m\u001b[37m━━━━━━━━━━━━━━━━━━━\u001b[0m \u001b[1m14s\u001b[0m 61ms/step - accuracy: 0.7026 - loss: 0.6843\n",
      "Epoch 3: saving model to model_weights-03.weights.h5\n",
      "\u001b[1m 23/261\u001b[0m \u001b[32m━\u001b[0m\u001b[37m━━━━━━━━━━━━━━━━━━━\u001b[0m \u001b[1m14s\u001b[0m 61ms/step - accuracy: 0.7018 - loss: 0.6854\n",
      "Epoch 3: saving model to model_weights-03.weights.h5\n",
      "\u001b[1m 24/261\u001b[0m \u001b[32m━\u001b[0m\u001b[37m━━━━━━━━━━━━━━━━━━━\u001b[0m \u001b[1m14s\u001b[0m 61ms/step - accuracy: 0.7012 - loss: 0.6863\n",
      "Epoch 3: saving model to model_weights-03.weights.h5\n",
      "\u001b[1m 25/261\u001b[0m \u001b[32m━\u001b[0m\u001b[37m━━━━━━━━━━━━━━━━━━━\u001b[0m \u001b[1m14s\u001b[0m 61ms/step - accuracy: 0.7005 - loss: 0.6873\n",
      "Epoch 3: saving model to model_weights-03.weights.h5\n",
      "\u001b[1m 26/261\u001b[0m \u001b[32m━\u001b[0m\u001b[37m━━━━━━━━━━━━━━━━━━━\u001b[0m \u001b[1m14s\u001b[0m 61ms/step - accuracy: 0.6999 - loss: 0.6882\n",
      "Epoch 3: saving model to model_weights-03.weights.h5\n",
      "\u001b[1m 27/261\u001b[0m \u001b[32m━━\u001b[0m\u001b[37m━━━━━━━━━━━━━━━━━━\u001b[0m \u001b[1m14s\u001b[0m 61ms/step - accuracy: 0.6993 - loss: 0.6891\n",
      "Epoch 3: saving model to model_weights-03.weights.h5\n",
      "\u001b[1m 28/261\u001b[0m \u001b[32m━━\u001b[0m\u001b[37m━━━━━━━━━━━━━━━━━━\u001b[0m \u001b[1m14s\u001b[0m 60ms/step - accuracy: 0.6987 - loss: 0.6899\n",
      "Epoch 3: saving model to model_weights-03.weights.h5\n",
      "\u001b[1m 29/261\u001b[0m \u001b[32m━━\u001b[0m\u001b[37m━━━━━━━━━━━━━━━━━━\u001b[0m \u001b[1m14s\u001b[0m 60ms/step - accuracy: 0.6981 - loss: 0.6908\n",
      "Epoch 3: saving model to model_weights-03.weights.h5\n",
      "\u001b[1m 30/261\u001b[0m \u001b[32m━━\u001b[0m\u001b[37m━━━━━━━━━━━━━━━━━━\u001b[0m \u001b[1m13s\u001b[0m 61ms/step - accuracy: 0.6975 - loss: 0.6917\n",
      "Epoch 3: saving model to model_weights-03.weights.h5\n",
      "\u001b[1m 31/261\u001b[0m \u001b[32m━━\u001b[0m\u001b[37m━━━━━━━━━━━━━━━━━━\u001b[0m \u001b[1m13s\u001b[0m 61ms/step - accuracy: 0.6969 - loss: 0.6925\n",
      "Epoch 3: saving model to model_weights-03.weights.h5\n",
      "\u001b[1m 32/261\u001b[0m \u001b[32m━━\u001b[0m\u001b[37m━━━━━━━━━━━━━━━━━━\u001b[0m \u001b[1m13s\u001b[0m 60ms/step - accuracy: 0.6964 - loss: 0.6933\n",
      "Epoch 3: saving model to model_weights-03.weights.h5\n",
      "\u001b[1m 33/261\u001b[0m \u001b[32m━━\u001b[0m\u001b[37m━━━━━━━━━━━━━━━━━━\u001b[0m \u001b[1m13s\u001b[0m 61ms/step - accuracy: 0.6959 - loss: 0.6940\n",
      "Epoch 3: saving model to model_weights-03.weights.h5\n",
      "\u001b[1m 34/261\u001b[0m \u001b[32m━━\u001b[0m\u001b[37m━━━━━━━━━━━━━━━━━━\u001b[0m \u001b[1m13s\u001b[0m 61ms/step - accuracy: 0.6954 - loss: 0.6947\n",
      "Epoch 3: saving model to model_weights-03.weights.h5\n",
      "\u001b[1m 35/261\u001b[0m \u001b[32m━━\u001b[0m\u001b[37m━━━━━━━━━━━━━━━━━━\u001b[0m \u001b[1m13s\u001b[0m 61ms/step - accuracy: 0.6951 - loss: 0.6953\n",
      "Epoch 3: saving model to model_weights-03.weights.h5\n",
      "\u001b[1m 36/261\u001b[0m \u001b[32m━━\u001b[0m\u001b[37m━━━━━━━━━━━━━━━━━━\u001b[0m \u001b[1m13s\u001b[0m 61ms/step - accuracy: 0.6946 - loss: 0.6961\n",
      "Epoch 3: saving model to model_weights-03.weights.h5\n",
      "\u001b[1m 37/261\u001b[0m \u001b[32m━━\u001b[0m\u001b[37m━━━━━━━━━━━━━━━━━━\u001b[0m \u001b[1m13s\u001b[0m 61ms/step - accuracy: 0.6941 - loss: 0.6969\n",
      "Epoch 3: saving model to model_weights-03.weights.h5\n",
      "\u001b[1m 38/261\u001b[0m \u001b[32m━━\u001b[0m\u001b[37m━━━━━━━━━━━━━━━━━━\u001b[0m \u001b[1m13s\u001b[0m 61ms/step - accuracy: 0.6936 - loss: 0.6977\n",
      "Epoch 3: saving model to model_weights-03.weights.h5\n",
      "\u001b[1m 39/261\u001b[0m \u001b[32m━━\u001b[0m\u001b[37m━━━━━━━━━━━━━━━━━━\u001b[0m \u001b[1m13s\u001b[0m 61ms/step - accuracy: 0.6931 - loss: 0.6984\n",
      "Epoch 3: saving model to model_weights-03.weights.h5\n",
      "\u001b[1m 40/261\u001b[0m \u001b[32m━━━\u001b[0m\u001b[37m━━━━━━━━━━━━━━━━━\u001b[0m \u001b[1m13s\u001b[0m 61ms/step - accuracy: 0.6926 - loss: 0.6992\n",
      "Epoch 3: saving model to model_weights-03.weights.h5\n",
      "\u001b[1m 41/261\u001b[0m \u001b[32m━━━\u001b[0m\u001b[37m━━━━━━━━━━━━━━━━━\u001b[0m \u001b[1m13s\u001b[0m 61ms/step - accuracy: 0.6922 - loss: 0.6998\n",
      "Epoch 3: saving model to model_weights-03.weights.h5\n",
      "\u001b[1m 42/261\u001b[0m \u001b[32m━━━\u001b[0m\u001b[37m━━━━━━━━━━━━━━━━━\u001b[0m \u001b[1m13s\u001b[0m 61ms/step - accuracy: 0.6918 - loss: 0.7004\n",
      "Epoch 3: saving model to model_weights-03.weights.h5\n",
      "\u001b[1m 43/261\u001b[0m \u001b[32m━━━\u001b[0m\u001b[37m━━━━━━━━━━━━━━━━━\u001b[0m \u001b[1m13s\u001b[0m 61ms/step - accuracy: 0.6915 - loss: 0.7010\n",
      "Epoch 3: saving model to model_weights-03.weights.h5\n",
      "\u001b[1m 44/261\u001b[0m \u001b[32m━━━\u001b[0m\u001b[37m━━━━━━━━━━━━━━━━━\u001b[0m \u001b[1m13s\u001b[0m 61ms/step - accuracy: 0.6912 - loss: 0.7015\n",
      "Epoch 3: saving model to model_weights-03.weights.h5\n",
      "\u001b[1m 45/261\u001b[0m \u001b[32m━━━\u001b[0m\u001b[37m━━━━━━━━━━━━━━━━━\u001b[0m \u001b[1m13s\u001b[0m 61ms/step - accuracy: 0.6910 - loss: 0.7020\n",
      "Epoch 3: saving model to model_weights-03.weights.h5\n",
      "\u001b[1m 46/261\u001b[0m \u001b[32m━━━\u001b[0m\u001b[37m━━━━━━━━━━━━━━━━━\u001b[0m \u001b[1m13s\u001b[0m 61ms/step - accuracy: 0.6907 - loss: 0.7025\n",
      "Epoch 3: saving model to model_weights-03.weights.h5\n",
      "\u001b[1m 47/261\u001b[0m \u001b[32m━━━\u001b[0m\u001b[37m━━━━━━━━━━━━━━━━━\u001b[0m \u001b[1m12s\u001b[0m 61ms/step - accuracy: 0.6905 - loss: 0.7029\n",
      "Epoch 3: saving model to model_weights-03.weights.h5\n",
      "\u001b[1m 48/261\u001b[0m \u001b[32m━━━\u001b[0m\u001b[37m━━━━━━━━━━━━━━━━━\u001b[0m \u001b[1m12s\u001b[0m 61ms/step - accuracy: 0.6902 - loss: 0.7032\n",
      "Epoch 3: saving model to model_weights-03.weights.h5\n",
      "\u001b[1m 49/261\u001b[0m \u001b[32m━━━\u001b[0m\u001b[37m━━━━━━━━━━━━━━━━━\u001b[0m \u001b[1m12s\u001b[0m 61ms/step - accuracy: 0.6900 - loss: 0.7036\n",
      "Epoch 3: saving model to model_weights-03.weights.h5\n",
      "\u001b[1m 50/261\u001b[0m \u001b[32m━━━\u001b[0m\u001b[37m━━━━━━━━━━━━━━━━━\u001b[0m \u001b[1m12s\u001b[0m 61ms/step - accuracy: 0.6899 - loss: 0.7040\n",
      "Epoch 3: saving model to model_weights-03.weights.h5\n",
      "\u001b[1m 51/261\u001b[0m \u001b[32m━━━\u001b[0m\u001b[37m━━━━━━━━━━━━━━━━━\u001b[0m \u001b[1m12s\u001b[0m 61ms/step - accuracy: 0.6897 - loss: 0.7043\n",
      "Epoch 3: saving model to model_weights-03.weights.h5\n",
      "\u001b[1m 52/261\u001b[0m \u001b[32m━━━\u001b[0m\u001b[37m━━━━━━━━━━━━━━━━━\u001b[0m \u001b[1m12s\u001b[0m 61ms/step - accuracy: 0.6895 - loss: 0.7047\n",
      "Epoch 3: saving model to model_weights-03.weights.h5\n",
      "\u001b[1m 53/261\u001b[0m \u001b[32m━━━━\u001b[0m\u001b[37m━━━━━━━━━━━━━━━━\u001b[0m \u001b[1m12s\u001b[0m 61ms/step - accuracy: 0.6894 - loss: 0.7049\n",
      "Epoch 3: saving model to model_weights-03.weights.h5\n",
      "\u001b[1m 54/261\u001b[0m \u001b[32m━━━━\u001b[0m\u001b[37m━━━━━━━━━━━━━━━━\u001b[0m \u001b[1m12s\u001b[0m 61ms/step - accuracy: 0.6893 - loss: 0.7052\n",
      "Epoch 3: saving model to model_weights-03.weights.h5\n",
      "\u001b[1m 55/261\u001b[0m \u001b[32m━━━━\u001b[0m\u001b[37m━━━━━━━━━━━━━━━━\u001b[0m \u001b[1m12s\u001b[0m 61ms/step - accuracy: 0.6892 - loss: 0.7054\n",
      "Epoch 3: saving model to model_weights-03.weights.h5\n",
      "\u001b[1m 56/261\u001b[0m \u001b[32m━━━━\u001b[0m\u001b[37m━━━━━━━━━━━━━━━━\u001b[0m \u001b[1m12s\u001b[0m 61ms/step - accuracy: 0.6891 - loss: 0.7057\n",
      "Epoch 3: saving model to model_weights-03.weights.h5\n",
      "\u001b[1m 57/261\u001b[0m \u001b[32m━━━━\u001b[0m\u001b[37m━━━━━━━━━━━━━━━━\u001b[0m \u001b[1m12s\u001b[0m 61ms/step - accuracy: 0.6890 - loss: 0.7059\n",
      "Epoch 3: saving model to model_weights-03.weights.h5\n",
      "\u001b[1m 58/261\u001b[0m \u001b[32m━━━━\u001b[0m\u001b[37m━━━━━━━━━━━━━━━━\u001b[0m \u001b[1m12s\u001b[0m 61ms/step - accuracy: 0.6889 - loss: 0.7061\n",
      "Epoch 3: saving model to model_weights-03.weights.h5\n",
      "\u001b[1m 59/261\u001b[0m \u001b[32m━━━━\u001b[0m\u001b[37m━━━━━━━━━━━━━━━━\u001b[0m \u001b[1m12s\u001b[0m 61ms/step - accuracy: 0.6888 - loss: 0.7062\n",
      "Epoch 3: saving model to model_weights-03.weights.h5\n",
      "\u001b[1m 60/261\u001b[0m \u001b[32m━━━━\u001b[0m\u001b[37m━━━━━━━━━━━━━━━━\u001b[0m \u001b[1m12s\u001b[0m 61ms/step - accuracy: 0.6888 - loss: 0.7064\n",
      "Epoch 3: saving model to model_weights-03.weights.h5\n",
      "\u001b[1m 61/261\u001b[0m \u001b[32m━━━━\u001b[0m\u001b[37m━━━━━━━━━━━━━━━━\u001b[0m \u001b[1m12s\u001b[0m 61ms/step - accuracy: 0.6887 - loss: 0.7065\n",
      "Epoch 3: saving model to model_weights-03.weights.h5\n",
      "\u001b[1m 62/261\u001b[0m \u001b[32m━━━━\u001b[0m\u001b[37m━━━━━━━━━━━━━━━━\u001b[0m \u001b[1m12s\u001b[0m 61ms/step - accuracy: 0.6887 - loss: 0.7067\n",
      "Epoch 3: saving model to model_weights-03.weights.h5\n",
      "\u001b[1m 63/261\u001b[0m \u001b[32m━━━━\u001b[0m\u001b[37m━━━━━━━━━━━━━━━━\u001b[0m \u001b[1m11s\u001b[0m 61ms/step - accuracy: 0.6886 - loss: 0.7068\n",
      "Epoch 3: saving model to model_weights-03.weights.h5\n",
      "\u001b[1m 64/261\u001b[0m \u001b[32m━━━━\u001b[0m\u001b[37m━━━━━━━━━━━━━━━━\u001b[0m \u001b[1m11s\u001b[0m 61ms/step - accuracy: 0.6886 - loss: 0.7070\n",
      "Epoch 3: saving model to model_weights-03.weights.h5\n",
      "\u001b[1m 65/261\u001b[0m \u001b[32m━━━━\u001b[0m\u001b[37m━━━━━━━━━━━━━━━━\u001b[0m \u001b[1m11s\u001b[0m 61ms/step - accuracy: 0.6885 - loss: 0.7071\n",
      "Epoch 3: saving model to model_weights-03.weights.h5\n",
      "\u001b[1m 66/261\u001b[0m \u001b[32m━━━━━\u001b[0m\u001b[37m━━━━━━━━━━━━━━━\u001b[0m \u001b[1m11s\u001b[0m 61ms/step - accuracy: 0.6885 - loss: 0.7073\n",
      "Epoch 3: saving model to model_weights-03.weights.h5\n",
      "\u001b[1m 67/261\u001b[0m \u001b[32m━━━━━\u001b[0m\u001b[37m━━━━━━━━━━━━━━━\u001b[0m \u001b[1m11s\u001b[0m 61ms/step - accuracy: 0.6884 - loss: 0.7074\n",
      "Epoch 3: saving model to model_weights-03.weights.h5\n",
      "\u001b[1m 68/261\u001b[0m \u001b[32m━━━━━\u001b[0m\u001b[37m━━━━━━━━━━━━━━━\u001b[0m \u001b[1m11s\u001b[0m 60ms/step - accuracy: 0.6884 - loss: 0.7075\n",
      "Epoch 3: saving model to model_weights-03.weights.h5\n",
      "\u001b[1m 69/261\u001b[0m \u001b[32m━━━━━\u001b[0m\u001b[37m━━━━━━━━━━━━━━━\u001b[0m \u001b[1m11s\u001b[0m 60ms/step - accuracy: 0.6884 - loss: 0.7075\n",
      "Epoch 3: saving model to model_weights-03.weights.h5\n",
      "\u001b[1m 70/261\u001b[0m \u001b[32m━━━━━\u001b[0m\u001b[37m━━━━━━━━━━━━━━━\u001b[0m \u001b[1m11s\u001b[0m 60ms/step - accuracy: 0.6883 - loss: 0.7076\n",
      "Epoch 3: saving model to model_weights-03.weights.h5\n",
      "\u001b[1m 71/261\u001b[0m \u001b[32m━━━━━\u001b[0m\u001b[37m━━━━━━━━━━━━━━━\u001b[0m \u001b[1m11s\u001b[0m 61ms/step - accuracy: 0.6883 - loss: 0.7077\n",
      "Epoch 3: saving model to model_weights-03.weights.h5\n",
      "\u001b[1m 72/261\u001b[0m \u001b[32m━━━━━\u001b[0m\u001b[37m━━━━━━━━━━━━━━━\u001b[0m \u001b[1m11s\u001b[0m 61ms/step - accuracy: 0.6882 - loss: 0.7078\n",
      "Epoch 3: saving model to model_weights-03.weights.h5\n",
      "\u001b[1m 73/261\u001b[0m \u001b[32m━━━━━\u001b[0m\u001b[37m━━━━━━━━━━━━━━━\u001b[0m \u001b[1m11s\u001b[0m 61ms/step - accuracy: 0.6882 - loss: 0.7079\n",
      "Epoch 3: saving model to model_weights-03.weights.h5\n",
      "\u001b[1m 74/261\u001b[0m \u001b[32m━━━━━\u001b[0m\u001b[37m━━━━━━━━━━━━━━━\u001b[0m \u001b[1m11s\u001b[0m 61ms/step - accuracy: 0.6882 - loss: 0.7080\n",
      "Epoch 3: saving model to model_weights-03.weights.h5\n",
      "\u001b[1m 75/261\u001b[0m \u001b[32m━━━━━\u001b[0m\u001b[37m━━━━━━━━━━━━━━━\u001b[0m \u001b[1m11s\u001b[0m 61ms/step - accuracy: 0.6881 - loss: 0.7080\n",
      "Epoch 3: saving model to model_weights-03.weights.h5\n",
      "\u001b[1m 76/261\u001b[0m \u001b[32m━━━━━\u001b[0m\u001b[37m━━━━━━━━━━━━━━━\u001b[0m \u001b[1m11s\u001b[0m 61ms/step - accuracy: 0.6881 - loss: 0.7081\n",
      "Epoch 3: saving model to model_weights-03.weights.h5\n",
      "\u001b[1m 77/261\u001b[0m \u001b[32m━━━━━\u001b[0m\u001b[37m━━━━━━━━━━━━━━━\u001b[0m \u001b[1m11s\u001b[0m 61ms/step - accuracy: 0.6881 - loss: 0.7081\n",
      "Epoch 3: saving model to model_weights-03.weights.h5\n",
      "\u001b[1m 78/261\u001b[0m \u001b[32m━━━━━\u001b[0m\u001b[37m━━━━━━━━━━━━━━━\u001b[0m \u001b[1m11s\u001b[0m 61ms/step - accuracy: 0.6881 - loss: 0.7082\n",
      "Epoch 3: saving model to model_weights-03.weights.h5\n",
      "\u001b[1m 79/261\u001b[0m \u001b[32m━━━━━━\u001b[0m\u001b[37m━━━━━━━━━━━━━━\u001b[0m \u001b[1m11s\u001b[0m 61ms/step - accuracy: 0.6880 - loss: 0.7083\n",
      "Epoch 3: saving model to model_weights-03.weights.h5\n",
      "\u001b[1m 80/261\u001b[0m \u001b[32m━━━━━━\u001b[0m\u001b[37m━━━━━━━━━━━━━━\u001b[0m \u001b[1m10s\u001b[0m 61ms/step - accuracy: 0.6880 - loss: 0.7083\n",
      "Epoch 3: saving model to model_weights-03.weights.h5\n",
      "\u001b[1m 81/261\u001b[0m \u001b[32m━━━━━━\u001b[0m\u001b[37m━━━━━━━━━━━━━━\u001b[0m \u001b[1m10s\u001b[0m 61ms/step - accuracy: 0.6880 - loss: 0.7084\n",
      "Epoch 3: saving model to model_weights-03.weights.h5\n",
      "\u001b[1m 82/261\u001b[0m \u001b[32m━━━━━━\u001b[0m\u001b[37m━━━━━━━━━━━━━━\u001b[0m \u001b[1m10s\u001b[0m 61ms/step - accuracy: 0.6880 - loss: 0.7084\n",
      "Epoch 3: saving model to model_weights-03.weights.h5\n",
      "\u001b[1m 83/261\u001b[0m \u001b[32m━━━━━━\u001b[0m\u001b[37m━━━━━━━━━━━━━━\u001b[0m \u001b[1m10s\u001b[0m 61ms/step - accuracy: 0.6879 - loss: 0.7085\n",
      "Epoch 3: saving model to model_weights-03.weights.h5\n",
      "\u001b[1m 84/261\u001b[0m \u001b[32m━━━━━━\u001b[0m\u001b[37m━━━━━━━━━━━━━━\u001b[0m \u001b[1m10s\u001b[0m 61ms/step - accuracy: 0.6879 - loss: 0.7085\n",
      "Epoch 3: saving model to model_weights-03.weights.h5\n",
      "\u001b[1m 85/261\u001b[0m \u001b[32m━━━━━━\u001b[0m\u001b[37m━━━━━━━━━━━━━━\u001b[0m \u001b[1m10s\u001b[0m 61ms/step - accuracy: 0.6879 - loss: 0.7086\n",
      "Epoch 3: saving model to model_weights-03.weights.h5\n",
      "\u001b[1m 86/261\u001b[0m \u001b[32m━━━━━━\u001b[0m\u001b[37m━━━━━━━━━━━━━━\u001b[0m \u001b[1m10s\u001b[0m 61ms/step - accuracy: 0.6879 - loss: 0.7086\n",
      "Epoch 3: saving model to model_weights-03.weights.h5\n",
      "\u001b[1m 87/261\u001b[0m \u001b[32m━━━━━━\u001b[0m\u001b[37m━━━━━━━━━━━━━━\u001b[0m \u001b[1m10s\u001b[0m 61ms/step - accuracy: 0.6878 - loss: 0.7086\n",
      "Epoch 3: saving model to model_weights-03.weights.h5\n",
      "\u001b[1m 88/261\u001b[0m \u001b[32m━━━━━━\u001b[0m\u001b[37m━━━━━━━━━━━━━━\u001b[0m \u001b[1m10s\u001b[0m 61ms/step - accuracy: 0.6878 - loss: 0.7086\n",
      "Epoch 3: saving model to model_weights-03.weights.h5\n",
      "\u001b[1m 89/261\u001b[0m \u001b[32m━━━━━━\u001b[0m\u001b[37m━━━━━━━━━━━━━━\u001b[0m \u001b[1m10s\u001b[0m 61ms/step - accuracy: 0.6878 - loss: 0.7087\n",
      "Epoch 3: saving model to model_weights-03.weights.h5\n",
      "\u001b[1m 90/261\u001b[0m \u001b[32m━━━━━━\u001b[0m\u001b[37m━━━━━━━━━━━━━━\u001b[0m \u001b[1m10s\u001b[0m 61ms/step - accuracy: 0.6878 - loss: 0.7087\n",
      "Epoch 3: saving model to model_weights-03.weights.h5\n",
      "\u001b[1m 91/261\u001b[0m \u001b[32m━━━━━━\u001b[0m\u001b[37m━━━━━━━━━━━━━━\u001b[0m \u001b[1m10s\u001b[0m 61ms/step - accuracy: 0.6878 - loss: 0.7087\n",
      "Epoch 3: saving model to model_weights-03.weights.h5\n",
      "\u001b[1m 92/261\u001b[0m \u001b[32m━━━━━━━\u001b[0m\u001b[37m━━━━━━━━━━━━━\u001b[0m \u001b[1m10s\u001b[0m 61ms/step - accuracy: 0.6878 - loss: 0.7087\n",
      "Epoch 3: saving model to model_weights-03.weights.h5\n",
      "\u001b[1m 93/261\u001b[0m \u001b[32m━━━━━━━\u001b[0m\u001b[37m━━━━━━━━━━━━━\u001b[0m \u001b[1m10s\u001b[0m 61ms/step - accuracy: 0.6878 - loss: 0.7087\n",
      "Epoch 3: saving model to model_weights-03.weights.h5\n",
      "\u001b[1m 94/261\u001b[0m \u001b[32m━━━━━━━\u001b[0m\u001b[37m━━━━━━━━━━━━━\u001b[0m \u001b[1m10s\u001b[0m 61ms/step - accuracy: 0.6877 - loss: 0.7086\n",
      "Epoch 3: saving model to model_weights-03.weights.h5\n",
      "\u001b[1m 95/261\u001b[0m \u001b[32m━━━━━━━\u001b[0m\u001b[37m━━━━━━━━━━━━━\u001b[0m \u001b[1m10s\u001b[0m 61ms/step - accuracy: 0.6877 - loss: 0.7086\n",
      "Epoch 3: saving model to model_weights-03.weights.h5\n",
      "\u001b[1m 96/261\u001b[0m \u001b[32m━━━━━━━\u001b[0m\u001b[37m━━━━━━━━━━━━━\u001b[0m \u001b[1m10s\u001b[0m 61ms/step - accuracy: 0.6877 - loss: 0.7086\n",
      "Epoch 3: saving model to model_weights-03.weights.h5\n",
      "\u001b[1m 97/261\u001b[0m \u001b[32m━━━━━━━\u001b[0m\u001b[37m━━━━━━━━━━━━━\u001b[0m \u001b[1m9s\u001b[0m 61ms/step - accuracy: 0.6877 - loss: 0.7086 \n",
      "Epoch 3: saving model to model_weights-03.weights.h5\n",
      "\u001b[1m 98/261\u001b[0m \u001b[32m━━━━━━━\u001b[0m\u001b[37m━━━━━━━━━━━━━\u001b[0m \u001b[1m9s\u001b[0m 61ms/step - accuracy: 0.6877 - loss: 0.7086\n",
      "Epoch 3: saving model to model_weights-03.weights.h5\n",
      "\u001b[1m 99/261\u001b[0m \u001b[32m━━━━━━━\u001b[0m\u001b[37m━━━━━━━━━━━━━\u001b[0m \u001b[1m9s\u001b[0m 61ms/step - accuracy: 0.6877 - loss: 0.7086\n",
      "Epoch 3: saving model to model_weights-03.weights.h5\n",
      "\u001b[1m100/261\u001b[0m \u001b[32m━━━━━━━\u001b[0m\u001b[37m━━━━━━━━━━━━━\u001b[0m \u001b[1m9s\u001b[0m 61ms/step - accuracy: 0.6877 - loss: 0.7086\n",
      "Epoch 3: saving model to model_weights-03.weights.h5\n",
      "\u001b[1m101/261\u001b[0m \u001b[32m━━━━━━━\u001b[0m\u001b[37m━━━━━━━━━━━━━\u001b[0m \u001b[1m9s\u001b[0m 61ms/step - accuracy: 0.6876 - loss: 0.7086\n",
      "Epoch 3: saving model to model_weights-03.weights.h5\n",
      "\u001b[1m102/261\u001b[0m \u001b[32m━━━━━━━\u001b[0m\u001b[37m━━━━━━━━━━━━━\u001b[0m \u001b[1m9s\u001b[0m 61ms/step - accuracy: 0.6876 - loss: 0.7086\n",
      "Epoch 3: saving model to model_weights-03.weights.h5\n",
      "\u001b[1m103/261\u001b[0m \u001b[32m━━━━━━━\u001b[0m\u001b[37m━━━━━━━━━━━━━\u001b[0m \u001b[1m9s\u001b[0m 61ms/step - accuracy: 0.6876 - loss: 0.7086\n",
      "Epoch 3: saving model to model_weights-03.weights.h5\n",
      "\u001b[1m104/261\u001b[0m \u001b[32m━━━━━━━\u001b[0m\u001b[37m━━━━━━━━━━━━━\u001b[0m \u001b[1m9s\u001b[0m 61ms/step - accuracy: 0.6876 - loss: 0.7086\n",
      "Epoch 3: saving model to model_weights-03.weights.h5\n",
      "\u001b[1m105/261\u001b[0m \u001b[32m━━━━━━━━\u001b[0m\u001b[37m━━━━━━━━━━━━\u001b[0m \u001b[1m9s\u001b[0m 61ms/step - accuracy: 0.6875 - loss: 0.7086\n",
      "Epoch 3: saving model to model_weights-03.weights.h5\n",
      "\u001b[1m106/261\u001b[0m \u001b[32m━━━━━━━━\u001b[0m\u001b[37m━━━━━━━━━━━━\u001b[0m \u001b[1m9s\u001b[0m 61ms/step - accuracy: 0.6875 - loss: 0.7086\n",
      "Epoch 3: saving model to model_weights-03.weights.h5\n",
      "\u001b[1m107/261\u001b[0m \u001b[32m━━━━━━━━\u001b[0m\u001b[37m━━━━━━━━━━━━\u001b[0m \u001b[1m9s\u001b[0m 61ms/step - accuracy: 0.6875 - loss: 0.7086\n",
      "Epoch 3: saving model to model_weights-03.weights.h5\n",
      "\u001b[1m108/261\u001b[0m \u001b[32m━━━━━━━━\u001b[0m\u001b[37m━━━━━━━━━━━━\u001b[0m \u001b[1m9s\u001b[0m 61ms/step - accuracy: 0.6875 - loss: 0.7086\n",
      "Epoch 3: saving model to model_weights-03.weights.h5\n",
      "\u001b[1m109/261\u001b[0m \u001b[32m━━━━━━━━\u001b[0m\u001b[37m━━━━━━━━━━━━\u001b[0m \u001b[1m9s\u001b[0m 61ms/step - accuracy: 0.6874 - loss: 0.7086\n",
      "Epoch 3: saving model to model_weights-03.weights.h5\n",
      "\u001b[1m110/261\u001b[0m \u001b[32m━━━━━━━━\u001b[0m\u001b[37m━━━━━━━━━━━━\u001b[0m \u001b[1m9s\u001b[0m 61ms/step - accuracy: 0.6874 - loss: 0.7087\n",
      "Epoch 3: saving model to model_weights-03.weights.h5\n",
      "\u001b[1m111/261\u001b[0m \u001b[32m━━━━━━━━\u001b[0m\u001b[37m━━━━━━━━━━━━\u001b[0m \u001b[1m9s\u001b[0m 61ms/step - accuracy: 0.6874 - loss: 0.7087\n",
      "Epoch 3: saving model to model_weights-03.weights.h5\n",
      "\u001b[1m112/261\u001b[0m \u001b[32m━━━━━━━━\u001b[0m\u001b[37m━━━━━━━━━━━━\u001b[0m \u001b[1m9s\u001b[0m 61ms/step - accuracy: 0.6873 - loss: 0.7087\n",
      "Epoch 3: saving model to model_weights-03.weights.h5\n",
      "\u001b[1m113/261\u001b[0m \u001b[32m━━━━━━━━\u001b[0m\u001b[37m━━━━━━━━━━━━\u001b[0m \u001b[1m9s\u001b[0m 61ms/step - accuracy: 0.6873 - loss: 0.7087\n",
      "Epoch 3: saving model to model_weights-03.weights.h5\n",
      "\u001b[1m114/261\u001b[0m \u001b[32m━━━━━━━━\u001b[0m\u001b[37m━━━━━━━━━━━━\u001b[0m \u001b[1m8s\u001b[0m 61ms/step - accuracy: 0.6873 - loss: 0.7087\n",
      "Epoch 3: saving model to model_weights-03.weights.h5\n",
      "\u001b[1m115/261\u001b[0m \u001b[32m━━━━━━━━\u001b[0m\u001b[37m━━━━━━━━━━━━\u001b[0m \u001b[1m8s\u001b[0m 61ms/step - accuracy: 0.6873 - loss: 0.7087\n",
      "Epoch 3: saving model to model_weights-03.weights.h5\n",
      "\u001b[1m116/261\u001b[0m \u001b[32m━━━━━━━━\u001b[0m\u001b[37m━━━━━━━━━━━━\u001b[0m \u001b[1m8s\u001b[0m 61ms/step - accuracy: 0.6872 - loss: 0.7086\n",
      "Epoch 3: saving model to model_weights-03.weights.h5\n",
      "\u001b[1m117/261\u001b[0m \u001b[32m━━━━━━━━\u001b[0m\u001b[37m━━━━━━━━━━━━\u001b[0m \u001b[1m8s\u001b[0m 61ms/step - accuracy: 0.6872 - loss: 0.7086\n",
      "Epoch 3: saving model to model_weights-03.weights.h5\n",
      "\u001b[1m118/261\u001b[0m \u001b[32m━━━━━━━━━\u001b[0m\u001b[37m━━━━━━━━━━━\u001b[0m \u001b[1m8s\u001b[0m 61ms/step - accuracy: 0.6872 - loss: 0.7086\n",
      "Epoch 3: saving model to model_weights-03.weights.h5\n",
      "\u001b[1m119/261\u001b[0m \u001b[32m━━━━━━━━━\u001b[0m\u001b[37m━━━━━━━━━━━\u001b[0m \u001b[1m8s\u001b[0m 61ms/step - accuracy: 0.6872 - loss: 0.7085\n",
      "Epoch 3: saving model to model_weights-03.weights.h5\n",
      "\u001b[1m120/261\u001b[0m \u001b[32m━━━━━━━━━\u001b[0m\u001b[37m━━━━━━━━━━━\u001b[0m \u001b[1m8s\u001b[0m 61ms/step - accuracy: 0.6872 - loss: 0.7085\n",
      "Epoch 3: saving model to model_weights-03.weights.h5\n",
      "\u001b[1m121/261\u001b[0m \u001b[32m━━━━━━━━━\u001b[0m\u001b[37m━━━━━━━━━━━\u001b[0m \u001b[1m8s\u001b[0m 61ms/step - accuracy: 0.6872 - loss: 0.7084\n",
      "Epoch 3: saving model to model_weights-03.weights.h5\n",
      "\u001b[1m122/261\u001b[0m \u001b[32m━━━━━━━━━\u001b[0m\u001b[37m━━━━━━━━━━━\u001b[0m \u001b[1m8s\u001b[0m 61ms/step - accuracy: 0.6872 - loss: 0.7084\n",
      "Epoch 3: saving model to model_weights-03.weights.h5\n",
      "\u001b[1m123/261\u001b[0m \u001b[32m━━━━━━━━━\u001b[0m\u001b[37m━━━━━━━━━━━\u001b[0m \u001b[1m8s\u001b[0m 61ms/step - accuracy: 0.6872 - loss: 0.7083\n",
      "Epoch 3: saving model to model_weights-03.weights.h5\n",
      "\u001b[1m124/261\u001b[0m \u001b[32m━━━━━━━━━\u001b[0m\u001b[37m━━━━━━━━━━━\u001b[0m \u001b[1m8s\u001b[0m 61ms/step - accuracy: 0.6872 - loss: 0.7083\n",
      "Epoch 3: saving model to model_weights-03.weights.h5\n",
      "\u001b[1m125/261\u001b[0m \u001b[32m━━━━━━━━━\u001b[0m\u001b[37m━━━━━━━━━━━\u001b[0m \u001b[1m8s\u001b[0m 61ms/step - accuracy: 0.6872 - loss: 0.7082\n",
      "Epoch 3: saving model to model_weights-03.weights.h5\n",
      "\u001b[1m126/261\u001b[0m \u001b[32m━━━━━━━━━\u001b[0m\u001b[37m━━━━━━━━━━━\u001b[0m \u001b[1m8s\u001b[0m 61ms/step - accuracy: 0.6872 - loss: 0.7082\n",
      "Epoch 3: saving model to model_weights-03.weights.h5\n",
      "\u001b[1m127/261\u001b[0m \u001b[32m━━━━━━━━━\u001b[0m\u001b[37m━━━━━━━━━━━\u001b[0m \u001b[1m8s\u001b[0m 61ms/step - accuracy: 0.6871 - loss: 0.7081\n",
      "Epoch 3: saving model to model_weights-03.weights.h5\n",
      "\u001b[1m128/261\u001b[0m \u001b[32m━━━━━━━━━\u001b[0m\u001b[37m━━━━━━━━━━━\u001b[0m \u001b[1m8s\u001b[0m 61ms/step - accuracy: 0.6871 - loss: 0.7081\n",
      "Epoch 3: saving model to model_weights-03.weights.h5\n",
      "\u001b[1m129/261\u001b[0m \u001b[32m━━━━━━━━━\u001b[0m\u001b[37m━━━━━━━━━━━\u001b[0m \u001b[1m8s\u001b[0m 61ms/step - accuracy: 0.6871 - loss: 0.7081\n",
      "Epoch 3: saving model to model_weights-03.weights.h5\n",
      "\u001b[1m130/261\u001b[0m \u001b[32m━━━━━━━━━\u001b[0m\u001b[37m━━━━━━━━━━━\u001b[0m \u001b[1m7s\u001b[0m 61ms/step - accuracy: 0.6871 - loss: 0.7080\n",
      "Epoch 3: saving model to model_weights-03.weights.h5\n",
      "\u001b[1m131/261\u001b[0m \u001b[32m━━━━━━━━━━\u001b[0m\u001b[37m━━━━━━━━━━\u001b[0m \u001b[1m7s\u001b[0m 61ms/step - accuracy: 0.6871 - loss: 0.7080\n",
      "Epoch 3: saving model to model_weights-03.weights.h5\n",
      "\u001b[1m132/261\u001b[0m \u001b[32m━━━━━━━━━━\u001b[0m\u001b[37m━━━━━━━━━━\u001b[0m \u001b[1m7s\u001b[0m 61ms/step - accuracy: 0.6871 - loss: 0.7080\n",
      "Epoch 3: saving model to model_weights-03.weights.h5\n",
      "\u001b[1m133/261\u001b[0m \u001b[32m━━━━━━━━━━\u001b[0m\u001b[37m━━━━━━━━━━\u001b[0m \u001b[1m7s\u001b[0m 61ms/step - accuracy: 0.6870 - loss: 0.7079\n",
      "Epoch 3: saving model to model_weights-03.weights.h5\n",
      "\u001b[1m134/261\u001b[0m \u001b[32m━━━━━━━━━━\u001b[0m\u001b[37m━━━━━━━━━━\u001b[0m \u001b[1m7s\u001b[0m 61ms/step - accuracy: 0.6870 - loss: 0.7079\n",
      "Epoch 3: saving model to model_weights-03.weights.h5\n",
      "\u001b[1m135/261\u001b[0m \u001b[32m━━━━━━━━━━\u001b[0m\u001b[37m━━━━━━━━━━\u001b[0m \u001b[1m7s\u001b[0m 61ms/step - accuracy: 0.6870 - loss: 0.7079\n",
      "Epoch 3: saving model to model_weights-03.weights.h5\n",
      "\u001b[1m136/261\u001b[0m \u001b[32m━━━━━━━━━━\u001b[0m\u001b[37m━━━━━━━━━━\u001b[0m \u001b[1m7s\u001b[0m 61ms/step - accuracy: 0.6870 - loss: 0.7079\n",
      "Epoch 3: saving model to model_weights-03.weights.h5\n",
      "\u001b[1m137/261\u001b[0m \u001b[32m━━━━━━━━━━\u001b[0m\u001b[37m━━━━━━━━━━\u001b[0m \u001b[1m7s\u001b[0m 61ms/step - accuracy: 0.6870 - loss: 0.7078\n",
      "Epoch 3: saving model to model_weights-03.weights.h5\n",
      "\u001b[1m138/261\u001b[0m \u001b[32m━━━━━━━━━━\u001b[0m\u001b[37m━━━━━━━━━━\u001b[0m \u001b[1m7s\u001b[0m 61ms/step - accuracy: 0.6870 - loss: 0.7078\n",
      "Epoch 3: saving model to model_weights-03.weights.h5\n",
      "\u001b[1m139/261\u001b[0m \u001b[32m━━━━━━━━━━\u001b[0m\u001b[37m━━━━━━━━━━\u001b[0m \u001b[1m7s\u001b[0m 61ms/step - accuracy: 0.6869 - loss: 0.7078\n",
      "Epoch 3: saving model to model_weights-03.weights.h5\n",
      "\u001b[1m140/261\u001b[0m \u001b[32m━━━━━━━━━━\u001b[0m\u001b[37m━━━━━━━━━━\u001b[0m \u001b[1m7s\u001b[0m 61ms/step - accuracy: 0.6869 - loss: 0.7077\n",
      "Epoch 3: saving model to model_weights-03.weights.h5\n",
      "\u001b[1m141/261\u001b[0m \u001b[32m━━━━━━━━━━\u001b[0m\u001b[37m━━━━━━━━━━\u001b[0m \u001b[1m7s\u001b[0m 61ms/step - accuracy: 0.6869 - loss: 0.7077\n",
      "Epoch 3: saving model to model_weights-03.weights.h5\n",
      "\u001b[1m142/261\u001b[0m \u001b[32m━━━━━━━━━━\u001b[0m\u001b[37m━━━━━━━━━━\u001b[0m \u001b[1m7s\u001b[0m 61ms/step - accuracy: 0.6869 - loss: 0.7076\n",
      "Epoch 3: saving model to model_weights-03.weights.h5\n",
      "\u001b[1m143/261\u001b[0m \u001b[32m━━━━━━━━━━\u001b[0m\u001b[37m━━━━━━━━━━\u001b[0m \u001b[1m7s\u001b[0m 61ms/step - accuracy: 0.6869 - loss: 0.7076\n",
      "Epoch 3: saving model to model_weights-03.weights.h5\n",
      "\u001b[1m144/261\u001b[0m \u001b[32m━━━━━━━━━━━\u001b[0m\u001b[37m━━━━━━━━━\u001b[0m \u001b[1m7s\u001b[0m 61ms/step - accuracy: 0.6869 - loss: 0.7075\n",
      "Epoch 3: saving model to model_weights-03.weights.h5\n",
      "\u001b[1m145/261\u001b[0m \u001b[32m━━━━━━━━━━━\u001b[0m\u001b[37m━━━━━━━━━\u001b[0m \u001b[1m7s\u001b[0m 61ms/step - accuracy: 0.6869 - loss: 0.7075\n",
      "Epoch 3: saving model to model_weights-03.weights.h5\n",
      "\u001b[1m146/261\u001b[0m \u001b[32m━━━━━━━━━━━\u001b[0m\u001b[37m━━━━━━━━━\u001b[0m \u001b[1m7s\u001b[0m 61ms/step - accuracy: 0.6869 - loss: 0.7075\n",
      "Epoch 3: saving model to model_weights-03.weights.h5\n",
      "\u001b[1m147/261\u001b[0m \u001b[32m━━━━━━━━━━━\u001b[0m\u001b[37m━━━━━━━━━\u001b[0m \u001b[1m6s\u001b[0m 61ms/step - accuracy: 0.6869 - loss: 0.7074\n",
      "Epoch 3: saving model to model_weights-03.weights.h5\n",
      "\u001b[1m148/261\u001b[0m \u001b[32m━━━━━━━━━━━\u001b[0m\u001b[37m━━━━━━━━━\u001b[0m \u001b[1m6s\u001b[0m 61ms/step - accuracy: 0.6869 - loss: 0.7074\n",
      "Epoch 3: saving model to model_weights-03.weights.h5\n",
      "\u001b[1m149/261\u001b[0m \u001b[32m━━━━━━━━━━━\u001b[0m\u001b[37m━━━━━━━━━\u001b[0m \u001b[1m6s\u001b[0m 61ms/step - accuracy: 0.6868 - loss: 0.7074\n",
      "Epoch 3: saving model to model_weights-03.weights.h5\n",
      "\u001b[1m150/261\u001b[0m \u001b[32m━━━━━━━━━━━\u001b[0m\u001b[37m━━━━━━━━━\u001b[0m \u001b[1m6s\u001b[0m 61ms/step - accuracy: 0.6868 - loss: 0.7074\n",
      "Epoch 3: saving model to model_weights-03.weights.h5\n",
      "\u001b[1m151/261\u001b[0m \u001b[32m━━━━━━━━━━━\u001b[0m\u001b[37m━━━━━━━━━\u001b[0m \u001b[1m6s\u001b[0m 61ms/step - accuracy: 0.6868 - loss: 0.7073\n",
      "Epoch 3: saving model to model_weights-03.weights.h5\n",
      "\u001b[1m152/261\u001b[0m \u001b[32m━━━━━━━━━━━\u001b[0m\u001b[37m━━━━━━━━━\u001b[0m \u001b[1m6s\u001b[0m 61ms/step - accuracy: 0.6868 - loss: 0.7073\n",
      "Epoch 3: saving model to model_weights-03.weights.h5\n",
      "\u001b[1m153/261\u001b[0m \u001b[32m━━━━━━━━━━━\u001b[0m\u001b[37m━━━━━━━━━\u001b[0m \u001b[1m6s\u001b[0m 61ms/step - accuracy: 0.6868 - loss: 0.7073\n",
      "Epoch 3: saving model to model_weights-03.weights.h5\n",
      "\u001b[1m154/261\u001b[0m \u001b[32m━━━━━━━━━━━\u001b[0m\u001b[37m━━━━━━━━━\u001b[0m \u001b[1m6s\u001b[0m 61ms/step - accuracy: 0.6868 - loss: 0.7072\n",
      "Epoch 3: saving model to model_weights-03.weights.h5\n",
      "\u001b[1m155/261\u001b[0m \u001b[32m━━━━━━━━━━━\u001b[0m\u001b[37m━━━━━━━━━\u001b[0m \u001b[1m6s\u001b[0m 61ms/step - accuracy: 0.6867 - loss: 0.7072\n",
      "Epoch 3: saving model to model_weights-03.weights.h5\n",
      "\u001b[1m156/261\u001b[0m \u001b[32m━━━━━━━━━━━\u001b[0m\u001b[37m━━━━━━━━━\u001b[0m \u001b[1m6s\u001b[0m 61ms/step - accuracy: 0.6867 - loss: 0.7072\n",
      "Epoch 3: saving model to model_weights-03.weights.h5\n",
      "\u001b[1m157/261\u001b[0m \u001b[32m━━━━━━━━━━━━\u001b[0m\u001b[37m━━━━━━━━\u001b[0m \u001b[1m6s\u001b[0m 61ms/step - accuracy: 0.6867 - loss: 0.7071\n",
      "Epoch 3: saving model to model_weights-03.weights.h5\n",
      "\u001b[1m158/261\u001b[0m \u001b[32m━━━━━━━━━━━━\u001b[0m\u001b[37m━━━━━━━━\u001b[0m \u001b[1m6s\u001b[0m 61ms/step - accuracy: 0.6867 - loss: 0.7071\n",
      "Epoch 3: saving model to model_weights-03.weights.h5\n",
      "\u001b[1m159/261\u001b[0m \u001b[32m━━━━━━━━━━━━\u001b[0m\u001b[37m━━━━━━━━\u001b[0m \u001b[1m6s\u001b[0m 61ms/step - accuracy: 0.6867 - loss: 0.7071\n",
      "Epoch 3: saving model to model_weights-03.weights.h5\n",
      "\u001b[1m160/261\u001b[0m \u001b[32m━━━━━━━━━━━━\u001b[0m\u001b[37m━━━━━━━━\u001b[0m \u001b[1m6s\u001b[0m 61ms/step - accuracy: 0.6867 - loss: 0.7070\n",
      "Epoch 3: saving model to model_weights-03.weights.h5\n",
      "\u001b[1m161/261\u001b[0m \u001b[32m━━━━━━━━━━━━\u001b[0m\u001b[37m━━━━━━━━\u001b[0m \u001b[1m6s\u001b[0m 61ms/step - accuracy: 0.6867 - loss: 0.7070\n",
      "Epoch 3: saving model to model_weights-03.weights.h5\n",
      "\u001b[1m162/261\u001b[0m \u001b[32m━━━━━━━━━━━━\u001b[0m\u001b[37m━━━━━━━━\u001b[0m \u001b[1m6s\u001b[0m 61ms/step - accuracy: 0.6866 - loss: 0.7070\n",
      "Epoch 3: saving model to model_weights-03.weights.h5\n",
      "\u001b[1m163/261\u001b[0m \u001b[32m━━━━━━━━━━━━\u001b[0m\u001b[37m━━━━━━━━\u001b[0m \u001b[1m6s\u001b[0m 61ms/step - accuracy: 0.6866 - loss: 0.7070\n",
      "Epoch 3: saving model to model_weights-03.weights.h5\n",
      "\u001b[1m164/261\u001b[0m \u001b[32m━━━━━━━━━━━━\u001b[0m\u001b[37m━━━━━━━━\u001b[0m \u001b[1m5s\u001b[0m 61ms/step - accuracy: 0.6866 - loss: 0.7069\n",
      "Epoch 3: saving model to model_weights-03.weights.h5\n",
      "\u001b[1m165/261\u001b[0m \u001b[32m━━━━━━━━━━━━\u001b[0m\u001b[37m━━━━━━━━\u001b[0m \u001b[1m5s\u001b[0m 61ms/step - accuracy: 0.6866 - loss: 0.7069\n",
      "Epoch 3: saving model to model_weights-03.weights.h5\n",
      "\u001b[1m166/261\u001b[0m \u001b[32m━━━━━━━━━━━━\u001b[0m\u001b[37m━━━━━━━━\u001b[0m \u001b[1m5s\u001b[0m 61ms/step - accuracy: 0.6866 - loss: 0.7069\n",
      "Epoch 3: saving model to model_weights-03.weights.h5\n",
      "\u001b[1m167/261\u001b[0m \u001b[32m━━━━━━━━━━━━\u001b[0m\u001b[37m━━━━━━━━\u001b[0m \u001b[1m5s\u001b[0m 61ms/step - accuracy: 0.6865 - loss: 0.7069\n",
      "Epoch 3: saving model to model_weights-03.weights.h5\n",
      "\u001b[1m168/261\u001b[0m \u001b[32m━━━━━━━━━━━━\u001b[0m\u001b[37m━━━━━━━━\u001b[0m \u001b[1m5s\u001b[0m 61ms/step - accuracy: 0.6865 - loss: 0.7069\n",
      "Epoch 3: saving model to model_weights-03.weights.h5\n",
      "\u001b[1m169/261\u001b[0m \u001b[32m━━━━━━━━━━━━\u001b[0m\u001b[37m━━━━━━━━\u001b[0m \u001b[1m5s\u001b[0m 61ms/step - accuracy: 0.6865 - loss: 0.7068\n",
      "Epoch 3: saving model to model_weights-03.weights.h5\n",
      "\u001b[1m170/261\u001b[0m \u001b[32m━━━━━━━━━━━━━\u001b[0m\u001b[37m━━━━━━━\u001b[0m \u001b[1m5s\u001b[0m 61ms/step - accuracy: 0.6865 - loss: 0.7068\n",
      "Epoch 3: saving model to model_weights-03.weights.h5\n",
      "\u001b[1m171/261\u001b[0m \u001b[32m━━━━━━━━━━━━━\u001b[0m\u001b[37m━━━━━━━\u001b[0m \u001b[1m5s\u001b[0m 61ms/step - accuracy: 0.6865 - loss: 0.7068\n",
      "Epoch 3: saving model to model_weights-03.weights.h5\n",
      "\u001b[1m172/261\u001b[0m \u001b[32m━━━━━━━━━━━━━\u001b[0m\u001b[37m━━━━━━━\u001b[0m \u001b[1m5s\u001b[0m 61ms/step - accuracy: 0.6865 - loss: 0.7068\n",
      "Epoch 3: saving model to model_weights-03.weights.h5\n",
      "\u001b[1m173/261\u001b[0m \u001b[32m━━━━━━━━━━━━━\u001b[0m\u001b[37m━━━━━━━\u001b[0m \u001b[1m5s\u001b[0m 61ms/step - accuracy: 0.6865 - loss: 0.7068\n",
      "Epoch 3: saving model to model_weights-03.weights.h5\n",
      "\u001b[1m174/261\u001b[0m \u001b[32m━━━━━━━━━━━━━\u001b[0m\u001b[37m━━━━━━━\u001b[0m \u001b[1m5s\u001b[0m 61ms/step - accuracy: 0.6864 - loss: 0.7067\n",
      "Epoch 3: saving model to model_weights-03.weights.h5\n",
      "\u001b[1m175/261\u001b[0m \u001b[32m━━━━━━━━━━━━━\u001b[0m\u001b[37m━━━━━━━\u001b[0m \u001b[1m5s\u001b[0m 61ms/step - accuracy: 0.6864 - loss: 0.7067\n",
      "Epoch 3: saving model to model_weights-03.weights.h5\n",
      "\u001b[1m176/261\u001b[0m \u001b[32m━━━━━━━━━━━━━\u001b[0m\u001b[37m━━━━━━━\u001b[0m \u001b[1m5s\u001b[0m 61ms/step - accuracy: 0.6864 - loss: 0.7067\n",
      "Epoch 3: saving model to model_weights-03.weights.h5\n",
      "\u001b[1m177/261\u001b[0m \u001b[32m━━━━━━━━━━━━━\u001b[0m\u001b[37m━━━━━━━\u001b[0m \u001b[1m5s\u001b[0m 61ms/step - accuracy: 0.6864 - loss: 0.7067\n",
      "Epoch 3: saving model to model_weights-03.weights.h5\n",
      "\u001b[1m178/261\u001b[0m \u001b[32m━━━━━━━━━━━━━\u001b[0m\u001b[37m━━━━━━━\u001b[0m \u001b[1m5s\u001b[0m 61ms/step - accuracy: 0.6864 - loss: 0.7067\n",
      "Epoch 3: saving model to model_weights-03.weights.h5\n",
      "\u001b[1m179/261\u001b[0m \u001b[32m━━━━━━━━━━━━━\u001b[0m\u001b[37m━━━━━━━\u001b[0m \u001b[1m5s\u001b[0m 61ms/step - accuracy: 0.6864 - loss: 0.7066\n",
      "Epoch 3: saving model to model_weights-03.weights.h5\n",
      "\u001b[1m180/261\u001b[0m \u001b[32m━━━━━━━━━━━━━\u001b[0m\u001b[37m━━━━━━━\u001b[0m \u001b[1m4s\u001b[0m 61ms/step - accuracy: 0.6863 - loss: 0.7066\n",
      "Epoch 3: saving model to model_weights-03.weights.h5\n",
      "\u001b[1m181/261\u001b[0m \u001b[32m━━━━━━━━━━━━━\u001b[0m\u001b[37m━━━━━━━\u001b[0m \u001b[1m4s\u001b[0m 61ms/step - accuracy: 0.6863 - loss: 0.7066\n",
      "Epoch 3: saving model to model_weights-03.weights.h5\n",
      "\u001b[1m182/261\u001b[0m \u001b[32m━━━━━━━━━━━━━\u001b[0m\u001b[37m━━━━━━━\u001b[0m \u001b[1m4s\u001b[0m 61ms/step - accuracy: 0.6863 - loss: 0.7066\n",
      "Epoch 3: saving model to model_weights-03.weights.h5\n",
      "\u001b[1m183/261\u001b[0m \u001b[32m━━━━━━━━━━━━━━\u001b[0m\u001b[37m━━━━━━\u001b[0m \u001b[1m4s\u001b[0m 61ms/step - accuracy: 0.6863 - loss: 0.7066\n",
      "Epoch 3: saving model to model_weights-03.weights.h5\n",
      "\u001b[1m184/261\u001b[0m \u001b[32m━━━━━━━━━━━━━━\u001b[0m\u001b[37m━━━━━━\u001b[0m \u001b[1m4s\u001b[0m 61ms/step - accuracy: 0.6863 - loss: 0.7066\n",
      "Epoch 3: saving model to model_weights-03.weights.h5\n",
      "\u001b[1m185/261\u001b[0m \u001b[32m━━━━━━━━━━━━━━\u001b[0m\u001b[37m━━━━━━\u001b[0m \u001b[1m4s\u001b[0m 61ms/step - accuracy: 0.6863 - loss: 0.7065\n",
      "Epoch 3: saving model to model_weights-03.weights.h5\n",
      "\u001b[1m186/261\u001b[0m \u001b[32m━━━━━━━━━━━━━━\u001b[0m\u001b[37m━━━━━━\u001b[0m \u001b[1m4s\u001b[0m 61ms/step - accuracy: 0.6863 - loss: 0.7065\n",
      "Epoch 3: saving model to model_weights-03.weights.h5\n",
      "\u001b[1m187/261\u001b[0m \u001b[32m━━━━━━━━━━━━━━\u001b[0m\u001b[37m━━━━━━\u001b[0m \u001b[1m4s\u001b[0m 61ms/step - accuracy: 0.6863 - loss: 0.7065\n",
      "Epoch 3: saving model to model_weights-03.weights.h5\n",
      "\u001b[1m188/261\u001b[0m \u001b[32m━━━━━━━━━━━━━━\u001b[0m\u001b[37m━━━━━━\u001b[0m \u001b[1m4s\u001b[0m 61ms/step - accuracy: 0.6863 - loss: 0.7065\n",
      "Epoch 3: saving model to model_weights-03.weights.h5\n",
      "\u001b[1m189/261\u001b[0m \u001b[32m━━━━━━━━━━━━━━\u001b[0m\u001b[37m━━━━━━\u001b[0m \u001b[1m4s\u001b[0m 61ms/step - accuracy: 0.6863 - loss: 0.7064\n",
      "Epoch 3: saving model to model_weights-03.weights.h5\n",
      "\u001b[1m190/261\u001b[0m \u001b[32m━━━━━━━━━━━━━━\u001b[0m\u001b[37m━━━━━━\u001b[0m \u001b[1m4s\u001b[0m 61ms/step - accuracy: 0.6863 - loss: 0.7064\n",
      "Epoch 3: saving model to model_weights-03.weights.h5\n",
      "\u001b[1m191/261\u001b[0m \u001b[32m━━━━━━━━━━━━━━\u001b[0m\u001b[37m━━━━━━\u001b[0m \u001b[1m4s\u001b[0m 61ms/step - accuracy: 0.6863 - loss: 0.7064\n",
      "Epoch 3: saving model to model_weights-03.weights.h5\n",
      "\u001b[1m192/261\u001b[0m \u001b[32m━━━━━━━━━━━━━━\u001b[0m\u001b[37m━━━━━━\u001b[0m \u001b[1m4s\u001b[0m 61ms/step - accuracy: 0.6863 - loss: 0.7064\n",
      "Epoch 3: saving model to model_weights-03.weights.h5\n",
      "\u001b[1m193/261\u001b[0m \u001b[32m━━━━━━━━━━━━━━\u001b[0m\u001b[37m━━━━━━\u001b[0m \u001b[1m4s\u001b[0m 61ms/step - accuracy: 0.6863 - loss: 0.7064\n",
      "Epoch 3: saving model to model_weights-03.weights.h5\n",
      "\u001b[1m194/261\u001b[0m \u001b[32m━━━━━━━━━━━━━━\u001b[0m\u001b[37m━━━━━━\u001b[0m \u001b[1m4s\u001b[0m 61ms/step - accuracy: 0.6863 - loss: 0.7063\n",
      "Epoch 3: saving model to model_weights-03.weights.h5\n",
      "\u001b[1m195/261\u001b[0m \u001b[32m━━━━━━━━━━━━━━\u001b[0m\u001b[37m━━━━━━\u001b[0m \u001b[1m4s\u001b[0m 61ms/step - accuracy: 0.6863 - loss: 0.7063\n",
      "Epoch 3: saving model to model_weights-03.weights.h5\n",
      "\u001b[1m196/261\u001b[0m \u001b[32m━━━━━━━━━━━━━━━\u001b[0m\u001b[37m━━━━━\u001b[0m \u001b[1m3s\u001b[0m 61ms/step - accuracy: 0.6863 - loss: 0.7063\n",
      "Epoch 3: saving model to model_weights-03.weights.h5\n",
      "\u001b[1m197/261\u001b[0m \u001b[32m━━━━━━━━━━━━━━━\u001b[0m\u001b[37m━━━━━\u001b[0m \u001b[1m3s\u001b[0m 61ms/step - accuracy: 0.6863 - loss: 0.7063\n",
      "Epoch 3: saving model to model_weights-03.weights.h5\n",
      "\u001b[1m198/261\u001b[0m \u001b[32m━━━━━━━━━━━━━━━\u001b[0m\u001b[37m━━━━━\u001b[0m \u001b[1m3s\u001b[0m 61ms/step - accuracy: 0.6863 - loss: 0.7063\n",
      "Epoch 3: saving model to model_weights-03.weights.h5\n",
      "\u001b[1m199/261\u001b[0m \u001b[32m━━━━━━━━━━━━━━━\u001b[0m\u001b[37m━━━━━\u001b[0m \u001b[1m3s\u001b[0m 61ms/step - accuracy: 0.6863 - loss: 0.7063\n",
      "Epoch 3: saving model to model_weights-03.weights.h5\n",
      "\u001b[1m200/261\u001b[0m \u001b[32m━━━━━━━━━━━━━━━\u001b[0m\u001b[37m━━━━━\u001b[0m \u001b[1m3s\u001b[0m 61ms/step - accuracy: 0.6863 - loss: 0.7063\n",
      "Epoch 3: saving model to model_weights-03.weights.h5\n",
      "\u001b[1m201/261\u001b[0m \u001b[32m━━━━━━━━━━━━━━━\u001b[0m\u001b[37m━━━━━\u001b[0m \u001b[1m3s\u001b[0m 61ms/step - accuracy: 0.6863 - loss: 0.7062\n",
      "Epoch 3: saving model to model_weights-03.weights.h5\n",
      "\u001b[1m202/261\u001b[0m \u001b[32m━━━━━━━━━━━━━━━\u001b[0m\u001b[37m━━━━━\u001b[0m \u001b[1m3s\u001b[0m 61ms/step - accuracy: 0.6863 - loss: 0.7062\n",
      "Epoch 3: saving model to model_weights-03.weights.h5\n",
      "\u001b[1m203/261\u001b[0m \u001b[32m━━━━━━━━━━━━━━━\u001b[0m\u001b[37m━━━━━\u001b[0m \u001b[1m3s\u001b[0m 61ms/step - accuracy: 0.6863 - loss: 0.7062\n",
      "Epoch 3: saving model to model_weights-03.weights.h5\n",
      "\u001b[1m204/261\u001b[0m \u001b[32m━━━━━━━━━━━━━━━\u001b[0m\u001b[37m━━━━━\u001b[0m \u001b[1m3s\u001b[0m 61ms/step - accuracy: 0.6862 - loss: 0.7062\n",
      "Epoch 3: saving model to model_weights-03.weights.h5\n",
      "\u001b[1m205/261\u001b[0m \u001b[32m━━━━━━━━━━━━━━━\u001b[0m\u001b[37m━━━━━\u001b[0m \u001b[1m3s\u001b[0m 61ms/step - accuracy: 0.6862 - loss: 0.7062\n",
      "Epoch 3: saving model to model_weights-03.weights.h5\n",
      "\u001b[1m206/261\u001b[0m \u001b[32m━━━━━━━━━━━━━━━\u001b[0m\u001b[37m━━━━━\u001b[0m \u001b[1m3s\u001b[0m 61ms/step - accuracy: 0.6862 - loss: 0.7062\n",
      "Epoch 3: saving model to model_weights-03.weights.h5\n",
      "\u001b[1m207/261\u001b[0m \u001b[32m━━━━━━━━━━━━━━━\u001b[0m\u001b[37m━━━━━\u001b[0m \u001b[1m3s\u001b[0m 61ms/step - accuracy: 0.6862 - loss: 0.7062\n",
      "Epoch 3: saving model to model_weights-03.weights.h5\n",
      "\u001b[1m208/261\u001b[0m \u001b[32m━━━━━━━━━━━━━━━\u001b[0m\u001b[37m━━━━━\u001b[0m \u001b[1m3s\u001b[0m 61ms/step - accuracy: 0.6862 - loss: 0.7062\n",
      "Epoch 3: saving model to model_weights-03.weights.h5\n",
      "\u001b[1m209/261\u001b[0m \u001b[32m━━━━━━━━━━━━━━━━\u001b[0m\u001b[37m━━━━\u001b[0m \u001b[1m3s\u001b[0m 61ms/step - accuracy: 0.6862 - loss: 0.7062\n",
      "Epoch 3: saving model to model_weights-03.weights.h5\n",
      "\u001b[1m210/261\u001b[0m \u001b[32m━━━━━━━━━━━━━━━━\u001b[0m\u001b[37m━━━━\u001b[0m \u001b[1m3s\u001b[0m 61ms/step - accuracy: 0.6862 - loss: 0.7061\n",
      "Epoch 3: saving model to model_weights-03.weights.h5\n",
      "\u001b[1m211/261\u001b[0m \u001b[32m━━━━━━━━━━━━━━━━\u001b[0m\u001b[37m━━━━\u001b[0m \u001b[1m3s\u001b[0m 61ms/step - accuracy: 0.6862 - loss: 0.7061\n",
      "Epoch 3: saving model to model_weights-03.weights.h5\n",
      "\u001b[1m212/261\u001b[0m \u001b[32m━━━━━━━━━━━━━━━━\u001b[0m\u001b[37m━━━━\u001b[0m \u001b[1m3s\u001b[0m 61ms/step - accuracy: 0.6862 - loss: 0.7061\n",
      "Epoch 3: saving model to model_weights-03.weights.h5\n",
      "\u001b[1m213/261\u001b[0m \u001b[32m━━━━━━━━━━━━━━━━\u001b[0m\u001b[37m━━━━\u001b[0m \u001b[1m2s\u001b[0m 61ms/step - accuracy: 0.6862 - loss: 0.7061\n",
      "Epoch 3: saving model to model_weights-03.weights.h5\n",
      "\u001b[1m214/261\u001b[0m \u001b[32m━━━━━━━━━━━━━━━━\u001b[0m\u001b[37m━━━━\u001b[0m \u001b[1m2s\u001b[0m 61ms/step - accuracy: 0.6862 - loss: 0.7061\n",
      "Epoch 3: saving model to model_weights-03.weights.h5\n",
      "\u001b[1m215/261\u001b[0m \u001b[32m━━━━━━━━━━━━━━━━\u001b[0m\u001b[37m━━━━\u001b[0m \u001b[1m2s\u001b[0m 61ms/step - accuracy: 0.6862 - loss: 0.7061\n",
      "Epoch 3: saving model to model_weights-03.weights.h5\n",
      "\u001b[1m216/261\u001b[0m \u001b[32m━━━━━━━━━━━━━━━━\u001b[0m\u001b[37m━━━━\u001b[0m \u001b[1m2s\u001b[0m 61ms/step - accuracy: 0.6862 - loss: 0.7060\n",
      "Epoch 3: saving model to model_weights-03.weights.h5\n",
      "\u001b[1m217/261\u001b[0m \u001b[32m━━━━━━━━━━━━━━━━\u001b[0m\u001b[37m━━━━\u001b[0m \u001b[1m2s\u001b[0m 61ms/step - accuracy: 0.6862 - loss: 0.7060\n",
      "Epoch 3: saving model to model_weights-03.weights.h5\n",
      "\u001b[1m218/261\u001b[0m \u001b[32m━━━━━━━━━━━━━━━━\u001b[0m\u001b[37m━━━━\u001b[0m \u001b[1m2s\u001b[0m 61ms/step - accuracy: 0.6862 - loss: 0.7060\n",
      "Epoch 3: saving model to model_weights-03.weights.h5\n",
      "\u001b[1m219/261\u001b[0m \u001b[32m━━━━━━━━━━━━━━━━\u001b[0m\u001b[37m━━━━\u001b[0m \u001b[1m2s\u001b[0m 61ms/step - accuracy: 0.6862 - loss: 0.7060\n",
      "Epoch 3: saving model to model_weights-03.weights.h5\n",
      "\u001b[1m220/261\u001b[0m \u001b[32m━━━━━━━━━━━━━━━━\u001b[0m\u001b[37m━━━━\u001b[0m \u001b[1m2s\u001b[0m 61ms/step - accuracy: 0.6862 - loss: 0.7060\n",
      "Epoch 3: saving model to model_weights-03.weights.h5\n",
      "\u001b[1m221/261\u001b[0m \u001b[32m━━━━━━━━━━━━━━━━\u001b[0m\u001b[37m━━━━\u001b[0m \u001b[1m2s\u001b[0m 61ms/step - accuracy: 0.6862 - loss: 0.7060\n",
      "Epoch 3: saving model to model_weights-03.weights.h5\n",
      "\u001b[1m222/261\u001b[0m \u001b[32m━━━━━━━━━━━━━━━━━\u001b[0m\u001b[37m━━━\u001b[0m \u001b[1m2s\u001b[0m 61ms/step - accuracy: 0.6862 - loss: 0.7060\n",
      "Epoch 3: saving model to model_weights-03.weights.h5\n",
      "\u001b[1m223/261\u001b[0m \u001b[32m━━━━━━━━━━━━━━━━━\u001b[0m\u001b[37m━━━\u001b[0m \u001b[1m2s\u001b[0m 61ms/step - accuracy: 0.6863 - loss: 0.7059\n",
      "Epoch 3: saving model to model_weights-03.weights.h5\n",
      "\u001b[1m224/261\u001b[0m \u001b[32m━━━━━━━━━━━━━━━━━\u001b[0m\u001b[37m━━━\u001b[0m \u001b[1m2s\u001b[0m 61ms/step - accuracy: 0.6863 - loss: 0.7059\n",
      "Epoch 3: saving model to model_weights-03.weights.h5\n",
      "\u001b[1m225/261\u001b[0m \u001b[32m━━━━━━━━━━━━━━━━━\u001b[0m\u001b[37m━━━\u001b[0m \u001b[1m2s\u001b[0m 61ms/step - accuracy: 0.6863 - loss: 0.7059\n",
      "Epoch 3: saving model to model_weights-03.weights.h5\n",
      "\u001b[1m226/261\u001b[0m \u001b[32m━━━━━━━━━━━━━━━━━\u001b[0m\u001b[37m━━━\u001b[0m \u001b[1m2s\u001b[0m 61ms/step - accuracy: 0.6863 - loss: 0.7059\n",
      "Epoch 3: saving model to model_weights-03.weights.h5\n",
      "\u001b[1m227/261\u001b[0m \u001b[32m━━━━━━━━━━━━━━━━━\u001b[0m\u001b[37m━━━\u001b[0m \u001b[1m2s\u001b[0m 61ms/step - accuracy: 0.6863 - loss: 0.7059\n",
      "Epoch 3: saving model to model_weights-03.weights.h5\n",
      "\u001b[1m228/261\u001b[0m \u001b[32m━━━━━━━━━━━━━━━━━\u001b[0m\u001b[37m━━━\u001b[0m \u001b[1m2s\u001b[0m 61ms/step - accuracy: 0.6863 - loss: 0.7059\n",
      "Epoch 3: saving model to model_weights-03.weights.h5\n",
      "\u001b[1m229/261\u001b[0m \u001b[32m━━━━━━━━━━━━━━━━━\u001b[0m\u001b[37m━━━\u001b[0m \u001b[1m1s\u001b[0m 61ms/step - accuracy: 0.6863 - loss: 0.7059\n",
      "Epoch 3: saving model to model_weights-03.weights.h5\n",
      "\u001b[1m230/261\u001b[0m \u001b[32m━━━━━━━━━━━━━━━━━\u001b[0m\u001b[37m━━━\u001b[0m \u001b[1m1s\u001b[0m 61ms/step - accuracy: 0.6863 - loss: 0.7058\n",
      "Epoch 3: saving model to model_weights-03.weights.h5\n",
      "\u001b[1m231/261\u001b[0m \u001b[32m━━━━━━━━━━━━━━━━━\u001b[0m\u001b[37m━━━\u001b[0m \u001b[1m1s\u001b[0m 61ms/step - accuracy: 0.6863 - loss: 0.7058\n",
      "Epoch 3: saving model to model_weights-03.weights.h5\n",
      "\u001b[1m232/261\u001b[0m \u001b[32m━━━━━━━━━━━━━━━━━\u001b[0m\u001b[37m━━━\u001b[0m \u001b[1m1s\u001b[0m 61ms/step - accuracy: 0.6863 - loss: 0.7058\n",
      "Epoch 3: saving model to model_weights-03.weights.h5\n",
      "\u001b[1m233/261\u001b[0m \u001b[32m━━━━━━━━━━━━━━━━━\u001b[0m\u001b[37m━━━\u001b[0m \u001b[1m1s\u001b[0m 61ms/step - accuracy: 0.6863 - loss: 0.7058\n",
      "Epoch 3: saving model to model_weights-03.weights.h5\n",
      "\u001b[1m234/261\u001b[0m \u001b[32m━━━━━━━━━━━━━━━━━\u001b[0m\u001b[37m━━━\u001b[0m \u001b[1m1s\u001b[0m 61ms/step - accuracy: 0.6863 - loss: 0.7058\n",
      "Epoch 3: saving model to model_weights-03.weights.h5\n",
      "\u001b[1m235/261\u001b[0m \u001b[32m━━━━━━━━━━━━━━━━━━\u001b[0m\u001b[37m━━\u001b[0m \u001b[1m1s\u001b[0m 61ms/step - accuracy: 0.6863 - loss: 0.7057\n",
      "Epoch 3: saving model to model_weights-03.weights.h5\n",
      "\u001b[1m236/261\u001b[0m \u001b[32m━━━━━━━━━━━━━━━━━━\u001b[0m\u001b[37m━━\u001b[0m \u001b[1m1s\u001b[0m 61ms/step - accuracy: 0.6863 - loss: 0.7057\n",
      "Epoch 3: saving model to model_weights-03.weights.h5\n",
      "\u001b[1m237/261\u001b[0m \u001b[32m━━━━━━━━━━━━━━━━━━\u001b[0m\u001b[37m━━\u001b[0m \u001b[1m1s\u001b[0m 61ms/step - accuracy: 0.6863 - loss: 0.7057\n",
      "Epoch 3: saving model to model_weights-03.weights.h5\n",
      "\u001b[1m238/261\u001b[0m \u001b[32m━━━━━━━━━━━━━━━━━━\u001b[0m\u001b[37m━━\u001b[0m \u001b[1m1s\u001b[0m 61ms/step - accuracy: 0.6864 - loss: 0.7057\n",
      "Epoch 3: saving model to model_weights-03.weights.h5\n",
      "\u001b[1m239/261\u001b[0m \u001b[32m━━━━━━━━━━━━━━━━━━\u001b[0m\u001b[37m━━\u001b[0m \u001b[1m1s\u001b[0m 61ms/step - accuracy: 0.6864 - loss: 0.7057\n",
      "Epoch 3: saving model to model_weights-03.weights.h5\n",
      "\u001b[1m240/261\u001b[0m \u001b[32m━━━━━━━━━━━━━━━━━━\u001b[0m\u001b[37m━━\u001b[0m \u001b[1m1s\u001b[0m 61ms/step - accuracy: 0.6864 - loss: 0.7056\n",
      "Epoch 3: saving model to model_weights-03.weights.h5\n",
      "\u001b[1m241/261\u001b[0m \u001b[32m━━━━━━━━━━━━━━━━━━\u001b[0m\u001b[37m━━\u001b[0m \u001b[1m1s\u001b[0m 61ms/step - accuracy: 0.6864 - loss: 0.7056\n",
      "Epoch 3: saving model to model_weights-03.weights.h5\n",
      "\u001b[1m242/261\u001b[0m \u001b[32m━━━━━━━━━━━━━━━━━━\u001b[0m\u001b[37m━━\u001b[0m \u001b[1m1s\u001b[0m 61ms/step - accuracy: 0.6864 - loss: 0.7056\n",
      "Epoch 3: saving model to model_weights-03.weights.h5\n",
      "\u001b[1m243/261\u001b[0m \u001b[32m━━━━━━━━━━━━━━━━━━\u001b[0m\u001b[37m━━\u001b[0m \u001b[1m1s\u001b[0m 61ms/step - accuracy: 0.6864 - loss: 0.7056\n",
      "Epoch 3: saving model to model_weights-03.weights.h5\n",
      "\u001b[1m244/261\u001b[0m \u001b[32m━━━━━━━━━━━━━━━━━━\u001b[0m\u001b[37m━━\u001b[0m \u001b[1m1s\u001b[0m 61ms/step - accuracy: 0.6864 - loss: 0.7056\n",
      "Epoch 3: saving model to model_weights-03.weights.h5\n",
      "\u001b[1m245/261\u001b[0m \u001b[32m━━━━━━━━━━━━━━━━━━\u001b[0m\u001b[37m━━\u001b[0m \u001b[1m0s\u001b[0m 61ms/step - accuracy: 0.6864 - loss: 0.7055\n",
      "Epoch 3: saving model to model_weights-03.weights.h5\n",
      "\u001b[1m246/261\u001b[0m \u001b[32m━━━━━━━━━━━━━━━━━━\u001b[0m\u001b[37m━━\u001b[0m \u001b[1m0s\u001b[0m 61ms/step - accuracy: 0.6865 - loss: 0.7055\n",
      "Epoch 3: saving model to model_weights-03.weights.h5\n",
      "\u001b[1m247/261\u001b[0m \u001b[32m━━━━━━━━━━━━━━━━━━\u001b[0m\u001b[37m━━\u001b[0m \u001b[1m0s\u001b[0m 61ms/step - accuracy: 0.6865 - loss: 0.7055\n",
      "Epoch 3: saving model to model_weights-03.weights.h5\n",
      "\u001b[1m248/261\u001b[0m \u001b[32m━━━━━━━━━━━━━━━━━━━\u001b[0m\u001b[37m━\u001b[0m \u001b[1m0s\u001b[0m 61ms/step - accuracy: 0.6865 - loss: 0.7055\n",
      "Epoch 3: saving model to model_weights-03.weights.h5\n",
      "\u001b[1m249/261\u001b[0m \u001b[32m━━━━━━━━━━━━━━━━━━━\u001b[0m\u001b[37m━\u001b[0m \u001b[1m0s\u001b[0m 61ms/step - accuracy: 0.6865 - loss: 0.7055\n",
      "Epoch 3: saving model to model_weights-03.weights.h5\n",
      "\u001b[1m250/261\u001b[0m \u001b[32m━━━━━━━━━━━━━━━━━━━\u001b[0m\u001b[37m━\u001b[0m \u001b[1m0s\u001b[0m 61ms/step - accuracy: 0.6865 - loss: 0.7054"
     ]
    }
   ],
   "source": [
    "from keras.callbacks import EarlyStopping\n",
    "\n",
    "RCNN_model = Sequential()\n",
    "\n",
    "RCNN_model.add(Input(shape=(300,)))\n",
    "RCNN_model.add(Reshape((10, 30)))\n",
    "RCNN_model.add(Bidirectional(GRU(128, activation='relu', return_sequences=True)))\n",
    "RCNN_model.add(Convolution1D(100, 3, activation=\"relu\"))\n",
    "RCNN_model.add(Flatten())\n",
    "RCNN_model.add(Dense(512, activation='relu'))\n",
    "RCNN_model.add(Dense(512, activation='relu'))\n",
    "RCNN_model.add(Dense(128, activation='relu'))\n",
    "RCNN_model.add(Dense(3, activation='softmax'))\n",
    "RCNN_model.summary()\n",
    "\n",
    "RCNN_model.compile(optimizer='adam', loss='sparse_categorical_crossentropy', metrics=['accuracy'])\n",
    "\n",
    "early_stop = EarlyStopping(monitor='val_loss', patience=3)  \n",
    "\n",
    "from tensorflow.keras.callbacks import ModelCheckpoint\n",
    "\n",
    "checkpoint_filepath = 'model_weights-{epoch:02d}.weights.h5'\n",
    "\n",
    "# Define the checkpoint callback to save weights after every 5 epochs\n",
    "checkpoint_callback = ModelCheckpoint(\n",
    "    filepath=checkpoint_filepath,\n",
    "    save_weights_only=True,  # Save only the weights, not the entire model\n",
    "    save_freq=1,  # Save after every 5 epochs (since data_generator yields 1 batch per step)\n",
    "    verbose=1\n",
    ")\n",
    "\n",
    "history = RCNN_model.fit(X_train_tfidf_svd, Y_train, validation_data=(X_val_tfidf_svd, Y_val), epochs=5, batch_size=64, callbacks=[early_stop,checkpoint_callback]) \n",
    "    \n",
    "val_predictions = RCNN_model.predict(X_val_tfidf_svd)\n",
    "test_predictions = RCNN_model.predict(X_test_tfidf_svd)\n",
    "val_predictions = val_predictions.argmax(axis=-1)\n",
    "test_predictions = test_predictions.argmax(axis=-1)\n",
    "    \n",
    "print(\"Validation accuracy: \", metrics.accuracy_score(val_predictions, Y_val))\n",
    "print(\"Test accuracy: \", metrics.accuracy_score(test_predictions, Y_test))\n"
   ]
  },
  {
   "cell_type": "code",
   "execution_count": null,
   "metadata": {
    "trusted": true
   },
   "outputs": [],
   "source": [
    "import matplotlib.pyplot as plt\n",
    "\n",
    "# Lấy các giá trị từ lịch sử huấn luyện\n",
    "train_accuracy = history.history['accuracy']\n",
    "val_accuracy = history.history['val_accuracy']\n",
    "train_loss = history.history['loss']\n",
    "val_loss = history.history['val_loss']\n",
    "epochs = range(1, len(train_accuracy) + 1)\n",
    "\n",
    "# Vẽ đồ thị độ chính xác\n",
    "plt.figure(figsize=(10, 5))\n",
    "plt.plot(epochs, train_accuracy, 'b', label='Training accuracy')\n",
    "plt.plot(epochs, val_accuracy, 'r', label='Validation accuracy')\n",
    "plt.title('Training and validation accuracy')\n",
    "plt.xlabel('Epochs')\n",
    "plt.ylabel('Accuracy')\n",
    "plt.legend()\n",
    "plt.show()\n",
    "\n",
    "# Vẽ đồ thị mất mát\n",
    "plt.figure(figsize=(10, 5))\n",
    "plt.plot(epochs, train_loss, 'b', label='Training loss')\n",
    "plt.plot(epochs, val_loss, 'r', label='Validation loss')\n",
    "plt.title('Training and validation loss')\n",
    "plt.xlabel('Epochs')\n",
    "plt.ylabel('Loss')\n",
    "plt.legend()\n",
    "plt.show()\n"
   ]
  },
  {
   "cell_type": "code",
   "execution_count": null,
   "metadata": {
    "trusted": true
   },
   "outputs": [],
   "source": [
    "from sklearn.metrics import classification_report\n",
    "\n",
    "# Tính toán classification report trên tập dữ liệu kiểm tra\n",
    "class_report = classification_report(Y_test, test_predictions, target_names=['POS', 'NEG', 'NEU'])\n",
    "\n",
    "# Hiển thị classification report\n",
    "print(\"Classification Report:\\n\", class_report)\n"
   ]
  },
  {
   "cell_type": "code",
   "execution_count": null,
   "metadata": {
    "trusted": true
   },
   "outputs": [],
   "source": [
    "from sklearn.metrics import confusion_matrix\n",
    "import seaborn as sns\n",
    "import matplotlib.pyplot as plt\n",
    "\n",
    "# Tính toán confusion matrix trên tập dữ liệu kiểm tra\n",
    "conf_matrix = confusion_matrix(Y_test, test_predictions)\n",
    "\n",
    "# Hiển thị confusion matrix bằng seaborn heatmap\n",
    "plt.figure(figsize=(8, 6))\n",
    "sns.heatmap(conf_matrix, annot=True, fmt='d', cmap='Blues', xticklabels=['POS', 'NEG', 'NEU'], yticklabels=['POS', 'NEG', 'NEU'])\n",
    "plt.xlabel('Predicted labels')\n",
    "plt.ylabel('True labels')\n",
    "plt.title('Confusion Matrix')\n",
    "plt.show()\n"
   ]
  },
  {
   "cell_type": "code",
   "execution_count": null,
   "metadata": {
    "trusted": true
   },
   "outputs": [],
   "source": [
    "# Đánh giá mô hình trên tập test\n",
    "test_loss, test_accuracy = RCNN_model.evaluate(X_test_tfidf_svd, Y_test)\n",
    "\n",
    "print(\"Test Accuracy:\", test_accuracy)\n",
    "print(\"Test Loss:\", test_loss)\n"
   ]
  },
  {
   "cell_type": "code",
   "execution_count": null,
   "metadata": {
    "trusted": true
   },
   "outputs": [],
   "source": [
    "for i in range(len(RCNN_model.weights)):\n",
    "    RCNN_model.weights[i]._handle_name = RCNN_model.weights[i].name + \"_\" + str(i)"
   ]
  },
  {
   "cell_type": "code",
   "execution_count": null,
   "metadata": {
    "trusted": true
   },
   "outputs": [],
   "source": [
    "from joblib import dump\n",
    "RCNN_model.save(\"RCNN_model.h5\")\n",
    "dump(tfidf_vect, \"/kaggle/working/tfidf_model.joblib\")\n",
    "dump(svd, \"/kaggle/working/svd_model.joblib\")\n"
   ]
  },
  {
   "cell_type": "code",
   "execution_count": null,
   "metadata": {
    "trusted": true
   },
   "outputs": [],
   "source": [
    "import tensorflow as tf\n",
    "import keras\n",
    "\n",
    "rcnn_model = keras.models.load_model('/kaggle/working/model_weights-05.weights.h5')\n",
    "svd = joblib.load('/kaggle/working/svd_model.joblib')\n",
    "tfidf = joblib.load('/kaggle/working/tfidf_model.joblib')"
   ]
  },
  {
   "cell_type": "code",
   "execution_count": null,
   "metadata": {
    "trusted": true
   },
   "outputs": [],
   "source": [
    "def rcnnSentiment(text):\n",
    "    text_tfidf =  tfidf.transform(text)\n",
    "    text_svd = svd.transform(text_tfidf)\n",
    "    predictions = rcnn_model.predict(text_svd)\n",
    "    print(predictions)"
   ]
  },
  {
   "cell_type": "code",
   "execution_count": null,
   "metadata": {
    "trusted": true
   },
   "outputs": [],
   "source": [
    "rcnnSentiment(\"Sản phẩm này rất tốt, tôi rất thích nó\")"
   ]
  }
 ],
 "metadata": {
  "kaggle": {
   "accelerator": "gpu",
   "dataSources": [
    {
     "datasetId": 4954350,
     "sourceId": 8362380,
     "sourceType": "datasetVersion"
    }
   ],
   "isGpuEnabled": true,
   "isInternetEnabled": true,
   "language": "python",
   "sourceType": "notebook"
  },
  "kernelspec": {
   "display_name": "venv",
   "language": "python",
   "name": "python3"
  },
  "language_info": {
   "codemirror_mode": {
    "name": "ipython",
    "version": 3
   },
   "file_extension": ".py",
   "mimetype": "text/x-python",
   "name": "python",
   "nbconvert_exporter": "python",
   "pygments_lexer": "ipython3",
   "version": "3.10.12"
  }
 },
 "nbformat": 4,
 "nbformat_minor": 4
}
